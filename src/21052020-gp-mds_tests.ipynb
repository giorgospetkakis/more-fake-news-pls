{
 "cells": [
  {
   "cell_type": "code",
   "execution_count": 43,
   "metadata": {},
   "outputs": [],
   "source": [
    "from utils import go_to_project_root\n",
    "from sklearn.preprocessing import StandardScaler\n",
    "from sklearn.decomposition import PCA\n",
    "from matplotlib import pyplot as plt\n",
    "import numpy as np\n",
    "import pandas as pd\n",
    "import plotly.express as px"
   ]
  },
  {
   "cell_type": "code",
   "execution_count": 53,
   "metadata": {},
   "outputs": [
    {
     "output_type": "execute_result",
     "data": {
      "text/plain": "Text(0.5, 1.0, 'Principal Component Analysis')"
     },
     "metadata": {},
     "execution_count": 53
    },
    {
     "output_type": "display_data",
     "data": {
      "text/plain": "<Figure size 720x720 with 1 Axes>",
      "image/svg+xml": "<?xml version=\"1.0\" encoding=\"utf-8\" standalone=\"no\"?>\n<!DOCTYPE svg PUBLIC \"-//W3C//DTD SVG 1.1//EN\"\n  \"http://www.w3.org/Graphics/SVG/1.1/DTD/svg11.dtd\">\n<!-- Created with matplotlib (https://matplotlib.org/) -->\n<svg height=\"589.79625pt\" version=\"1.1\" viewBox=\"0 0 594.142187 589.79625\" width=\"594.142187pt\" xmlns=\"http://www.w3.org/2000/svg\" xmlns:xlink=\"http://www.w3.org/1999/xlink\">\n <defs>\n  <style type=\"text/css\">\n*{stroke-linecap:butt;stroke-linejoin:round;}\n  </style>\n </defs>\n <g id=\"figure_1\">\n  <g id=\"patch_1\">\n   <path d=\"M 0 589.79625 \nL 594.142187 589.79625 \nL 594.142187 0 \nL 0 0 \nz\n\" style=\"fill:none;\"/>\n  </g>\n  <g id=\"axes_1\">\n   <g id=\"patch_2\">\n    <path d=\"M 28.942188 565.918125 \nL 586.942188 565.918125 \nL 586.942188 22.318125 \nL 28.942188 22.318125 \nz\n\" style=\"fill:#ffffff;\"/>\n   </g>\n   <g id=\"PathCollection_1\">\n    <defs>\n     <path d=\"M -3 3 \nL 3 -3 \nM -3 -3 \nL 3 3 \n\" id=\"mfada717a43\" style=\"stroke:#ff0000;stroke-width:1.5;\"/>\n    </defs>\n    <g clip-path=\"url(#p738e654986)\">\n     <use style=\"fill:#ff0000;stroke:#ff0000;stroke-width:1.5;\" x=\"239.405767\" xlink:href=\"#mfada717a43\" y=\"369.602305\"/>\n     <use style=\"fill:#ff0000;stroke:#ff0000;stroke-width:1.5;\" x=\"277.562026\" xlink:href=\"#mfada717a43\" y=\"415.257321\"/>\n     <use style=\"fill:#ff0000;stroke:#ff0000;stroke-width:1.5;\" x=\"190.885752\" xlink:href=\"#mfada717a43\" y=\"330.605514\"/>\n     <use style=\"fill:#ff0000;stroke:#ff0000;stroke-width:1.5;\" x=\"235.679167\" xlink:href=\"#mfada717a43\" y=\"307.354554\"/>\n     <use style=\"fill:#ff0000;stroke:#ff0000;stroke-width:1.5;\" x=\"228.113504\" xlink:href=\"#mfada717a43\" y=\"383.861674\"/>\n     <use style=\"fill:#ff0000;stroke:#ff0000;stroke-width:1.5;\" x=\"111.808848\" xlink:href=\"#mfada717a43\" y=\"311.441701\"/>\n     <use style=\"fill:#ff0000;stroke:#ff0000;stroke-width:1.5;\" x=\"138.924944\" xlink:href=\"#mfada717a43\" y=\"179.449555\"/>\n     <use style=\"fill:#ff0000;stroke:#ff0000;stroke-width:1.5;\" x=\"127.646747\" xlink:href=\"#mfada717a43\" y=\"274.458813\"/>\n     <use style=\"fill:#ff0000;stroke:#ff0000;stroke-width:1.5;\" x=\"124.495051\" xlink:href=\"#mfada717a43\" y=\"359.127054\"/>\n     <use style=\"fill:#ff0000;stroke:#ff0000;stroke-width:1.5;\" x=\"261.842574\" xlink:href=\"#mfada717a43\" y=\"330.026041\"/>\n     <use style=\"fill:#ff0000;stroke:#ff0000;stroke-width:1.5;\" x=\"119.077165\" xlink:href=\"#mfada717a43\" y=\"335.237888\"/>\n     <use style=\"fill:#ff0000;stroke:#ff0000;stroke-width:1.5;\" x=\"327.506346\" xlink:href=\"#mfada717a43\" y=\"340.694444\"/>\n     <use style=\"fill:#ff0000;stroke:#ff0000;stroke-width:1.5;\" x=\"235.679167\" xlink:href=\"#mfada717a43\" y=\"307.354554\"/>\n     <use style=\"fill:#ff0000;stroke:#ff0000;stroke-width:1.5;\" x=\"250.605481\" xlink:href=\"#mfada717a43\" y=\"364.911902\"/>\n     <use style=\"fill:#ff0000;stroke:#ff0000;stroke-width:1.5;\" x=\"277.116378\" xlink:href=\"#mfada717a43\" y=\"413.195751\"/>\n     <use style=\"fill:#ff0000;stroke:#ff0000;stroke-width:1.5;\" x=\"263.519817\" xlink:href=\"#mfada717a43\" y=\"346.671007\"/>\n     <use style=\"fill:#ff0000;stroke:#ff0000;stroke-width:1.5;\" x=\"342.797541\" xlink:href=\"#mfada717a43\" y=\"299.797224\"/>\n     <use style=\"fill:#ff0000;stroke:#ff0000;stroke-width:1.5;\" x=\"170.872628\" xlink:href=\"#mfada717a43\" y=\"164.410297\"/>\n     <use style=\"fill:#ff0000;stroke:#ff0000;stroke-width:1.5;\" x=\"132.358141\" xlink:href=\"#mfada717a43\" y=\"305.875988\"/>\n     <use style=\"fill:#ff0000;stroke:#ff0000;stroke-width:1.5;\" x=\"324.732127\" xlink:href=\"#mfada717a43\" y=\"340.821218\"/>\n     <use style=\"fill:#ff0000;stroke:#ff0000;stroke-width:1.5;\" x=\"232.664069\" xlink:href=\"#mfada717a43\" y=\"375.726415\"/>\n     <use style=\"fill:#ff0000;stroke:#ff0000;stroke-width:1.5;\" x=\"313.478644\" xlink:href=\"#mfada717a43\" y=\"390.895486\"/>\n     <use style=\"fill:#ff0000;stroke:#ff0000;stroke-width:1.5;\" x=\"326.046505\" xlink:href=\"#mfada717a43\" y=\"310.146504\"/>\n     <use style=\"fill:#ff0000;stroke:#ff0000;stroke-width:1.5;\" x=\"156.802743\" xlink:href=\"#mfada717a43\" y=\"289.021256\"/>\n     <use style=\"fill:#ff0000;stroke:#ff0000;stroke-width:1.5;\" x=\"334.468311\" xlink:href=\"#mfada717a43\" y=\"360.516226\"/>\n     <use style=\"fill:#ff0000;stroke:#ff0000;stroke-width:1.5;\" x=\"247.157393\" xlink:href=\"#mfada717a43\" y=\"345.503746\"/>\n     <use style=\"fill:#ff0000;stroke:#ff0000;stroke-width:1.5;\" x=\"235.847051\" xlink:href=\"#mfada717a43\" y=\"304.447314\"/>\n     <use style=\"fill:#ff0000;stroke:#ff0000;stroke-width:1.5;\" x=\"252.834609\" xlink:href=\"#mfada717a43\" y=\"374.689146\"/>\n     <use style=\"fill:#ff0000;stroke:#ff0000;stroke-width:1.5;\" x=\"170.650952\" xlink:href=\"#mfada717a43\" y=\"451.524391\"/>\n     <use style=\"fill:#ff0000;stroke:#ff0000;stroke-width:1.5;\" x=\"111.501851\" xlink:href=\"#mfada717a43\" y=\"310.290717\"/>\n     <use style=\"fill:#ff0000;stroke:#ff0000;stroke-width:1.5;\" x=\"168.97268\" xlink:href=\"#mfada717a43\" y=\"365.240428\"/>\n     <use style=\"fill:#ff0000;stroke:#ff0000;stroke-width:1.5;\" x=\"187.390599\" xlink:href=\"#mfada717a43\" y=\"386.338071\"/>\n     <use style=\"fill:#ff0000;stroke:#ff0000;stroke-width:1.5;\" x=\"106.703653\" xlink:href=\"#mfada717a43\" y=\"203.430728\"/>\n     <use style=\"fill:#ff0000;stroke:#ff0000;stroke-width:1.5;\" x=\"100.618694\" xlink:href=\"#mfada717a43\" y=\"304.745199\"/>\n     <use style=\"fill:#ff0000;stroke:#ff0000;stroke-width:1.5;\" x=\"201.647942\" xlink:href=\"#mfada717a43\" y=\"409.960725\"/>\n     <use style=\"fill:#ff0000;stroke:#ff0000;stroke-width:1.5;\" x=\"284.61077\" xlink:href=\"#mfada717a43\" y=\"350.274257\"/>\n     <use style=\"fill:#ff0000;stroke:#ff0000;stroke-width:1.5;\" x=\"159.634573\" xlink:href=\"#mfada717a43\" y=\"292.850086\"/>\n     <use style=\"fill:#ff0000;stroke:#ff0000;stroke-width:1.5;\" x=\"139.808059\" xlink:href=\"#mfada717a43\" y=\"337.828517\"/>\n     <use style=\"fill:#ff0000;stroke:#ff0000;stroke-width:1.5;\" x=\"349.940287\" xlink:href=\"#mfada717a43\" y=\"348.197282\"/>\n     <use style=\"fill:#ff0000;stroke:#ff0000;stroke-width:1.5;\" x=\"259.862185\" xlink:href=\"#mfada717a43\" y=\"285.63127\"/>\n     <use style=\"fill:#ff0000;stroke:#ff0000;stroke-width:1.5;\" x=\"217.453921\" xlink:href=\"#mfada717a43\" y=\"339.50159\"/>\n     <use style=\"fill:#ff0000;stroke:#ff0000;stroke-width:1.5;\" x=\"174.722187\" xlink:href=\"#mfada717a43\" y=\"361.093584\"/>\n     <use style=\"fill:#ff0000;stroke:#ff0000;stroke-width:1.5;\" x=\"198.503052\" xlink:href=\"#mfada717a43\" y=\"359.344511\"/>\n     <use style=\"fill:#ff0000;stroke:#ff0000;stroke-width:1.5;\" x=\"222.754193\" xlink:href=\"#mfada717a43\" y=\"448.818534\"/>\n     <use style=\"fill:#ff0000;stroke:#ff0000;stroke-width:1.5;\" x=\"55.090138\" xlink:href=\"#mfada717a43\" y=\"314.253996\"/>\n     <use style=\"fill:#ff0000;stroke:#ff0000;stroke-width:1.5;\" x=\"219.351841\" xlink:href=\"#mfada717a43\" y=\"343.633624\"/>\n     <use style=\"fill:#ff0000;stroke:#ff0000;stroke-width:1.5;\" x=\"207.124637\" xlink:href=\"#mfada717a43\" y=\"297.797058\"/>\n     <use style=\"fill:#ff0000;stroke:#ff0000;stroke-width:1.5;\" x=\"226.713508\" xlink:href=\"#mfada717a43\" y=\"360.172551\"/>\n     <use style=\"fill:#ff0000;stroke:#ff0000;stroke-width:1.5;\" x=\"258.561309\" xlink:href=\"#mfada717a43\" y=\"325.81291\"/>\n     <use style=\"fill:#ff0000;stroke:#ff0000;stroke-width:1.5;\" x=\"137.091004\" xlink:href=\"#mfada717a43\" y=\"448.466334\"/>\n     <use style=\"fill:#ff0000;stroke:#ff0000;stroke-width:1.5;\" x=\"155.057095\" xlink:href=\"#mfada717a43\" y=\"390.082596\"/>\n     <use style=\"fill:#ff0000;stroke:#ff0000;stroke-width:1.5;\" x=\"151.635838\" xlink:href=\"#mfada717a43\" y=\"230.459205\"/>\n     <use style=\"fill:#ff0000;stroke:#ff0000;stroke-width:1.5;\" x=\"216.418229\" xlink:href=\"#mfada717a43\" y=\"392.445526\"/>\n     <use style=\"fill:#ff0000;stroke:#ff0000;stroke-width:1.5;\" x=\"138.486574\" xlink:href=\"#mfada717a43\" y=\"481.028337\"/>\n     <use style=\"fill:#ff0000;stroke:#ff0000;stroke-width:1.5;\" x=\"135.220708\" xlink:href=\"#mfada717a43\" y=\"196.30198\"/>\n     <use style=\"fill:#ff0000;stroke:#ff0000;stroke-width:1.5;\" x=\"210.052191\" xlink:href=\"#mfada717a43\" y=\"411.256918\"/>\n     <use style=\"fill:#ff0000;stroke:#ff0000;stroke-width:1.5;\" x=\"207.765422\" xlink:href=\"#mfada717a43\" y=\"315.322163\"/>\n     <use style=\"fill:#ff0000;stroke:#ff0000;stroke-width:1.5;\" x=\"223.917314\" xlink:href=\"#mfada717a43\" y=\"279.238001\"/>\n     <use style=\"fill:#ff0000;stroke:#ff0000;stroke-width:1.5;\" x=\"338.082224\" xlink:href=\"#mfada717a43\" y=\"442.643551\"/>\n     <use style=\"fill:#ff0000;stroke:#ff0000;stroke-width:1.5;\" x=\"158.781\" xlink:href=\"#mfada717a43\" y=\"200.598659\"/>\n     <use style=\"fill:#ff0000;stroke:#ff0000;stroke-width:1.5;\" x=\"333.575823\" xlink:href=\"#mfada717a43\" y=\"383.538231\"/>\n     <use style=\"fill:#ff0000;stroke:#ff0000;stroke-width:1.5;\" x=\"182.910119\" xlink:href=\"#mfada717a43\" y=\"386.053904\"/>\n     <use style=\"fill:#ff0000;stroke:#ff0000;stroke-width:1.5;\" x=\"116.639831\" xlink:href=\"#mfada717a43\" y=\"338.584328\"/>\n     <use style=\"fill:#ff0000;stroke:#ff0000;stroke-width:1.5;\" x=\"233.505548\" xlink:href=\"#mfada717a43\" y=\"387.467971\"/>\n     <use style=\"fill:#ff0000;stroke:#ff0000;stroke-width:1.5;\" x=\"244.046047\" xlink:href=\"#mfada717a43\" y=\"89.700267\"/>\n     <use style=\"fill:#ff0000;stroke:#ff0000;stroke-width:1.5;\" x=\"281.195485\" xlink:href=\"#mfada717a43\" y=\"436.124245\"/>\n     <use style=\"fill:#ff0000;stroke:#ff0000;stroke-width:1.5;\" x=\"176.857871\" xlink:href=\"#mfada717a43\" y=\"382.65249\"/>\n     <use style=\"fill:#ff0000;stroke:#ff0000;stroke-width:1.5;\" x=\"238.521431\" xlink:href=\"#mfada717a43\" y=\"484.696617\"/>\n     <use style=\"fill:#ff0000;stroke:#ff0000;stroke-width:1.5;\" x=\"69.984468\" xlink:href=\"#mfada717a43\" y=\"382.364007\"/>\n     <use style=\"fill:#ff0000;stroke:#ff0000;stroke-width:1.5;\" x=\"275.527201\" xlink:href=\"#mfada717a43\" y=\"376.852821\"/>\n     <use style=\"fill:#ff0000;stroke:#ff0000;stroke-width:1.5;\" x=\"247.735754\" xlink:href=\"#mfada717a43\" y=\"320.623958\"/>\n     <use style=\"fill:#ff0000;stroke:#ff0000;stroke-width:1.5;\" x=\"217.003802\" xlink:href=\"#mfada717a43\" y=\"351.982286\"/>\n     <use style=\"fill:#ff0000;stroke:#ff0000;stroke-width:1.5;\" x=\"235.679167\" xlink:href=\"#mfada717a43\" y=\"307.354554\"/>\n     <use style=\"fill:#ff0000;stroke:#ff0000;stroke-width:1.5;\" x=\"232.925719\" xlink:href=\"#mfada717a43\" y=\"375.292758\"/>\n     <use style=\"fill:#ff0000;stroke:#ff0000;stroke-width:1.5;\" x=\"181.864956\" xlink:href=\"#mfada717a43\" y=\"252.863556\"/>\n     <use style=\"fill:#ff0000;stroke:#ff0000;stroke-width:1.5;\" x=\"208.40121\" xlink:href=\"#mfada717a43\" y=\"417.029827\"/>\n     <use style=\"fill:#ff0000;stroke:#ff0000;stroke-width:1.5;\" x=\"234.376904\" xlink:href=\"#mfada717a43\" y=\"422.039462\"/>\n     <use style=\"fill:#ff0000;stroke:#ff0000;stroke-width:1.5;\" x=\"253.03859\" xlink:href=\"#mfada717a43\" y=\"313.05546\"/>\n     <use style=\"fill:#ff0000;stroke:#ff0000;stroke-width:1.5;\" x=\"311.177044\" xlink:href=\"#mfada717a43\" y=\"346.996378\"/>\n     <use style=\"fill:#ff0000;stroke:#ff0000;stroke-width:1.5;\" x=\"319.87019\" xlink:href=\"#mfada717a43\" y=\"375.976877\"/>\n     <use style=\"fill:#ff0000;stroke:#ff0000;stroke-width:1.5;\" x=\"291.647786\" xlink:href=\"#mfada717a43\" y=\"217.453988\"/>\n     <use style=\"fill:#ff0000;stroke:#ff0000;stroke-width:1.5;\" x=\"222.308735\" xlink:href=\"#mfada717a43\" y=\"258.497458\"/>\n     <use style=\"fill:#ff0000;stroke:#ff0000;stroke-width:1.5;\" x=\"138.624838\" xlink:href=\"#mfada717a43\" y=\"433.930391\"/>\n     <use style=\"fill:#ff0000;stroke:#ff0000;stroke-width:1.5;\" x=\"196.166567\" xlink:href=\"#mfada717a43\" y=\"263.745467\"/>\n     <use style=\"fill:#ff0000;stroke:#ff0000;stroke-width:1.5;\" x=\"391.833596\" xlink:href=\"#mfada717a43\" y=\"371.828388\"/>\n     <use style=\"fill:#ff0000;stroke:#ff0000;stroke-width:1.5;\" x=\"265.317753\" xlink:href=\"#mfada717a43\" y=\"355.369619\"/>\n     <use style=\"fill:#ff0000;stroke:#ff0000;stroke-width:1.5;\" x=\"96.108579\" xlink:href=\"#mfada717a43\" y=\"413.629112\"/>\n     <use style=\"fill:#ff0000;stroke:#ff0000;stroke-width:1.5;\" x=\"302.638417\" xlink:href=\"#mfada717a43\" y=\"407.21563\"/>\n     <use style=\"fill:#ff0000;stroke:#ff0000;stroke-width:1.5;\" x=\"438.149979\" xlink:href=\"#mfada717a43\" y=\"319.131294\"/>\n     <use style=\"fill:#ff0000;stroke:#ff0000;stroke-width:1.5;\" x=\"157.262991\" xlink:href=\"#mfada717a43\" y=\"323.918041\"/>\n     <use style=\"fill:#ff0000;stroke:#ff0000;stroke-width:1.5;\" x=\"405.422532\" xlink:href=\"#mfada717a43\" y=\"343.439492\"/>\n     <use style=\"fill:#ff0000;stroke:#ff0000;stroke-width:1.5;\" x=\"254.981922\" xlink:href=\"#mfada717a43\" y=\"306.889304\"/>\n     <use style=\"fill:#ff0000;stroke:#ff0000;stroke-width:1.5;\" x=\"166.972363\" xlink:href=\"#mfada717a43\" y=\"406.770009\"/>\n     <use style=\"fill:#ff0000;stroke:#ff0000;stroke-width:1.5;\" x=\"238.064823\" xlink:href=\"#mfada717a43\" y=\"346.609582\"/>\n     <use style=\"fill:#ff0000;stroke:#ff0000;stroke-width:1.5;\" x=\"278.155773\" xlink:href=\"#mfada717a43\" y=\"400.444165\"/>\n     <use style=\"fill:#ff0000;stroke:#ff0000;stroke-width:1.5;\" x=\"172.567209\" xlink:href=\"#mfada717a43\" y=\"233.829405\"/>\n     <use style=\"fill:#ff0000;stroke:#ff0000;stroke-width:1.5;\" x=\"388.540229\" xlink:href=\"#mfada717a43\" y=\"381.001252\"/>\n     <use style=\"fill:#ff0000;stroke:#ff0000;stroke-width:1.5;\" x=\"218.123407\" xlink:href=\"#mfada717a43\" y=\"367.852532\"/>\n     <use style=\"fill:#ff0000;stroke:#ff0000;stroke-width:1.5;\" x=\"203.302608\" xlink:href=\"#mfada717a43\" y=\"313.804079\"/>\n     <use style=\"fill:#ff0000;stroke:#ff0000;stroke-width:1.5;\" x=\"227.415286\" xlink:href=\"#mfada717a43\" y=\"361.188468\"/>\n     <use style=\"fill:#ff0000;stroke:#ff0000;stroke-width:1.5;\" x=\"146.442159\" xlink:href=\"#mfada717a43\" y=\"304.11612\"/>\n     <use style=\"fill:#ff0000;stroke:#ff0000;stroke-width:1.5;\" x=\"178.393792\" xlink:href=\"#mfada717a43\" y=\"302.180863\"/>\n     <use style=\"fill:#ff0000;stroke:#ff0000;stroke-width:1.5;\" x=\"313.384499\" xlink:href=\"#mfada717a43\" y=\"332.454955\"/>\n     <use style=\"fill:#ff0000;stroke:#ff0000;stroke-width:1.5;\" x=\"332.794827\" xlink:href=\"#mfada717a43\" y=\"365.761318\"/>\n     <use style=\"fill:#ff0000;stroke:#ff0000;stroke-width:1.5;\" x=\"371.622514\" xlink:href=\"#mfada717a43\" y=\"317.195398\"/>\n     <use style=\"fill:#ff0000;stroke:#ff0000;stroke-width:1.5;\" x=\"164.705275\" xlink:href=\"#mfada717a43\" y=\"415.347279\"/>\n     <use style=\"fill:#ff0000;stroke:#ff0000;stroke-width:1.5;\" x=\"318.881185\" xlink:href=\"#mfada717a43\" y=\"383.561792\"/>\n     <use style=\"fill:#ff0000;stroke:#ff0000;stroke-width:1.5;\" x=\"227.510557\" xlink:href=\"#mfada717a43\" y=\"380.749995\"/>\n     <use style=\"fill:#ff0000;stroke:#ff0000;stroke-width:1.5;\" x=\"184.876691\" xlink:href=\"#mfada717a43\" y=\"47.382146\"/>\n     <use style=\"fill:#ff0000;stroke:#ff0000;stroke-width:1.5;\" x=\"195.409172\" xlink:href=\"#mfada717a43\" y=\"256.236377\"/>\n     <use style=\"fill:#ff0000;stroke:#ff0000;stroke-width:1.5;\" x=\"203.170057\" xlink:href=\"#mfada717a43\" y=\"368.431941\"/>\n     <use style=\"fill:#ff0000;stroke:#ff0000;stroke-width:1.5;\" x=\"214.3758\" xlink:href=\"#mfada717a43\" y=\"402.883565\"/>\n     <use style=\"fill:#ff0000;stroke:#ff0000;stroke-width:1.5;\" x=\"105.071506\" xlink:href=\"#mfada717a43\" y=\"220.052407\"/>\n     <use style=\"fill:#ff0000;stroke:#ff0000;stroke-width:1.5;\" x=\"155.721433\" xlink:href=\"#mfada717a43\" y=\"295.377536\"/>\n     <use style=\"fill:#ff0000;stroke:#ff0000;stroke-width:1.5;\" x=\"168.344775\" xlink:href=\"#mfada717a43\" y=\"352.048347\"/>\n     <use style=\"fill:#ff0000;stroke:#ff0000;stroke-width:1.5;\" x=\"277.077588\" xlink:href=\"#mfada717a43\" y=\"273.547253\"/>\n     <use style=\"fill:#ff0000;stroke:#ff0000;stroke-width:1.5;\" x=\"375.942082\" xlink:href=\"#mfada717a43\" y=\"303.834198\"/>\n     <use style=\"fill:#ff0000;stroke:#ff0000;stroke-width:1.5;\" x=\"177.345008\" xlink:href=\"#mfada717a43\" y=\"358.167863\"/>\n     <use style=\"fill:#ff0000;stroke:#ff0000;stroke-width:1.5;\" x=\"168.243254\" xlink:href=\"#mfada717a43\" y=\"407.408056\"/>\n     <use style=\"fill:#ff0000;stroke:#ff0000;stroke-width:1.5;\" x=\"139.849916\" xlink:href=\"#mfada717a43\" y=\"257.156923\"/>\n     <use style=\"fill:#ff0000;stroke:#ff0000;stroke-width:1.5;\" x=\"235.679167\" xlink:href=\"#mfada717a43\" y=\"307.354554\"/>\n     <use style=\"fill:#ff0000;stroke:#ff0000;stroke-width:1.5;\" x=\"248.449553\" xlink:href=\"#mfada717a43\" y=\"193.650183\"/>\n     <use style=\"fill:#ff0000;stroke:#ff0000;stroke-width:1.5;\" x=\"260.730831\" xlink:href=\"#mfada717a43\" y=\"326.905099\"/>\n     <use style=\"fill:#ff0000;stroke:#ff0000;stroke-width:1.5;\" x=\"81.44689\" xlink:href=\"#mfada717a43\" y=\"408.085786\"/>\n     <use style=\"fill:#ff0000;stroke:#ff0000;stroke-width:1.5;\" x=\"371.292629\" xlink:href=\"#mfada717a43\" y=\"372.549302\"/>\n     <use style=\"fill:#ff0000;stroke:#ff0000;stroke-width:1.5;\" x=\"247.735754\" xlink:href=\"#mfada717a43\" y=\"320.623958\"/>\n     <use style=\"fill:#ff0000;stroke:#ff0000;stroke-width:1.5;\" x=\"177.975248\" xlink:href=\"#mfada717a43\" y=\"365.102676\"/>\n     <use style=\"fill:#ff0000;stroke:#ff0000;stroke-width:1.5;\" x=\"186.768799\" xlink:href=\"#mfada717a43\" y=\"300.978303\"/>\n     <use style=\"fill:#ff0000;stroke:#ff0000;stroke-width:1.5;\" x=\"198.162635\" xlink:href=\"#mfada717a43\" y=\"375.17305\"/>\n     <use style=\"fill:#ff0000;stroke:#ff0000;stroke-width:1.5;\" x=\"133.08848\" xlink:href=\"#mfada717a43\" y=\"353.920266\"/>\n     <use style=\"fill:#ff0000;stroke:#ff0000;stroke-width:1.5;\" x=\"203.314704\" xlink:href=\"#mfada717a43\" y=\"384.719513\"/>\n     <use style=\"fill:#ff0000;stroke:#ff0000;stroke-width:1.5;\" x=\"190.127835\" xlink:href=\"#mfada717a43\" y=\"386.115009\"/>\n     <use style=\"fill:#ff0000;stroke:#ff0000;stroke-width:1.5;\" x=\"264.232927\" xlink:href=\"#mfada717a43\" y=\"48.829092\"/>\n     <use style=\"fill:#ff0000;stroke:#ff0000;stroke-width:1.5;\" x=\"124.176073\" xlink:href=\"#mfada717a43\" y=\"426.291791\"/>\n     <use style=\"fill:#ff0000;stroke:#ff0000;stroke-width:1.5;\" x=\"252.028255\" xlink:href=\"#mfada717a43\" y=\"295.107007\"/>\n     <use style=\"fill:#ff0000;stroke:#ff0000;stroke-width:1.5;\" x=\"355.74347\" xlink:href=\"#mfada717a43\" y=\"370.730965\"/>\n     <use style=\"fill:#ff0000;stroke:#ff0000;stroke-width:1.5;\" x=\"54.622872\" xlink:href=\"#mfada717a43\" y=\"497.244749\"/>\n     <use style=\"fill:#ff0000;stroke:#ff0000;stroke-width:1.5;\" x=\"314.948584\" xlink:href=\"#mfada717a43\" y=\"393.425121\"/>\n     <use style=\"fill:#ff0000;stroke:#ff0000;stroke-width:1.5;\" x=\"311.546526\" xlink:href=\"#mfada717a43\" y=\"367.616908\"/>\n     <use style=\"fill:#ff0000;stroke:#ff0000;stroke-width:1.5;\" x=\"277.298976\" xlink:href=\"#mfada717a43\" y=\"354.978552\"/>\n     <use style=\"fill:#ff0000;stroke:#ff0000;stroke-width:1.5;\" x=\"290.777123\" xlink:href=\"#mfada717a43\" y=\"342.956655\"/>\n     <use style=\"fill:#ff0000;stroke:#ff0000;stroke-width:1.5;\" x=\"159.782982\" xlink:href=\"#mfada717a43\" y=\"337.378285\"/>\n     <use style=\"fill:#ff0000;stroke:#ff0000;stroke-width:1.5;\" x=\"163.707998\" xlink:href=\"#mfada717a43\" y=\"447.139296\"/>\n     <use style=\"fill:#ff0000;stroke:#ff0000;stroke-width:1.5;\" x=\"192.551129\" xlink:href=\"#mfada717a43\" y=\"450.928553\"/>\n     <use style=\"fill:#ff0000;stroke:#ff0000;stroke-width:1.5;\" x=\"221.180215\" xlink:href=\"#mfada717a43\" y=\"427.533038\"/>\n     <use style=\"fill:#ff0000;stroke:#ff0000;stroke-width:1.5;\" x=\"268.397115\" xlink:href=\"#mfada717a43\" y=\"333.701719\"/>\n     <use style=\"fill:#ff0000;stroke:#ff0000;stroke-width:1.5;\" x=\"157.610639\" xlink:href=\"#mfada717a43\" y=\"456.12286\"/>\n     <use style=\"fill:#ff0000;stroke:#ff0000;stroke-width:1.5;\" x=\"233.10976\" xlink:href=\"#mfada717a43\" y=\"298.073244\"/>\n     <use style=\"fill:#ff0000;stroke:#ff0000;stroke-width:1.5;\" x=\"201.803965\" xlink:href=\"#mfada717a43\" y=\"389.904536\"/>\n     <use style=\"fill:#ff0000;stroke:#ff0000;stroke-width:1.5;\" x=\"293.822708\" xlink:href=\"#mfada717a43\" y=\"377.172667\"/>\n    </g>\n   </g>\n   <g id=\"PathCollection_2\">\n    <defs>\n     <path d=\"M 0 3 \nC 0.795609 3 1.55874 2.683901 2.12132 2.12132 \nC 2.683901 1.55874 3 0.795609 3 0 \nC 3 -0.795609 2.683901 -1.55874 2.12132 -2.12132 \nC 1.55874 -2.683901 0.795609 -3 0 -3 \nC -0.795609 -3 -1.55874 -2.683901 -2.12132 -2.12132 \nC -2.683901 -1.55874 -3 -0.795609 -3 0 \nC -3 0.795609 -2.683901 1.55874 -2.12132 2.12132 \nC -1.55874 2.683901 -0.795609 3 0 3 \nz\n\" id=\"m08cbe627e6\" style=\"stroke:#0000ff;stroke-opacity:0.8;\"/>\n    </defs>\n    <g clip-path=\"url(#p738e654986)\">\n     <use style=\"fill:#0000ff;fill-opacity:0.8;stroke:#0000ff;stroke-opacity:0.8;\" x=\"480.642246\" xlink:href=\"#m08cbe627e6\" y=\"443.803867\"/>\n     <use style=\"fill:#0000ff;fill-opacity:0.8;stroke:#0000ff;stroke-opacity:0.8;\" x=\"251.062954\" xlink:href=\"#m08cbe627e6\" y=\"410.144135\"/>\n     <use style=\"fill:#0000ff;fill-opacity:0.8;stroke:#0000ff;stroke-opacity:0.8;\" x=\"147.1896\" xlink:href=\"#m08cbe627e6\" y=\"357.499699\"/>\n     <use style=\"fill:#0000ff;fill-opacity:0.8;stroke:#0000ff;stroke-opacity:0.8;\" x=\"275.795838\" xlink:href=\"#m08cbe627e6\" y=\"417.767618\"/>\n     <use style=\"fill:#0000ff;fill-opacity:0.8;stroke:#0000ff;stroke-opacity:0.8;\" x=\"241.964736\" xlink:href=\"#m08cbe627e6\" y=\"383.308081\"/>\n     <use style=\"fill:#0000ff;fill-opacity:0.8;stroke:#0000ff;stroke-opacity:0.8;\" x=\"264.001875\" xlink:href=\"#m08cbe627e6\" y=\"336.76918\"/>\n     <use style=\"fill:#0000ff;fill-opacity:0.8;stroke:#0000ff;stroke-opacity:0.8;\" x=\"260.807392\" xlink:href=\"#m08cbe627e6\" y=\"396.496797\"/>\n     <use style=\"fill:#0000ff;fill-opacity:0.8;stroke:#0000ff;stroke-opacity:0.8;\" x=\"284.773399\" xlink:href=\"#m08cbe627e6\" y=\"405.268693\"/>\n     <use style=\"fill:#0000ff;fill-opacity:0.8;stroke:#0000ff;stroke-opacity:0.8;\" x=\"164.299585\" xlink:href=\"#m08cbe627e6\" y=\"445.789017\"/>\n     <use style=\"fill:#0000ff;fill-opacity:0.8;stroke:#0000ff;stroke-opacity:0.8;\" x=\"262.466243\" xlink:href=\"#m08cbe627e6\" y=\"375.239444\"/>\n     <use style=\"fill:#0000ff;fill-opacity:0.8;stroke:#0000ff;stroke-opacity:0.8;\" x=\"58.884971\" xlink:href=\"#m08cbe627e6\" y=\"538.473771\"/>\n     <use style=\"fill:#0000ff;fill-opacity:0.8;stroke:#0000ff;stroke-opacity:0.8;\" x=\"319.550892\" xlink:href=\"#m08cbe627e6\" y=\"395.770011\"/>\n     <use style=\"fill:#0000ff;fill-opacity:0.8;stroke:#0000ff;stroke-opacity:0.8;\" x=\"262.798242\" xlink:href=\"#m08cbe627e6\" y=\"385.354779\"/>\n     <use style=\"fill:#0000ff;fill-opacity:0.8;stroke:#0000ff;stroke-opacity:0.8;\" x=\"238.795149\" xlink:href=\"#m08cbe627e6\" y=\"405.01478\"/>\n     <use style=\"fill:#0000ff;fill-opacity:0.8;stroke:#0000ff;stroke-opacity:0.8;\" x=\"209.712333\" xlink:href=\"#m08cbe627e6\" y=\"334.279326\"/>\n     <use style=\"fill:#0000ff;fill-opacity:0.8;stroke:#0000ff;stroke-opacity:0.8;\" x=\"162.285955\" xlink:href=\"#m08cbe627e6\" y=\"410.369919\"/>\n     <use style=\"fill:#0000ff;fill-opacity:0.8;stroke:#0000ff;stroke-opacity:0.8;\" x=\"198.323913\" xlink:href=\"#m08cbe627e6\" y=\"410.547096\"/>\n     <use style=\"fill:#0000ff;fill-opacity:0.8;stroke:#0000ff;stroke-opacity:0.8;\" x=\"211.490746\" xlink:href=\"#m08cbe627e6\" y=\"425.804346\"/>\n     <use style=\"fill:#0000ff;fill-opacity:0.8;stroke:#0000ff;stroke-opacity:0.8;\" x=\"281.957659\" xlink:href=\"#m08cbe627e6\" y=\"382.139765\"/>\n     <use style=\"fill:#0000ff;fill-opacity:0.8;stroke:#0000ff;stroke-opacity:0.8;\" x=\"188.799501\" xlink:href=\"#m08cbe627e6\" y=\"425.315137\"/>\n     <use style=\"fill:#0000ff;fill-opacity:0.8;stroke:#0000ff;stroke-opacity:0.8;\" x=\"149.06064\" xlink:href=\"#m08cbe627e6\" y=\"317.938103\"/>\n     <use style=\"fill:#0000ff;fill-opacity:0.8;stroke:#0000ff;stroke-opacity:0.8;\" x=\"248.151609\" xlink:href=\"#m08cbe627e6\" y=\"433.104217\"/>\n     <use style=\"fill:#0000ff;fill-opacity:0.8;stroke:#0000ff;stroke-opacity:0.8;\" x=\"300.14558\" xlink:href=\"#m08cbe627e6\" y=\"349.567535\"/>\n     <use style=\"fill:#0000ff;fill-opacity:0.8;stroke:#0000ff;stroke-opacity:0.8;\" x=\"194.344794\" xlink:href=\"#m08cbe627e6\" y=\"445.130079\"/>\n     <use style=\"fill:#0000ff;fill-opacity:0.8;stroke:#0000ff;stroke-opacity:0.8;\" x=\"244.153482\" xlink:href=\"#m08cbe627e6\" y=\"425.773994\"/>\n     <use style=\"fill:#0000ff;fill-opacity:0.8;stroke:#0000ff;stroke-opacity:0.8;\" x=\"247.315134\" xlink:href=\"#m08cbe627e6\" y=\"425.075046\"/>\n     <use style=\"fill:#0000ff;fill-opacity:0.8;stroke:#0000ff;stroke-opacity:0.8;\" x=\"239.733324\" xlink:href=\"#m08cbe627e6\" y=\"454.750704\"/>\n     <use style=\"fill:#0000ff;fill-opacity:0.8;stroke:#0000ff;stroke-opacity:0.8;\" x=\"222.642949\" xlink:href=\"#m08cbe627e6\" y=\"448.208709\"/>\n     <use style=\"fill:#0000ff;fill-opacity:0.8;stroke:#0000ff;stroke-opacity:0.8;\" x=\"226.466455\" xlink:href=\"#m08cbe627e6\" y=\"437.989172\"/>\n     <use style=\"fill:#0000ff;fill-opacity:0.8;stroke:#0000ff;stroke-opacity:0.8;\" x=\"432.363477\" xlink:href=\"#m08cbe627e6\" y=\"343.858937\"/>\n     <use style=\"fill:#0000ff;fill-opacity:0.8;stroke:#0000ff;stroke-opacity:0.8;\" x=\"161.30772\" xlink:href=\"#m08cbe627e6\" y=\"349.073155\"/>\n     <use style=\"fill:#0000ff;fill-opacity:0.8;stroke:#0000ff;stroke-opacity:0.8;\" x=\"212.733779\" xlink:href=\"#m08cbe627e6\" y=\"395.31949\"/>\n     <use style=\"fill:#0000ff;fill-opacity:0.8;stroke:#0000ff;stroke-opacity:0.8;\" x=\"286.666866\" xlink:href=\"#m08cbe627e6\" y=\"331.560475\"/>\n     <use style=\"fill:#0000ff;fill-opacity:0.8;stroke:#0000ff;stroke-opacity:0.8;\" x=\"371.577716\" xlink:href=\"#m08cbe627e6\" y=\"353.682701\"/>\n     <use style=\"fill:#0000ff;fill-opacity:0.8;stroke:#0000ff;stroke-opacity:0.8;\" x=\"240.884271\" xlink:href=\"#m08cbe627e6\" y=\"380.683628\"/>\n     <use style=\"fill:#0000ff;fill-opacity:0.8;stroke:#0000ff;stroke-opacity:0.8;\" x=\"239.527922\" xlink:href=\"#m08cbe627e6\" y=\"354.351941\"/>\n     <use style=\"fill:#0000ff;fill-opacity:0.8;stroke:#0000ff;stroke-opacity:0.8;\" x=\"227.206745\" xlink:href=\"#m08cbe627e6\" y=\"444.182611\"/>\n     <use style=\"fill:#0000ff;fill-opacity:0.8;stroke:#0000ff;stroke-opacity:0.8;\" x=\"247.172382\" xlink:href=\"#m08cbe627e6\" y=\"406.640694\"/>\n     <use style=\"fill:#0000ff;fill-opacity:0.8;stroke:#0000ff;stroke-opacity:0.8;\" x=\"291.154526\" xlink:href=\"#m08cbe627e6\" y=\"407.227146\"/>\n     <use style=\"fill:#0000ff;fill-opacity:0.8;stroke:#0000ff;stroke-opacity:0.8;\" x=\"188.710195\" xlink:href=\"#m08cbe627e6\" y=\"347.480882\"/>\n     <use style=\"fill:#0000ff;fill-opacity:0.8;stroke:#0000ff;stroke-opacity:0.8;\" x=\"269.808344\" xlink:href=\"#m08cbe627e6\" y=\"387.863717\"/>\n     <use style=\"fill:#0000ff;fill-opacity:0.8;stroke:#0000ff;stroke-opacity:0.8;\" x=\"276.366807\" xlink:href=\"#m08cbe627e6\" y=\"391.607049\"/>\n     <use style=\"fill:#0000ff;fill-opacity:0.8;stroke:#0000ff;stroke-opacity:0.8;\" x=\"232.631369\" xlink:href=\"#m08cbe627e6\" y=\"412.597189\"/>\n     <use style=\"fill:#0000ff;fill-opacity:0.8;stroke:#0000ff;stroke-opacity:0.8;\" x=\"455.774932\" xlink:href=\"#m08cbe627e6\" y=\"325.113455\"/>\n     <use style=\"fill:#0000ff;fill-opacity:0.8;stroke:#0000ff;stroke-opacity:0.8;\" x=\"284.098304\" xlink:href=\"#m08cbe627e6\" y=\"394.54732\"/>\n     <use style=\"fill:#0000ff;fill-opacity:0.8;stroke:#0000ff;stroke-opacity:0.8;\" x=\"271.209058\" xlink:href=\"#m08cbe627e6\" y=\"431.378996\"/>\n     <use style=\"fill:#0000ff;fill-opacity:0.8;stroke:#0000ff;stroke-opacity:0.8;\" x=\"215.101273\" xlink:href=\"#m08cbe627e6\" y=\"420.737449\"/>\n     <use style=\"fill:#0000ff;fill-opacity:0.8;stroke:#0000ff;stroke-opacity:0.8;\" x=\"274.939594\" xlink:href=\"#m08cbe627e6\" y=\"335.477016\"/>\n     <use style=\"fill:#0000ff;fill-opacity:0.8;stroke:#0000ff;stroke-opacity:0.8;\" x=\"446.631756\" xlink:href=\"#m08cbe627e6\" y=\"315.34344\"/>\n     <use style=\"fill:#0000ff;fill-opacity:0.8;stroke:#0000ff;stroke-opacity:0.8;\" x=\"278.360698\" xlink:href=\"#m08cbe627e6\" y=\"398.254556\"/>\n     <use style=\"fill:#0000ff;fill-opacity:0.8;stroke:#0000ff;stroke-opacity:0.8;\" x=\"276.155744\" xlink:href=\"#m08cbe627e6\" y=\"391.664022\"/>\n     <use style=\"fill:#0000ff;fill-opacity:0.8;stroke:#0000ff;stroke-opacity:0.8;\" x=\"278.009936\" xlink:href=\"#m08cbe627e6\" y=\"396.169938\"/>\n     <use style=\"fill:#0000ff;fill-opacity:0.8;stroke:#0000ff;stroke-opacity:0.8;\" x=\"287.235882\" xlink:href=\"#m08cbe627e6\" y=\"386.789654\"/>\n     <use style=\"fill:#0000ff;fill-opacity:0.8;stroke:#0000ff;stroke-opacity:0.8;\" x=\"292.823663\" xlink:href=\"#m08cbe627e6\" y=\"205.355761\"/>\n     <use style=\"fill:#0000ff;fill-opacity:0.8;stroke:#0000ff;stroke-opacity:0.8;\" x=\"143.990001\" xlink:href=\"#m08cbe627e6\" y=\"441.136551\"/>\n     <use style=\"fill:#0000ff;fill-opacity:0.8;stroke:#0000ff;stroke-opacity:0.8;\" x=\"244.575594\" xlink:href=\"#m08cbe627e6\" y=\"317.753148\"/>\n     <use style=\"fill:#0000ff;fill-opacity:0.8;stroke:#0000ff;stroke-opacity:0.8;\" x=\"255.893628\" xlink:href=\"#m08cbe627e6\" y=\"436.329531\"/>\n     <use style=\"fill:#0000ff;fill-opacity:0.8;stroke:#0000ff;stroke-opacity:0.8;\" x=\"319.064902\" xlink:href=\"#m08cbe627e6\" y=\"390.934899\"/>\n     <use style=\"fill:#0000ff;fill-opacity:0.8;stroke:#0000ff;stroke-opacity:0.8;\" x=\"340.178544\" xlink:href=\"#m08cbe627e6\" y=\"368.925808\"/>\n     <use style=\"fill:#0000ff;fill-opacity:0.8;stroke:#0000ff;stroke-opacity:0.8;\" x=\"192.589964\" xlink:href=\"#m08cbe627e6\" y=\"397.350954\"/>\n     <use style=\"fill:#0000ff;fill-opacity:0.8;stroke:#0000ff;stroke-opacity:0.8;\" x=\"232.388754\" xlink:href=\"#m08cbe627e6\" y=\"422.1356\"/>\n     <use style=\"fill:#0000ff;fill-opacity:0.8;stroke:#0000ff;stroke-opacity:0.8;\" x=\"251.776291\" xlink:href=\"#m08cbe627e6\" y=\"402.259482\"/>\n     <use style=\"fill:#0000ff;fill-opacity:0.8;stroke:#0000ff;stroke-opacity:0.8;\" x=\"386.631082\" xlink:href=\"#m08cbe627e6\" y=\"334.927955\"/>\n     <use style=\"fill:#0000ff;fill-opacity:0.8;stroke:#0000ff;stroke-opacity:0.8;\" x=\"266.877837\" xlink:href=\"#m08cbe627e6\" y=\"295.344373\"/>\n     <use style=\"fill:#0000ff;fill-opacity:0.8;stroke:#0000ff;stroke-opacity:0.8;\" x=\"133.355915\" xlink:href=\"#m08cbe627e6\" y=\"171.157285\"/>\n     <use style=\"fill:#0000ff;fill-opacity:0.8;stroke:#0000ff;stroke-opacity:0.8;\" x=\"290.99037\" xlink:href=\"#m08cbe627e6\" y=\"344.568715\"/>\n     <use style=\"fill:#0000ff;fill-opacity:0.8;stroke:#0000ff;stroke-opacity:0.8;\" x=\"281.994043\" xlink:href=\"#m08cbe627e6\" y=\"313.084686\"/>\n     <use style=\"fill:#0000ff;fill-opacity:0.8;stroke:#0000ff;stroke-opacity:0.8;\" x=\"454.733093\" xlink:href=\"#m08cbe627e6\" y=\"350.239639\"/>\n     <use style=\"fill:#0000ff;fill-opacity:0.8;stroke:#0000ff;stroke-opacity:0.8;\" x=\"233.997112\" xlink:href=\"#m08cbe627e6\" y=\"340.940986\"/>\n     <use style=\"fill:#0000ff;fill-opacity:0.8;stroke:#0000ff;stroke-opacity:0.8;\" x=\"172.276052\" xlink:href=\"#m08cbe627e6\" y=\"319.9083\"/>\n     <use style=\"fill:#0000ff;fill-opacity:0.8;stroke:#0000ff;stroke-opacity:0.8;\" x=\"315.723306\" xlink:href=\"#m08cbe627e6\" y=\"388.244495\"/>\n     <use style=\"fill:#0000ff;fill-opacity:0.8;stroke:#0000ff;stroke-opacity:0.8;\" x=\"391.110264\" xlink:href=\"#m08cbe627e6\" y=\"361.137262\"/>\n     <use style=\"fill:#0000ff;fill-opacity:0.8;stroke:#0000ff;stroke-opacity:0.8;\" x=\"290.989466\" xlink:href=\"#m08cbe627e6\" y=\"396.515805\"/>\n     <use style=\"fill:#0000ff;fill-opacity:0.8;stroke:#0000ff;stroke-opacity:0.8;\" x=\"218.766461\" xlink:href=\"#m08cbe627e6\" y=\"350.259034\"/>\n     <use style=\"fill:#0000ff;fill-opacity:0.8;stroke:#0000ff;stroke-opacity:0.8;\" x=\"242.661226\" xlink:href=\"#m08cbe627e6\" y=\"405.741835\"/>\n     <use style=\"fill:#0000ff;fill-opacity:0.8;stroke:#0000ff;stroke-opacity:0.8;\" x=\"328.679662\" xlink:href=\"#m08cbe627e6\" y=\"375.117402\"/>\n     <use style=\"fill:#0000ff;fill-opacity:0.8;stroke:#0000ff;stroke-opacity:0.8;\" x=\"182.844519\" xlink:href=\"#m08cbe627e6\" y=\"429.58153\"/>\n     <use style=\"fill:#0000ff;fill-opacity:0.8;stroke:#0000ff;stroke-opacity:0.8;\" x=\"396.521922\" xlink:href=\"#m08cbe627e6\" y=\"283.8239\"/>\n     <use style=\"fill:#0000ff;fill-opacity:0.8;stroke:#0000ff;stroke-opacity:0.8;\" x=\"232.664069\" xlink:href=\"#m08cbe627e6\" y=\"375.726415\"/>\n     <use style=\"fill:#0000ff;fill-opacity:0.8;stroke:#0000ff;stroke-opacity:0.8;\" x=\"173.598159\" xlink:href=\"#m08cbe627e6\" y=\"434.357662\"/>\n     <use style=\"fill:#0000ff;fill-opacity:0.8;stroke:#0000ff;stroke-opacity:0.8;\" x=\"257.183866\" xlink:href=\"#m08cbe627e6\" y=\"380.690051\"/>\n     <use style=\"fill:#0000ff;fill-opacity:0.8;stroke:#0000ff;stroke-opacity:0.8;\" x=\"207.030239\" xlink:href=\"#m08cbe627e6\" y=\"328.449313\"/>\n     <use style=\"fill:#0000ff;fill-opacity:0.8;stroke:#0000ff;stroke-opacity:0.8;\" x=\"222.991928\" xlink:href=\"#m08cbe627e6\" y=\"236.642005\"/>\n     <use style=\"fill:#0000ff;fill-opacity:0.8;stroke:#0000ff;stroke-opacity:0.8;\" x=\"204.551567\" xlink:href=\"#m08cbe627e6\" y=\"346.918831\"/>\n     <use style=\"fill:#0000ff;fill-opacity:0.8;stroke:#0000ff;stroke-opacity:0.8;\" x=\"288.444631\" xlink:href=\"#m08cbe627e6\" y=\"398.650714\"/>\n     <use style=\"fill:#0000ff;fill-opacity:0.8;stroke:#0000ff;stroke-opacity:0.8;\" x=\"317.900714\" xlink:href=\"#m08cbe627e6\" y=\"396.427961\"/>\n     <use style=\"fill:#0000ff;fill-opacity:0.8;stroke:#0000ff;stroke-opacity:0.8;\" x=\"238.804731\" xlink:href=\"#m08cbe627e6\" y=\"440.77182\"/>\n     <use style=\"fill:#0000ff;fill-opacity:0.8;stroke:#0000ff;stroke-opacity:0.8;\" x=\"318.838028\" xlink:href=\"#m08cbe627e6\" y=\"372.65668\"/>\n     <use style=\"fill:#0000ff;fill-opacity:0.8;stroke:#0000ff;stroke-opacity:0.8;\" x=\"326.255324\" xlink:href=\"#m08cbe627e6\" y=\"381.103905\"/>\n     <use style=\"fill:#0000ff;fill-opacity:0.8;stroke:#0000ff;stroke-opacity:0.8;\" x=\"303.175841\" xlink:href=\"#m08cbe627e6\" y=\"364.154813\"/>\n     <use style=\"fill:#0000ff;fill-opacity:0.8;stroke:#0000ff;stroke-opacity:0.8;\" x=\"361.096909\" xlink:href=\"#m08cbe627e6\" y=\"378.399253\"/>\n     <use style=\"fill:#0000ff;fill-opacity:0.8;stroke:#0000ff;stroke-opacity:0.8;\" x=\"241.04199\" xlink:href=\"#m08cbe627e6\" y=\"373.33035\"/>\n     <use style=\"fill:#0000ff;fill-opacity:0.8;stroke:#0000ff;stroke-opacity:0.8;\" x=\"294.844774\" xlink:href=\"#m08cbe627e6\" y=\"276.725427\"/>\n     <use style=\"fill:#0000ff;fill-opacity:0.8;stroke:#0000ff;stroke-opacity:0.8;\" x=\"112.2338\" xlink:href=\"#m08cbe627e6\" y=\"484.214113\"/>\n     <use style=\"fill:#0000ff;fill-opacity:0.8;stroke:#0000ff;stroke-opacity:0.8;\" x=\"256.85401\" xlink:href=\"#m08cbe627e6\" y=\"404.313764\"/>\n     <use style=\"fill:#0000ff;fill-opacity:0.8;stroke:#0000ff;stroke-opacity:0.8;\" x=\"353.920212\" xlink:href=\"#m08cbe627e6\" y=\"341.335554\"/>\n     <use style=\"fill:#0000ff;fill-opacity:0.8;stroke:#0000ff;stroke-opacity:0.8;\" x=\"126.786132\" xlink:href=\"#m08cbe627e6\" y=\"263.310063\"/>\n     <use style=\"fill:#0000ff;fill-opacity:0.8;stroke:#0000ff;stroke-opacity:0.8;\" x=\"176.304533\" xlink:href=\"#m08cbe627e6\" y=\"483.418379\"/>\n     <use style=\"fill:#0000ff;fill-opacity:0.8;stroke:#0000ff;stroke-opacity:0.8;\" x=\"392.376979\" xlink:href=\"#m08cbe627e6\" y=\"348.39849\"/>\n     <use style=\"fill:#0000ff;fill-opacity:0.8;stroke:#0000ff;stroke-opacity:0.8;\" x=\"175.869919\" xlink:href=\"#m08cbe627e6\" y=\"357.309458\"/>\n     <use style=\"fill:#0000ff;fill-opacity:0.8;stroke:#0000ff;stroke-opacity:0.8;\" x=\"323.385917\" xlink:href=\"#m08cbe627e6\" y=\"339.061988\"/>\n     <use style=\"fill:#0000ff;fill-opacity:0.8;stroke:#0000ff;stroke-opacity:0.8;\" x=\"296.802342\" xlink:href=\"#m08cbe627e6\" y=\"412.722546\"/>\n     <use style=\"fill:#0000ff;fill-opacity:0.8;stroke:#0000ff;stroke-opacity:0.8;\" x=\"269.748118\" xlink:href=\"#m08cbe627e6\" y=\"456.805055\"/>\n     <use style=\"fill:#0000ff;fill-opacity:0.8;stroke:#0000ff;stroke-opacity:0.8;\" x=\"209.307952\" xlink:href=\"#m08cbe627e6\" y=\"459.514303\"/>\n     <use style=\"fill:#0000ff;fill-opacity:0.8;stroke:#0000ff;stroke-opacity:0.8;\" x=\"250.502837\" xlink:href=\"#m08cbe627e6\" y=\"395.688046\"/>\n     <use style=\"fill:#0000ff;fill-opacity:0.8;stroke:#0000ff;stroke-opacity:0.8;\" x=\"216.87543\" xlink:href=\"#m08cbe627e6\" y=\"354.230593\"/>\n     <use style=\"fill:#0000ff;fill-opacity:0.8;stroke:#0000ff;stroke-opacity:0.8;\" x=\"258.868242\" xlink:href=\"#m08cbe627e6\" y=\"401.147323\"/>\n     <use style=\"fill:#0000ff;fill-opacity:0.8;stroke:#0000ff;stroke-opacity:0.8;\" x=\"207.046588\" xlink:href=\"#m08cbe627e6\" y=\"399.752124\"/>\n     <use style=\"fill:#0000ff;fill-opacity:0.8;stroke:#0000ff;stroke-opacity:0.8;\" x=\"91.808161\" xlink:href=\"#m08cbe627e6\" y=\"259.366201\"/>\n     <use style=\"fill:#0000ff;fill-opacity:0.8;stroke:#0000ff;stroke-opacity:0.8;\" x=\"274.293666\" xlink:href=\"#m08cbe627e6\" y=\"406.118596\"/>\n     <use style=\"fill:#0000ff;fill-opacity:0.8;stroke:#0000ff;stroke-opacity:0.8;\" x=\"404.415461\" xlink:href=\"#m08cbe627e6\" y=\"336.094616\"/>\n     <use style=\"fill:#0000ff;fill-opacity:0.8;stroke:#0000ff;stroke-opacity:0.8;\" x=\"305.327535\" xlink:href=\"#m08cbe627e6\" y=\"392.407289\"/>\n     <use style=\"fill:#0000ff;fill-opacity:0.8;stroke:#0000ff;stroke-opacity:0.8;\" x=\"263.369184\" xlink:href=\"#m08cbe627e6\" y=\"418.02496\"/>\n     <use style=\"fill:#0000ff;fill-opacity:0.8;stroke:#0000ff;stroke-opacity:0.8;\" x=\"219.940257\" xlink:href=\"#m08cbe627e6\" y=\"448.448261\"/>\n     <use style=\"fill:#0000ff;fill-opacity:0.8;stroke:#0000ff;stroke-opacity:0.8;\" x=\"228.345477\" xlink:href=\"#m08cbe627e6\" y=\"383.051476\"/>\n     <use style=\"fill:#0000ff;fill-opacity:0.8;stroke:#0000ff;stroke-opacity:0.8;\" x=\"437.418229\" xlink:href=\"#m08cbe627e6\" y=\"324.757026\"/>\n     <use style=\"fill:#0000ff;fill-opacity:0.8;stroke:#0000ff;stroke-opacity:0.8;\" x=\"324.141313\" xlink:href=\"#m08cbe627e6\" y=\"318.429424\"/>\n     <use style=\"fill:#0000ff;fill-opacity:0.8;stroke:#0000ff;stroke-opacity:0.8;\" x=\"288.772504\" xlink:href=\"#m08cbe627e6\" y=\"415.895895\"/>\n     <use style=\"fill:#0000ff;fill-opacity:0.8;stroke:#0000ff;stroke-opacity:0.8;\" x=\"357.717651\" xlink:href=\"#m08cbe627e6\" y=\"356.290188\"/>\n     <use style=\"fill:#0000ff;fill-opacity:0.8;stroke:#0000ff;stroke-opacity:0.8;\" x=\"317.085105\" xlink:href=\"#m08cbe627e6\" y=\"373.976378\"/>\n     <use style=\"fill:#0000ff;fill-opacity:0.8;stroke:#0000ff;stroke-opacity:0.8;\" x=\"246.955727\" xlink:href=\"#m08cbe627e6\" y=\"308.785573\"/>\n     <use style=\"fill:#0000ff;fill-opacity:0.8;stroke:#0000ff;stroke-opacity:0.8;\" x=\"89.676714\" xlink:href=\"#m08cbe627e6\" y=\"487.335582\"/>\n     <use style=\"fill:#0000ff;fill-opacity:0.8;stroke:#0000ff;stroke-opacity:0.8;\" x=\"337.27338\" xlink:href=\"#m08cbe627e6\" y=\"432.326723\"/>\n     <use style=\"fill:#0000ff;fill-opacity:0.8;stroke:#0000ff;stroke-opacity:0.8;\" x=\"211.008411\" xlink:href=\"#m08cbe627e6\" y=\"357.37892\"/>\n     <use style=\"fill:#0000ff;fill-opacity:0.8;stroke:#0000ff;stroke-opacity:0.8;\" x=\"266.629628\" xlink:href=\"#m08cbe627e6\" y=\"434.666349\"/>\n     <use style=\"fill:#0000ff;fill-opacity:0.8;stroke:#0000ff;stroke-opacity:0.8;\" x=\"258.993825\" xlink:href=\"#m08cbe627e6\" y=\"345.732072\"/>\n     <use style=\"fill:#0000ff;fill-opacity:0.8;stroke:#0000ff;stroke-opacity:0.8;\" x=\"239.23158\" xlink:href=\"#m08cbe627e6\" y=\"388.530975\"/>\n     <use style=\"fill:#0000ff;fill-opacity:0.8;stroke:#0000ff;stroke-opacity:0.8;\" x=\"186.420976\" xlink:href=\"#m08cbe627e6\" y=\"464.571031\"/>\n     <use style=\"fill:#0000ff;fill-opacity:0.8;stroke:#0000ff;stroke-opacity:0.8;\" x=\"316.989313\" xlink:href=\"#m08cbe627e6\" y=\"408.778557\"/>\n     <use style=\"fill:#0000ff;fill-opacity:0.8;stroke:#0000ff;stroke-opacity:0.8;\" x=\"230.067994\" xlink:href=\"#m08cbe627e6\" y=\"435.811775\"/>\n     <use style=\"fill:#0000ff;fill-opacity:0.8;stroke:#0000ff;stroke-opacity:0.8;\" x=\"223.788873\" xlink:href=\"#m08cbe627e6\" y=\"427.919585\"/>\n     <use style=\"fill:#0000ff;fill-opacity:0.8;stroke:#0000ff;stroke-opacity:0.8;\" x=\"218.304014\" xlink:href=\"#m08cbe627e6\" y=\"433.300284\"/>\n     <use style=\"fill:#0000ff;fill-opacity:0.8;stroke:#0000ff;stroke-opacity:0.8;\" x=\"285.314456\" xlink:href=\"#m08cbe627e6\" y=\"310.792139\"/>\n     <use style=\"fill:#0000ff;fill-opacity:0.8;stroke:#0000ff;stroke-opacity:0.8;\" x=\"311.902806\" xlink:href=\"#m08cbe627e6\" y=\"352.851232\"/>\n     <use style=\"fill:#0000ff;fill-opacity:0.8;stroke:#0000ff;stroke-opacity:0.8;\" x=\"219.36376\" xlink:href=\"#m08cbe627e6\" y=\"456.78874\"/>\n     <use style=\"fill:#0000ff;fill-opacity:0.8;stroke:#0000ff;stroke-opacity:0.8;\" x=\"257.06997\" xlink:href=\"#m08cbe627e6\" y=\"347.045033\"/>\n     <use style=\"fill:#0000ff;fill-opacity:0.8;stroke:#0000ff;stroke-opacity:0.8;\" x=\"184.078142\" xlink:href=\"#m08cbe627e6\" y=\"412.170137\"/>\n     <use style=\"fill:#0000ff;fill-opacity:0.8;stroke:#0000ff;stroke-opacity:0.8;\" x=\"276.805209\" xlink:href=\"#m08cbe627e6\" y=\"382.596035\"/>\n     <use style=\"fill:#0000ff;fill-opacity:0.8;stroke:#0000ff;stroke-opacity:0.8;\" x=\"230.808462\" xlink:href=\"#m08cbe627e6\" y=\"411.590586\"/>\n     <use style=\"fill:#0000ff;fill-opacity:0.8;stroke:#0000ff;stroke-opacity:0.8;\" x=\"277.767735\" xlink:href=\"#m08cbe627e6\" y=\"398.492311\"/>\n     <use style=\"fill:#0000ff;fill-opacity:0.8;stroke:#0000ff;stroke-opacity:0.8;\" x=\"228.021983\" xlink:href=\"#m08cbe627e6\" y=\"442.930307\"/>\n     <use style=\"fill:#0000ff;fill-opacity:0.8;stroke:#0000ff;stroke-opacity:0.8;\" x=\"260.648794\" xlink:href=\"#m08cbe627e6\" y=\"378.865447\"/>\n     <use style=\"fill:#0000ff;fill-opacity:0.8;stroke:#0000ff;stroke-opacity:0.8;\" x=\"94.082605\" xlink:href=\"#m08cbe627e6\" y=\"409.170082\"/>\n     <use style=\"fill:#0000ff;fill-opacity:0.8;stroke:#0000ff;stroke-opacity:0.8;\" x=\"211.406985\" xlink:href=\"#m08cbe627e6\" y=\"238.069381\"/>\n     <use style=\"fill:#0000ff;fill-opacity:0.8;stroke:#0000ff;stroke-opacity:0.8;\" x=\"331.661064\" xlink:href=\"#m08cbe627e6\" y=\"364.565119\"/>\n     <use style=\"fill:#0000ff;fill-opacity:0.8;stroke:#0000ff;stroke-opacity:0.8;\" x=\"126.659238\" xlink:href=\"#m08cbe627e6\" y=\"349.141412\"/>\n     <use style=\"fill:#0000ff;fill-opacity:0.8;stroke:#0000ff;stroke-opacity:0.8;\" x=\"294.008276\" xlink:href=\"#m08cbe627e6\" y=\"403.091663\"/>\n     <use style=\"fill:#0000ff;fill-opacity:0.8;stroke:#0000ff;stroke-opacity:0.8;\" x=\"264.958064\" xlink:href=\"#m08cbe627e6\" y=\"297.08476\"/>\n     <use style=\"fill:#0000ff;fill-opacity:0.8;stroke:#0000ff;stroke-opacity:0.8;\" x=\"515.2209\" xlink:href=\"#m08cbe627e6\" y=\"332.546424\"/>\n     <use style=\"fill:#0000ff;fill-opacity:0.8;stroke:#0000ff;stroke-opacity:0.8;\" x=\"559.30663\" xlink:href=\"#m08cbe627e6\" y=\"322.034532\"/>\n    </g>\n   </g>\n   <g id=\"matplotlib.axis_1\">\n    <g id=\"xtick_1\">\n     <g id=\"line2d_1\">\n      <defs>\n       <path d=\"M 0 0 \nL 0 3.5 \n\" id=\"me241c1d0b0\" style=\"stroke:#000000;stroke-width:0.8;\"/>\n      </defs>\n      <g>\n       <use style=\"stroke:#000000;stroke-width:0.8;\" x=\"124.19409\" xlink:href=\"#me241c1d0b0\" y=\"565.918125\"/>\n      </g>\n     </g>\n     <g id=\"text_1\">\n      <!-- −2 -->\n      <defs>\n       <path d=\"M 10.59375 35.5 \nL 73.1875 35.5 \nL 73.1875 27.203125 \nL 10.59375 27.203125 \nz\n\" id=\"DejaVuSans-8722\"/>\n       <path d=\"M 19.1875 8.296875 \nL 53.609375 8.296875 \nL 53.609375 0 \nL 7.328125 0 \nL 7.328125 8.296875 \nQ 12.9375 14.109375 22.625 23.890625 \nQ 32.328125 33.6875 34.8125 36.53125 \nQ 39.546875 41.84375 41.421875 45.53125 \nQ 43.3125 49.21875 43.3125 52.78125 \nQ 43.3125 58.59375 39.234375 62.25 \nQ 35.15625 65.921875 28.609375 65.921875 \nQ 23.96875 65.921875 18.8125 64.3125 \nQ 13.671875 62.703125 7.8125 59.421875 \nL 7.8125 69.390625 \nQ 13.765625 71.78125 18.9375 73 \nQ 24.125 74.21875 28.421875 74.21875 \nQ 39.75 74.21875 46.484375 68.546875 \nQ 53.21875 62.890625 53.21875 53.421875 \nQ 53.21875 48.921875 51.53125 44.890625 \nQ 49.859375 40.875 45.40625 35.40625 \nQ 44.1875 33.984375 37.640625 27.21875 \nQ 31.109375 20.453125 19.1875 8.296875 \nz\n\" id=\"DejaVuSans-50\"/>\n      </defs>\n      <g transform=\"translate(116.822996 580.516562)scale(0.1 -0.1)\">\n       <use xlink:href=\"#DejaVuSans-8722\"/>\n       <use x=\"83.789062\" xlink:href=\"#DejaVuSans-50\"/>\n      </g>\n     </g>\n    </g>\n    <g id=\"xtick_2\">\n     <g id=\"line2d_2\">\n      <g>\n       <use style=\"stroke:#000000;stroke-width:0.8;\" x=\"242.136059\" xlink:href=\"#me241c1d0b0\" y=\"565.918125\"/>\n      </g>\n     </g>\n     <g id=\"text_2\">\n      <!-- 0 -->\n      <defs>\n       <path d=\"M 31.78125 66.40625 \nQ 24.171875 66.40625 20.328125 58.90625 \nQ 16.5 51.421875 16.5 36.375 \nQ 16.5 21.390625 20.328125 13.890625 \nQ 24.171875 6.390625 31.78125 6.390625 \nQ 39.453125 6.390625 43.28125 13.890625 \nQ 47.125 21.390625 47.125 36.375 \nQ 47.125 51.421875 43.28125 58.90625 \nQ 39.453125 66.40625 31.78125 66.40625 \nz\nM 31.78125 74.21875 \nQ 44.046875 74.21875 50.515625 64.515625 \nQ 56.984375 54.828125 56.984375 36.375 \nQ 56.984375 17.96875 50.515625 8.265625 \nQ 44.046875 -1.421875 31.78125 -1.421875 \nQ 19.53125 -1.421875 13.0625 8.265625 \nQ 6.59375 17.96875 6.59375 36.375 \nQ 6.59375 54.828125 13.0625 64.515625 \nQ 19.53125 74.21875 31.78125 74.21875 \nz\n\" id=\"DejaVuSans-48\"/>\n      </defs>\n      <g transform=\"translate(238.954809 580.516562)scale(0.1 -0.1)\">\n       <use xlink:href=\"#DejaVuSans-48\"/>\n      </g>\n     </g>\n    </g>\n    <g id=\"xtick_3\">\n     <g id=\"line2d_3\">\n      <g>\n       <use style=\"stroke:#000000;stroke-width:0.8;\" x=\"360.078028\" xlink:href=\"#me241c1d0b0\" y=\"565.918125\"/>\n      </g>\n     </g>\n     <g id=\"text_3\">\n      <!-- 2 -->\n      <g transform=\"translate(356.896778 580.516562)scale(0.1 -0.1)\">\n       <use xlink:href=\"#DejaVuSans-50\"/>\n      </g>\n     </g>\n    </g>\n    <g id=\"xtick_4\">\n     <g id=\"line2d_4\">\n      <g>\n       <use style=\"stroke:#000000;stroke-width:0.8;\" x=\"478.019996\" xlink:href=\"#me241c1d0b0\" y=\"565.918125\"/>\n      </g>\n     </g>\n     <g id=\"text_4\">\n      <!-- 4 -->\n      <defs>\n       <path d=\"M 37.796875 64.3125 \nL 12.890625 25.390625 \nL 37.796875 25.390625 \nz\nM 35.203125 72.90625 \nL 47.609375 72.90625 \nL 47.609375 25.390625 \nL 58.015625 25.390625 \nL 58.015625 17.1875 \nL 47.609375 17.1875 \nL 47.609375 0 \nL 37.796875 0 \nL 37.796875 17.1875 \nL 4.890625 17.1875 \nL 4.890625 26.703125 \nz\n\" id=\"DejaVuSans-52\"/>\n      </defs>\n      <g transform=\"translate(474.838746 580.516562)scale(0.1 -0.1)\">\n       <use xlink:href=\"#DejaVuSans-52\"/>\n      </g>\n     </g>\n    </g>\n   </g>\n   <g id=\"matplotlib.axis_2\">\n    <g id=\"ytick_1\">\n     <g id=\"line2d_5\">\n      <defs>\n       <path d=\"M 0 0 \nL -3.5 0 \n\" id=\"mf99a2c9ebd\" style=\"stroke:#000000;stroke-width:0.8;\"/>\n      </defs>\n      <g>\n       <use style=\"stroke:#000000;stroke-width:0.8;\" x=\"28.942188\" xlink:href=\"#mf99a2c9ebd\" y=\"554.102691\"/>\n      </g>\n     </g>\n     <g id=\"text_5\">\n      <!-- −3 -->\n      <defs>\n       <path d=\"M 40.578125 39.3125 \nQ 47.65625 37.796875 51.625 33 \nQ 55.609375 28.21875 55.609375 21.1875 \nQ 55.609375 10.40625 48.1875 4.484375 \nQ 40.765625 -1.421875 27.09375 -1.421875 \nQ 22.515625 -1.421875 17.65625 -0.515625 \nQ 12.796875 0.390625 7.625 2.203125 \nL 7.625 11.71875 \nQ 11.71875 9.328125 16.59375 8.109375 \nQ 21.484375 6.890625 26.8125 6.890625 \nQ 36.078125 6.890625 40.9375 10.546875 \nQ 45.796875 14.203125 45.796875 21.1875 \nQ 45.796875 27.640625 41.28125 31.265625 \nQ 36.765625 34.90625 28.71875 34.90625 \nL 20.21875 34.90625 \nL 20.21875 43.015625 \nL 29.109375 43.015625 \nQ 36.375 43.015625 40.234375 45.921875 \nQ 44.09375 48.828125 44.09375 54.296875 \nQ 44.09375 59.90625 40.109375 62.90625 \nQ 36.140625 65.921875 28.71875 65.921875 \nQ 24.65625 65.921875 20.015625 65.03125 \nQ 15.375 64.15625 9.8125 62.3125 \nL 9.8125 71.09375 \nQ 15.4375 72.65625 20.34375 73.4375 \nQ 25.25 74.21875 29.59375 74.21875 \nQ 40.828125 74.21875 47.359375 69.109375 \nQ 53.90625 64.015625 53.90625 55.328125 \nQ 53.90625 49.265625 50.4375 45.09375 \nQ 46.96875 40.921875 40.578125 39.3125 \nz\n\" id=\"DejaVuSans-51\"/>\n      </defs>\n      <g transform=\"translate(7.2 557.90191)scale(0.1 -0.1)\">\n       <use xlink:href=\"#DejaVuSans-8722\"/>\n       <use x=\"83.789062\" xlink:href=\"#DejaVuSans-51\"/>\n      </g>\n     </g>\n    </g>\n    <g id=\"ytick_2\">\n     <g id=\"line2d_6\">\n      <g>\n       <use style=\"stroke:#000000;stroke-width:0.8;\" x=\"28.942188\" xlink:href=\"#mf99a2c9ebd\" y=\"489.789363\"/>\n      </g>\n     </g>\n     <g id=\"text_6\">\n      <!-- −2 -->\n      <g transform=\"translate(7.2 493.588582)scale(0.1 -0.1)\">\n       <use xlink:href=\"#DejaVuSans-8722\"/>\n       <use x=\"83.789062\" xlink:href=\"#DejaVuSans-50\"/>\n      </g>\n     </g>\n    </g>\n    <g id=\"ytick_3\">\n     <g id=\"line2d_7\">\n      <g>\n       <use style=\"stroke:#000000;stroke-width:0.8;\" x=\"28.942188\" xlink:href=\"#mf99a2c9ebd\" y=\"425.476036\"/>\n      </g>\n     </g>\n     <g id=\"text_7\">\n      <!-- −1 -->\n      <defs>\n       <path d=\"M 12.40625 8.296875 \nL 28.515625 8.296875 \nL 28.515625 63.921875 \nL 10.984375 60.40625 \nL 10.984375 69.390625 \nL 28.421875 72.90625 \nL 38.28125 72.90625 \nL 38.28125 8.296875 \nL 54.390625 8.296875 \nL 54.390625 0 \nL 12.40625 0 \nz\n\" id=\"DejaVuSans-49\"/>\n      </defs>\n      <g transform=\"translate(7.2 429.275255)scale(0.1 -0.1)\">\n       <use xlink:href=\"#DejaVuSans-8722\"/>\n       <use x=\"83.789062\" xlink:href=\"#DejaVuSans-49\"/>\n      </g>\n     </g>\n    </g>\n    <g id=\"ytick_4\">\n     <g id=\"line2d_8\">\n      <g>\n       <use style=\"stroke:#000000;stroke-width:0.8;\" x=\"28.942188\" xlink:href=\"#mf99a2c9ebd\" y=\"361.162708\"/>\n      </g>\n     </g>\n     <g id=\"text_8\">\n      <!-- 0 -->\n      <g transform=\"translate(15.579688 364.961927)scale(0.1 -0.1)\">\n       <use xlink:href=\"#DejaVuSans-48\"/>\n      </g>\n     </g>\n    </g>\n    <g id=\"ytick_5\">\n     <g id=\"line2d_9\">\n      <g>\n       <use style=\"stroke:#000000;stroke-width:0.8;\" x=\"28.942188\" xlink:href=\"#mf99a2c9ebd\" y=\"296.84938\"/>\n      </g>\n     </g>\n     <g id=\"text_9\">\n      <!-- 1 -->\n      <g transform=\"translate(15.579688 300.648599)scale(0.1 -0.1)\">\n       <use xlink:href=\"#DejaVuSans-49\"/>\n      </g>\n     </g>\n    </g>\n    <g id=\"ytick_6\">\n     <g id=\"line2d_10\">\n      <g>\n       <use style=\"stroke:#000000;stroke-width:0.8;\" x=\"28.942188\" xlink:href=\"#mf99a2c9ebd\" y=\"232.536053\"/>\n      </g>\n     </g>\n     <g id=\"text_10\">\n      <!-- 2 -->\n      <g transform=\"translate(15.579688 236.335272)scale(0.1 -0.1)\">\n       <use xlink:href=\"#DejaVuSans-50\"/>\n      </g>\n     </g>\n    </g>\n    <g id=\"ytick_7\">\n     <g id=\"line2d_11\">\n      <g>\n       <use style=\"stroke:#000000;stroke-width:0.8;\" x=\"28.942188\" xlink:href=\"#mf99a2c9ebd\" y=\"168.222725\"/>\n      </g>\n     </g>\n     <g id=\"text_11\">\n      <!-- 3 -->\n      <g transform=\"translate(15.579688 172.021944)scale(0.1 -0.1)\">\n       <use xlink:href=\"#DejaVuSans-51\"/>\n      </g>\n     </g>\n    </g>\n    <g id=\"ytick_8\">\n     <g id=\"line2d_12\">\n      <g>\n       <use style=\"stroke:#000000;stroke-width:0.8;\" x=\"28.942188\" xlink:href=\"#mf99a2c9ebd\" y=\"103.909398\"/>\n      </g>\n     </g>\n     <g id=\"text_12\">\n      <!-- 4 -->\n      <g transform=\"translate(15.579688 107.708616)scale(0.1 -0.1)\">\n       <use xlink:href=\"#DejaVuSans-52\"/>\n      </g>\n     </g>\n    </g>\n    <g id=\"ytick_9\">\n     <g id=\"line2d_13\">\n      <g>\n       <use style=\"stroke:#000000;stroke-width:0.8;\" x=\"28.942188\" xlink:href=\"#mf99a2c9ebd\" y=\"39.59607\"/>\n      </g>\n     </g>\n     <g id=\"text_13\">\n      <!-- 5 -->\n      <defs>\n       <path d=\"M 10.796875 72.90625 \nL 49.515625 72.90625 \nL 49.515625 64.59375 \nL 19.828125 64.59375 \nL 19.828125 46.734375 \nQ 21.96875 47.46875 24.109375 47.828125 \nQ 26.265625 48.1875 28.421875 48.1875 \nQ 40.625 48.1875 47.75 41.5 \nQ 54.890625 34.8125 54.890625 23.390625 \nQ 54.890625 11.625 47.5625 5.09375 \nQ 40.234375 -1.421875 26.90625 -1.421875 \nQ 22.3125 -1.421875 17.546875 -0.640625 \nQ 12.796875 0.140625 7.71875 1.703125 \nL 7.71875 11.625 \nQ 12.109375 9.234375 16.796875 8.0625 \nQ 21.484375 6.890625 26.703125 6.890625 \nQ 35.15625 6.890625 40.078125 11.328125 \nQ 45.015625 15.765625 45.015625 23.390625 \nQ 45.015625 31 40.078125 35.4375 \nQ 35.15625 39.890625 26.703125 39.890625 \nQ 22.75 39.890625 18.8125 39.015625 \nQ 14.890625 38.140625 10.796875 36.28125 \nz\n\" id=\"DejaVuSans-53\"/>\n      </defs>\n      <g transform=\"translate(15.579688 43.395289)scale(0.1 -0.1)\">\n       <use xlink:href=\"#DejaVuSans-53\"/>\n      </g>\n     </g>\n    </g>\n   </g>\n   <g id=\"patch_3\">\n    <path d=\"M 28.942188 565.918125 \nL 28.942188 22.318125 \n\" style=\"fill:none;stroke:#000000;stroke-linecap:square;stroke-linejoin:miter;stroke-width:0.8;\"/>\n   </g>\n   <g id=\"patch_4\">\n    <path d=\"M 586.942188 565.918125 \nL 586.942188 22.318125 \n\" style=\"fill:none;stroke:#000000;stroke-linecap:square;stroke-linejoin:miter;stroke-width:0.8;\"/>\n   </g>\n   <g id=\"patch_5\">\n    <path d=\"M 28.942187 565.918125 \nL 586.942188 565.918125 \n\" style=\"fill:none;stroke:#000000;stroke-linecap:square;stroke-linejoin:miter;stroke-width:0.8;\"/>\n   </g>\n   <g id=\"patch_6\">\n    <path d=\"M 28.942187 22.318125 \nL 586.942188 22.318125 \n\" style=\"fill:none;stroke:#000000;stroke-linecap:square;stroke-linejoin:miter;stroke-width:0.8;\"/>\n   </g>\n   <g id=\"text_14\">\n    <!-- Principal Component Analysis -->\n    <defs>\n     <path d=\"M 19.671875 64.796875 \nL 19.671875 37.40625 \nL 32.078125 37.40625 \nQ 38.96875 37.40625 42.71875 40.96875 \nQ 46.484375 44.53125 46.484375 51.125 \nQ 46.484375 57.671875 42.71875 61.234375 \nQ 38.96875 64.796875 32.078125 64.796875 \nz\nM 9.8125 72.90625 \nL 32.078125 72.90625 \nQ 44.34375 72.90625 50.609375 67.359375 \nQ 56.890625 61.8125 56.890625 51.125 \nQ 56.890625 40.328125 50.609375 34.8125 \nQ 44.34375 29.296875 32.078125 29.296875 \nL 19.671875 29.296875 \nL 19.671875 0 \nL 9.8125 0 \nz\n\" id=\"DejaVuSans-80\"/>\n     <path d=\"M 41.109375 46.296875 \nQ 39.59375 47.171875 37.8125 47.578125 \nQ 36.03125 48 33.890625 48 \nQ 26.265625 48 22.1875 43.046875 \nQ 18.109375 38.09375 18.109375 28.8125 \nL 18.109375 0 \nL 9.078125 0 \nL 9.078125 54.6875 \nL 18.109375 54.6875 \nL 18.109375 46.1875 \nQ 20.953125 51.171875 25.484375 53.578125 \nQ 30.03125 56 36.53125 56 \nQ 37.453125 56 38.578125 55.875 \nQ 39.703125 55.765625 41.0625 55.515625 \nz\n\" id=\"DejaVuSans-114\"/>\n     <path d=\"M 9.421875 54.6875 \nL 18.40625 54.6875 \nL 18.40625 0 \nL 9.421875 0 \nz\nM 9.421875 75.984375 \nL 18.40625 75.984375 \nL 18.40625 64.59375 \nL 9.421875 64.59375 \nz\n\" id=\"DejaVuSans-105\"/>\n     <path d=\"M 54.890625 33.015625 \nL 54.890625 0 \nL 45.90625 0 \nL 45.90625 32.71875 \nQ 45.90625 40.484375 42.875 44.328125 \nQ 39.84375 48.1875 33.796875 48.1875 \nQ 26.515625 48.1875 22.3125 43.546875 \nQ 18.109375 38.921875 18.109375 30.90625 \nL 18.109375 0 \nL 9.078125 0 \nL 9.078125 54.6875 \nL 18.109375 54.6875 \nL 18.109375 46.1875 \nQ 21.34375 51.125 25.703125 53.5625 \nQ 30.078125 56 35.796875 56 \nQ 45.21875 56 50.046875 50.171875 \nQ 54.890625 44.34375 54.890625 33.015625 \nz\n\" id=\"DejaVuSans-110\"/>\n     <path d=\"M 48.78125 52.59375 \nL 48.78125 44.1875 \nQ 44.96875 46.296875 41.140625 47.34375 \nQ 37.3125 48.390625 33.40625 48.390625 \nQ 24.65625 48.390625 19.8125 42.84375 \nQ 14.984375 37.3125 14.984375 27.296875 \nQ 14.984375 17.28125 19.8125 11.734375 \nQ 24.65625 6.203125 33.40625 6.203125 \nQ 37.3125 6.203125 41.140625 7.25 \nQ 44.96875 8.296875 48.78125 10.40625 \nL 48.78125 2.09375 \nQ 45.015625 0.34375 40.984375 -0.53125 \nQ 36.96875 -1.421875 32.421875 -1.421875 \nQ 20.0625 -1.421875 12.78125 6.34375 \nQ 5.515625 14.109375 5.515625 27.296875 \nQ 5.515625 40.671875 12.859375 48.328125 \nQ 20.21875 56 33.015625 56 \nQ 37.15625 56 41.109375 55.140625 \nQ 45.0625 54.296875 48.78125 52.59375 \nz\n\" id=\"DejaVuSans-99\"/>\n     <path d=\"M 18.109375 8.203125 \nL 18.109375 -20.796875 \nL 9.078125 -20.796875 \nL 9.078125 54.6875 \nL 18.109375 54.6875 \nL 18.109375 46.390625 \nQ 20.953125 51.265625 25.265625 53.625 \nQ 29.59375 56 35.59375 56 \nQ 45.5625 56 51.78125 48.09375 \nQ 58.015625 40.1875 58.015625 27.296875 \nQ 58.015625 14.40625 51.78125 6.484375 \nQ 45.5625 -1.421875 35.59375 -1.421875 \nQ 29.59375 -1.421875 25.265625 0.953125 \nQ 20.953125 3.328125 18.109375 8.203125 \nz\nM 48.6875 27.296875 \nQ 48.6875 37.203125 44.609375 42.84375 \nQ 40.53125 48.484375 33.40625 48.484375 \nQ 26.265625 48.484375 22.1875 42.84375 \nQ 18.109375 37.203125 18.109375 27.296875 \nQ 18.109375 17.390625 22.1875 11.75 \nQ 26.265625 6.109375 33.40625 6.109375 \nQ 40.53125 6.109375 44.609375 11.75 \nQ 48.6875 17.390625 48.6875 27.296875 \nz\n\" id=\"DejaVuSans-112\"/>\n     <path d=\"M 34.28125 27.484375 \nQ 23.390625 27.484375 19.1875 25 \nQ 14.984375 22.515625 14.984375 16.5 \nQ 14.984375 11.71875 18.140625 8.90625 \nQ 21.296875 6.109375 26.703125 6.109375 \nQ 34.1875 6.109375 38.703125 11.40625 \nQ 43.21875 16.703125 43.21875 25.484375 \nL 43.21875 27.484375 \nz\nM 52.203125 31.203125 \nL 52.203125 0 \nL 43.21875 0 \nL 43.21875 8.296875 \nQ 40.140625 3.328125 35.546875 0.953125 \nQ 30.953125 -1.421875 24.3125 -1.421875 \nQ 15.921875 -1.421875 10.953125 3.296875 \nQ 6 8.015625 6 15.921875 \nQ 6 25.140625 12.171875 29.828125 \nQ 18.359375 34.515625 30.609375 34.515625 \nL 43.21875 34.515625 \nL 43.21875 35.40625 \nQ 43.21875 41.609375 39.140625 45 \nQ 35.0625 48.390625 27.6875 48.390625 \nQ 23 48.390625 18.546875 47.265625 \nQ 14.109375 46.140625 10.015625 43.890625 \nL 10.015625 52.203125 \nQ 14.9375 54.109375 19.578125 55.046875 \nQ 24.21875 56 28.609375 56 \nQ 40.484375 56 46.34375 49.84375 \nQ 52.203125 43.703125 52.203125 31.203125 \nz\n\" id=\"DejaVuSans-97\"/>\n     <path d=\"M 9.421875 75.984375 \nL 18.40625 75.984375 \nL 18.40625 0 \nL 9.421875 0 \nz\n\" id=\"DejaVuSans-108\"/>\n     <path id=\"DejaVuSans-32\"/>\n     <path d=\"M 64.40625 67.28125 \nL 64.40625 56.890625 \nQ 59.421875 61.53125 53.78125 63.8125 \nQ 48.140625 66.109375 41.796875 66.109375 \nQ 29.296875 66.109375 22.65625 58.46875 \nQ 16.015625 50.828125 16.015625 36.375 \nQ 16.015625 21.96875 22.65625 14.328125 \nQ 29.296875 6.6875 41.796875 6.6875 \nQ 48.140625 6.6875 53.78125 8.984375 \nQ 59.421875 11.28125 64.40625 15.921875 \nL 64.40625 5.609375 \nQ 59.234375 2.09375 53.4375 0.328125 \nQ 47.65625 -1.421875 41.21875 -1.421875 \nQ 24.65625 -1.421875 15.125 8.703125 \nQ 5.609375 18.84375 5.609375 36.375 \nQ 5.609375 53.953125 15.125 64.078125 \nQ 24.65625 74.21875 41.21875 74.21875 \nQ 47.75 74.21875 53.53125 72.484375 \nQ 59.328125 70.75 64.40625 67.28125 \nz\n\" id=\"DejaVuSans-67\"/>\n     <path d=\"M 30.609375 48.390625 \nQ 23.390625 48.390625 19.1875 42.75 \nQ 14.984375 37.109375 14.984375 27.296875 \nQ 14.984375 17.484375 19.15625 11.84375 \nQ 23.34375 6.203125 30.609375 6.203125 \nQ 37.796875 6.203125 41.984375 11.859375 \nQ 46.1875 17.53125 46.1875 27.296875 \nQ 46.1875 37.015625 41.984375 42.703125 \nQ 37.796875 48.390625 30.609375 48.390625 \nz\nM 30.609375 56 \nQ 42.328125 56 49.015625 48.375 \nQ 55.71875 40.765625 55.71875 27.296875 \nQ 55.71875 13.875 49.015625 6.21875 \nQ 42.328125 -1.421875 30.609375 -1.421875 \nQ 18.84375 -1.421875 12.171875 6.21875 \nQ 5.515625 13.875 5.515625 27.296875 \nQ 5.515625 40.765625 12.171875 48.375 \nQ 18.84375 56 30.609375 56 \nz\n\" id=\"DejaVuSans-111\"/>\n     <path d=\"M 52 44.1875 \nQ 55.375 50.25 60.0625 53.125 \nQ 64.75 56 71.09375 56 \nQ 79.640625 56 84.28125 50.015625 \nQ 88.921875 44.046875 88.921875 33.015625 \nL 88.921875 0 \nL 79.890625 0 \nL 79.890625 32.71875 \nQ 79.890625 40.578125 77.09375 44.375 \nQ 74.3125 48.1875 68.609375 48.1875 \nQ 61.625 48.1875 57.5625 43.546875 \nQ 53.515625 38.921875 53.515625 30.90625 \nL 53.515625 0 \nL 44.484375 0 \nL 44.484375 32.71875 \nQ 44.484375 40.625 41.703125 44.40625 \nQ 38.921875 48.1875 33.109375 48.1875 \nQ 26.21875 48.1875 22.15625 43.53125 \nQ 18.109375 38.875 18.109375 30.90625 \nL 18.109375 0 \nL 9.078125 0 \nL 9.078125 54.6875 \nL 18.109375 54.6875 \nL 18.109375 46.1875 \nQ 21.1875 51.21875 25.484375 53.609375 \nQ 29.78125 56 35.6875 56 \nQ 41.65625 56 45.828125 52.96875 \nQ 50 49.953125 52 44.1875 \nz\n\" id=\"DejaVuSans-109\"/>\n     <path d=\"M 56.203125 29.59375 \nL 56.203125 25.203125 \nL 14.890625 25.203125 \nQ 15.484375 15.921875 20.484375 11.0625 \nQ 25.484375 6.203125 34.421875 6.203125 \nQ 39.59375 6.203125 44.453125 7.46875 \nQ 49.3125 8.734375 54.109375 11.28125 \nL 54.109375 2.78125 \nQ 49.265625 0.734375 44.1875 -0.34375 \nQ 39.109375 -1.421875 33.890625 -1.421875 \nQ 20.796875 -1.421875 13.15625 6.1875 \nQ 5.515625 13.8125 5.515625 26.8125 \nQ 5.515625 40.234375 12.765625 48.109375 \nQ 20.015625 56 32.328125 56 \nQ 43.359375 56 49.78125 48.890625 \nQ 56.203125 41.796875 56.203125 29.59375 \nz\nM 47.21875 32.234375 \nQ 47.125 39.59375 43.09375 43.984375 \nQ 39.0625 48.390625 32.421875 48.390625 \nQ 24.90625 48.390625 20.390625 44.140625 \nQ 15.875 39.890625 15.1875 32.171875 \nz\n\" id=\"DejaVuSans-101\"/>\n     <path d=\"M 18.3125 70.21875 \nL 18.3125 54.6875 \nL 36.8125 54.6875 \nL 36.8125 47.703125 \nL 18.3125 47.703125 \nL 18.3125 18.015625 \nQ 18.3125 11.328125 20.140625 9.421875 \nQ 21.96875 7.515625 27.59375 7.515625 \nL 36.8125 7.515625 \nL 36.8125 0 \nL 27.59375 0 \nQ 17.1875 0 13.234375 3.875 \nQ 9.28125 7.765625 9.28125 18.015625 \nL 9.28125 47.703125 \nL 2.6875 47.703125 \nL 2.6875 54.6875 \nL 9.28125 54.6875 \nL 9.28125 70.21875 \nz\n\" id=\"DejaVuSans-116\"/>\n     <path d=\"M 34.1875 63.1875 \nL 20.796875 26.90625 \nL 47.609375 26.90625 \nz\nM 28.609375 72.90625 \nL 39.796875 72.90625 \nL 67.578125 0 \nL 57.328125 0 \nL 50.6875 18.703125 \nL 17.828125 18.703125 \nL 11.1875 0 \nL 0.78125 0 \nz\n\" id=\"DejaVuSans-65\"/>\n     <path d=\"M 32.171875 -5.078125 \nQ 28.375 -14.84375 24.75 -17.8125 \nQ 21.140625 -20.796875 15.09375 -20.796875 \nL 7.90625 -20.796875 \nL 7.90625 -13.28125 \nL 13.1875 -13.28125 \nQ 16.890625 -13.28125 18.9375 -11.515625 \nQ 21 -9.765625 23.484375 -3.21875 \nL 25.09375 0.875 \nL 2.984375 54.6875 \nL 12.5 54.6875 \nL 29.59375 11.921875 \nL 46.6875 54.6875 \nL 56.203125 54.6875 \nz\n\" id=\"DejaVuSans-121\"/>\n     <path d=\"M 44.28125 53.078125 \nL 44.28125 44.578125 \nQ 40.484375 46.53125 36.375 47.5 \nQ 32.28125 48.484375 27.875 48.484375 \nQ 21.1875 48.484375 17.84375 46.4375 \nQ 14.5 44.390625 14.5 40.28125 \nQ 14.5 37.15625 16.890625 35.375 \nQ 19.28125 33.59375 26.515625 31.984375 \nL 29.59375 31.296875 \nQ 39.15625 29.25 43.1875 25.515625 \nQ 47.21875 21.78125 47.21875 15.09375 \nQ 47.21875 7.46875 41.1875 3.015625 \nQ 35.15625 -1.421875 24.609375 -1.421875 \nQ 20.21875 -1.421875 15.453125 -0.5625 \nQ 10.6875 0.296875 5.421875 2 \nL 5.421875 11.28125 \nQ 10.40625 8.6875 15.234375 7.390625 \nQ 20.0625 6.109375 24.8125 6.109375 \nQ 31.15625 6.109375 34.5625 8.28125 \nQ 37.984375 10.453125 37.984375 14.40625 \nQ 37.984375 18.0625 35.515625 20.015625 \nQ 33.0625 21.96875 24.703125 23.78125 \nL 21.578125 24.515625 \nQ 13.234375 26.265625 9.515625 29.90625 \nQ 5.8125 33.546875 5.8125 39.890625 \nQ 5.8125 47.609375 11.28125 51.796875 \nQ 16.75 56 26.8125 56 \nQ 31.78125 56 36.171875 55.265625 \nQ 40.578125 54.546875 44.28125 53.078125 \nz\n\" id=\"DejaVuSans-115\"/>\n    </defs>\n    <g transform=\"translate(218.902187 16.318125)scale(0.12 -0.12)\">\n     <use xlink:href=\"#DejaVuSans-80\"/>\n     <use x=\"60.287109\" xlink:href=\"#DejaVuSans-114\"/>\n     <use x=\"101.400391\" xlink:href=\"#DejaVuSans-105\"/>\n     <use x=\"129.183594\" xlink:href=\"#DejaVuSans-110\"/>\n     <use x=\"192.5625\" xlink:href=\"#DejaVuSans-99\"/>\n     <use x=\"247.542969\" xlink:href=\"#DejaVuSans-105\"/>\n     <use x=\"275.326172\" xlink:href=\"#DejaVuSans-112\"/>\n     <use x=\"338.802734\" xlink:href=\"#DejaVuSans-97\"/>\n     <use x=\"400.082031\" xlink:href=\"#DejaVuSans-108\"/>\n     <use x=\"427.865234\" xlink:href=\"#DejaVuSans-32\"/>\n     <use x=\"459.652344\" xlink:href=\"#DejaVuSans-67\"/>\n     <use x=\"529.476562\" xlink:href=\"#DejaVuSans-111\"/>\n     <use x=\"590.658203\" xlink:href=\"#DejaVuSans-109\"/>\n     <use x=\"688.070312\" xlink:href=\"#DejaVuSans-112\"/>\n     <use x=\"751.546875\" xlink:href=\"#DejaVuSans-111\"/>\n     <use x=\"812.728516\" xlink:href=\"#DejaVuSans-110\"/>\n     <use x=\"876.107422\" xlink:href=\"#DejaVuSans-101\"/>\n     <use x=\"937.630859\" xlink:href=\"#DejaVuSans-110\"/>\n     <use x=\"1001.009766\" xlink:href=\"#DejaVuSans-116\"/>\n     <use x=\"1040.21875\" xlink:href=\"#DejaVuSans-32\"/>\n     <use x=\"1072.005859\" xlink:href=\"#DejaVuSans-65\"/>\n     <use x=\"1140.414062\" xlink:href=\"#DejaVuSans-110\"/>\n     <use x=\"1203.792969\" xlink:href=\"#DejaVuSans-97\"/>\n     <use x=\"1265.072266\" xlink:href=\"#DejaVuSans-108\"/>\n     <use x=\"1292.855469\" xlink:href=\"#DejaVuSans-121\"/>\n     <use x=\"1352.035156\" xlink:href=\"#DejaVuSans-115\"/>\n     <use x=\"1404.134766\" xlink:href=\"#DejaVuSans-105\"/>\n     <use x=\"1431.917969\" xlink:href=\"#DejaVuSans-115\"/>\n    </g>\n   </g>\n  </g>\n </g>\n <defs>\n  <clipPath id=\"p738e654986\">\n   <rect height=\"543.6\" width=\"558\" x=\"28.942188\" y=\"22.318125\"/>\n  </clipPath>\n </defs>\n</svg>\n",
      "image/png": "[encoded data removed]"
     },
     "metadata": {
      "needs_background": "light"
     }
    }
   ],
   "source": [
    "go_to_project_root()\n",
    "X = pd.read_csv(\"data/processed/processed.csv\", index_col=0).to_numpy()\n",
    "scaler = StandardScaler()\n",
    "y = X[:,-1]\n",
    "X = scaler.fit_transform(X)\n",
    "\n",
    "# 2D\n",
    "pca = PCA(n_components=2)\n",
    "\n",
    "tr = pca.fit_transform(X[:,:-1])\n",
    "red = tr[np.where(y==1)]\n",
    "blu = tr[np.where(y==0)]\n",
    "\n",
    "plt.figure(figsize=(10,10))\n",
    "plt.scatter(red[:, 0], red[:, 1], c=\"red\", marker=\"x\", label=\"Truth: 0\")\n",
    "plt.scatter(blu[:, 0], blu[:, 1], c=\"blue\", alpha=0.8, label=\"Truth: 1\")\n",
    "plt.title(\"Principal Component Analysis\")"
   ]
  },
  {
   "cell_type": "code",
   "execution_count": 74,
   "metadata": {},
   "outputs": [
    {
     "output_type": "display_data",
     "data": {
      "application/vnd.plotly.v1+json": {
       "config": {
        "plotlyServerURL": "https://plot.ly"
       },
       "data": [
        {
         "hovertemplate": "x=%{x}<br>y=%{y}<br>z=%{z}<br>color=%{marker.color}<extra></extra>",
         "legendgroup": "",
         "marker": {
          "color": [
           1,
           -1,
           1,
           1,
           -1,
           1,
           -1,
           1,
           -1,
           1,
           -1,
           1,
           -1,
           1,
           1,
           1,
           1,
           -1,
           -1,
           -1,
           1,
           -1,
           -1,
           -1,
           -1,
           -1,
           1,
           1,
           -1,
           1,
           -1,
           1,
           -1,
           1,
           -1,
           1,
           -1,
           -1,
           1,
           1,
           -1,
           -1,
           -1,
           -1,
           1,
           1,
           -1,
           1,
           1,
           -1,
           1,
           1,
           -1,
           -1,
           -1,
           -1,
           1,
           -1,
           1,
           1,
           -1,
           -1,
           -1,
           1,
           -1,
           1,
           1,
           1,
           1,
           -1,
           -1,
           1,
           1,
           1,
           -1,
           1,
           -1,
           1,
           1,
           1,
           1,
           -1,
           -1,
           -1,
           -1,
           -1,
           -1,
           -1,
           1,
           -1,
           -1,
           -1,
           -1,
           -1,
           -1,
           1,
           -1,
           -1,
           1,
           -1,
           -1,
           1,
           -1,
           1,
           1,
           -1,
           -1,
           1,
           1,
           -1,
           1,
           -1,
           -1,
           1,
           -1,
           -1,
           -1,
           1,
           1,
           -1,
           -1,
           1,
           1,
           1,
           -1,
           1,
           1,
           1,
           1,
           1,
           1,
           1,
           -1,
           1,
           -1,
           1,
           -1,
           -1,
           -1,
           1,
           1,
           -1,
           1,
           -1,
           -1,
           -1,
           1,
           1,
           -1,
           -1,
           1,
           -1,
           1,
           -1,
           -1,
           1,
           -1,
           -1,
           1,
           1,
           -1,
           1,
           1,
           -1,
           -1,
           1,
           1,
           -1,
           1,
           -1,
           1,
           -1,
           -1,
           -1,
           1,
           -1,
           1,
           -1,
           -1,
           1,
           -1,
           -1,
           -1,
           1,
           1,
           -1,
           -1,
           -1,
           1,
           -1,
           1,
           -1,
           1,
           -1,
           -1,
           -1,
           1,
           -1,
           1,
           1,
           1,
           -1,
           1,
           1,
           1,
           1,
           -1,
           1,
           1,
           1,
           1,
           -1,
           1,
           -1,
           1,
           1,
           1,
           1,
           -1,
           -1,
           1,
           -1,
           1,
           1,
           1,
           -1,
           1,
           1,
           1,
           -1,
           1,
           1,
           -1,
           1,
           1,
           -1,
           1,
           -1,
           1,
           -1,
           1,
           1,
           -1,
           -1,
           -1,
           -1,
           -1,
           1,
           1,
           1,
           1,
           -1,
           1,
           1,
           1,
           1,
           -1,
           -1,
           -1,
           -1,
           -1,
           1,
           -1,
           1,
           1,
           -1,
           1,
           -1,
           -1,
           -1,
           -1,
           1,
           1,
           1,
           -1,
           1,
           1,
           -1,
           -1,
           1,
           1,
           1,
           -1,
           -1,
           -1,
           -1,
           1,
           1,
           -1,
           1,
           1,
           -1,
           -1,
           -1,
           1,
           -1,
           1,
           1,
           -1,
           1
          ],
          "coloraxis": "coloraxis",
          "symbol": "circle"
         },
         "mode": "markers",
         "name": "",
         "scene": "scene",
         "showlegend": false,
         "type": "scatter3d",
         "x": [
          -0.04629889983488037,
          4.0444667739071525,
          0.6007355643695992,
          -0.8690766630646767,
          0.1513777629919129,
          -0.10949269389225699,
          -1.6100538192085143,
          -0.23778736737512166,
          0.5707854448969966,
          -2.2100226366308564,
          -0.0029052011700641434,
          -1.750201664922078,
          0.3707894099054496,
          -1.9414515953396694,
          -1.9948964491489658,
          0.33417307884820263,
          -2.086770215643969,
          0.31661899111176517,
          0.7230223602231165,
          -1.3199113823812088,
          1.4476659657410165,
          0.3447489400947374,
          -3.1074788621394327,
          1.3127614180286185,
          0.35037880385123177,
          -0.05665345096655695,
          -0.10949269389225699,
          0.14362016624428922,
          -0.549825067443811,
          0.5931784816331919,
          -1.354057504332179,
          0.3626149179112139,
          -0.7429441159033653,
          1.7069662888639074,
          -0.5196676497439437,
          -1.2084490551479494,
          0.6752744704370619,
          -0.9044542596494511,
          -1.8615581708731446,
          1.400622179623032,
          -1.5783256728080963,
          0.10200864697749831,
          0.9836959996613377,
          -0.8104199865984436,
          -0.16062118913410386,
          1.2097913174226347,
          0.03421044594465929,
          1.4229107273034116,
          -1.447039017016589,
          0.08782412012636953,
          1.5657234259985693,
          0.0851492427305323,
          -0.04074435142260385,
          -0.3305542613575169,
          -0.2657171718826719,
          3.2257799337501543,
          -0.10664579021272474,
          -1.3706459045894035,
          0.18142058503976327,
          -1.2122081278088697,
          -0.4985889322629619,
          0.7551308120924343,
          2.1950058734634146,
          -2.2152285330689256,
          -0.021227184244931366,
          -1.2406674086350362,
          -0.9283456962263841,
          -2.2965939469578793,
          -2.399779585375077,
          -0.04422746259329489,
          -0.2531637161156043,
          -0.6865769160732218,
          0.7202645716348702,
          -1.3990182816889232,
          0.08540341872315481,
          -1.7352262345643958,
          0.8312302688921177,
          1.8280893400775056,
          0.30059064768536936,
          -0.41854715691203753,
          -1.143170185588847,
          -0.905968656067194,
          0.4692525547964967,
          0.5804676437334028,
          -0.1611756990654508,
          3.6227794969114817,
          0.7115744494310523,
          0.49300514941925716,
          -0.7399063560117448,
          -0.4584421681691164,
          0.5562656815430425,
          3.467734157956376,
          0.6142790346027706,
          0.5768885368673422,
          0.608330983504627,
          -0.32866783721249365,
          0.764779891408909,
          0.8595346538921586,
          -3.1718297155113135,
          -1.6643109941590286,
          0.04136839496469462,
          -0.38636319564091254,
          0.2332938703022038,
          -0.5937058988029186,
          -0.2615277783819914,
          1.3045202525161363,
          1.662554664330352,
          0.27853105226808694,
          -1.7813006853460178,
          -0.840177508748115,
          -1.4766408407973814,
          -0.16528983595466054,
          0.16347416750237673,
          -1.5346567779895726,
          2.450273204902367,
          0.4195585142944168,
          -1.844638415846134,
          -0.43610988850381666,
          -1.7576353162722744,
          0.8284465956960267,
          0.6758914557891568,
          -1.8130162015903846,
          -0.5440619350582757,
          -0.5828398025918207,
          3.6051125234449097,
          -0.3089442260471349,
          1.6270063310089202,
          -1.4134927496236798,
          1.5505890750057865,
          -1.0043233965043252,
          -2.1281012900136855,
          -0.1463518164147646,
          -0.13801612967676655,
          0.032388618224032925,
          -1.1846505019320317,
          0.6623499159924728,
          1.247855152726017,
          2.5262289083105274,
          0.8284312579215916,
          -1.1069543500230326,
          -0.06129501393370944,
          -0.39628976900322893,
          -2.919259234781273,
          0.008905524888576441,
          1.4675624607142361,
          -1.0054358066789777,
          0.566230024773415,
          0.09495678197467013,
          2.6179970505876744,
          -0.16062118913410386,
          -0.4261800384550987,
          -1.1622308842988478,
          -0.10949269389225699,
          0.2551730769997832,
          -0.5953066613798772,
          -0.15618425884882978,
          -0.3246364418799745,
          -0.6373387204451384,
          -1.0220467367054948,
          -0.5720584325081928,
          0.7852772433722871,
          -0.1315758073134141,
          0.18487958288982584,
          1.284778535518342,
          -0.05649095553995323,
          1.1707619515500218,
          1.3181759157788009,
          1.3006730307316554,
          0.8395947197699788,
          1.4264517793727904,
          -0.33622167617736004,
          1.0350816257909148,
          2.017277669787186,
          -0.018552661179644797,
          -1.755290709154893,
          0.8938076166045388,
          -0.7795272876675896,
          -2.20281652020587,
          0.24957953400989075,
          2.5384947961645414,
          1.8955788836350829,
          -1.9560454651305912,
          -1.116337571484583,
          0.393103402325462,
          -2.4762598321151654,
          2.5477092178784604,
          -1.1237075443967113,
          1.3777938183721303,
          1.0259682653406876,
          0.9270030662716986,
          3.3239044941208067,
          0.46823127396624853,
          -1.4392343670988355,
          -0.5566823516885169,
          0.1418795699846159,
          -0.428356904787362,
          2.7689290743826533,
          0.2837358648022674,
          0.21783363265230216,
          -1.2745877683120161,
          -0.06903795015434633,
          -0.5950294160397077,
          0.6108040155506584,
          -1.1797132177954082,
          2.4826475578102434,
          -0.4071943577875339,
          -2.5491841353042917,
          -0.6585179311856714,
          -0.2496273816469321,
          -1.6227285453227824,
          -1.0809089874564584,
          0.5453123645187475,
          1.2081948520518486,
          2.7518516811812304,
          1.5373453398755716,
          2.1957655318141747,
          -1.313031905218533,
          1.3014048765356547,
          1.0715689517231544,
          0.360060560927935,
          -0.2480118323711962,
          -0.3763851265281692,
          -0.9709752710405565,
          -0.7923708161607113,
          -0.6607656587898876,
          -0.2338536742145518,
          -0.4707443626093947,
          -2.3242710584989803,
          -1.4653753326238141,
          3.3114958529465364,
          -1.2513151100959063,
          0.5925207113900468,
          1.3906034435255903,
          2.269014577143288,
          -1.0986937329253257,
          0.7908371565251132,
          -1.2530366529771468,
          1.9599739367304714,
          -1.734516453327908,
          1.2709478613967728,
          -0.10949269389225559,
          0.10706102871783446,
          0.08172948160247154,
          -2.5853281306285614,
          1.613290365837173,
          -0.5278468378784144,
          0.41534950916462104,
          0.3153207007862575,
          -2.724885304033704,
          2.1901715060639995,
          0.09495678197466875,
          0.28586543558727107,
          -1.0880064411323758,
          -0.9388898640046132,
          -0.745678975727434,
          -1.8491734504518667,
          -0.04925268168914855,
          -0.9447880790217823,
          1.269323463876198,
          -0.20464410377026546,
          -0.3111222537578506,
          -0.6583128119197876,
          -0.40413170260380327,
          -0.8819290324525533,
          0.3747074607123049,
          0.7321973265732578,
          -2.0003055137256336,
          1.183069056494911,
          -0.3861610776267454,
          0.25324168507767614,
          -0.9845166687426493,
          0.16774684537864348,
          1.9264967791018075,
          -3.1797533704236427,
          0.5879018363800317,
          1.2347178264659138,
          1.1770274477678542,
          -0.19208762686424877,
          0.6042238666783797,
          0.5962748890152375,
          0.8248304691833335,
          -1.3965016448242267,
          -0.23933932928766213,
          0.31392955947211176,
          -2.5106152696536395,
          -0.5210880281582563,
          -1.329943208682822,
          -0.8408360504963951,
          1.5181195687789721,
          -0.3553585531303881,
          0.44532164754290743,
          -1.9581972658894111,
          0.8796227055729879,
          0.3870039732198518,
          -1.4333391396547865,
          4.630834033922269,
          -0.15306339314580003,
          -0.6839311586581501,
          5.37841744259319,
          0.8764759403265281
         ],
         "y": [
          -0.13122624612276426,
          -1.2849771849910392,
          -0.8411104595565495,
          0.4751300492484706,
          -0.761606169596654,
          0.8366563524447203,
          0.0569556717966872,
          -0.3529434217694565,
          -0.8801427603301474,
          0.7731058091163051,
          -0.34433566663220083,
          2.8254354104357566,
          0.37929196136478427,
          1.3481481785519167,
          0.031652135288699416,
          0.48414020273477676,
          0.4031018375309465,
          -0.5494053829020985,
          -0.6857985236228218,
          -1.3158440432957137,
          0.3182585071226485,
          -0.21887743322329223,
          -2.756987846769214,
          -0.5381046857830551,
          -0.3761595332341587,
          -0.6818504519982292,
          0.8366563524447203,
          -0.05829574634346202,
          0.41800639007784424,
          -0.8090553619395566,
          -0.7651168548516261,
          0.22532967910814014,
          -0.7678717636376736,
          0.9541643404293663,
          -1.005104856362394,
          3.05927897351294,
          -0.3261696662780905,
          -0.9974982094458982,
          0.8596463863567693,
          0.31628732311525015,
          0.6720940573819045,
          -1.1186096557670808,
          0.18029191706802128,
          -1.3055982977358984,
          -0.226449284470815,
          -0.46231129799565446,
          -1.0046329176562971,
          0.7932446630567017,
          1.121718534464881,
          -0.9937650582402409,
          0.010052066768647956,
          0.2434792714156297,
          -1.4551882036427806,
          -1.3534675402435445,
          -1.1945652076915372,
          0.2690542031010498,
          0.8818606689238483,
          0.18797896853636387,
          -0.21032091906268863,
          -1.405022661848728,
          -0.5310995925709083,
          0.4602814783643071,
          0.1163057099003761,
          0.7910023103154136,
          -0.3035283699394757,
          -0.06340396449162615,
          -0.39144861055857927,
          2.4525550997055987,
          0.8772288937172452,
          0.10589977904027566,
          -1.2908662301642246,
          -0.7587543482344613,
          0.16930317645022355,
          1.0621845370177496,
          -0.707131592297307,
          0.3628204572615527,
          -0.7162502710553341,
          0.20159781144352468,
          1.174429020552275,
          0.33680605899192556,
          0.0010748080681398,
          0.21273703191410445,
          -0.41517069835622644,
          -0.47337529550772295,
          -0.7997484040219669,
          0.5605253960078059,
          -0.519093218494026,
          -1.0917843957121398,
          0.028270921008889675,
          -0.9263203037307036,
          0.39938365280739996,
          0.7124381532708798,
          -0.5767365743005671,
          -0.4742611740822348,
          -0.544323107240254,
          -1.3629496323219978,
          -0.39847022691717265,
          2.4226230034901057,
          0.7293777722596197,
          -1.243503427289567,
          0.6749698952300124,
          0.27255756945254317,
          -1.1687596513932523,
          0.9852646843550201,
          0.015395835061508855,
          -0.4629241200126271,
          -0.12070748960238593,
          0.549649657056383,
          -1.3574733066225821,
          -0.5626865720627454,
          -0.44967177560059174,
          -0.9480599841006018,
          -0.6390086765463011,
          2.0322926441265996,
          0.40792093574367455,
          1.0234011789351882,
          2.954370898953069,
          -0.4864126742144772,
          -1.8637758863632874,
          0.25801795520270165,
          0.7475592349360095,
          2.5633991349542393,
          -0.7789086946972453,
          0.7127689799161995,
          0.16984145013748717,
          1.2738371697725124,
          -1.2669355845276484,
          2.4965905917635505,
          -0.3479142496334272,
          -0.3870301424144622,
          0.3510684449433858,
          -0.40901728585792874,
          0.3144250695112957,
          4.220936018620058,
          0.6414597099894808,
          -1.1655676882521813,
          -0.42109137138715075,
          0.00039566420217889244,
          -0.5497009394364667,
          -0.3341419756257092,
          -1.9208135211359418,
          0.16953989069288974,
          -0.32965637961060934,
          -0.6931553522346807,
          -0.21697982100940574,
          -1.0638358221160285,
          -0.24396362351387912,
          0.6303320291444346,
          1.2025315949299757,
          -0.226449284470815,
          0.142745250100615,
          -1.1380993107992812,
          0.8366563524447203,
          -0.3036282516531066,
          0.50865654229207,
          -0.21970640374371467,
          1.9361570621581774,
          0.2214762812946457,
          1.6839301603934238,
          -0.8686709471369216,
          -0.5828963746593281,
          -0.946565139783078,
          0.7480136706220809,
          -0.5483350610118849,
          -1.2378322623459357,
          0.2202705239917727,
          -0.23034367726700286,
          -0.17871835013793783,
          2.234509161277096,
          -0.31006321041759166,
          1.5963293149734032,
          -0.0465238660612629,
          -0.26800891622968154,
          -0.1891931702062008,
          -1.1314557343767084,
          1.3129048686741873,
          1.5147286744031796,
          -1.913311123075025,
          -0.6709504509376368,
          -0.1658393418531109,
          0.3082899758664802,
          1.5214987119396246,
          -1.9009383550679475,
          0.0900760247930258,
          -0.8157936467082472,
          0.19846925367821372,
          0.05991371388439344,
          0.3436413730903119,
          -0.716071204306448,
          -0.8016975600015768,
          0.6535412724002567,
          -1.4871310551717165,
          0.5791127293340897,
          -1.5292568249778544,
          -0.5368302233214665,
          0.10778660229078046,
          0.27557610232974233,
          -0.6217158417678842,
          0.8438904682651974,
          -0.7091422962249424,
          0.22628476682213264,
          -0.6000220699513158,
          -0.61078253400767,
          1.9798898204587179,
          -0.30846707051143313,
          -0.10401924167193627,
          1.582821334460305,
          0.7363734906682182,
          -0.0004005372477404396,
          0.8870103571353103,
          0.9171014307401003,
          -0.6990135513278505,
          0.44637331545877124,
          0.3897806794294168,
          -0.07150321279110895,
          0.6836422795868824,
          -0.8425092043753889,
          -0.3482805936449888,
          -0.48581812861560203,
          -0.8841441378285984,
          -0.3045603122261578,
          -1.3571922963290475,
          4.878935263993669,
          1.6314865773273526,
          -0.113028404132763,
          -0.34034575467640094,
          -0.648712457385741,
          2.194106676476195,
          1.0228855317009775,
          0.5660674564948481,
          0.14171807469309627,
          1.3623219084767528,
          0.664454569592781,
          0.8913939279003897,
          0.046566477204139416,
          -0.8510395744820662,
          -0.7190632153190772,
          0.07576221369973583,
          1.6171731192198622,
          -0.19923817113223619,
          0.8366563524447208,
          2.6046315932288153,
          0.8144056199351947,
          -1.961846458714655,
          -1.1065204970942402,
          0.058833661960534654,
          -1.1428990473099603,
          0.5326673373872465,
          -0.7296011520373675,
          -0.1770487412569733,
          0.6303320291444343,
          0.239929056022122,
          -0.061262069062154055,
          0.9357998935705412,
          -0.21784507318631646,
          0.11261183657451622,
          -0.425545804246133,
          -1.6078832569803416,
          -0.7403729622176144,
          -1.1607091336733295,
          -1.0379944486107564,
          -0.36628185058035717,
          -1.1216582787441243,
          -0.3879802467961085,
          4.856436876081138,
          0.7832057610254629,
          -1.0126840805493897,
          0.12923411589987213,
          -1.4868773765758567,
          0.2195139874431305,
          -0.7931082163696089,
          1.0270919566289747,
          -0.14877564127806645,
          -2.1159228790775924,
          -0.3332641536613456,
          -0.5016442723039725,
          -0.10035556424869206,
          -0.7840968478837331,
          -0.5804333912335432,
          0.09615668659654375,
          0.2830836740770114,
          0.3698210588448127,
          -1.2713943041985372,
          -0.27525769872999806,
          -0.7464607333255199,
          1.913962955527305,
          -1.336839356509165,
          -1.395758056804672,
          -0.05290366324678927,
          -1.0319840793676196,
          0.4269875279629854,
          0.18691764487270504,
          -0.6519481555623142,
          0.9963401126151412,
          -1.476523684873012,
          0.44495108040051096,
          0.9809702949395576,
          -0.4469031409761642,
          0.6083991913298479,
          -0.24893688020894197
         ],
         "z": [
          -0.4252995750005393,
          8.693488273479323,
          -0.5374398410244665,
          0.5606671562329036,
          -0.41616799602990523,
          0.34766526712736956,
          0.6444631316541789,
          -0.35586912752973365,
          -0.37574666920478217,
          0.31656417844119517,
          -0.30459400699923245,
          0.006855996844365473,
          -0.42280367879511516,
          0.5993107650732957,
          0.1997381605865619,
          -0.025423560163442445,
          0.891318448038066,
          -0.3156085047531547,
          -0.6581041631024758,
          0.02695296551931692,
          -0.5322878592584425,
          -0.27464559969540703,
          0.8164716171850499,
          -0.7161209054218942,
          -0.38911270635235384,
          -0.2600194691803281,
          0.34766526712736956,
          -0.5725303763382034,
          0.02159639494430587,
          0.4107134985998494,
          0.27013529938372777,
          -0.3645504482566195,
          -0.02261686329185073,
          -0.74410015249711,
          -0.13962671861011,
          0.11982925196747465,
          -0.5958398232520651,
          0.014655683208122525,
          0.9787999217005654,
          -0.7132954791656108,
          0.7215549377197976,
          -0.16498866291544267,
          -0.40897344563359855,
          0.0005544030267201961,
          -0.3261302782453481,
          -0.7730571926498895,
          -0.3046577946962145,
          -0.48029930349385813,
          0.016130530008328998,
          -0.4505266563076847,
          -0.8225291082919715,
          -0.40334216402715706,
          -0.4984814356244191,
          -0.1508366635527456,
          -0.27081033318187825,
          1.421173713198951,
          0.25923846203250817,
          0.6030843820936587,
          -0.4046382944480983,
          -0.08353757734489059,
          -0.12617881894187818,
          -0.6597085436217427,
          -0.8772002854711128,
          0.4573440052870117,
          -0.08320970844222168,
          -0.4328219380682209,
          0.20558210154874043,
          0.665826384821095,
          0.4449142582681968,
          -0.002170109307342674,
          0.7148206602273105,
          -0.3002678117494351,
          -0.2755427619294676,
          0.832740488441681,
          -0.3220630072685416,
          0.2725569412275795,
          -0.5826451145657939,
          -0.8257880302778662,
          0.3316431412134431,
          0.12603725635697224,
          0.09669605152873832,
          0.37853597776670384,
          -0.5912955372686836,
          -0.5034316937346586,
          -0.32434222198411056,
          -1.272842283342019,
          0.3045283549457195,
          -0.6159718072506795,
          -0.011737412782292527,
          -0.4315895028650631,
          -0.06858303922047164,
          -1.3517549752487559,
          -0.4918603780501908,
          -0.502206321492152,
          -0.6256553433410986,
          -0.24982875252803577,
          -0.49384290821857074,
          -1.1350637802088037,
          0.9247356578521674,
          -0.06495035946222386,
          -0.057697909660048334,
          0.2604701587550239,
          -0.5714173431270806,
          -0.011303943094806689,
          -0.1517805827090385,
          -0.7569509231107707,
          -0.404878619511877,
          -0.08111411000464311,
          -0.13767776919189698,
          0.001807433720551345,
          0.35545606505435856,
          -0.3327515955977324,
          -0.47087775853967095,
          0.7356013329902492,
          -0.9344016126001506,
          0.6247523222265332,
          0.42230579494452536,
          -0.06326877340900908,
          0.10175578539993431,
          -0.19537895487541587,
          0.27979343958024216,
          0.3212298370676167,
          -0.12833716508058646,
          0.38966672755873943,
          2.930056585657171,
          -0.07701447309104324,
          3.5277666162654313,
          0.3530779056763284,
          -0.8060467892243093,
          0.20691521884808622,
          0.4648687218521898,
          -0.17309445949252153,
          0.13140585439836938,
          -0.72500162247804,
          0.45239766852137886,
          -0.3322151407843528,
          -0.5829883373064165,
          -0.8039235870091418,
          -0.554725312412231,
          0.1991349761939543,
          -0.6246117864043862,
          0.22473170094743306,
          1.0289897846999592,
          -0.4478015563052086,
          -0.6922018211074288,
          -0.20327592569191666,
          -0.4363481992944491,
          0.5012049643943657,
          -0.9349722385070738,
          -0.3261302782453481,
          0.02333443982949109,
          -0.01659197355433421,
          0.34766526712736956,
          -0.25390783649945114,
          0.2998442388422182,
          0.2320850081436291,
          -0.3902464122877541,
          0.21652041000214686,
          0.2993070970133215,
          -0.10331084683455401,
          -0.6201630486931199,
          -0.3869925465578674,
          0.13257893157766246,
          -0.7309485641246345,
          -0.14733652248586707,
          -0.4544855821393381,
          -0.21404950932940228,
          -0.560010778663796,
          -0.9247371882176464,
          -0.699583266971085,
          -0.6167800835998893,
          -0.4543620592987745,
          0.1691492804557032,
          -0.38979941671645935,
          0.2426231373663836,
          0.015312182726877762,
          0.11038415328060035,
          2.005433717410322,
          -0.36256510127780944,
          -0.408376755890217,
          -0.745939906404159,
          0.5495292691255773,
          -0.2360434261215638,
          -0.7304397775683951,
          0.6215794219475288,
          -1.0455560277504774,
          0.40618000395297843,
          -0.4637726550287178,
          1.3122194421959323,
          -0.6783702126773558,
          -1.1462818730324036,
          0.7435977575156724,
          0.5962269838930913,
          0.03244409926334786,
          -0.43752751549883145,
          0.14335877575800518,
          -1.065325935108676,
          -0.41366948602987125,
          0.14776841955250655,
          -0.04250443043260761,
          0.07890549746928098,
          -0.02854073901818062,
          -0.5048287177925068,
          -0.25858620974623303,
          0.8712750483020207,
          0.11973868391814181,
          0.9152509862606021,
          0.0031788043297872417,
          -0.3481409230482266,
          0.5767009330621684,
          0.594835062067086,
          -0.4074341499396166,
          -0.470288379924672,
          -1.131489969607354,
          -0.679546467642618,
          -0.8514003560077835,
          0.27347373778178663,
          -0.7743746701672092,
          -0.6700200930574546,
          -0.4505255920896742,
          -0.11320707126039618,
          -0.32626644861305926,
          -0.543839530630203,
          -0.4092457704444256,
          0.15395243816152418,
          -0.4564412453997815,
          -0.48516971842963225,
          0.5472243336478028,
          0.4215613938941228,
          3.9120569356928963,
          1.5774561308023483,
          3.2460529158195413,
          -0.4338731478610543,
          -0.7271149102083395,
          0.3286733226777049,
          -0.6392223413799258,
          0.12852826464125916,
          -0.8536443969816484,
          0.181685285117092,
          -0.6486405580274784,
          0.34766526712736906,
          -0.7414905244117508,
          -0.18912409070277572,
          0.409417067274473,
          2.456552390578633,
          0.018143299355521548,
          -0.6140427659393922,
          -0.0305652338097734,
          0.811232947254449,
          -0.8577755149697758,
          0.5012049643943662,
          -0.622047787504809,
          0.3884347265931748,
          0.568474050015277,
          -0.22790696919551928,
          0.38951786796826504,
          -0.21330827982065562,
          -0.18170055450260425,
          0.3758773603663493,
          -0.3188197671698336,
          -0.27152599008776707,
          0.0220059608844589,
          -0.24397004495717636,
          0.17673579637165496,
          -1.429683671221075,
          -0.12046088321506818,
          -0.157564439852124,
          0.22413323246210876,
          -0.32643569362602665,
          0.13320247075133176,
          0.12756186598176267,
          -0.48808955552522737,
          -0.8650043266644082,
          0.33968443517416996,
          -0.49922913943450203,
          -0.6463235949347619,
          -0.42724142551497657,
          -0.29396361614232713,
          -0.08176771859917427,
          -0.6134760773162756,
          -0.27967090375927667,
          0.606817230736798,
          -0.48478821773970543,
          -0.30187500045262755,
          0.717904154237836,
          -0.20895425444348478,
          0.2519399340159628,
          -0.12437834138726324,
          -0.6996495604243542,
          -0.33475155277927154,
          -0.1325072402688234,
          0.4645234248150979,
          -0.6013365477829506,
          -0.13801395075068762,
          -0.21170675247930176,
          4.229335713721385,
          1.766786339198241,
          -0.49269593090147573,
          6.3823984534022555,
          -0.4764991095336757
         ]
        }
       ],
       "layout": {
        "coloraxis": {
         "colorbar": {
          "title": {
           "text": "color"
          }
         },
         "colorscale": [
          [
           0,
           "#0d0887"
          ],
          [
           0.1111111111111111,
           "#46039f"
          ],
          [
           0.2222222222222222,
           "#7201a8"
          ],
          [
           0.3333333333333333,
           "#9c179e"
          ],
          [
           0.4444444444444444,
           "#bd3786"
          ],
          [
           0.5555555555555556,
           "#d8576b"
          ],
          [
           0.6666666666666666,
           "#ed7953"
          ],
          [
           0.7777777777777778,
           "#fb9f3a"
          ],
          [
           0.8888888888888888,
           "#fdca26"
          ],
          [
           1,
           "#f0f921"
          ]
         ]
        },
        "legend": {
         "tracegroupgap": 0
        },
        "margin": {
         "t": 60
        },
        "scene": {
         "domain": {
          "x": [
           0,
           1
          ],
          "y": [
           0,
           1
          ]
         },
         "xaxis": {
          "title": {
           "text": "x"
          }
         },
         "yaxis": {
          "title": {
           "text": "y"
          }
         },
         "zaxis": {
          "title": {
           "text": "z"
          }
         }
        },
        "template": {
         "data": {
          "bar": [
           {
            "error_x": {
             "color": "#2a3f5f"
            },
            "error_y": {
             "color": "#2a3f5f"
            },
            "marker": {
             "line": {
              "color": "#E5ECF6",
              "width": 0.5
             }
            },
            "type": "bar"
           }
          ],
          "barpolar": [
           {
            "marker": {
             "line": {
              "color": "#E5ECF6",
              "width": 0.5
             }
            },
            "type": "barpolar"
           }
          ],
          "carpet": [
           {
            "aaxis": {
             "endlinecolor": "#2a3f5f",
             "gridcolor": "white",
             "linecolor": "white",
             "minorgridcolor": "white",
             "startlinecolor": "#2a3f5f"
            },
            "baxis": {
             "endlinecolor": "#2a3f5f",
             "gridcolor": "white",
             "linecolor": "white",
             "minorgridcolor": "white",
             "startlinecolor": "#2a3f5f"
            },
            "type": "carpet"
           }
          ],
          "choropleth": [
           {
            "colorbar": {
             "outlinewidth": 0,
             "ticks": ""
            },
            "type": "choropleth"
           }
          ],
          "contour": [
           {
            "colorbar": {
             "outlinewidth": 0,
             "ticks": ""
            },
            "colorscale": [
             [
              0,
              "#0d0887"
             ],
             [
              0.1111111111111111,
              "#46039f"
             ],
             [
              0.2222222222222222,
              "#7201a8"
             ],
             [
              0.3333333333333333,
              "#9c179e"
             ],
             [
              0.4444444444444444,
              "#bd3786"
             ],
             [
              0.5555555555555556,
              "#d8576b"
             ],
             [
              0.6666666666666666,
              "#ed7953"
             ],
             [
              0.7777777777777778,
              "#fb9f3a"
             ],
             [
              0.8888888888888888,
              "#fdca26"
             ],
             [
              1,
              "#f0f921"
             ]
            ],
            "type": "contour"
           }
          ],
          "contourcarpet": [
           {
            "colorbar": {
             "outlinewidth": 0,
             "ticks": ""
            },
            "type": "contourcarpet"
           }
          ],
          "heatmap": [
           {
            "colorbar": {
             "outlinewidth": 0,
             "ticks": ""
            },
            "colorscale": [
             [
              0,
              "#0d0887"
             ],
             [
              0.1111111111111111,
              "#46039f"
             ],
             [
              0.2222222222222222,
              "#7201a8"
             ],
             [
              0.3333333333333333,
              "#9c179e"
             ],
             [
              0.4444444444444444,
              "#bd3786"
             ],
             [
              0.5555555555555556,
              "#d8576b"
             ],
             [
              0.6666666666666666,
              "#ed7953"
             ],
             [
              0.7777777777777778,
              "#fb9f3a"
             ],
             [
              0.8888888888888888,
              "#fdca26"
             ],
             [
              1,
              "#f0f921"
             ]
            ],
            "type": "heatmap"
           }
          ],
          "heatmapgl": [
           {
            "colorbar": {
             "outlinewidth": 0,
             "ticks": ""
            },
            "colorscale": [
             [
              0,
              "#0d0887"
             ],
             [
              0.1111111111111111,
              "#46039f"
             ],
             [
              0.2222222222222222,
              "#7201a8"
             ],
             [
              0.3333333333333333,
              "#9c179e"
             ],
             [
              0.4444444444444444,
              "#bd3786"
             ],
             [
              0.5555555555555556,
              "#d8576b"
             ],
             [
              0.6666666666666666,
              "#ed7953"
             ],
             [
              0.7777777777777778,
              "#fb9f3a"
             ],
             [
              0.8888888888888888,
              "#fdca26"
             ],
             [
              1,
              "#f0f921"
             ]
            ],
            "type": "heatmapgl"
           }
          ],
          "histogram": [
           {
            "marker": {
             "colorbar": {
              "outlinewidth": 0,
              "ticks": ""
             }
            },
            "type": "histogram"
           }
          ],
          "histogram2d": [
           {
            "colorbar": {
             "outlinewidth": 0,
             "ticks": ""
            },
            "colorscale": [
             [
              0,
              "#0d0887"
             ],
             [
              0.1111111111111111,
              "#46039f"
             ],
             [
              0.2222222222222222,
              "#7201a8"
             ],
             [
              0.3333333333333333,
              "#9c179e"
             ],
             [
              0.4444444444444444,
              "#bd3786"
             ],
             [
              0.5555555555555556,
              "#d8576b"
             ],
             [
              0.6666666666666666,
              "#ed7953"
             ],
             [
              0.7777777777777778,
              "#fb9f3a"
             ],
             [
              0.8888888888888888,
              "#fdca26"
             ],
             [
              1,
              "#f0f921"
             ]
            ],
            "type": "histogram2d"
           }
          ],
          "histogram2dcontour": [
           {
            "colorbar": {
             "outlinewidth": 0,
             "ticks": ""
            },
            "colorscale": [
             [
              0,
              "#0d0887"
             ],
             [
              0.1111111111111111,
              "#46039f"
             ],
             [
              0.2222222222222222,
              "#7201a8"
             ],
             [
              0.3333333333333333,
              "#9c179e"
             ],
             [
              0.4444444444444444,
              "#bd3786"
             ],
             [
              0.5555555555555556,
              "#d8576b"
             ],
             [
              0.6666666666666666,
              "#ed7953"
             ],
             [
              0.7777777777777778,
              "#fb9f3a"
             ],
             [
              0.8888888888888888,
              "#fdca26"
             ],
             [
              1,
              "#f0f921"
             ]
            ],
            "type": "histogram2dcontour"
           }
          ],
          "mesh3d": [
           {
            "colorbar": {
             "outlinewidth": 0,
             "ticks": ""
            },
            "type": "mesh3d"
           }
          ],
          "parcoords": [
           {
            "line": {
             "colorbar": {
              "outlinewidth": 0,
              "ticks": ""
             }
            },
            "type": "parcoords"
           }
          ],
          "pie": [
           {
            "automargin": true,
            "type": "pie"
           }
          ],
          "scatter": [
           {
            "marker": {
             "colorbar": {
              "outlinewidth": 0,
              "ticks": ""
             }
            },
            "type": "scatter"
           }
          ],
          "scatter3d": [
           {
            "line": {
             "colorbar": {
              "outlinewidth": 0,
              "ticks": ""
             }
            },
            "marker": {
             "colorbar": {
              "outlinewidth": 0,
              "ticks": ""
             }
            },
            "type": "scatter3d"
           }
          ],
          "scattercarpet": [
           {
            "marker": {
             "colorbar": {
              "outlinewidth": 0,
              "ticks": ""
             }
            },
            "type": "scattercarpet"
           }
          ],
          "scattergeo": [
           {
            "marker": {
             "colorbar": {
              "outlinewidth": 0,
              "ticks": ""
             }
            },
            "type": "scattergeo"
           }
          ],
          "scattergl": [
           {
            "marker": {
             "colorbar": {
              "outlinewidth": 0,
              "ticks": ""
             }
            },
            "type": "scattergl"
           }
          ],
          "scattermapbox": [
           {
            "marker": {
             "colorbar": {
              "outlinewidth": 0,
              "ticks": ""
             }
            },
            "type": "scattermapbox"
           }
          ],
          "scatterpolar": [
           {
            "marker": {
             "colorbar": {
              "outlinewidth": 0,
              "ticks": ""
             }
            },
            "type": "scatterpolar"
           }
          ],
          "scatterpolargl": [
           {
            "marker": {
             "colorbar": {
              "outlinewidth": 0,
              "ticks": ""
             }
            },
            "type": "scatterpolargl"
           }
          ],
          "scatterternary": [
           {
            "marker": {
             "colorbar": {
              "outlinewidth": 0,
              "ticks": ""
             }
            },
            "type": "scatterternary"
           }
          ],
          "surface": [
           {
            "colorbar": {
             "outlinewidth": 0,
             "ticks": ""
            },
            "colorscale": [
             [
              0,
              "#0d0887"
             ],
             [
              0.1111111111111111,
              "#46039f"
             ],
             [
              0.2222222222222222,
              "#7201a8"
             ],
             [
              0.3333333333333333,
              "#9c179e"
             ],
             [
              0.4444444444444444,
              "#bd3786"
             ],
             [
              0.5555555555555556,
              "#d8576b"
             ],
             [
              0.6666666666666666,
              "#ed7953"
             ],
             [
              0.7777777777777778,
              "#fb9f3a"
             ],
             [
              0.8888888888888888,
              "#fdca26"
             ],
             [
              1,
              "#f0f921"
             ]
            ],
            "type": "surface"
           }
          ],
          "table": [
           {
            "cells": {
             "fill": {
              "color": "#EBF0F8"
             },
             "line": {
              "color": "white"
             }
            },
            "header": {
             "fill": {
              "color": "#C8D4E3"
             },
             "line": {
              "color": "white"
             }
            },
            "type": "table"
           }
          ]
         },
         "layout": {
          "annotationdefaults": {
           "arrowcolor": "#2a3f5f",
           "arrowhead": 0,
           "arrowwidth": 1
          },
          "coloraxis": {
           "colorbar": {
            "outlinewidth": 0,
            "ticks": ""
           }
          },
          "colorscale": {
           "diverging": [
            [
             0,
             "#8e0152"
            ],
            [
             0.1,
             "#c51b7d"
            ],
            [
             0.2,
             "#de77ae"
            ],
            [
             0.3,
             "#f1b6da"
            ],
            [
             0.4,
             "#fde0ef"
            ],
            [
             0.5,
             "#f7f7f7"
            ],
            [
             0.6,
             "#e6f5d0"
            ],
            [
             0.7,
             "#b8e186"
            ],
            [
             0.8,
             "#7fbc41"
            ],
            [
             0.9,
             "#4d9221"
            ],
            [
             1,
             "#276419"
            ]
           ],
           "sequential": [
            [
             0,
             "#0d0887"
            ],
            [
             0.1111111111111111,
             "#46039f"
            ],
            [
             0.2222222222222222,
             "#7201a8"
            ],
            [
             0.3333333333333333,
             "#9c179e"
            ],
            [
             0.4444444444444444,
             "#bd3786"
            ],
            [
             0.5555555555555556,
             "#d8576b"
            ],
            [
             0.6666666666666666,
             "#ed7953"
            ],
            [
             0.7777777777777778,
             "#fb9f3a"
            ],
            [
             0.8888888888888888,
             "#fdca26"
            ],
            [
             1,
             "#f0f921"
            ]
           ],
           "sequentialminus": [
            [
             0,
             "#0d0887"
            ],
            [
             0.1111111111111111,
             "#46039f"
            ],
            [
             0.2222222222222222,
             "#7201a8"
            ],
            [
             0.3333333333333333,
             "#9c179e"
            ],
            [
             0.4444444444444444,
             "#bd3786"
            ],
            [
             0.5555555555555556,
             "#d8576b"
            ],
            [
             0.6666666666666666,
             "#ed7953"
            ],
            [
             0.7777777777777778,
             "#fb9f3a"
            ],
            [
             0.8888888888888888,
             "#fdca26"
            ],
            [
             1,
             "#f0f921"
            ]
           ]
          },
          "colorway": [
           "#636efa",
           "#EF553B",
           "#00cc96",
           "#ab63fa",
           "#FFA15A",
           "#19d3f3",
           "#FF6692",
           "#B6E880",
           "#FF97FF",
           "#FECB52"
          ],
          "font": {
           "color": "#2a3f5f"
          },
          "geo": {
           "bgcolor": "white",
           "lakecolor": "white",
           "landcolor": "#E5ECF6",
           "showlakes": true,
           "showland": true,
           "subunitcolor": "white"
          },
          "hoverlabel": {
           "align": "left"
          },
          "hovermode": "closest",
          "mapbox": {
           "style": "light"
          },
          "paper_bgcolor": "white",
          "plot_bgcolor": "#E5ECF6",
          "polar": {
           "angularaxis": {
            "gridcolor": "white",
            "linecolor": "white",
            "ticks": ""
           },
           "bgcolor": "#E5ECF6",
           "radialaxis": {
            "gridcolor": "white",
            "linecolor": "white",
            "ticks": ""
           }
          },
          "scene": {
           "xaxis": {
            "backgroundcolor": "#E5ECF6",
            "gridcolor": "white",
            "gridwidth": 2,
            "linecolor": "white",
            "showbackground": true,
            "ticks": "",
            "zerolinecolor": "white"
           },
           "yaxis": {
            "backgroundcolor": "#E5ECF6",
            "gridcolor": "white",
            "gridwidth": 2,
            "linecolor": "white",
            "showbackground": true,
            "ticks": "",
            "zerolinecolor": "white"
           },
           "zaxis": {
            "backgroundcolor": "#E5ECF6",
            "gridcolor": "white",
            "gridwidth": 2,
            "linecolor": "white",
            "showbackground": true,
            "ticks": "",
            "zerolinecolor": "white"
           }
          },
          "shapedefaults": {
           "line": {
            "color": "#2a3f5f"
           }
          },
          "ternary": {
           "aaxis": {
            "gridcolor": "white",
            "linecolor": "white",
            "ticks": ""
           },
           "baxis": {
            "gridcolor": "white",
            "linecolor": "white",
            "ticks": ""
           },
           "bgcolor": "#E5ECF6",
           "caxis": {
            "gridcolor": "white",
            "linecolor": "white",
            "ticks": ""
           }
          },
          "title": {
           "x": 0.05
          },
          "xaxis": {
           "automargin": true,
           "gridcolor": "white",
           "linecolor": "white",
           "ticks": "",
           "title": {
            "standoff": 15
           },
           "zerolinecolor": "white",
           "zerolinewidth": 2
          },
          "yaxis": {
           "automargin": true,
           "gridcolor": "white",
           "linecolor": "white",
           "ticks": "",
           "title": {
            "standoff": 15
           },
           "zerolinecolor": "white",
           "zerolinewidth": 2
          }
         }
        }
       }
      }
     },
     "metadata": {}
    }
   ],
   "source": [
    "# 3D\n",
    "pca3 = PCA(n_components=3)\n",
    "tr3 = pca3.fit_transform(X[:,:-1])\n",
    "\n",
    "fig = px.scatter_3d(tr3, x=tr3[:,0], y=tr3[:,1], z=tr3[:,2], color=X[:,-1])\n",
    "fig.show()"
   ]
  },
  {
   "cell_type": "code",
   "execution_count": null,
   "metadata": {},
   "outputs": [],
   "source": []
  }
 ],
 "metadata": {
  "language_info": {
   "codemirror_mode": {
    "name": "ipython",
    "version": 3
   },
   "file_extension": ".py",
   "mimetype": "text/x-python",
   "name": "python",
   "nbconvert_exporter": "python",
   "pygments_lexer": "ipython3",
   "version": "3.7.4-final"
  },
  "orig_nbformat": 2,
  "kernelspec": {
   "name": "python37464bitbaseconda4b7668ab7e68468d80b21b4a2524d1d7",
   "display_name": "Python 3.7.4 64-bit ('base': conda)"
  }
 },
 "nbformat": 4,
 "nbformat_minor": 2
}