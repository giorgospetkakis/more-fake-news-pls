{
 "cells": [
  {
   "cell_type": "code",
   "execution_count": 38,
   "metadata": {},
   "outputs": [],
   "source": [
    "import data\n",
    "import spacy\n",
    "import jsonpickle\n",
    "from utils import go_to_project_root\n",
    "\n",
    "def process_tweets():\n",
    "\n",
    "\t'''\n",
    "\tCurrently just a function to call with no parameters.\n",
    "\tReturns a dictionary of authors as defined in data.py with spacy-obtained attributes added.\n",
    "\tWill hopefully update so we can save this into a JSON for quicker access. Is somewhat verbose.\n",
    "\tTakes time. Please expect to spend a few minutes processing the data. \n",
    "\t'''\n",
    "\n",
    "\tprint('Loading authors')\n",
    "\tnlp = spacy.load(\"en_core_web_sm\")\n",
    "\tauthors = data.get_raw_data('en')\n",
    "\tprint('Authors loaded.')\n",
    "\n",
    "\t# We don't want the url and hashtag denoters to be in this data collection\n",
    "\tignore = ['URL', 'HASHTAG']\n",
    "\n",
    "\tprint('Processing author data')\n",
    "\n",
    "\t# So we can save easier later.\n",
    "\tgo_to_project_root()\n",
    "\t# Go through each author\n",
    "\tfor author in authors.keys():\n",
    "\t\t# Pipe to go through the documents faster\n",
    "\t\tfor tweet in nlp.pipe(authors[author].tweets, disable=['parser']):\n",
    "\n",
    "\t\t\t#Named entity recognition\n",
    "\t\t\tauthors[author].ents.append(list(tweet.ents))\n",
    "\n",
    "\t\t\t#Collect and save tags\n",
    "\t\t\ttags = []\n",
    "\t\t\ttags.append(token.pos_ for token in tweet if token.text not in ignore)\n",
    "\t\t\tauthors[author].POS_tags.append(tags)\n",
    "\n",
    "\t\t\t# Collect only the lemma form of the words. Only words with only alpha characters kept.\n",
    "\t\t\tlemmas = []\n",
    "\t\t\tlemmas.append([token.lemma_.lower() for token in tweet if (token.is_alpha and (token.text not in ignore))])\n",
    "\t\t\tauthors[author].clean.append(\" \".join(lemmas[0]))\n",
    "\n",
    "\tprint('Data processed and saved')\n",
    "\treturn(authors)\n",
    "\n",
    "\n",
    "# # To compare noun chunking vs named entity recognition.\n",
    "# print([chunk.text for chunk in nlp(authors['06ct0t68y1acizh9eow3g5rhancrppr8'].tweets[9]).noun_chunks])\n",
    "# print([ent.label_ for ent in nlp(authors['06ct0t68y1acizh9eow3g5rhancrppr8'].tweets[9]).ents])"
   ]
  },
  {
   "cell_type": "code",
   "execution_count": null,
   "metadata": {},
   "outputs": [],
   "source": [
    "authors = process_tweets()\n",
    "\n",
    "# Now save into the JSON file. This doesn't work right now. Will work on it.\n",
    "with open(f\"data/processed/{authors[author].author_id}.json\", \"w\") as file:\n",
    "    file.writelines(jsonpickle.encode(author, unpicklable=False))\n",
    "    file.close()\n",
    "break"
   ]
  }
 ],
 "metadata": {
  "language_info": {
   "codemirror_mode": {
    "name": "ipython",
    "version": 3
   },
   "file_extension": ".py",
   "mimetype": "text/x-python",
   "name": "python",
   "nbconvert_exporter": "python",
   "pygments_lexer": "ipython3",
   "version": "3.7.4-final"
  },
  "orig_nbformat": 2,
  "kernelspec": {
   "name": "python37464bitbaseconda4b7668ab7e68468d80b21b4a2524d1d7",
   "display_name": "Python 3.7.4 64-bit ('base': conda)"
  }
 },
 "nbformat": 4,
 "nbformat_minor": 2
}