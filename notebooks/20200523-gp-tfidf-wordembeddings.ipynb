{
 "cells": [
  {
   "cell_type": "code",
   "execution_count": 1,
   "metadata": {},
   "outputs": [],
   "source": [
    "import data\n",
    "import spacy\n",
    "import numpy as np\n",
    "from sklearn import manifold\n",
    "import matplotlib.pyplot as plt\n",
    "from sklearn.decomposition import PCA\n",
    "\n",
    "from gensim.corpora import Dictionary\n",
    "from gensim.models.tfidfmodel import TfidfModel\n",
    "from gensim.matutils import sparse2full\n",
    "\n",
    "nlp  = spacy.load('en_core_web_md')"
   ]
  },
  {
   "cell_type": "code",
   "execution_count": 100,
   "metadata": {},
   "outputs": [],
   "source": [
    "def keep_token(t):\n",
    "    return (t.is_alpha and \n",
    "            not (t.is_space or t.is_punct or \n",
    "                 t.is_stop or t.like_num))\n",
    "\n",
    "def lemmatize_doc(doc):\n",
    "    return [ t.lemma_ for t in doc if keep_token(t)]\n",
    "from gensim.models import Phrases\n",
    "from gensim.models.word2vec import LineSentence\n",
    "def build_phrases(sentences):\n",
    "    phrases = Phrases(sentences,\n",
    "                      min_count=5,\n",
    "                      threshold=7,\n",
    "                      progress_per=1000)\n",
    "    return Phraser(phrases)"
   ]
  },
  {
   "cell_type": "code",
   "execution_count": 101,
   "metadata": {},
   "outputs": [],
   "source": [
    "phrases_model = build_phrases(docs)"
   ]
  },
  {
   "cell_type": "code",
   "execution_count": 102,
   "metadata": {},
   "outputs": [
    {
     "output_type": "execute_result",
     "data": {
      "text/plain": "<gensim.models.phrases.Phraser at 0x7fb94ab49d50>"
     },
     "metadata": {},
     "execution_count": 102
    }
   ],
   "source": [
    "phrases_model"
   ]
  },
  {
   "cell_type": "code",
   "execution_count": 56,
   "metadata": {},
   "outputs": [],
   "source": [
    "auths = data.get_processed_data()\n",
    "docs = [lemmatize_doc(nlp(\" \".join(auth.clean))) for auth in list(auths.values())]\n",
    "\n",
    "docs_dict = Dictionary(docs)\n",
    "docs_dict.filter_extremes(no_below=20, no_above=0.2)\n",
    "docs_dict.compactify()\n",
    "\n",
    "docs_corpus = [docs_dict.doc2bow(doc) for doc in docs]\n",
    "model_tfidf = TfidfModel(docs_corpus, id2word=docs_dict)\n",
    "docs_tfidf  = model_tfidf[docs_corpus]\n",
    "docs_vecs   = np.vstack([sparse2full(c, len(docs_dict)) for c in docs_tfidf])\n",
    "\n",
    "tfidf_emb_vecs = np.vstack([nlp(docs_dict[i]).vector for i in range(len(docs_dict))])\n",
    "\n",
    "docs_emb = np.dot(docs_vecs, tfidf_emb_vecs) \n",
    "xtrain = docs_emb[:200]\n",
    "xtest = docs_emb[200:]\n",
    "\n",
    "y = np.array([author.truth for author in list(auths.values())])\n",
    "ytrain = y[:200]\n",
    "ytest = y[200:]"
   ]
  },
  {
   "cell_type": "code",
   "execution_count": 80,
   "metadata": {},
   "outputs": [
    {
     "output_type": "stream",
     "name": "stdout",
     "text": "0.34 0.39\n0.34 0.39\n0.345 0.4\n0.34 0.41\n0.34 0.4\n0.34 0.4\n0.335 0.42\n0.335 0.4\n0.335 0.4\n0.335 0.41\n0.335 0.41\n0.335 0.41\n0.335 0.41\n0.335 0.41\n0.335 0.41\n0.335 0.41\n0.335 0.41\n0.335 0.41\n0.335 0.41\n0.335 0.41\n0.335 0.41\n0.335 0.41\n0.335 0.41\n0.335 0.41\n0.335 0.41\n0.335 0.41\n0.335 0.41\n0.335 0.41\n0.335 0.41\n0.335 0.41\n0.335 0.41\n0.335 0.41\n0.335 0.41\n0.335 0.41\n0.335 0.41\n0.335 0.41\n0.335 0.41\n0.335 0.41\n0.335 0.41\n0.335 0.41\n0.335 0.41\n0.335 0.41\n0.335 0.41\n0.335 0.41\n0.335 0.41\n0.335 0.41\n0.335 0.41\n0.335 0.41\n0.335 0.41\n0.335 0.41\n0.335 0.41\n0.335 0.41\n0.335 0.41\n0.335 0.41\n0.335 0.41\n0.335 0.41\n0.335 0.41\n0.335 0.41\n0.335 0.41\n0.335 0.41\n0.335 0.41\n0.335 0.41\n0.335 0.41\n0.335 0.41\n0.335 0.41\n0.335 0.41\n0.335 0.41\n0.335 0.41\n0.335 0.41\n0.335 0.41\n0.335 0.41\n0.335 0.41\n0.335 0.41\n0.335 0.41\n0.335 0.41\n0.335 0.41\n0.335 0.41\n0.335 0.41\n0.335 0.41\n0.335 0.41\n"
    },
    {
     "output_type": "error",
     "ename": "KeyboardInterrupt",
     "evalue": "",
     "traceback": [
      "\u001b[0;31m---------------------------------------------------------------------------\u001b[0m",
      "\u001b[0;31mKeyboardInterrupt\u001b[0m                         Traceback (most recent call last)",
      "\u001b[0;32m<ipython-input-80-579961f09217>\u001b[0m in \u001b[0;36m<module>\u001b[0;34m\u001b[0m\n\u001b[1;32m      9\u001b[0m \u001b[0;34m\u001b[0m\u001b[0m\n\u001b[1;32m     10\u001b[0m     \u001b[0mtsne\u001b[0m \u001b[0;34m=\u001b[0m \u001b[0mmanifold\u001b[0m\u001b[0;34m.\u001b[0m\u001b[0mTSNE\u001b[0m\u001b[0;34m(\u001b[0m\u001b[0;34m)\u001b[0m\u001b[0;34m\u001b[0m\u001b[0;34m\u001b[0m\u001b[0m\n\u001b[0;32m---> 11\u001b[0;31m     \u001b[0mviz\u001b[0m \u001b[0;34m=\u001b[0m \u001b[0mtsne\u001b[0m\u001b[0;34m.\u001b[0m\u001b[0mfit_transform\u001b[0m\u001b[0;34m(\u001b[0m\u001b[0mdocs_pca\u001b[0m\u001b[0;34m)\u001b[0m\u001b[0;34m\u001b[0m\u001b[0;34m\u001b[0m\u001b[0m\n\u001b[0m\u001b[1;32m     12\u001b[0m \u001b[0;34m\u001b[0m\u001b[0m\n\u001b[1;32m     13\u001b[0m     \u001b[0minit\u001b[0m \u001b[0;34m=\u001b[0m \u001b[0mnp\u001b[0m\u001b[0;34m.\u001b[0m\u001b[0marray\u001b[0m\u001b[0;34m(\u001b[0m\u001b[0;34m[\u001b[0m\u001b[0mxtrain\u001b[0m\u001b[0;34m[\u001b[0m\u001b[0;36m1\u001b[0m\u001b[0;34m]\u001b[0m\u001b[0;34m,\u001b[0m \u001b[0mxtrain\u001b[0m\u001b[0;34m[\u001b[0m\u001b[0;36m0\u001b[0m\u001b[0;34m]\u001b[0m\u001b[0;34m]\u001b[0m\u001b[0;34m)\u001b[0m\u001b[0;34m\u001b[0m\u001b[0;34m\u001b[0m\u001b[0m\n",
      "\u001b[0;32m~/opt/anaconda3/lib/python3.7/site-packages/sklearn/manifold/t_sne.py\u001b[0m in \u001b[0;36mfit_transform\u001b[0;34m(self, X, y)\u001b[0m\n\u001b[1;32m    893\u001b[0m             \u001b[0mEmbedding\u001b[0m \u001b[0mof\u001b[0m \u001b[0mthe\u001b[0m \u001b[0mtraining\u001b[0m \u001b[0mdata\u001b[0m \u001b[0;32min\u001b[0m \u001b[0mlow\u001b[0m\u001b[0;34m-\u001b[0m\u001b[0mdimensional\u001b[0m \u001b[0mspace\u001b[0m\u001b[0;34m.\u001b[0m\u001b[0;34m\u001b[0m\u001b[0;34m\u001b[0m\u001b[0m\n\u001b[1;32m    894\u001b[0m         \"\"\"\n\u001b[0;32m--> 895\u001b[0;31m         \u001b[0membedding\u001b[0m \u001b[0;34m=\u001b[0m \u001b[0mself\u001b[0m\u001b[0;34m.\u001b[0m\u001b[0m_fit\u001b[0m\u001b[0;34m(\u001b[0m\u001b[0mX\u001b[0m\u001b[0;34m)\u001b[0m\u001b[0;34m\u001b[0m\u001b[0;34m\u001b[0m\u001b[0m\n\u001b[0m\u001b[1;32m    896\u001b[0m         \u001b[0mself\u001b[0m\u001b[0;34m.\u001b[0m\u001b[0membedding_\u001b[0m \u001b[0;34m=\u001b[0m \u001b[0membedding\u001b[0m\u001b[0;34m\u001b[0m\u001b[0;34m\u001b[0m\u001b[0m\n\u001b[1;32m    897\u001b[0m         \u001b[0;32mreturn\u001b[0m \u001b[0mself\u001b[0m\u001b[0;34m.\u001b[0m\u001b[0membedding_\u001b[0m\u001b[0;34m\u001b[0m\u001b[0;34m\u001b[0m\u001b[0m\n",
      "\u001b[0;32m~/opt/anaconda3/lib/python3.7/site-packages/sklearn/manifold/t_sne.py\u001b[0m in \u001b[0;36m_fit\u001b[0;34m(self, X, skip_num_points)\u001b[0m\n\u001b[1;32m    811\u001b[0m                           \u001b[0mX_embedded\u001b[0m\u001b[0;34m=\u001b[0m\u001b[0mX_embedded\u001b[0m\u001b[0;34m,\u001b[0m\u001b[0;34m\u001b[0m\u001b[0;34m\u001b[0m\u001b[0m\n\u001b[1;32m    812\u001b[0m                           \u001b[0mneighbors\u001b[0m\u001b[0;34m=\u001b[0m\u001b[0mneighbors_nn\u001b[0m\u001b[0;34m,\u001b[0m\u001b[0;34m\u001b[0m\u001b[0;34m\u001b[0m\u001b[0m\n\u001b[0;32m--> 813\u001b[0;31m                           skip_num_points=skip_num_points)\n\u001b[0m\u001b[1;32m    814\u001b[0m \u001b[0;34m\u001b[0m\u001b[0m\n\u001b[1;32m    815\u001b[0m     def _tsne(self, P, degrees_of_freedom, n_samples, X_embedded,\n",
      "\u001b[0;32m~/opt/anaconda3/lib/python3.7/site-packages/sklearn/manifold/t_sne.py\u001b[0m in \u001b[0;36m_tsne\u001b[0;34m(self, P, degrees_of_freedom, n_samples, X_embedded, neighbors, skip_num_points)\u001b[0m\n\u001b[1;32m    862\u001b[0m             \u001b[0mopt_args\u001b[0m\u001b[0;34m[\u001b[0m\u001b[0;34m'n_iter_without_progress'\u001b[0m\u001b[0;34m]\u001b[0m \u001b[0;34m=\u001b[0m \u001b[0mself\u001b[0m\u001b[0;34m.\u001b[0m\u001b[0mn_iter_without_progress\u001b[0m\u001b[0;34m\u001b[0m\u001b[0;34m\u001b[0m\u001b[0m\n\u001b[1;32m    863\u001b[0m             params, kl_divergence, it = _gradient_descent(obj_func, params,\n\u001b[0;32m--> 864\u001b[0;31m                                                           **opt_args)\n\u001b[0m\u001b[1;32m    865\u001b[0m \u001b[0;34m\u001b[0m\u001b[0m\n\u001b[1;32m    866\u001b[0m         \u001b[0;31m# Save the final number of iterations\u001b[0m\u001b[0;34m\u001b[0m\u001b[0;34m\u001b[0m\u001b[0;34m\u001b[0m\u001b[0m\n",
      "\u001b[0;32m~/opt/anaconda3/lib/python3.7/site-packages/sklearn/manifold/t_sne.py\u001b[0m in \u001b[0;36m_gradient_descent\u001b[0;34m(objective, p0, it, n_iter, n_iter_check, n_iter_without_progress, momentum, learning_rate, min_gain, min_grad_norm, verbose, args, kwargs)\u001b[0m\n\u001b[1;32m    352\u001b[0m         \u001b[0mkwargs\u001b[0m\u001b[0;34m[\u001b[0m\u001b[0;34m'compute_error'\u001b[0m\u001b[0;34m]\u001b[0m \u001b[0;34m=\u001b[0m \u001b[0mcheck_convergence\u001b[0m \u001b[0;32mor\u001b[0m \u001b[0mi\u001b[0m \u001b[0;34m==\u001b[0m \u001b[0mn_iter\u001b[0m \u001b[0;34m-\u001b[0m \u001b[0;36m1\u001b[0m\u001b[0;34m\u001b[0m\u001b[0;34m\u001b[0m\u001b[0m\n\u001b[1;32m    353\u001b[0m \u001b[0;34m\u001b[0m\u001b[0m\n\u001b[0;32m--> 354\u001b[0;31m         \u001b[0merror\u001b[0m\u001b[0;34m,\u001b[0m \u001b[0mgrad\u001b[0m \u001b[0;34m=\u001b[0m \u001b[0mobjective\u001b[0m\u001b[0;34m(\u001b[0m\u001b[0mp\u001b[0m\u001b[0;34m,\u001b[0m \u001b[0;34m*\u001b[0m\u001b[0margs\u001b[0m\u001b[0;34m,\u001b[0m \u001b[0;34m**\u001b[0m\u001b[0mkwargs\u001b[0m\u001b[0;34m)\u001b[0m\u001b[0;34m\u001b[0m\u001b[0;34m\u001b[0m\u001b[0m\n\u001b[0m\u001b[1;32m    355\u001b[0m         \u001b[0mgrad_norm\u001b[0m \u001b[0;34m=\u001b[0m \u001b[0mlinalg\u001b[0m\u001b[0;34m.\u001b[0m\u001b[0mnorm\u001b[0m\u001b[0;34m(\u001b[0m\u001b[0mgrad\u001b[0m\u001b[0;34m)\u001b[0m\u001b[0;34m\u001b[0m\u001b[0;34m\u001b[0m\u001b[0m\n\u001b[1;32m    356\u001b[0m \u001b[0;34m\u001b[0m\u001b[0m\n",
      "\u001b[0;32m~/opt/anaconda3/lib/python3.7/site-packages/sklearn/manifold/t_sne.py\u001b[0m in \u001b[0;36m_kl_divergence_bh\u001b[0;34m(params, P, degrees_of_freedom, n_samples, n_components, angle, skip_num_points, verbose, compute_error)\u001b[0m\n\u001b[1;32m    256\u001b[0m                                       \u001b[0mgrad\u001b[0m\u001b[0;34m,\u001b[0m \u001b[0mangle\u001b[0m\u001b[0;34m,\u001b[0m \u001b[0mn_components\u001b[0m\u001b[0;34m,\u001b[0m \u001b[0mverbose\u001b[0m\u001b[0;34m,\u001b[0m\u001b[0;34m\u001b[0m\u001b[0;34m\u001b[0m\u001b[0m\n\u001b[1;32m    257\u001b[0m                                       \u001b[0mdof\u001b[0m\u001b[0;34m=\u001b[0m\u001b[0mdegrees_of_freedom\u001b[0m\u001b[0;34m,\u001b[0m\u001b[0;34m\u001b[0m\u001b[0;34m\u001b[0m\u001b[0m\n\u001b[0;32m--> 258\u001b[0;31m                                       compute_error=compute_error)\n\u001b[0m\u001b[1;32m    259\u001b[0m     \u001b[0mc\u001b[0m \u001b[0;34m=\u001b[0m \u001b[0;36m2.0\u001b[0m \u001b[0;34m*\u001b[0m \u001b[0;34m(\u001b[0m\u001b[0mdegrees_of_freedom\u001b[0m \u001b[0;34m+\u001b[0m \u001b[0;36m1.0\u001b[0m\u001b[0;34m)\u001b[0m \u001b[0;34m/\u001b[0m \u001b[0mdegrees_of_freedom\u001b[0m\u001b[0;34m\u001b[0m\u001b[0;34m\u001b[0m\u001b[0m\n\u001b[1;32m    260\u001b[0m     \u001b[0mgrad\u001b[0m \u001b[0;34m=\u001b[0m \u001b[0mgrad\u001b[0m\u001b[0;34m.\u001b[0m\u001b[0mravel\u001b[0m\u001b[0;34m(\u001b[0m\u001b[0;34m)\u001b[0m\u001b[0;34m\u001b[0m\u001b[0;34m\u001b[0m\u001b[0m\n",
      "\u001b[0;31mKeyboardInterrupt\u001b[0m: "
     ]
    }
   ],
   "source": [
    "from sklearn.cluster import KMeans\n",
    "from sklearn.metrics import accuracy_score\n",
    "\n",
    "test_accs = [] ; train_accs = []\n",
    "for i in range(2, 300):\n",
    "    docs_pca = PCA(n_components=i).fit_transform(docs_emb)\n",
    "    xtrain = docs_pca[:200]\n",
    "    xtest = docs_pca[200:]\n",
    "\n",
    "    tsne = manifold.TSNE()\n",
    "    viz = tsne.fit_transform(docs_pca)\n",
    "\n",
    "    init = np.array([xtrain[1], xtrain[0]])\n",
    "\n",
    "    model = KMeans(n_clusters=2, algorithm=\"full\", init=init, max_iter=9999, n_init=10)\n",
    "    model.fit(xtrain)\n",
    "\n",
    "    train_pred = model.predict(xtrain)\n",
    "    train_acc = accuracy_score(ytrain, train_pred)\n",
    "    train_accs += [train_acc]\n",
    "\n",
    "    test_pred = model.predict(xtest)\n",
    "    test_acc = accuracy_score(ytest, test_pred)\n",
    "    test_accs += [test_acc]\n",
    "\n",
    "    print(train_acc, test_acc)\n",
    "\n",
    "    # fig, ax = plt.subplots()\n",
    "    # ax.margins(0.05) \n",
    "    # zero_indices = np.where(y == 0)[0]\n",
    "    # one_indices = np.where(y == 1)[0]\n",
    "    # ax.plot(viz[zero_indices,0], viz[zero_indices,1], marker='o', linestyle='', \n",
    "    #         ms=8, alpha=0.3, label=\"Not Fake News\")\n",
    "    # ax.plot(viz[one_indices,0], viz[one_indices,1], marker='o', linestyle='', \n",
    "    #         ms=8, alpha=0.3, label=\"Fake News\")\n",
    "    # ax.legend()\n",
    "    # plt.title(f\"PCA {i}\")\n",
    "    # plt.show()\n",
    "\n",
    "plt.figure(figsize=(20,20))\n",
    "plt.plot(range(2, 300), train_accs, label=\"Training\")\n",
    "plt.plot(range(2, 300), test_accs, label=\"Testing\")\n",
    "plt.show()"
   ]
  },
  {
   "cell_type": "code",
   "execution_count": 83,
   "metadata": {},
   "outputs": [
    {
     "output_type": "execute_result",
     "data": {
      "text/plain": "array([-3.86447102e-01, -1.72147676e-02,  1.28088027e-01,  7.33549297e-02,\n        1.14122200e+00, -4.08551335e-01, -7.18038797e-01,  2.77640074e-01,\n       -5.12234628e-01,  7.80458832e+00, -1.13108957e+00, -2.09667861e-01,\n       -2.16553077e-01, -1.98100448e-01, -2.77872026e-01,  3.24287683e-01,\n        1.21844001e-01,  4.38018703e+00,  6.97849214e-01, -7.82643795e-01,\n        2.65942276e-01,  5.62826693e-01,  4.97382194e-01,  1.67652387e-02,\n       -2.73004413e-01, -6.96716666e-01, -5.24541497e-01,  5.27035594e-01,\n       -1.74810320e-01,  1.98621854e-01,  2.90647864e-01,  5.79948306e-01,\n       -4.82353643e-02, -3.11240464e-01, -1.23873286e-01, -3.21687937e-01,\n       -4.59722653e-02, -3.42020690e-01,  3.16998154e-01,  2.83069746e-03,\n        3.44794542e-01, -4.23756428e-02,  1.00050342e+00, -9.98286068e-01,\n       -2.85007153e-02, -9.48761165e-01,  5.01237094e-01, -3.10657382e-01,\n        5.66955714e-04,  7.33617544e-02, -1.74489558e-01,  5.50555468e-01,\n        9.42491516e-02,  1.37570975e-02, -1.55476615e-01,  8.75077486e-01,\n        1.30990505e-01, -1.42382458e-01, -2.77442783e-01,  2.98812747e-01,\n       -5.68221556e-03,  5.71920387e-02,  2.10348472e-01,  3.28226209e-01,\n        5.02961636e-01, -5.61667979e-02, -5.54640107e-02,  6.64851189e-01,\n        6.38454378e-01,  4.00404364e-01, -7.12479234e-01,  7.79573321e-02,\n        2.09961668e-01,  4.38292891e-01,  1.01813507e+00, -4.67329830e-01,\n       -6.85079753e-01, -4.15703475e-01, -2.06922993e-01,  5.73428459e-02,\n        1.04939604e+00,  2.28852957e-01,  6.75100684e-02,  2.89013200e-02,\n        1.47032768e-01,  2.76576132e-01,  7.97168374e-01,  6.95851028e-01,\n        4.38468575e-01,  2.07593054e-01, -9.00961086e-02,  3.09245259e-01,\n        1.15758531e-01, -1.16732383e+00,  5.95388174e-01, -6.60855845e-02,\n       -4.08049732e-01, -1.22602835e-01,  5.13437569e-01, -5.54319024e-02,\n        1.89489916e-01,  5.71528316e-01,  5.91535717e-02, -1.61539346e-01,\n        5.31874359e-01, -4.12843037e+00, -2.23145038e-01, -2.27138653e-01,\n        2.28534862e-01,  6.42750978e-01, -3.36706370e-01, -3.92936207e-02,\n        2.80139726e-02,  3.88028145e-01,  6.33470356e-01,  9.39647108e-03,\n       -6.56934083e-02, -1.19116038e-01, -7.38244176e-01, -2.48907909e-01,\n       -3.81976247e-01,  4.41806346e-01,  6.26942337e-01, -7.98491001e-01,\n       -2.07661584e-01,  2.95667887e-01,  4.65745121e-01, -2.12999117e-02,\n       -6.06103130e-02,  3.25081736e-01, -6.42632842e-01, -8.83948356e-02,\n       -4.51688081e-01,  6.49094164e-01,  5.56116223e-01, -6.66688502e-01,\n       -5.75781625e-04, -5.09303547e-02, -3.58321160e-01, -4.73604232e-01,\n       -4.70579720e+00,  1.81528404e-01,  4.55829322e-01, -1.97636425e-01,\n       -2.51195654e-02,  3.01278025e-01, -3.92261427e-03, -1.31815284e-01,\n       -1.93949983e-01, -5.37944883e-02, -6.72781050e-01,  5.55003107e-01,\n        1.37397215e-01, -1.48678005e-01, -5.58712259e-02, -2.25694165e-01,\n        4.14801538e-01,  7.52079308e-01, -3.17048788e-01,  6.75184727e-01,\n        7.85686195e-01,  3.52370888e-01, -6.58988237e-01,  1.07700384e+00,\n       -1.81344852e-01,  4.47352752e-02,  5.08936763e-01, -1.39193821e+00,\n        7.94811130e-01,  2.62622237e-01,  4.09132779e-01,  2.81771272e-01,\n       -1.50639999e+00,  4.99545306e-01,  8.78266394e-01,  1.28256068e-01,\n       -4.68095839e-01,  8.31936821e-02,  1.52719784e+00, -1.49358481e-01,\n       -1.74944147e-01, -2.50042945e-01, -8.98432061e-02, -5.12595177e-01,\n        1.43047005e-01, -4.34451178e-02, -2.91882068e-01, -1.90174311e-01,\n       -1.67444944e-01, -3.35762084e-01, -2.77922805e-02, -7.01234490e-02,\n        1.77838415e-01, -8.66736695e-02,  3.39588672e-01, -4.38384026e-01,\n        7.88958788e-01, -2.11574838e-01,  2.93769147e-02,  3.21210891e-01,\n        4.95256096e-01,  6.00549519e-01,  3.77328783e-01,  4.96655494e-01,\n        1.45092714e+00, -6.32125795e-01,  1.50962934e-01,  1.14055667e-02,\n       -4.05643851e-01,  4.03994203e-01,  1.00741267e+00, -7.43388981e-02,\n        7.18483984e-01,  8.38288963e-01, -1.63731292e-01, -7.10123301e-01,\n       -9.35551584e-01,  9.72921252e-01, -4.27226782e-01, -6.54684529e-02,\n       -1.35745019e-01,  3.75541151e-01,  1.10565633e-01, -1.71039134e-01,\n       -2.09578723e-01,  2.61988610e-01,  5.46782613e-01,  5.50751507e-01,\n       -6.09783828e-01,  3.27985555e-01, -3.64542305e-01,  6.08438611e-01,\n        8.14407766e-01, -5.36903262e-01,  7.13849425e-01, -3.40549350e-02,\n        5.11036336e-01,  1.78875163e-01,  9.68936324e-01,  1.31494433e-01,\n        3.33513737e-01, -4.98008579e-01,  1.98473454e-01, -3.55958164e-01,\n       -1.82528466e-01, -2.43025012e-02,  9.68165100e-02, -1.24603584e-01,\n       -3.93986702e-02, -1.20635033e+00, -6.28800333e-01,  6.65048301e-01,\n        8.64321470e-01,  1.56757869e-02, -2.39974767e-01,  1.27976930e+00,\n       -6.16260648e-01,  4.05793376e-02, -8.55471075e-01, -7.55100667e-01,\n        1.84400082e-01,  6.00234330e-01, -4.24501225e-02, -5.81121385e-01,\n       -5.20541668e-01, -4.95912701e-01,  5.21748140e-02, -1.96550205e-01,\n       -6.30577207e-01,  2.29194924e-01, -6.66231990e-01,  3.55039656e-01,\n        1.80580288e-01, -1.47296920e-01,  6.73750401e-01,  1.04944520e-01,\n       -5.51642954e-01, -6.35163009e-01,  9.78096575e-02, -4.03935224e-01,\n        2.98504233e-01,  1.68898348e-02, -5.22584379e-01,  1.54915571e-01,\n       -4.32511330e-01,  1.64739639e-01, -1.33818025e-02,  1.09760308e+00,\n        5.50432838e-02, -5.42765439e-01, -2.06997529e-01,  3.54746312e-01,\n       -2.18034118e-01, -2.48555362e-01,  9.00722854e-03, -4.04087752e-01,\n        1.19801879e-01,  1.95942566e-01, -4.12023842e-01,  1.18454611e+00],\n      dtype=float32)"
     },
     "metadata": {},
     "execution_count": 83
    }
   ],
   "source": [
    "docs_emb[0]"
   ]
  },
  {
   "cell_type": "code",
   "execution_count": null,
   "metadata": {},
   "outputs": [],
   "source": []
  }
 ],
 "metadata": {
  "language_info": {
   "codemirror_mode": {
    "name": "ipython",
    "version": 3
   },
   "file_extension": ".py",
   "mimetype": "text/x-python",
   "name": "python",
   "nbconvert_exporter": "python",
   "pygments_lexer": "ipython3",
   "version": "3.7.4-final"
  },
  "orig_nbformat": 2,
  "kernelspec": {
   "name": "python37464bitbaseconda4b7668ab7e68468d80b21b4a2524d1d7",
   "display_name": "Python 3.7.4 64-bit ('base': conda)"
  }
 },
 "nbformat": 4,
 "nbformat_minor": 2
}