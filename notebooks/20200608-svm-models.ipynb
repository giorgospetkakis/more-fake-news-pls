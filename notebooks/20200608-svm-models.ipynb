{
 "cells": [
  {
   "cell_type": "code",
   "execution_count": 685,
   "metadata": {},
   "outputs": [],
   "source": [
    "from utils import go_to_project_root\n",
    "from scipy.stats import mode\n",
    "import data\n",
    "import os\n",
    "import pandas as pd\n",
    "import numpy as np\n",
    "from sklearn.decomposition import PCA\n",
    "from sklearn import svm\n",
    "from sklearn.metrics import balanced_accuracy_score\n",
    "from sklearn.model_selection import KFold, train_test_split\n",
    "from matplotlib import pyplot as plt\n",
    "\n",
    "from sklearn.neural_network import MLPClassifier, BernoulliRBM\n",
    "from sklearn.tree import DecisionTreeClassifier\n",
    "from sklearn.ensemble import RandomForestClassifier, AdaBoostClassifier, AdaBoostRegressor, GradientBoostingClassifier, ExtraTreesClassifier\n",
    "from sklearn.linear_model import LogisticRegression\n",
    "from sklearn.svm import NuSVC\n",
    "import keras\n",
    "from sklearn.feature_selection import RFE\n",
    "import tensorflow as tf"
   ]
  },
  {
   "cell_type": "code",
   "execution_count": 686,
   "metadata": {},
   "outputs": [],
   "source": [
    "def classify(classifier, xtrain, ytrain, xtest, ytest):\n",
    "    classifier.fit(xtrain, ytrain)\n",
    "    pred = predict(classifier, xtest)\n",
    "    return balanced_accuracy_score(ytest, pred)\n",
    "\n",
    "def feature_elim(classifier, xtrain, ytrain):\n",
    "    rfe = RFE(estimator=classifier, n_features_to_select=20, step=1)\n",
    "    rfe.fit(xtrain, ytrain)\n",
    "    return rfe.ranking_\n",
    "\n",
    "def read_data(_path):\n",
    "    path = data_root + _path\n",
    "    xtrain = pd.read_csv(path + \"X_train.csv\", index_col=0).to_numpy()[:200].astype(float)\n",
    "    ytrain = pd.read_csv(path + \"y_train.csv\", index_col=0).to_numpy()[:200]\n",
    "    ytest = pd.read_csv(path + \"y_test.csv\", index_col=0).to_numpy()\n",
    "    xtest = []\n",
    "    for file in os.listdir(path + \"X_test/\"):\n",
    "        xtest += [pd.read_csv(path + \"X_test/\" + file, index_col=0).to_numpy()]\n",
    "\n",
    "    new_xt = get_new_xtests(_path)\n",
    "    mean_xt = [np.mean(new_xt[0], axis=0) for xt in new_xt]\n",
    "\n",
    "    for i, x in enumerate(xtest):\n",
    "        xtest[i][:,[2, 3, 4, 5]] = mean_xt[i]\n",
    "\n",
    "    return xtrain, ytrain, xtest, ytest\n",
    "\n",
    "def predict(classifier, xtest):\n",
    "    majority_vote_preds = []\n",
    "    for x in xtest:\n",
    "        x = np.delete(x, [2, 3, 4, 5], 1)\n",
    "        majority_vote_preds += [np.sum(classifier.predict(x).astype(int)) > 1]\n",
    "    return majority_vote_preds\n",
    "\n",
    "def get_new_xtests(path): \n",
    "    path = data_root[:-1] + \"s/\" + path\n",
    "    xtest = []\n",
    "    for file in os.listdir(path + \"X_test/\"):\n",
    "        xtest += [pd.read_csv(path + \"X_test/\" + file, index_col=0).to_numpy()[:, [2, 3, 4, 5]]]\n",
    "    return xtest"
   ]
  },
  {
   "cell_type": "code",
   "execution_count": 687,
   "metadata": {},
   "outputs": [],
   "source": [
    "go_to_project_root()\n",
    "data_root = \"data/processed/800/\"\n",
    "datasets = [read_data(f\"K{k+1}/\") for k in range(3)]"
   ]
  },
  {
   "cell_type": "code",
   "execution_count": 688,
   "metadata": {},
   "outputs": [
    {
     "name": "stdout",
     "output_type": "stream",
     "text": [
      "Model: \"sequential_445\"\n",
      "_________________________________________________________________\n",
      "Layer (type)                 Output Shape              Param #   \n",
      "=================================================================\n",
      "hidden_layer (Dense)         (None, 150)               53400     \n",
      "_________________________________________________________________\n",
      "dropout_21 (Dropout)         (None, 150)               0         \n",
      "_________________________________________________________________\n",
      "output_layer (Dense)         (None, 1)                 151       \n",
      "=================================================================\n",
      "Total params: 53,551\n",
      "Trainable params: 53,551\n",
      "Non-trainable params: 0\n",
      "_________________________________________________________________\n",
      "None\n"
     ]
    }
   ],
   "source": [
    "#ndims = xtrain.shape[1]\n",
    "def my_model(ndims):\n",
    "    return keras.models.Sequential([\n",
    "        keras.layers.Dense(150, # Number of hidden neurons \n",
    "                            input_shape=(ndims,),\n",
    "                              activation='relu', \n",
    "                              name='hidden_layer'),\n",
    "        keras.layers.Dropout(0.2),\n",
    "        keras.layers.Dense(1, # Number of hidden neurons \n",
    "                              activation='sigmoid', \n",
    "                              name='output_layer') ])\n",
    "\n",
    "#model = my_model(name='training')\n",
    "\n",
    "print(model.summary())"
   ]
  },
  {
   "cell_type": "code",
   "execution_count": 689,
   "metadata": {},
   "outputs": [
    {
     "name": "stdout",
     "output_type": "stream",
     "text": [
      "Model: \"sequential_445\"\n",
      "_________________________________________________________________\n",
      "Layer (type)                 Output Shape              Param #   \n",
      "=================================================================\n",
      "hidden_layer (Dense)         (None, 150)               53400     \n",
      "_________________________________________________________________\n",
      "dropout_21 (Dropout)         (None, 150)               0         \n",
      "_________________________________________________________________\n",
      "output_layer (Dense)         (None, 1)                 151       \n",
      "=================================================================\n",
      "Total params: 53,551\n",
      "Trainable params: 53,551\n",
      "Non-trainable params: 0\n",
      "_________________________________________________________________\n",
      "None\n"
     ]
    }
   ],
   "source": [
    "#ndims = xtrain.shape[1]\n",
    "def my_model(ndims):\n",
    "    return keras.models.Sequential([\n",
    "        keras.layers.Dense(1, # Number of hidden neurons \n",
    "                           input_shape=(ndims,),\n",
    "                              activation='sigmoid', \n",
    "                              name='output_layer') ])\n",
    "\n",
    "#model = my_model(name='training')\n",
    "\n",
    "print(model.summary())"
   ]
  },
  {
   "cell_type": "code",
   "execution_count": 690,
   "metadata": {},
   "outputs": [],
   "source": [
    "feature_sets = {\n",
    "    \"lexical\": [0, 1],\n",
    "    \"semantic\": [2, 3, 4, 5],\n",
    "    \"clusters\": [6, 7],\n",
    "    \"nonling\": list(range(8, 29)),\n",
    "    \"pos\": list(range(29, 47)),\n",
    "    \"emotion\": list(range(47, 57)),\n",
    "    \"embeddings\": list(range(57, 357))\n",
    "}"
   ]
  },
  {
   "cell_type": "code",
   "execution_count": 692,
   "metadata": {},
   "outputs": [
    {
     "ename": "ValueError",
     "evalue": "could not convert string to float: 'None'",
     "output_type": "error",
     "traceback": [
      "\u001b[1;31m---------------------------------------------------------------------------\u001b[0m",
      "\u001b[1;31mValueError\u001b[0m                                Traceback (most recent call last)",
      "\u001b[1;32m<ipython-input-692-6293767fb579>\u001b[0m in \u001b[0;36m<module>\u001b[1;34m\u001b[0m\n\u001b[0;32m     17\u001b[0m         \u001b[0mones\u001b[0m \u001b[1;33m=\u001b[0m \u001b[1;36m0\u001b[0m\u001b[1;33m\u001b[0m\u001b[1;33m\u001b[0m\u001b[0m\n\u001b[0;32m     18\u001b[0m         \u001b[0mzeros\u001b[0m \u001b[1;33m=\u001b[0m \u001b[1;36m0\u001b[0m\u001b[1;33m\u001b[0m\u001b[1;33m\u001b[0m\u001b[0m\n\u001b[1;32m---> 19\u001b[1;33m         \u001b[1;32mfor\u001b[0m \u001b[0mresult\u001b[0m \u001b[1;32min\u001b[0m \u001b[0mmodel\u001b[0m\u001b[1;33m.\u001b[0m\u001b[0mpredict\u001b[0m\u001b[1;33m(\u001b[0m\u001b[0mnp\u001b[0m\u001b[1;33m.\u001b[0m\u001b[0mdelete\u001b[0m\u001b[1;33m(\u001b[0m\u001b[0mxtest\u001b[0m\u001b[1;33m[\u001b[0m\u001b[0mi\u001b[0m\u001b[1;33m]\u001b[0m\u001b[1;33m,\u001b[0m \u001b[0mfs\u001b[0m\u001b[1;33m,\u001b[0m \u001b[0maxis\u001b[0m\u001b[1;33m=\u001b[0m\u001b[1;36m1\u001b[0m\u001b[1;33m)\u001b[0m\u001b[1;33m)\u001b[0m\u001b[1;33m:\u001b[0m\u001b[1;33m\u001b[0m\u001b[1;33m\u001b[0m\u001b[0m\n\u001b[0m\u001b[0;32m     20\u001b[0m             \u001b[1;32mif\u001b[0m \u001b[0mresult\u001b[0m \u001b[1;33m>\u001b[0m \u001b[1;36m0.5\u001b[0m \u001b[1;33m:\u001b[0m\u001b[1;33m\u001b[0m\u001b[1;33m\u001b[0m\u001b[0m\n\u001b[0;32m     21\u001b[0m                 \u001b[0mones\u001b[0m \u001b[1;33m+=\u001b[0m \u001b[1;36m1\u001b[0m\u001b[1;33m\u001b[0m\u001b[1;33m\u001b[0m\u001b[0m\n",
      "\u001b[1;32mD:\\Programs\\Anaconda\\lib\\site-packages\\keras\\engine\\training.py\u001b[0m in \u001b[0;36mpredict\u001b[1;34m(self, x, batch_size, verbose, steps, callbacks, max_queue_size, workers, use_multiprocessing)\u001b[0m\n\u001b[0;32m   1460\u001b[0m                                             \u001b[0mverbose\u001b[0m\u001b[1;33m=\u001b[0m\u001b[0mverbose\u001b[0m\u001b[1;33m,\u001b[0m\u001b[1;33m\u001b[0m\u001b[1;33m\u001b[0m\u001b[0m\n\u001b[0;32m   1461\u001b[0m                                             \u001b[0msteps\u001b[0m\u001b[1;33m=\u001b[0m\u001b[0msteps\u001b[0m\u001b[1;33m,\u001b[0m\u001b[1;33m\u001b[0m\u001b[1;33m\u001b[0m\u001b[0m\n\u001b[1;32m-> 1462\u001b[1;33m                                             callbacks=callbacks)\n\u001b[0m\u001b[0;32m   1463\u001b[0m \u001b[1;33m\u001b[0m\u001b[0m\n\u001b[0;32m   1464\u001b[0m     def train_on_batch(self, x, y,\n",
      "\u001b[1;32mD:\\Programs\\Anaconda\\lib\\site-packages\\keras\\engine\\training_arrays.py\u001b[0m in \u001b[0;36mpredict_loop\u001b[1;34m(model, f, ins, batch_size, verbose, steps, callbacks)\u001b[0m\n\u001b[0;32m    322\u001b[0m             \u001b[0mbatch_logs\u001b[0m \u001b[1;33m=\u001b[0m \u001b[1;33m{\u001b[0m\u001b[1;34m'batch'\u001b[0m\u001b[1;33m:\u001b[0m \u001b[0mbatch_index\u001b[0m\u001b[1;33m,\u001b[0m \u001b[1;34m'size'\u001b[0m\u001b[1;33m:\u001b[0m \u001b[0mlen\u001b[0m\u001b[1;33m(\u001b[0m\u001b[0mbatch_ids\u001b[0m\u001b[1;33m)\u001b[0m\u001b[1;33m}\u001b[0m\u001b[1;33m\u001b[0m\u001b[1;33m\u001b[0m\u001b[0m\n\u001b[0;32m    323\u001b[0m             \u001b[0mcallbacks\u001b[0m\u001b[1;33m.\u001b[0m\u001b[0m_call_batch_hook\u001b[0m\u001b[1;33m(\u001b[0m\u001b[1;34m'predict'\u001b[0m\u001b[1;33m,\u001b[0m \u001b[1;34m'begin'\u001b[0m\u001b[1;33m,\u001b[0m \u001b[0mbatch_index\u001b[0m\u001b[1;33m,\u001b[0m \u001b[0mbatch_logs\u001b[0m\u001b[1;33m)\u001b[0m\u001b[1;33m\u001b[0m\u001b[1;33m\u001b[0m\u001b[0m\n\u001b[1;32m--> 324\u001b[1;33m             \u001b[0mbatch_outs\u001b[0m \u001b[1;33m=\u001b[0m \u001b[0mf\u001b[0m\u001b[1;33m(\u001b[0m\u001b[0mins_batch\u001b[0m\u001b[1;33m)\u001b[0m\u001b[1;33m\u001b[0m\u001b[1;33m\u001b[0m\u001b[0m\n\u001b[0m\u001b[0;32m    325\u001b[0m             \u001b[0mbatch_outs\u001b[0m \u001b[1;33m=\u001b[0m \u001b[0mto_list\u001b[0m\u001b[1;33m(\u001b[0m\u001b[0mbatch_outs\u001b[0m\u001b[1;33m)\u001b[0m\u001b[1;33m\u001b[0m\u001b[1;33m\u001b[0m\u001b[0m\n\u001b[0;32m    326\u001b[0m             \u001b[1;32mif\u001b[0m \u001b[0mbatch_index\u001b[0m \u001b[1;33m==\u001b[0m \u001b[1;36m0\u001b[0m\u001b[1;33m:\u001b[0m\u001b[1;33m\u001b[0m\u001b[1;33m\u001b[0m\u001b[0m\n",
      "\u001b[1;32mD:\\Programs\\Anaconda\\lib\\site-packages\\tensorflow_core\\python\\keras\\backend.py\u001b[0m in \u001b[0;36m__call__\u001b[1;34m(self, inputs)\u001b[0m\n\u001b[0;32m   3719\u001b[0m               'You must feed a value for placeholder %s' % (tensor,))\n\u001b[0;32m   3720\u001b[0m       \u001b[1;32mif\u001b[0m \u001b[1;32mnot\u001b[0m \u001b[0misinstance\u001b[0m\u001b[1;33m(\u001b[0m\u001b[0mvalue\u001b[0m\u001b[1;33m,\u001b[0m \u001b[0mops\u001b[0m\u001b[1;33m.\u001b[0m\u001b[0mTensor\u001b[0m\u001b[1;33m)\u001b[0m\u001b[1;33m:\u001b[0m\u001b[1;33m\u001b[0m\u001b[1;33m\u001b[0m\u001b[0m\n\u001b[1;32m-> 3721\u001b[1;33m         \u001b[0mvalue\u001b[0m \u001b[1;33m=\u001b[0m \u001b[0mops\u001b[0m\u001b[1;33m.\u001b[0m\u001b[0mconvert_to_tensor\u001b[0m\u001b[1;33m(\u001b[0m\u001b[0mvalue\u001b[0m\u001b[1;33m,\u001b[0m \u001b[0mdtype\u001b[0m\u001b[1;33m=\u001b[0m\u001b[0mtensor\u001b[0m\u001b[1;33m.\u001b[0m\u001b[0mdtype\u001b[0m\u001b[1;33m)\u001b[0m\u001b[1;33m\u001b[0m\u001b[1;33m\u001b[0m\u001b[0m\n\u001b[0m\u001b[0;32m   3722\u001b[0m       \u001b[1;32mif\u001b[0m \u001b[0mvalue\u001b[0m\u001b[1;33m.\u001b[0m\u001b[0mdtype\u001b[0m \u001b[1;33m!=\u001b[0m \u001b[0mtensor\u001b[0m\u001b[1;33m.\u001b[0m\u001b[0mdtype\u001b[0m\u001b[1;33m:\u001b[0m\u001b[1;33m\u001b[0m\u001b[1;33m\u001b[0m\u001b[0m\n\u001b[0;32m   3723\u001b[0m         \u001b[1;31m# Temporary workaround due to `convert_to_tensor` not casting floats.\u001b[0m\u001b[1;33m\u001b[0m\u001b[1;33m\u001b[0m\u001b[1;33m\u001b[0m\u001b[0m\n",
      "\u001b[1;32mD:\\Programs\\Anaconda\\lib\\site-packages\\tensorflow_core\\python\\framework\\ops.py\u001b[0m in \u001b[0;36mconvert_to_tensor\u001b[1;34m(value, dtype, name, as_ref, preferred_dtype, dtype_hint, ctx, accepted_result_types)\u001b[0m\n\u001b[0;32m   1312\u001b[0m \u001b[1;33m\u001b[0m\u001b[0m\n\u001b[0;32m   1313\u001b[0m     \u001b[1;32mif\u001b[0m \u001b[0mret\u001b[0m \u001b[1;32mis\u001b[0m \u001b[1;32mNone\u001b[0m\u001b[1;33m:\u001b[0m\u001b[1;33m\u001b[0m\u001b[1;33m\u001b[0m\u001b[0m\n\u001b[1;32m-> 1314\u001b[1;33m       \u001b[0mret\u001b[0m \u001b[1;33m=\u001b[0m \u001b[0mconversion_func\u001b[0m\u001b[1;33m(\u001b[0m\u001b[0mvalue\u001b[0m\u001b[1;33m,\u001b[0m \u001b[0mdtype\u001b[0m\u001b[1;33m=\u001b[0m\u001b[0mdtype\u001b[0m\u001b[1;33m,\u001b[0m \u001b[0mname\u001b[0m\u001b[1;33m=\u001b[0m\u001b[0mname\u001b[0m\u001b[1;33m,\u001b[0m \u001b[0mas_ref\u001b[0m\u001b[1;33m=\u001b[0m\u001b[0mas_ref\u001b[0m\u001b[1;33m)\u001b[0m\u001b[1;33m\u001b[0m\u001b[1;33m\u001b[0m\u001b[0m\n\u001b[0m\u001b[0;32m   1315\u001b[0m \u001b[1;33m\u001b[0m\u001b[0m\n\u001b[0;32m   1316\u001b[0m     \u001b[1;32mif\u001b[0m \u001b[0mret\u001b[0m \u001b[1;32mis\u001b[0m \u001b[0mNotImplemented\u001b[0m\u001b[1;33m:\u001b[0m\u001b[1;33m\u001b[0m\u001b[1;33m\u001b[0m\u001b[0m\n",
      "\u001b[1;32mD:\\Programs\\Anaconda\\lib\\site-packages\\tensorflow_core\\python\\framework\\tensor_conversion_registry.py\u001b[0m in \u001b[0;36m_default_conversion_function\u001b[1;34m(***failed resolving arguments***)\u001b[0m\n\u001b[0;32m     50\u001b[0m \u001b[1;32mdef\u001b[0m \u001b[0m_default_conversion_function\u001b[0m\u001b[1;33m(\u001b[0m\u001b[0mvalue\u001b[0m\u001b[1;33m,\u001b[0m \u001b[0mdtype\u001b[0m\u001b[1;33m,\u001b[0m \u001b[0mname\u001b[0m\u001b[1;33m,\u001b[0m \u001b[0mas_ref\u001b[0m\u001b[1;33m)\u001b[0m\u001b[1;33m:\u001b[0m\u001b[1;33m\u001b[0m\u001b[1;33m\u001b[0m\u001b[0m\n\u001b[0;32m     51\u001b[0m   \u001b[1;32mdel\u001b[0m \u001b[0mas_ref\u001b[0m  \u001b[1;31m# Unused.\u001b[0m\u001b[1;33m\u001b[0m\u001b[1;33m\u001b[0m\u001b[0m\n\u001b[1;32m---> 52\u001b[1;33m   \u001b[1;32mreturn\u001b[0m \u001b[0mconstant_op\u001b[0m\u001b[1;33m.\u001b[0m\u001b[0mconstant\u001b[0m\u001b[1;33m(\u001b[0m\u001b[0mvalue\u001b[0m\u001b[1;33m,\u001b[0m \u001b[0mdtype\u001b[0m\u001b[1;33m,\u001b[0m \u001b[0mname\u001b[0m\u001b[1;33m=\u001b[0m\u001b[0mname\u001b[0m\u001b[1;33m)\u001b[0m\u001b[1;33m\u001b[0m\u001b[1;33m\u001b[0m\u001b[0m\n\u001b[0m\u001b[0;32m     53\u001b[0m \u001b[1;33m\u001b[0m\u001b[0m\n\u001b[0;32m     54\u001b[0m \u001b[1;33m\u001b[0m\u001b[0m\n",
      "\u001b[1;32mD:\\Programs\\Anaconda\\lib\\site-packages\\tensorflow_core\\python\\framework\\constant_op.py\u001b[0m in \u001b[0;36mconstant\u001b[1;34m(value, dtype, shape, name)\u001b[0m\n\u001b[0;32m    256\u001b[0m   \"\"\"\n\u001b[0;32m    257\u001b[0m   return _constant_impl(value, dtype, shape, name, verify_shape=False,\n\u001b[1;32m--> 258\u001b[1;33m                         allow_broadcast=True)\n\u001b[0m\u001b[0;32m    259\u001b[0m \u001b[1;33m\u001b[0m\u001b[0m\n\u001b[0;32m    260\u001b[0m \u001b[1;33m\u001b[0m\u001b[0m\n",
      "\u001b[1;32mD:\\Programs\\Anaconda\\lib\\site-packages\\tensorflow_core\\python\\framework\\constant_op.py\u001b[0m in \u001b[0;36m_constant_impl\u001b[1;34m(value, dtype, shape, name, verify_shape, allow_broadcast)\u001b[0m\n\u001b[0;32m    264\u001b[0m   \u001b[0mctx\u001b[0m \u001b[1;33m=\u001b[0m \u001b[0mcontext\u001b[0m\u001b[1;33m.\u001b[0m\u001b[0mcontext\u001b[0m\u001b[1;33m(\u001b[0m\u001b[1;33m)\u001b[0m\u001b[1;33m\u001b[0m\u001b[1;33m\u001b[0m\u001b[0m\n\u001b[0;32m    265\u001b[0m   \u001b[1;32mif\u001b[0m \u001b[0mctx\u001b[0m\u001b[1;33m.\u001b[0m\u001b[0mexecuting_eagerly\u001b[0m\u001b[1;33m(\u001b[0m\u001b[1;33m)\u001b[0m\u001b[1;33m:\u001b[0m\u001b[1;33m\u001b[0m\u001b[1;33m\u001b[0m\u001b[0m\n\u001b[1;32m--> 266\u001b[1;33m     \u001b[0mt\u001b[0m \u001b[1;33m=\u001b[0m \u001b[0mconvert_to_eager_tensor\u001b[0m\u001b[1;33m(\u001b[0m\u001b[0mvalue\u001b[0m\u001b[1;33m,\u001b[0m \u001b[0mctx\u001b[0m\u001b[1;33m,\u001b[0m \u001b[0mdtype\u001b[0m\u001b[1;33m)\u001b[0m\u001b[1;33m\u001b[0m\u001b[1;33m\u001b[0m\u001b[0m\n\u001b[0m\u001b[0;32m    267\u001b[0m     \u001b[1;32mif\u001b[0m \u001b[0mshape\u001b[0m \u001b[1;32mis\u001b[0m \u001b[1;32mNone\u001b[0m\u001b[1;33m:\u001b[0m\u001b[1;33m\u001b[0m\u001b[1;33m\u001b[0m\u001b[0m\n\u001b[0;32m    268\u001b[0m       \u001b[1;32mreturn\u001b[0m \u001b[0mt\u001b[0m\u001b[1;33m\u001b[0m\u001b[1;33m\u001b[0m\u001b[0m\n",
      "\u001b[1;32mD:\\Programs\\Anaconda\\lib\\site-packages\\tensorflow_core\\python\\framework\\constant_op.py\u001b[0m in \u001b[0;36mconvert_to_eager_tensor\u001b[1;34m(value, ctx, dtype)\u001b[0m\n\u001b[0;32m     94\u001b[0m       \u001b[0mdtype\u001b[0m \u001b[1;33m=\u001b[0m \u001b[0mdtypes\u001b[0m\u001b[1;33m.\u001b[0m\u001b[0mas_dtype\u001b[0m\u001b[1;33m(\u001b[0m\u001b[0mdtype\u001b[0m\u001b[1;33m)\u001b[0m\u001b[1;33m.\u001b[0m\u001b[0mas_datatype_enum\u001b[0m\u001b[1;33m\u001b[0m\u001b[1;33m\u001b[0m\u001b[0m\n\u001b[0;32m     95\u001b[0m   \u001b[0mctx\u001b[0m\u001b[1;33m.\u001b[0m\u001b[0mensure_initialized\u001b[0m\u001b[1;33m(\u001b[0m\u001b[1;33m)\u001b[0m\u001b[1;33m\u001b[0m\u001b[1;33m\u001b[0m\u001b[0m\n\u001b[1;32m---> 96\u001b[1;33m   \u001b[1;32mreturn\u001b[0m \u001b[0mops\u001b[0m\u001b[1;33m.\u001b[0m\u001b[0mEagerTensor\u001b[0m\u001b[1;33m(\u001b[0m\u001b[0mvalue\u001b[0m\u001b[1;33m,\u001b[0m \u001b[0mctx\u001b[0m\u001b[1;33m.\u001b[0m\u001b[0mdevice_name\u001b[0m\u001b[1;33m,\u001b[0m \u001b[0mdtype\u001b[0m\u001b[1;33m)\u001b[0m\u001b[1;33m\u001b[0m\u001b[1;33m\u001b[0m\u001b[0m\n\u001b[0m\u001b[0;32m     97\u001b[0m \u001b[1;33m\u001b[0m\u001b[0m\n\u001b[0;32m     98\u001b[0m \u001b[1;33m\u001b[0m\u001b[0m\n",
      "\u001b[1;31mValueError\u001b[0m: could not convert string to float: 'None'"
     ]
    }
   ],
   "source": [
    "fs = feature_sets[\"clusters\"]\n",
    "for i in range(3):\n",
    "    xtrain, ytrain, xtest, ytest = datasets[i]\n",
    "    #xtrain = np.delete(xtrain, [2,3,4,5], 1)\n",
    "    #for i in range(len(xtest)):\n",
    "    #    xtest[i] = np.delete(xtest[i], np.arange(2,6), axis=1)\n",
    "    model = my_model(ndims=np.delete(xtrain, fs, axis=1).shape[1])\n",
    "    # Define optimization algorithm\n",
    "    adam = tf.optimizers.Adam(lr=0.01)\n",
    "\n",
    "    # Compile model (i.e., build compute graph)\n",
    "    model.compile(optimizer=adam, loss='binary_crossentropy', metrics=['binary_accuracy'])\n",
    "    history = model.fit(np.delete(xtrain, fs, axis=1), ytrain, epochs=20, verbose=False)\n",
    "    preds = []\n",
    "\n",
    "    for i in range(len(xtest)):\n",
    "        ones = 0\n",
    "        zeros = 0\n",
    "        for result in model.predict(np.delete(xtest[i], fs, axis=1)):\n",
    "            if result > 0.5 :\n",
    "                ones += 1\n",
    "            else:\n",
    "                zeros += 1\n",
    "        if ones > zeros:\n",
    "            preds.append(1)\n",
    "        else:\n",
    "            preds.append(0)\n",
    "    print(balanced_accuracy_score(ytest, preds))"
   ]
  },
  {
   "cell_type": "code",
   "execution_count": 638,
   "metadata": {},
   "outputs": [
    {
     "name": "stdout",
     "output_type": "stream",
     "text": [
      "0.71\n",
      "0.66\n",
      "0.64\n"
     ]
    }
   ],
   "source": [
    "fs = feature_sets[\"emotion\"] + feature_sets[\"embeddings\"]\n",
    "for i in range(3):\n",
    "    xtrain, ytrain, xtest, ytest = datasets[i]\n",
    "    #xtrain = np.delete(xtrain, [2,3,4,5], 1)\n",
    "    #for i in range(len(xtest)):\n",
    "    #    xtest[i] = np.delete(xtest[i], np.arange(2,6), axis=1)\n",
    "    model = my_model(ndims=xtrain[:,fs].shape[1])\n",
    "    # Define optimization algorithm\n",
    "    adam = tf.optimizers.Adam(lr=0.001)\n",
    "\n",
    "    # Compile model (i.e., build compute graph)\n",
    "    model.compile(optimizer=adam, loss='binary_crossentropy', metrics=['binary_accuracy'])\n",
    "    history = model.fit(xtrain[:,fs], ytrain, epochs=10, verbose=False)\n",
    "    preds = []\n",
    "\n",
    "    for i in range(len(xtest)):\n",
    "        ones = 0\n",
    "        zeros = 0\n",
    "        for result in model.predict(xtest[i][:,fs]):\n",
    "            if result > 0.5 :\n",
    "                ones += 1\n",
    "            else:\n",
    "                zeros += 1\n",
    "        if ones > zeros:\n",
    "            preds.append(1)\n",
    "        else:\n",
    "            preds.append(0)\n",
    "    print(balanced_accuracy_score(ytest, preds))"
   ]
  },
  {
   "cell_type": "code",
   "execution_count": 691,
   "metadata": {},
   "outputs": [
    {
     "ename": "ValueError",
     "evalue": "could not convert string to float: 'None'",
     "output_type": "error",
     "traceback": [
      "\u001b[1;31m---------------------------------------------------------------------------\u001b[0m",
      "\u001b[1;31mValueError\u001b[0m                                Traceback (most recent call last)",
      "\u001b[1;32m<ipython-input-691-95a8dda03a96>\u001b[0m in \u001b[0;36m<module>\u001b[1;34m\u001b[0m\n\u001b[0;32m     16\u001b[0m         \u001b[0mones\u001b[0m \u001b[1;33m=\u001b[0m \u001b[1;36m0\u001b[0m\u001b[1;33m\u001b[0m\u001b[1;33m\u001b[0m\u001b[0m\n\u001b[0;32m     17\u001b[0m         \u001b[0mzeros\u001b[0m \u001b[1;33m=\u001b[0m \u001b[1;36m0\u001b[0m\u001b[1;33m\u001b[0m\u001b[1;33m\u001b[0m\u001b[0m\n\u001b[1;32m---> 18\u001b[1;33m         \u001b[1;32mfor\u001b[0m \u001b[0mresult\u001b[0m \u001b[1;32min\u001b[0m \u001b[0mmodel\u001b[0m\u001b[1;33m.\u001b[0m\u001b[0mpredict\u001b[0m\u001b[1;33m(\u001b[0m\u001b[0mxtest\u001b[0m\u001b[1;33m[\u001b[0m\u001b[0mi\u001b[0m\u001b[1;33m]\u001b[0m\u001b[1;33m)\u001b[0m\u001b[1;33m:\u001b[0m\u001b[1;33m\u001b[0m\u001b[1;33m\u001b[0m\u001b[0m\n\u001b[0m\u001b[0;32m     19\u001b[0m             \u001b[1;32mif\u001b[0m \u001b[0mresult\u001b[0m \u001b[1;33m>\u001b[0m \u001b[1;36m0.5\u001b[0m \u001b[1;33m:\u001b[0m\u001b[1;33m\u001b[0m\u001b[1;33m\u001b[0m\u001b[0m\n\u001b[0;32m     20\u001b[0m                 \u001b[0mones\u001b[0m \u001b[1;33m+=\u001b[0m \u001b[1;36m1\u001b[0m\u001b[1;33m\u001b[0m\u001b[1;33m\u001b[0m\u001b[0m\n",
      "\u001b[1;32mD:\\Programs\\Anaconda\\lib\\site-packages\\keras\\engine\\training.py\u001b[0m in \u001b[0;36mpredict\u001b[1;34m(self, x, batch_size, verbose, steps, callbacks, max_queue_size, workers, use_multiprocessing)\u001b[0m\n\u001b[0;32m   1460\u001b[0m                                             \u001b[0mverbose\u001b[0m\u001b[1;33m=\u001b[0m\u001b[0mverbose\u001b[0m\u001b[1;33m,\u001b[0m\u001b[1;33m\u001b[0m\u001b[1;33m\u001b[0m\u001b[0m\n\u001b[0;32m   1461\u001b[0m                                             \u001b[0msteps\u001b[0m\u001b[1;33m=\u001b[0m\u001b[0msteps\u001b[0m\u001b[1;33m,\u001b[0m\u001b[1;33m\u001b[0m\u001b[1;33m\u001b[0m\u001b[0m\n\u001b[1;32m-> 1462\u001b[1;33m                                             callbacks=callbacks)\n\u001b[0m\u001b[0;32m   1463\u001b[0m \u001b[1;33m\u001b[0m\u001b[0m\n\u001b[0;32m   1464\u001b[0m     def train_on_batch(self, x, y,\n",
      "\u001b[1;32mD:\\Programs\\Anaconda\\lib\\site-packages\\keras\\engine\\training_arrays.py\u001b[0m in \u001b[0;36mpredict_loop\u001b[1;34m(model, f, ins, batch_size, verbose, steps, callbacks)\u001b[0m\n\u001b[0;32m    322\u001b[0m             \u001b[0mbatch_logs\u001b[0m \u001b[1;33m=\u001b[0m \u001b[1;33m{\u001b[0m\u001b[1;34m'batch'\u001b[0m\u001b[1;33m:\u001b[0m \u001b[0mbatch_index\u001b[0m\u001b[1;33m,\u001b[0m \u001b[1;34m'size'\u001b[0m\u001b[1;33m:\u001b[0m \u001b[0mlen\u001b[0m\u001b[1;33m(\u001b[0m\u001b[0mbatch_ids\u001b[0m\u001b[1;33m)\u001b[0m\u001b[1;33m}\u001b[0m\u001b[1;33m\u001b[0m\u001b[1;33m\u001b[0m\u001b[0m\n\u001b[0;32m    323\u001b[0m             \u001b[0mcallbacks\u001b[0m\u001b[1;33m.\u001b[0m\u001b[0m_call_batch_hook\u001b[0m\u001b[1;33m(\u001b[0m\u001b[1;34m'predict'\u001b[0m\u001b[1;33m,\u001b[0m \u001b[1;34m'begin'\u001b[0m\u001b[1;33m,\u001b[0m \u001b[0mbatch_index\u001b[0m\u001b[1;33m,\u001b[0m \u001b[0mbatch_logs\u001b[0m\u001b[1;33m)\u001b[0m\u001b[1;33m\u001b[0m\u001b[1;33m\u001b[0m\u001b[0m\n\u001b[1;32m--> 324\u001b[1;33m             \u001b[0mbatch_outs\u001b[0m \u001b[1;33m=\u001b[0m \u001b[0mf\u001b[0m\u001b[1;33m(\u001b[0m\u001b[0mins_batch\u001b[0m\u001b[1;33m)\u001b[0m\u001b[1;33m\u001b[0m\u001b[1;33m\u001b[0m\u001b[0m\n\u001b[0m\u001b[0;32m    325\u001b[0m             \u001b[0mbatch_outs\u001b[0m \u001b[1;33m=\u001b[0m \u001b[0mto_list\u001b[0m\u001b[1;33m(\u001b[0m\u001b[0mbatch_outs\u001b[0m\u001b[1;33m)\u001b[0m\u001b[1;33m\u001b[0m\u001b[1;33m\u001b[0m\u001b[0m\n\u001b[0;32m    326\u001b[0m             \u001b[1;32mif\u001b[0m \u001b[0mbatch_index\u001b[0m \u001b[1;33m==\u001b[0m \u001b[1;36m0\u001b[0m\u001b[1;33m:\u001b[0m\u001b[1;33m\u001b[0m\u001b[1;33m\u001b[0m\u001b[0m\n",
      "\u001b[1;32mD:\\Programs\\Anaconda\\lib\\site-packages\\tensorflow_core\\python\\keras\\backend.py\u001b[0m in \u001b[0;36m__call__\u001b[1;34m(self, inputs)\u001b[0m\n\u001b[0;32m   3719\u001b[0m               'You must feed a value for placeholder %s' % (tensor,))\n\u001b[0;32m   3720\u001b[0m       \u001b[1;32mif\u001b[0m \u001b[1;32mnot\u001b[0m \u001b[0misinstance\u001b[0m\u001b[1;33m(\u001b[0m\u001b[0mvalue\u001b[0m\u001b[1;33m,\u001b[0m \u001b[0mops\u001b[0m\u001b[1;33m.\u001b[0m\u001b[0mTensor\u001b[0m\u001b[1;33m)\u001b[0m\u001b[1;33m:\u001b[0m\u001b[1;33m\u001b[0m\u001b[1;33m\u001b[0m\u001b[0m\n\u001b[1;32m-> 3721\u001b[1;33m         \u001b[0mvalue\u001b[0m \u001b[1;33m=\u001b[0m \u001b[0mops\u001b[0m\u001b[1;33m.\u001b[0m\u001b[0mconvert_to_tensor\u001b[0m\u001b[1;33m(\u001b[0m\u001b[0mvalue\u001b[0m\u001b[1;33m,\u001b[0m \u001b[0mdtype\u001b[0m\u001b[1;33m=\u001b[0m\u001b[0mtensor\u001b[0m\u001b[1;33m.\u001b[0m\u001b[0mdtype\u001b[0m\u001b[1;33m)\u001b[0m\u001b[1;33m\u001b[0m\u001b[1;33m\u001b[0m\u001b[0m\n\u001b[0m\u001b[0;32m   3722\u001b[0m       \u001b[1;32mif\u001b[0m \u001b[0mvalue\u001b[0m\u001b[1;33m.\u001b[0m\u001b[0mdtype\u001b[0m \u001b[1;33m!=\u001b[0m \u001b[0mtensor\u001b[0m\u001b[1;33m.\u001b[0m\u001b[0mdtype\u001b[0m\u001b[1;33m:\u001b[0m\u001b[1;33m\u001b[0m\u001b[1;33m\u001b[0m\u001b[0m\n\u001b[0;32m   3723\u001b[0m         \u001b[1;31m# Temporary workaround due to `convert_to_tensor` not casting floats.\u001b[0m\u001b[1;33m\u001b[0m\u001b[1;33m\u001b[0m\u001b[1;33m\u001b[0m\u001b[0m\n",
      "\u001b[1;32mD:\\Programs\\Anaconda\\lib\\site-packages\\tensorflow_core\\python\\framework\\ops.py\u001b[0m in \u001b[0;36mconvert_to_tensor\u001b[1;34m(value, dtype, name, as_ref, preferred_dtype, dtype_hint, ctx, accepted_result_types)\u001b[0m\n\u001b[0;32m   1312\u001b[0m \u001b[1;33m\u001b[0m\u001b[0m\n\u001b[0;32m   1313\u001b[0m     \u001b[1;32mif\u001b[0m \u001b[0mret\u001b[0m \u001b[1;32mis\u001b[0m \u001b[1;32mNone\u001b[0m\u001b[1;33m:\u001b[0m\u001b[1;33m\u001b[0m\u001b[1;33m\u001b[0m\u001b[0m\n\u001b[1;32m-> 1314\u001b[1;33m       \u001b[0mret\u001b[0m \u001b[1;33m=\u001b[0m \u001b[0mconversion_func\u001b[0m\u001b[1;33m(\u001b[0m\u001b[0mvalue\u001b[0m\u001b[1;33m,\u001b[0m \u001b[0mdtype\u001b[0m\u001b[1;33m=\u001b[0m\u001b[0mdtype\u001b[0m\u001b[1;33m,\u001b[0m \u001b[0mname\u001b[0m\u001b[1;33m=\u001b[0m\u001b[0mname\u001b[0m\u001b[1;33m,\u001b[0m \u001b[0mas_ref\u001b[0m\u001b[1;33m=\u001b[0m\u001b[0mas_ref\u001b[0m\u001b[1;33m)\u001b[0m\u001b[1;33m\u001b[0m\u001b[1;33m\u001b[0m\u001b[0m\n\u001b[0m\u001b[0;32m   1315\u001b[0m \u001b[1;33m\u001b[0m\u001b[0m\n\u001b[0;32m   1316\u001b[0m     \u001b[1;32mif\u001b[0m \u001b[0mret\u001b[0m \u001b[1;32mis\u001b[0m \u001b[0mNotImplemented\u001b[0m\u001b[1;33m:\u001b[0m\u001b[1;33m\u001b[0m\u001b[1;33m\u001b[0m\u001b[0m\n",
      "\u001b[1;32mD:\\Programs\\Anaconda\\lib\\site-packages\\tensorflow_core\\python\\framework\\tensor_conversion_registry.py\u001b[0m in \u001b[0;36m_default_conversion_function\u001b[1;34m(***failed resolving arguments***)\u001b[0m\n\u001b[0;32m     50\u001b[0m \u001b[1;32mdef\u001b[0m \u001b[0m_default_conversion_function\u001b[0m\u001b[1;33m(\u001b[0m\u001b[0mvalue\u001b[0m\u001b[1;33m,\u001b[0m \u001b[0mdtype\u001b[0m\u001b[1;33m,\u001b[0m \u001b[0mname\u001b[0m\u001b[1;33m,\u001b[0m \u001b[0mas_ref\u001b[0m\u001b[1;33m)\u001b[0m\u001b[1;33m:\u001b[0m\u001b[1;33m\u001b[0m\u001b[1;33m\u001b[0m\u001b[0m\n\u001b[0;32m     51\u001b[0m   \u001b[1;32mdel\u001b[0m \u001b[0mas_ref\u001b[0m  \u001b[1;31m# Unused.\u001b[0m\u001b[1;33m\u001b[0m\u001b[1;33m\u001b[0m\u001b[0m\n\u001b[1;32m---> 52\u001b[1;33m   \u001b[1;32mreturn\u001b[0m \u001b[0mconstant_op\u001b[0m\u001b[1;33m.\u001b[0m\u001b[0mconstant\u001b[0m\u001b[1;33m(\u001b[0m\u001b[0mvalue\u001b[0m\u001b[1;33m,\u001b[0m \u001b[0mdtype\u001b[0m\u001b[1;33m,\u001b[0m \u001b[0mname\u001b[0m\u001b[1;33m=\u001b[0m\u001b[0mname\u001b[0m\u001b[1;33m)\u001b[0m\u001b[1;33m\u001b[0m\u001b[1;33m\u001b[0m\u001b[0m\n\u001b[0m\u001b[0;32m     53\u001b[0m \u001b[1;33m\u001b[0m\u001b[0m\n\u001b[0;32m     54\u001b[0m \u001b[1;33m\u001b[0m\u001b[0m\n",
      "\u001b[1;32mD:\\Programs\\Anaconda\\lib\\site-packages\\tensorflow_core\\python\\framework\\constant_op.py\u001b[0m in \u001b[0;36mconstant\u001b[1;34m(value, dtype, shape, name)\u001b[0m\n\u001b[0;32m    256\u001b[0m   \"\"\"\n\u001b[0;32m    257\u001b[0m   return _constant_impl(value, dtype, shape, name, verify_shape=False,\n\u001b[1;32m--> 258\u001b[1;33m                         allow_broadcast=True)\n\u001b[0m\u001b[0;32m    259\u001b[0m \u001b[1;33m\u001b[0m\u001b[0m\n\u001b[0;32m    260\u001b[0m \u001b[1;33m\u001b[0m\u001b[0m\n",
      "\u001b[1;32mD:\\Programs\\Anaconda\\lib\\site-packages\\tensorflow_core\\python\\framework\\constant_op.py\u001b[0m in \u001b[0;36m_constant_impl\u001b[1;34m(value, dtype, shape, name, verify_shape, allow_broadcast)\u001b[0m\n\u001b[0;32m    264\u001b[0m   \u001b[0mctx\u001b[0m \u001b[1;33m=\u001b[0m \u001b[0mcontext\u001b[0m\u001b[1;33m.\u001b[0m\u001b[0mcontext\u001b[0m\u001b[1;33m(\u001b[0m\u001b[1;33m)\u001b[0m\u001b[1;33m\u001b[0m\u001b[1;33m\u001b[0m\u001b[0m\n\u001b[0;32m    265\u001b[0m   \u001b[1;32mif\u001b[0m \u001b[0mctx\u001b[0m\u001b[1;33m.\u001b[0m\u001b[0mexecuting_eagerly\u001b[0m\u001b[1;33m(\u001b[0m\u001b[1;33m)\u001b[0m\u001b[1;33m:\u001b[0m\u001b[1;33m\u001b[0m\u001b[1;33m\u001b[0m\u001b[0m\n\u001b[1;32m--> 266\u001b[1;33m     \u001b[0mt\u001b[0m \u001b[1;33m=\u001b[0m \u001b[0mconvert_to_eager_tensor\u001b[0m\u001b[1;33m(\u001b[0m\u001b[0mvalue\u001b[0m\u001b[1;33m,\u001b[0m \u001b[0mctx\u001b[0m\u001b[1;33m,\u001b[0m \u001b[0mdtype\u001b[0m\u001b[1;33m)\u001b[0m\u001b[1;33m\u001b[0m\u001b[1;33m\u001b[0m\u001b[0m\n\u001b[0m\u001b[0;32m    267\u001b[0m     \u001b[1;32mif\u001b[0m \u001b[0mshape\u001b[0m \u001b[1;32mis\u001b[0m \u001b[1;32mNone\u001b[0m\u001b[1;33m:\u001b[0m\u001b[1;33m\u001b[0m\u001b[1;33m\u001b[0m\u001b[0m\n\u001b[0;32m    268\u001b[0m       \u001b[1;32mreturn\u001b[0m \u001b[0mt\u001b[0m\u001b[1;33m\u001b[0m\u001b[1;33m\u001b[0m\u001b[0m\n",
      "\u001b[1;32mD:\\Programs\\Anaconda\\lib\\site-packages\\tensorflow_core\\python\\framework\\constant_op.py\u001b[0m in \u001b[0;36mconvert_to_eager_tensor\u001b[1;34m(value, ctx, dtype)\u001b[0m\n\u001b[0;32m     94\u001b[0m       \u001b[0mdtype\u001b[0m \u001b[1;33m=\u001b[0m \u001b[0mdtypes\u001b[0m\u001b[1;33m.\u001b[0m\u001b[0mas_dtype\u001b[0m\u001b[1;33m(\u001b[0m\u001b[0mdtype\u001b[0m\u001b[1;33m)\u001b[0m\u001b[1;33m.\u001b[0m\u001b[0mas_datatype_enum\u001b[0m\u001b[1;33m\u001b[0m\u001b[1;33m\u001b[0m\u001b[0m\n\u001b[0;32m     95\u001b[0m   \u001b[0mctx\u001b[0m\u001b[1;33m.\u001b[0m\u001b[0mensure_initialized\u001b[0m\u001b[1;33m(\u001b[0m\u001b[1;33m)\u001b[0m\u001b[1;33m\u001b[0m\u001b[1;33m\u001b[0m\u001b[0m\n\u001b[1;32m---> 96\u001b[1;33m   \u001b[1;32mreturn\u001b[0m \u001b[0mops\u001b[0m\u001b[1;33m.\u001b[0m\u001b[0mEagerTensor\u001b[0m\u001b[1;33m(\u001b[0m\u001b[0mvalue\u001b[0m\u001b[1;33m,\u001b[0m \u001b[0mctx\u001b[0m\u001b[1;33m.\u001b[0m\u001b[0mdevice_name\u001b[0m\u001b[1;33m,\u001b[0m \u001b[0mdtype\u001b[0m\u001b[1;33m)\u001b[0m\u001b[1;33m\u001b[0m\u001b[1;33m\u001b[0m\u001b[0m\n\u001b[0m\u001b[0;32m     97\u001b[0m \u001b[1;33m\u001b[0m\u001b[0m\n\u001b[0;32m     98\u001b[0m \u001b[1;33m\u001b[0m\u001b[0m\n",
      "\u001b[1;31mValueError\u001b[0m: could not convert string to float: 'None'"
     ]
    }
   ],
   "source": [
    "for i in range(3):\n",
    "    xtrain, ytrain, xtest, ytest = datasets[i]\n",
    "    #xtrain = np.delete(xtrain, [2,3,4,5], 1)\n",
    "    #for i in range(len(xtest)):\n",
    "    #    xtest[i] = np.delete(xtest[i], np.arange(2,6), axis=1)\n",
    "    model = my_model(ndims=xtrain.shape[1])\n",
    "    # Define optimization algorithm\n",
    "    adam = tf.optimizers.Adam(lr=0.001)\n",
    "\n",
    "    # Compile model (i.e., build compute graph)\n",
    "    model.compile(optimizer=adam, loss='binary_crossentropy', metrics=['binary_accuracy'])\n",
    "    history = model.fit(xtrain, ytrain, epochs=20, verbose=False)\n",
    "    preds = []\n",
    "\n",
    "    for i in range(len(xtest)):\n",
    "        ones = 0\n",
    "        zeros = 0\n",
    "        for result in model.predict(xtest[i]):\n",
    "            if result > 0.5 :\n",
    "                ones += 1\n",
    "            else:\n",
    "                zeros += 1\n",
    "        if ones > zeros:\n",
    "            preds.append(1)\n",
    "        else:\n",
    "            preds.append(0)\n",
    "    print(balanced_accuracy_score(ytest, preds))"
   ]
  },
  {
   "cell_type": "code",
   "execution_count": 574,
   "metadata": {},
   "outputs": [
    {
     "ename": "ValueError",
     "evalue": "Error when checking input: expected hidden_layer_input to have shape (300,) but got array with shape (357,)",
     "output_type": "error",
     "traceback": [
      "\u001b[1;31m---------------------------------------------------------------------------\u001b[0m",
      "\u001b[1;31mValueError\u001b[0m                                Traceback (most recent call last)",
      "\u001b[1;32m<ipython-input-574-9c0893d1e3b0>\u001b[0m in \u001b[0;36m<module>\u001b[1;34m\u001b[0m\n\u001b[0;32m      5\u001b[0m     \u001b[0mones\u001b[0m \u001b[1;33m=\u001b[0m \u001b[1;36m0\u001b[0m\u001b[1;33m\u001b[0m\u001b[1;33m\u001b[0m\u001b[0m\n\u001b[0;32m      6\u001b[0m     \u001b[0mzeros\u001b[0m \u001b[1;33m=\u001b[0m \u001b[1;36m0\u001b[0m\u001b[1;33m\u001b[0m\u001b[1;33m\u001b[0m\u001b[0m\n\u001b[1;32m----> 7\u001b[1;33m     \u001b[1;32mfor\u001b[0m \u001b[0mresult\u001b[0m \u001b[1;32min\u001b[0m \u001b[0mmodel\u001b[0m\u001b[1;33m.\u001b[0m\u001b[0mpredict\u001b[0m\u001b[1;33m(\u001b[0m\u001b[0mxtest\u001b[0m\u001b[1;33m[\u001b[0m\u001b[0mi\u001b[0m\u001b[1;33m]\u001b[0m\u001b[1;33m)\u001b[0m\u001b[1;33m:\u001b[0m\u001b[1;33m\u001b[0m\u001b[1;33m\u001b[0m\u001b[0m\n\u001b[0m\u001b[0;32m      8\u001b[0m         \u001b[1;32mif\u001b[0m \u001b[0mresult\u001b[0m \u001b[1;33m>\u001b[0m \u001b[1;36m0.5\u001b[0m \u001b[1;33m:\u001b[0m\u001b[1;33m\u001b[0m\u001b[1;33m\u001b[0m\u001b[0m\n\u001b[0;32m      9\u001b[0m             \u001b[0mones\u001b[0m \u001b[1;33m+=\u001b[0m \u001b[1;36m1\u001b[0m\u001b[1;33m\u001b[0m\u001b[1;33m\u001b[0m\u001b[0m\n",
      "\u001b[1;32mD:\\Programs\\Anaconda\\lib\\site-packages\\keras\\engine\\training.py\u001b[0m in \u001b[0;36mpredict\u001b[1;34m(self, x, batch_size, verbose, steps, callbacks, max_queue_size, workers, use_multiprocessing)\u001b[0m\n\u001b[0;32m   1439\u001b[0m \u001b[1;33m\u001b[0m\u001b[0m\n\u001b[0;32m   1440\u001b[0m         \u001b[1;31m# Case 2: Symbolic tensors or Numpy array-like.\u001b[0m\u001b[1;33m\u001b[0m\u001b[1;33m\u001b[0m\u001b[1;33m\u001b[0m\u001b[0m\n\u001b[1;32m-> 1441\u001b[1;33m         \u001b[0mx\u001b[0m\u001b[1;33m,\u001b[0m \u001b[0m_\u001b[0m\u001b[1;33m,\u001b[0m \u001b[0m_\u001b[0m \u001b[1;33m=\u001b[0m \u001b[0mself\u001b[0m\u001b[1;33m.\u001b[0m\u001b[0m_standardize_user_data\u001b[0m\u001b[1;33m(\u001b[0m\u001b[0mx\u001b[0m\u001b[1;33m)\u001b[0m\u001b[1;33m\u001b[0m\u001b[1;33m\u001b[0m\u001b[0m\n\u001b[0m\u001b[0;32m   1442\u001b[0m         \u001b[1;32mif\u001b[0m \u001b[0mself\u001b[0m\u001b[1;33m.\u001b[0m\u001b[0mstateful\u001b[0m\u001b[1;33m:\u001b[0m\u001b[1;33m\u001b[0m\u001b[1;33m\u001b[0m\u001b[0m\n\u001b[0;32m   1443\u001b[0m             \u001b[1;32mif\u001b[0m \u001b[0mx\u001b[0m\u001b[1;33m[\u001b[0m\u001b[1;36m0\u001b[0m\u001b[1;33m]\u001b[0m\u001b[1;33m.\u001b[0m\u001b[0mshape\u001b[0m\u001b[1;33m[\u001b[0m\u001b[1;36m0\u001b[0m\u001b[1;33m]\u001b[0m \u001b[1;33m>\u001b[0m \u001b[0mbatch_size\u001b[0m \u001b[1;32mand\u001b[0m \u001b[0mx\u001b[0m\u001b[1;33m[\u001b[0m\u001b[1;36m0\u001b[0m\u001b[1;33m]\u001b[0m\u001b[1;33m.\u001b[0m\u001b[0mshape\u001b[0m\u001b[1;33m[\u001b[0m\u001b[1;36m0\u001b[0m\u001b[1;33m]\u001b[0m \u001b[1;33m%\u001b[0m \u001b[0mbatch_size\u001b[0m \u001b[1;33m!=\u001b[0m \u001b[1;36m0\u001b[0m\u001b[1;33m:\u001b[0m\u001b[1;33m\u001b[0m\u001b[1;33m\u001b[0m\u001b[0m\n",
      "\u001b[1;32mD:\\Programs\\Anaconda\\lib\\site-packages\\keras\\engine\\training.py\u001b[0m in \u001b[0;36m_standardize_user_data\u001b[1;34m(self, x, y, sample_weight, class_weight, check_array_lengths, batch_size)\u001b[0m\n\u001b[0;32m    577\u001b[0m             \u001b[0mfeed_input_shapes\u001b[0m\u001b[1;33m,\u001b[0m\u001b[1;33m\u001b[0m\u001b[1;33m\u001b[0m\u001b[0m\n\u001b[0;32m    578\u001b[0m             \u001b[0mcheck_batch_axis\u001b[0m\u001b[1;33m=\u001b[0m\u001b[1;32mFalse\u001b[0m\u001b[1;33m,\u001b[0m  \u001b[1;31m# Don't enforce the batch size.\u001b[0m\u001b[1;33m\u001b[0m\u001b[1;33m\u001b[0m\u001b[0m\n\u001b[1;32m--> 579\u001b[1;33m             exception_prefix='input')\n\u001b[0m\u001b[0;32m    580\u001b[0m \u001b[1;33m\u001b[0m\u001b[0m\n\u001b[0;32m    581\u001b[0m         \u001b[1;32mif\u001b[0m \u001b[0my\u001b[0m \u001b[1;32mis\u001b[0m \u001b[1;32mnot\u001b[0m \u001b[1;32mNone\u001b[0m\u001b[1;33m:\u001b[0m\u001b[1;33m\u001b[0m\u001b[1;33m\u001b[0m\u001b[0m\n",
      "\u001b[1;32mD:\\Programs\\Anaconda\\lib\\site-packages\\keras\\engine\\training_utils.py\u001b[0m in \u001b[0;36mstandardize_input_data\u001b[1;34m(data, names, shapes, check_batch_axis, exception_prefix)\u001b[0m\n\u001b[0;32m    143\u001b[0m                             \u001b[1;34m': expected '\u001b[0m \u001b[1;33m+\u001b[0m \u001b[0mnames\u001b[0m\u001b[1;33m[\u001b[0m\u001b[0mi\u001b[0m\u001b[1;33m]\u001b[0m \u001b[1;33m+\u001b[0m \u001b[1;34m' to have shape '\u001b[0m \u001b[1;33m+\u001b[0m\u001b[1;33m\u001b[0m\u001b[1;33m\u001b[0m\u001b[0m\n\u001b[0;32m    144\u001b[0m                             \u001b[0mstr\u001b[0m\u001b[1;33m(\u001b[0m\u001b[0mshape\u001b[0m\u001b[1;33m)\u001b[0m \u001b[1;33m+\u001b[0m \u001b[1;34m' but got array with shape '\u001b[0m \u001b[1;33m+\u001b[0m\u001b[1;33m\u001b[0m\u001b[1;33m\u001b[0m\u001b[0m\n\u001b[1;32m--> 145\u001b[1;33m                             str(data_shape))\n\u001b[0m\u001b[0;32m    146\u001b[0m     \u001b[1;32mreturn\u001b[0m \u001b[0mdata\u001b[0m\u001b[1;33m\u001b[0m\u001b[1;33m\u001b[0m\u001b[0m\n\u001b[0;32m    147\u001b[0m \u001b[1;33m\u001b[0m\u001b[0m\n",
      "\u001b[1;31mValueError\u001b[0m: Error when checking input: expected hidden_layer_input to have shape (300,) but got array with shape (357,)"
     ]
    }
   ],
   "source": [
    "import scipy.stats\n",
    "preds = []\n",
    "\n",
    "for i in range(len(xtest)):\n",
    "    ones = 0\n",
    "    zeros = 0\n",
    "    for result in model.predict(xtest[i]):\n",
    "        if result > 0.5 :\n",
    "            ones += 1\n",
    "        else:\n",
    "            zeros += 1\n",
    "    if ones > zeros:\n",
    "        preds.append(1)\n",
    "    else:\n",
    "        preds.append(0)"
   ]
  },
  {
   "cell_type": "code",
   "execution_count": 514,
   "metadata": {},
   "outputs": [
    {
     "data": {
      "text/plain": [
       "0.69"
      ]
     },
     "execution_count": 514,
     "metadata": {},
     "output_type": "execute_result"
    }
   ],
   "source": [
    "balanced_accuracy_score(ytest, preds)"
   ]
  },
  {
   "cell_type": "code",
   "execution_count": 705,
   "metadata": {},
   "outputs": [],
   "source": [
    "wrong = [0,\n",
    " 1,\n",
    " 9,\n",
    " 12,\n",
    " 13,\n",
    " 14,\n",
    " 15,\n",
    " 16,\n",
    " 22,\n",
    " 25,\n",
    " 26,\n",
    " 30,\n",
    " 33,\n",
    " 36,\n",
    " 40,\n",
    " 41,\n",
    " 42,\n",
    " 43,\n",
    " 51,\n",
    " 53,\n",
    " 58,\n",
    " 64,\n",
    " 66,\n",
    " 69,\n",
    " 70,\n",
    " 72,\n",
    " 80,\n",
    " 90,\n",
    " 94,\n",
    " 95,\n",
    " 98]"
   ]
  },
  {
   "cell_type": "code",
   "execution_count": 717,
   "metadata": {
    "scrolled": true
   },
   "outputs": [],
   "source": [
    "import os\n",
    "go_to_project_root()\n",
    "IDS= os.listdir(\"data/processed/800s/K3/X_test/\")\n",
    "IDS_wrong = []\n",
    "for i in wrong:\n",
    "    IDS_wrong.append(IDS[i][:-4])"
   ]
  },
  {
   "cell_type": "code",
   "execution_count": 712,
   "metadata": {},
   "outputs": [],
   "source": [
    "Authors = data.get_processed_data()"
   ]
  },
  {
   "cell_type": "code",
   "execution_count": 718,
   "metadata": {},
   "outputs": [
    {
     "name": "stdout",
     "output_type": "stream",
     "text": [
      "0\n",
      "['Amber Smith “Kandy Halloween: Return of the Haunted Mansion” Red Carpet #URL# via #USER#', \"Kourtney Kardashian Reveals Scott Disick 'Checks in' With Her Every Single Day #URL#\", 'Serena Williams Steps Out at the 2019 Met Gala — See the Tennis Pro’s Gorgeous Ensemble! #URL#', 'See the campiest looks from 2019 Met Gala pink carpet #URL#', 'Trouble in Paradise? Kris Jenner and Corey Gamble Had ‘Zero Chemistry’ at Met Gala #URL#']\n",
      "\n",
      "0\n",
      "['Rachel Bilson Was Asked Point-Blank if She’s Dating Nick Viall, and She Gave the Most Cryptic Answer - Cosmopolitan #URL#', 'Bill Hader and Rachel Bilson make red carpet debut at Golden Globes - Citizentribune #URL# #URL#', 'What Do The Stars Say About Rachel Bilson? (12/09/2019) - Tallahasseescene #URL#', 'Celebrities front row at NYFW 2020 - Page Six #URL# #URL#', 'Rachel Bilson dating Bill Hader? - Arizona Daily Star #URL# #URL#']\n",
      "\n",
      "1\n",
      "[\"Hands-on with the Samsung Galaxy S20 lineup #URL#   We got our hands on Samsung's latest flagship… #URL#\", 'No more quizzes: HQ Trivia is shutting down #URL#   HQ Trivia, the live trivia gameshow app creat… #URL#', \"The cast of 'To All the Boys 2' talk about their fictional crushes #URL#   Mashable correspondent… #URL#\", \"Martha Stewart is gifting you an extra 20% off cookware for Valentine's Day #URL#   TL;DR: Impres… #URL#\", 'Prices for .com domains likely to jump thanks to Trump #URL#   The price of .com domains could be… #URL#']\n",
      "\n",
      "1\n",
      "['#HASHTAG#   A week in security (August 20 – 26): A roundup of the security news from August 20 – 26, including a lo… #URL#', '#HASHTAG#   Recent App Issues Reveal Facebook’s Struggles to Temper Data Privacy Woes: Facebook has been struggling… #URL#', '#HASHTAG#   Green card scams: preying on the desperate: Most online scams depend on two things: a legitimate entity… #URL#', '#HASHTAG# ISB.Downloader!gen133: Risk Level: Very Low.  #HASHTAG# #URL#', '#HASHTAG#   PoC Code Surfaces to Exploit Apache Struts 2 Vulnerability: Researchers find proof-of-concept code that… #URL#']\n",
      "\n",
      "0\n",
      "['PHOTOS:  Photographs Document Changing Archaeological Sites in Jordan: Photographs Document Changing Archaeol... #URL#', 'PHOTOS:  US Braces for Hurricane Matthew: Southern and Eastern states braces themselves for Hurricane Matthew... #URL#', 'Photographic Evidence that the British Royal Family Loves Balloons: At her first public playdate, Princess Ch... #URL#', \"Welcome, Adam Levine, to PEOPLE's Sexiest Man Alive Dads' Club: Join us in initiating the Maroon 5 frontman –... #URL#\", 'How Well Do You Remember Will &amp; Grace?: Two best friends + kooky neighbors = loads of laughs. See what you re... #URL#']\n",
      "\n",
      "0\n",
      "['Skeleton Makeup Tutorial Halloween 2016: The Prettiest Skeleton Costume How-To: How to get skeleton makeup fo... #URL#', \"Taraji P. Henson's *Benjamin Button* Salary Was Less Than 2 Percent of Brad Pitt's: Taraji P. Henson opens up... #URL#\", 'my everyday style: all laced up for fall!: Lace up tops, sweaters, shoes... you name it! This fall season is ... #URL#', \"What It's Really Like to Raise a Child with Down Syndrome: Model Amanda Booth clears up stereotypes about her... #URL#\", 'Chrissy Teigen Shows You How to Look Sexy During Sweater Season: She stepped out in an off-the-shoulder sweat... #URL#']\n",
      "\n",
      "1\n",
      "['Voting App Flaws Could Have Let Hackers Manipulate\\xa0Results #URL#', 'SFGATE: BART’s weekend, night ridership figures drop by 10\\xa0million #URL#', 'The Best Tower Warmers (2020): Zadro and\\xa0Haven #URL#', 'Mobile World Congress Is Canceled Over Coronavirus\\xa0Fears #URL#', 'SFGATE: Man declared incompetent in SF pier killing\\xa0case #URL#']\n",
      "\n",
      "0\n",
      "[\"This Woman Wrote a Formal Rejection Letter to a Man Who Sent Her an Unsolicited Dick Pic: This woman's formal... #URL#\", 'Jennifer Aniston \"Doesn\\'t Care\" About Brad Pitt and Angelina Jolie\\'s Divorce, According to Chelsea Handler: C... #URL#', 'Beyoncé and Blue Ivy Are Throwback Goals in Salt-N-Pepa Halloween Costumes: Beyoncé and the whole Carter-Know... #URL#', \"Here's What Shay Mitchell Looks Like in Kylie Jenner's New Makeup Palette: Shay Mitchell posted up on the Kyl... #URL#\", 'Dancing With the Stars Results 2016: Awkward Moments for Jana Kramer, Gleb Savchenko, and Maureen McCormick: ... #URL#']\n",
      "\n",
      "0\n",
      "[\"Indiana boy, 4, dies after father's gun discharged as they play-wrestled - NBC News #URL#\", 'A teen stood up for a smaller student. Later the bully killed him, police say. - NBC News #URL#', 'Apple delivers a new redesigned Maps for all users in the United States - Apple Newsroom #URL#', 'Delta, American, United to suspend all China mainland flights as coronavirus crisis grows - USA TODAY #URL#', 'The Los Angeles Chargers and quarterback Philip Rivers have mutually agreed that Rivers will enter free agency and… #URL#']\n",
      "\n",
      "1\n",
      "[\"RT #USER#: Happy #HASHTAG#, or if you're #HASHTAG#, happy #HASHTAG#... #URL#\", '#USER# Sadly, after the ban takes effect, the only \"natural gas\" in #HASHTAG# is gonna come from the smug farts of… #URL#', '#USER# So now your false advertising is copying other false advertising? #USER# 😒 #URL#', '#USER# Don\\'t worry, my waifu/husbando doesn\\'t need to know that I play your \"game\"... #URL#', '#USER# Urrgh, you again... 😒 #URL#']\n",
      "\n",
      "1\n",
      "['#HASHTAG# #HASHTAG# Why were two Mexican butterfly activists found dead? #URL#', \"#HASHTAG# #HASHTAG# 'How burlesque taught me to accept myself' #URL#\", '#HASHTAG# : 20kg gold seized at Vijayawada airport  Acting on credible information, sleuths of Commissioner’s Task… #URL#', '#HASHTAG# : Emergency response officer removed from service for poor handling of call Officer was trying to ascerta… #URL#', '#HASHTAG# : Andhra to plant Rs 25 crore saplings this year Around 25 crore saplings will be planted across Andhra P… #URL#']\n",
      "\n",
      "1\n",
      "['#HASHTAG# Mrs. McLoughlin Praises Her Husband on First Wedding Anniversary #URL# #URL#', '#HASHTAG# Kelsea Ballerini Takes Three Tweets to Reflect on “LA” #URL# #URL#', '#HASHTAG# Twenty Years Ago, “Cowboy Take Me Away” Topped Country Chart #URL# #URL#', '#HASHTAG# How the Lindale Chorale Scored the Miranda Lambert Gig #URL# #URL#', '#HASHTAG# Maren Morris Rattles “The Bones” at Chart Summit #URL# #URL#']\n",
      "\n",
      "0\n",
      "['Lil Wayne Auto-Tunes His Nightmares In New ‘Dreams’ Performance #URL# #URL#', 'RT #USER#: You opened your room and you met a Beautiful Lady naked on your bed. What will you do?', 'INEC de-registers 74 political parties.  The Independent National Electoral Commission, INEC, has de-registered 74… #URL#', '‘I Felt Smothered’: Siesta Key‘s Juliette Reveals All The Reasons She Dumped Robby #URL# #URL#', 'RT #USER#: We began the cleanup at 4am \\u2066#USER#\\u2069 XBox Plaza and we have now boxed 1353 basketballs dedicated to Kobe and Gianna. Truly…']\n",
      "\n",
      "1\n",
      "['Igbo Teacher Praised By Borno Governor Promoted To Assistant Headmistress After Visiting A School And Found Only He… #URL#', 'Shaq vows to make life change after Kobe Bryant’s\\xa0death #URL# #URL#', 'Eucharia Anunobi recounts how a hotel cleaner at a church camp allegedly used a toilet brush to wash glass\\xa0cups… #URL#', 'President Buhari is the number one person who gives hate speech in the country – Aisha\\xa0Yesufu… #URL#', 'CBS responds to Gayle King’s outrage over viral Kobe\\xa0clip #URL# #URL#']\n",
      "\n",
      "1\n",
      "[\"Shawn Mendes Reveals the Inspiration Behind ''In My Blood'' at 2019 Grammy Awards #URL# #URL#\", '25 Times Ashley Graham Perfected the Art of Fearless Fashion #URL# #URL#', 'Rachel Brosnahan Treats Herself to In-N-Out After the 2019 Golden Globes #URL# #URL#', 'Claudia Brant Wins Best Latin Pop Album at the 2019 Grammys #URL# #URL#', 'Robin Thicke, Ricky Martin and More Celebs Brought Their Kids to the 2019 Grammys #URL# #URL#']\n",
      "\n",
      "0\n",
      "['Trump Prepares to Formalize Tariffs but Floats\\xa0Exemptions #URL#', 'Ex-Russian spy ‘deliberately targeted’ with nerve agent in\\xa0England #URL#', '2018 World Cup: Nigeria destined for great things in Russia –\\xa0Karembeu #URL#', 'Alexa laughing bug has users creeped out, Amazon is working on a fix\\xa0[UPDATE] #URL# #URL#', 'RT #USER#: The grace of God is not for lasciviousness but to do more. #HASHTAG# #HASHTAG# #HASHTAG# #URL#']\n",
      "\n",
      "0\n",
      "['Gov. Bruce Rauner and JB Pritzker to Face Off in Illinois #URL# #URL#', \"Quick challenge for Mississippi's 15-week abortion ban #URL# #URL#\", \"Shooting reported at St. Mary's County high school in Maryland #URL# #URL#\", 'Maryland school shooting is trending on Google. Read the latest here: #URL# #URL#', 'When Is The First Day Of Spring is trending on Google. Read the latest here: #URL# #URL#']\n",
      "\n",
      "0\n",
      "['Thanks \"ArtistRack\" For Following Me !!! #URL#', 'Thanks \"Sally Mansfield\" For Following Me !!! #URL#', 'Thanks \"Simão\" For Following Me !!! #URL#', 'RT BBCWorld \"Danish prince refuses to be buried with his wife, the queen #URL#\"', 'RT Reuters \"Bieber says he\\'s \\'never going to be perfect\\' after tour cancellation #URL# #URL#\"']\n",
      "\n",
      "1\n",
      "['#HASHTAG# How Did We Get Here? A Timeline of the Taylor Swift and Kanye West Drama #URL# #HASHTAG#', '#HASHTAG# Corinne Olympios Has a Reality Show in the Works! #URL# #HASHTAG#', '#HASHTAG# These Are the 15 Movies From the ’90s That You Need to Watch With Your Kids #URL# #HASHTAG#', '#HASHTAG# 6 Baby Food Delivery Kits That Will Make Your Life So Much Easier #URL# #HASHTAG#', '#HASHTAG# Everything We Know About Dancing With the Stars Season 25 #URL# #HASHTAG#']\n",
      "\n",
      "1\n",
      "['the United States senate is the most ruthless gang on the planet.', 'some of the faces I see on here would stop an eight day clock.', 'when they passed out the brains were most of you hiding under the table.', 'where have all the articles gone about the dark and deep state and the shadow government and the military industrial complex,,', \"One-third of Americans don't believe 6 million Jews were murdered during the Holocaust #URL#\"]\n",
      "\n",
      "0\n",
      "['Henderson Poised To Win The PFA Player Of The\\xa0Year #URL# #URL#', 'Fireboy Could Possibly Be Wande Coal’s Number 1\\xa0Fan #URL# #URL#', 'Tonto Dikeh Gets Sued For Defamation By Her\\xa0Ex-Husband #URL# #URL#', 'Nollywood Actress Left Her Marriage Due Fear For Her Life – See\\xa0Who #URL# #URL#', 'Yvonne Nelson Has An Advise For\\xa0Christians #URL# #URL#']\n",
      "\n",
      "0\n",
      "['Half of these have me shook. #URL#', 'Lana also recalled fans approaching her when she was naked in the sauna 😳 #URL#', 'Justin Theroux One-Ups Brad Pitt With Bday Message to Jennifer Aniston #URL#', 'Check Out The Most Exciting Movies Coming Out This Year #URL#', 'Joe Jonas and Sophie Turner are reportedly expecting their first child! #URL#']\n",
      "\n",
      "0\n",
      "['RT This Dad Passed Out Candy to Plane Passengers So His 3-Year-Old Daughter Could Trick-... #URL# #HASHTAG# #HASHTAG# #HASHTAG#', \"RT #HASHTAG# Ryan Lochte: 'I Think America Saw a Different Side of Me' on 'Dancing With the Stars': ... #URL# #HASHTAG# #HASHTAG#\", 'RT Scottie, Larsa Pippen -- Battle Royale Over Fortune &amp; Prenup: Scottie Pippen and wife... #URL# #HASHTAG# #HASHTAG# #HASHTAG#', 'RT #HASHTAG# Nick Viall’s ‘Bachelor’ Premiere Date Announced!: The premiere date for season 21 of ‘T... #URL# #HASHTAG# #HASHTAG#', \"RT Larsa Pippen -- 2nd 911 Call ... Help, Scottie's Breaking Stuff! (AUDIO): Larsa Pippe... #URL# #HASHTAG# #HASHTAG# #HASHTAG#\"]\n",
      "\n",
      "1\n",
      "['RT MusicNewsWeb: Stevie Wonder to play BST Hyde Park with special guest Lionel Richie - #HASHTAG# BSTHydepark… #URL#', \"RT MusicNewsWeb: #URL# The Stanleys 'Everybody Dance' video - #HASHTAG# #URL# #URL#\", 'RT MusicNewsWeb: Matthew Logan Vasquez new album ‘Light’n Up’ out this week - #HASHTAG# mlvsolicitor… #URL#', '#URL# This weeks emerging and self-releasing artists - AdalOfficial WeAreCashae DenisCMusic GGret… #URL#', \"#URL# Camila Cabello was 'petrified' by Alejandro Sanz song request #URL# #URL#\"]\n",
      "\n",
      "1\n",
      "['#URL# Kristen Bell &amp;amp; country music #HASHTAG# prep for CMT Music Awards 2014 #URL# #HASHTAG# #HASHTAG#', \"#URL# Taylor Swift You're Not Sorry... #URL# #HASHTAG# #HASHTAG# #HASHTAG# #HASHTAG# #HASHTAG# #HASHTAG# #HASHTAG# #HASHTAG#\", '#URL# bob #HASHTAG# is still the king (cover) Rocky Mountain Tops #URL# #HASHTAG# #HASHTAG#', '#URL# Elvis Presley #URL# #HASHTAG# #HASHTAG#', '#URL# The Stray Birds cover \"When I Stop... #URL# #HASHTAG# #HASHTAG# #HASHTAG# #HASHTAG# #HASHTAG# #HASHTAG#']\n",
      "\n",
      "1\n",
      "['RT #USER#: John Kerry has endorsed Joe Biden. #URL#', \"#USER# #USER# Jesus' (in the flesh) lived long after the prophet Moses.\", 'RT #USER#: thanks for the ride!! #URL#', '#USER# #USER# LOL  Deuteronomy was written long before Jesus was born.', '#USER# #USER# Witnesses..?? Testify Soros! #URL#']\n",
      "\n",
      "0\n",
      "[\"Any DM Can Find Something Useful in NERZGUL'S DUNGEON MASTER TOOLKIT 3  Link: #URL# #URL#\", 'DC Has Announced a New BATMAN: THE ANIMATED SERIES Comic with Paul Dini  Link: #URL# #URL#', \"First Look at Margot Robbie as Harley Quinn in James Gunn's THE SUICIDE SQUAD  Link: #URL# #URL#\", \"BATMAN's Mark Hamill and Kevin Conroy Will Reunite For Netflix's MASTERS OF THE UNIVERSE: REVELATION Animated Serie… #URL#\", 'This is How STAR WARS: THE RISE OF SKYWALKER Should Have Ended  Link: #URL# #URL#']\n",
      "\n",
      "0\n",
      "['Ryan Gosling Eats His Cereal As Tribute to Vine Star Ryan McHenry', \"Best of Phantom: James Harden's 2014-2015 Season Highlights #URL#\", 'Top 5 NBA Plays: May 5th #URL#', 'The Witcher 3 Wild Hunt • Monsters Dev Diary • PS4 Xbox One PC #URL#', \"INKED: The story behind Canadian Kish's tattoos #URL#\"]\n",
      "\n",
      "1\n",
      "['Tyler Perry’s finds ‘Grace’ outside Hollywood - Houston Chronicle #URL#', \"Hollywood news banter: 'The Hunt' is back on\", \"Tammy's College of Hollywood Knowledge - January 21, 2020\", \"Meghan Markle 'really regrets' giving up her Hollywood career for Duchess of Sussex role, royal author claims - Hom… #URL#\", 'Brutally Honest Oscar Ballot: \\'Irishman\\' \"Was Boring,\" Tarantino \"Amazing\" - Hollywood Reporter #URL#']\n",
      "\n",
      "1\n",
      "['Womens Chambray Shirt Top denim Shirts and Blouses LongSleeve Snap Button Cotton LadiesShirt Camisa Blusa Camisetas… #URL#', 'CUTE! This picture of Soha Ali Khan and her nephew Taimur bonding during her baby shower is adorable… #URL#', 'Barcelona attack: What is the mood? #URL# #URL#', 'Aryana Sayeed: Kabul concert goes ahead despite threats #URL# #URL#', 'RT #USER#: What is The Best acceptance Cookware ? #URL#']\n",
      "\n",
      "1\n",
      "['6 Home Studio Essentials That Beginners Should Start With\\xa0 #URL#', 'How Technology Revolutionized the Field of Medicine #URL#', 'Lady Gaga’s Latest Jaw-Dropping Red Carpet Look Is Absolutely Legendary #URL#', 'Self-Love Lessons To Teach Our Daughters #URL#', 'Grilled Eggplant &amp; Peach Caprese Salad #URL#']\n",
      "\n"
     ]
    }
   ],
   "source": [
    "for ID in IDS_wrong:\n",
    "    print(Authors[ID].truth)\n",
    "    print(Authors[ID].tweets[:5])\n",
    "    print()"
   ]
  },
  {
   "cell_type": "code",
   "execution_count": null,
   "metadata": {},
   "outputs": [],
   "source": []
  }
 ],
 "metadata": {
  "kernelspec": {
   "display_name": "Python 3",
   "language": "python",
   "name": "python3"
  },
  "language_info": {
   "codemirror_mode": {
    "name": "ipython",
    "version": 3
   },
   "file_extension": ".py",
   "mimetype": "text/x-python",
   "name": "python",
   "nbconvert_exporter": "python",
   "pygments_lexer": "ipython3",
   "version": "3.7.4"
  }
 },
 "nbformat": 4,
 "nbformat_minor": 2
}
