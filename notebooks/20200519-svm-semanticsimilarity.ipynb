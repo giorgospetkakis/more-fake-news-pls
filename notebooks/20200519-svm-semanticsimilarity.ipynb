{
 "cells": [
  {
   "cell_type": "code",
   "execution_count": 1,
   "metadata": {},
   "outputs": [],
   "source": [
    "import data\n",
    "import spacy\n",
    "import json\n",
    "from utils import go_to_project_root\n",
    "import numpy as np"
   ]
  },
  {
   "cell_type": "code",
   "execution_count": 24,
   "metadata": {},
   "outputs": [],
   "source": [
    "\n",
    "nlp = spacy.load(\"en_core_web_md\")\n",
    "authors = data.get_raw_data('en')"
   ]
  },
  {
   "cell_type": "code",
   "execution_count": 4,
   "metadata": {},
   "outputs": [
    {
     "data": {
      "text/plain": [
       "0.796553664006314"
      ]
     },
     "execution_count": 4,
     "metadata": {},
     "output_type": "execute_result"
    }
   ],
   "source": [
    "# for author in authors.keys():\n",
    "#     # Pipe to go through the documents faster\n",
    "#     for tweet in nlp.pipe(authors[author].tweets, disable=['parser']):\n",
    "#         for compare in nlp.pipe(authors[author].tweets, disable=['parser']):\n",
    "#             tweet.similarity(compare)\n",
    "author = authors['62fech76sxdk37s0cta06gzzsqg71xvg']\n",
    "nlp(author.tweets[0]).similarity(nlp(author.tweets[2]))"
   ]
  },
  {
   "cell_type": "code",
   "execution_count": 27,
   "metadata": {},
   "outputs": [],
   "source": [
    "author = authors['62fech76sxdk37s0cta06gzzsqg71xvg']\n",
    "a = np.ones((100,100))\n",
    "a *= a*-1\n",
    "i = 0\n",
    "# Pipe to go through the documents faster\n",
    "for tweet in nlp.pipe(author.tweets):\n",
    "    j = i+1\n",
    "    if i == 99:\n",
    "        break\n",
    "    for compare in nlp.pipe(author.tweets[i+1:]):\n",
    "        if j == 100:\n",
    "            break\n",
    "        a[i,j] = tweet.similarity(compare)\n",
    "        j += 1\n",
    "    i += 1"
   ]
  },
  {
   "cell_type": "code",
   "execution_count": 28,
   "metadata": {},
   "outputs": [
    {
     "data": {
      "text/plain": [
       "array([[-1.        ,  0.79279996,  0.79655366, ...,  0.83246075,\n",
       "         0.75682719,  0.79120103],\n",
       "       [-1.        , -1.        ,  0.76977099, ...,  0.78200014,\n",
       "         0.78810504,  0.75647676],\n",
       "       [-1.        , -1.        , -1.        , ...,  0.80950502,\n",
       "         0.84549408,  0.79942419],\n",
       "       ...,\n",
       "       [-1.        , -1.        , -1.        , ..., -1.        ,\n",
       "         0.82151478,  0.81469997],\n",
       "       [-1.        , -1.        , -1.        , ..., -1.        ,\n",
       "        -1.        ,  0.81994144],\n",
       "       [-1.        , -1.        , -1.        , ..., -1.        ,\n",
       "        -1.        , -1.        ]])"
      ]
     },
     "execution_count": 28,
     "metadata": {},
     "output_type": "execute_result"
    }
   ],
   "source": [
    "a"
   ]
  },
  {
   "cell_type": "code",
   "execution_count": 29,
   "metadata": {},
   "outputs": [
    {
     "data": {
      "text/plain": [
       "0.8008999542059171"
      ]
     },
     "execution_count": 29,
     "metadata": {},
     "output_type": "execute_result"
    }
   ],
   "source": [
    "max_similar = a[ a != 1].max()\n",
    "min_similar = a[a != -1] .min()\n",
    "a[ a !=-1].mean()"
   ]
  },
  {
   "cell_type": "code",
   "execution_count": 38,
   "metadata": {},
   "outputs": [
    {
     "name": "stdout",
     "output_type": "stream",
     "text": [
      "10 Things You Didn’t Know About Vladimir Putin  Listed here are 10 unknown details about one of the… #URL#\n",
      "10 Things You Didn’t Know About Elon Musk  Listed below are 10 little recognized details about one of ma… #URL#\n",
      "10 Things You Didn’t Know About Elon Musk  Listed below are 10 little recognized details about one of ma… #URL#\n"
     ]
    }
   ],
   "source": [
    "np.where(a == (a[ a != 1].max()))\n",
    "print(author.tweets[0])\n",
    "print(author.tweets[64])\n",
    "print(author.tweets[67])"
   ]
  },
  {
   "cell_type": "code",
   "execution_count": 44,
   "metadata": {},
   "outputs": [
    {
     "name": "stdout",
     "output_type": "stream",
     "text": [
      "New human rights report finds extreme racial bias in Toronto policing  A surprising new report from the Ontario Hum… #URL#\n",
      "\n",
      "#HASHTAG# #HASHTAG# #HASHTAG# #HASHTAG# #HASHTAG# #URL# #URL#\n"
     ]
    }
   ],
   "source": [
    "np.where(a == (a[ a != -1].min()))\n",
    "print(author.tweets[59])\n",
    "print()\n",
    "print(author.tweets[86])"
   ]
  },
  {
   "cell_type": "code",
   "execution_count": 32,
   "metadata": {},
   "outputs": [
    {
     "data": {
      "text/plain": [
       "array([1., 1., 1.])"
      ]
     },
     "execution_count": 32,
     "metadata": {},
     "output_type": "execute_result"
    }
   ],
   "source": [
    "a[a== 1.0]"
   ]
  },
  {
   "cell_type": "code",
   "execution_count": 35,
   "metadata": {},
   "outputs": [
    {
     "data": {
      "text/plain": [
       "3"
      ]
     },
     "execution_count": 35,
     "metadata": {},
     "output_type": "execute_result"
    }
   ],
   "source": [
    "len(np.where(a ==1.0)[0])"
   ]
  },
  {
   "cell_type": "code",
   "execution_count": 32,
   "metadata": {},
   "outputs": [
    {
     "data": {
      "text/plain": [
       "'Remotely controlled EV home chargers – the threats and vulnerabilities  We are now seeing signs of a possible shift… #URL#'"
      ]
     },
     "execution_count": 32,
     "metadata": {},
     "output_type": "execute_result"
    }
   ],
   "source": [
    "author.tweets[25]"
   ]
  },
  {
   "cell_type": "code",
   "execution_count": 15,
   "metadata": {},
   "outputs": [
    {
     "data": {
      "text/plain": [
       "'Former Packers player has a theory on why Green Bay has been so bad this year   After spending the primary three se… #URL#'"
      ]
     },
     "execution_count": 15,
     "metadata": {},
     "output_type": "execute_result"
    }
   ],
   "source": [
    "author.tweets[68]"
   ]
  },
  {
   "cell_type": "code",
   "execution_count": 13,
   "metadata": {},
   "outputs": [
    {
     "data": {
      "text/plain": [
       "'10 Things You Didn’t Know About Elon Musk  Listed below are 10 little recognized details about one of ma… #URL#'"
      ]
     },
     "execution_count": 13,
     "metadata": {},
     "output_type": "execute_result"
    }
   ],
   "source": [
    "author.tweets[67]"
   ]
  },
  {
   "cell_type": "code",
   "execution_count": 45,
   "metadata": {},
   "outputs": [
    {
     "name": "stdout",
     "output_type": "stream",
     "text": [
      "| | | | | | | | | | "
     ]
    }
   ],
   "source": [
    "for i in range(10):\n",
    "    print('|', end=\" \")"
   ]
  },
  {
   "cell_type": "code",
   "execution_count": null,
   "metadata": {},
   "outputs": [],
   "source": []
  }
 ],
 "metadata": {
  "kernelspec": {
   "display_name": "Python 3",
   "language": "python",
   "name": "python3"
  },
  "language_info": {
   "codemirror_mode": {
    "name": "ipython",
    "version": 3
   },
   "file_extension": ".py",
   "mimetype": "text/x-python",
   "name": "python",
   "nbconvert_exporter": "python",
   "pygments_lexer": "ipython3",
   "version": "3.7.4"
  }
 },
 "nbformat": 4,
 "nbformat_minor": 2
}
