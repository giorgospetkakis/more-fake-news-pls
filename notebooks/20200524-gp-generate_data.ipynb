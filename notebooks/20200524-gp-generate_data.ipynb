{
 "cells": [
  {
   "cell_type": "code",
   "execution_count": 16,
   "metadata": {},
   "outputs": [],
   "source": [
    "import re\n",
    "import data\n",
    "from utils import go_to_project_root\n",
    "import gpt_2_simple as gpt2\n",
    "import tensorflow as tf"
   ]
  },
  {
   "cell_type": "code",
   "execution_count": 3,
   "metadata": {},
   "outputs": [
    {
     "output_type": "stream",
     "name": "stdout",
     "text": "WARNING:tensorflow:From /Users/giorgos.petkakis/opt/anaconda3/lib/python3.7/site-packages/gpt_2_simple/src/sample.py:17: add_dispatch_support.<locals>.wrapper (from tensorflow.python.ops.array_ops) is deprecated and will be removed in a future version.\nInstructions for updating:\nUse tf.where in 2.0, which has the same broadcast rule as np.where\nLoading checkpoint checkpoint/run1/model-2\nWARNING:tensorflow:From /Users/giorgos.petkakis/opt/anaconda3/lib/python3.7/site-packages/tensorflow/python/training/saver.py:1276: checkpoint_exists (from tensorflow.python.training.checkpoint_management) is deprecated and will be removed in a future version.\nInstructions for updating:\nUse standard file APIs to check for files with this prefix.\nINFO:tensorflow:Restoring parameters from checkpoint/run1/model-2\n  0%|          | 0/1 [00:00<?, ?it/s]Loading dataset...\n100%|██████████| 1/1 [00:11<00:00, 11.63s/it]\ndataset has 489930 tokens\nTraining...\n[3 | 182.70] loss=4.89 avg=4.89\n[4 | 356.58] loss=4.79 avg=4.84\n[5 | 544.86] loss=4.57 avg=4.75\n[6 | 737.45] loss=5.29 avg=4.89\n[7 | 931.18] loss=5.06 avg=4.92\n[8 | 1125.98] loss=5.11 avg=4.95\n[9 | 1310.84] loss=5.23 avg=4.99\n[10 | 1485.04] loss=4.74 avg=4.96\n[11 | 1656.55] loss=4.84 avg=4.95\n[12 | 1828.44] loss=5.00 avg=4.95\n[13 | 1995.03] loss=5.16 avg=4.97\n[14 | 2158.68] loss=4.98 avg=4.97\ninterrupted\nSaving checkpoint/run1/model-14\nA new report that says the United States could be heading to the brink of a nuclear war with North Korea is patently false. I have a lot of questions about this report.\n\nFirst, why would the United States be going to the brink of a nuclear war with North Korea and avoid the worst of the worst?\n\nSecond, why would the United States be going to the brink of a nuclear war with North Korea and avoid the worst of the worst?\n\nThird, why would the United States be going to the brink of a nuclear war with North Korea and avoid the worst of the worst?\n\nFourth, why would the United States be going to the brink of a nuclear war with North Korea and avoid the worst of the worst?\n\nFifth, why would the United States be going to the brink of a nuclear war with North Korea and avoid the worst of the worst?\n\nSixth, why would the United States be going to the brink of a nuclear war with North Korea and avoid the worst of the worst?\n\nSeventh, why would the United States be going to the brink of a nuclear war with North Korea and avoid the worst of the worst?\n\nSeventh, why would the United States be going to the brink of a nuclear war with North Korea and avoid the worst of the worst?\n\nSeventh, why would the United States be going to the brink of a nuclear war with North Korea and avoid the worst of the worst?\n\nSeventh, why would the United States be going to the brink of a nuclear war with North Korea and avoid the worst of the worst?\n\nSeventh, why would the United States be going to the brink of a nuclear war with North Korea and avoid the worst of the worst?\n\nSeventh, why would the United States be going to the brink of a nuclear war with North Korea and avoid the worst of the worst?\n\nSeventh, why would the United States be going to the brink of a nuclear war with North Korea and avoid the worst of the worst?\n\nSeventh, why would the United States be going to the brink of a nuclear war with North Korea and avoid the worst of the worst?\n\nSeventh, why would the United States be going to the brink of a nuclear war with North Korea and avoid the worst of the worst?\n\nSeventh, why would the United States be going to the brink of a nuclear war with North Korea and avoid the worst of the worst?\n\nSeventh, why would the United States be going to the brink of a nuclear war with North Korea and avoid the worst of the worst?\n\nSeventh, why would the United States be going to the brink of a nuclear war with North Korea and avoid the worst of the worst?\n\nSeventh, why would the United States be going to the brink of a nuclear war with North Korea and avoid the worst of the worst?\n\nSeventh, why would the United States be going to the brink of a nuclear war with North Korea and avoid the worst of the worst?\n\nSeventh, why would the United States be going to the brink of a nuclear war with North Korea and avoid the worst of the worst?\n\nSeventh, why would the United States be going to the brink of a nuclear war with North Korea and avoid the worst of the worst?\n\nSeventh, why would the United States be going to the brink of a nuclear war with North Korea and avoid the worst of the worst?\n\nSeventh, why would the United States be going to the brink of a nuclear war with North Korea and avoid the worst of the worst?\n\nSeventh, why would the United States be going to the brink of a nuclear war with North Korea and avoid the worst of the worst?<|endoftext|>I want to work for a company with the right plan. I have a good idea of what a company should look like, what strengths and weaknesses it should have.\n\nThis post will be about the company I work for. This post will be about the company I work for.\n\nI am a freelance writer and a high school graduate with a bachelor's degree in English, a master's degree in social media, an MBA in social media and a master's of communications in social media.\n\nI work at a company with the right plan. I have a good idea of what a company should look like, what strengths and weaknesses it should have.\n\nThis will be a post about the company I work at. This post will be about the company I work at.\n\nI work at a company with the right plan. I have a good idea of what a company should look like, what strengths and weaknesses it should have.\n\nThis post will be about the company I work at. This post will be about the company I work at.\n\nI work at a company with the right plan. I have a good idea of what a company should look like\n"
    }
   ],
   "source": [
    "# gpt2.download_gpt2()   # model is saved into current directory under /models/124M/\n",
    "\n",
    "go_to_project_root()\n",
    "sess = gpt2.start_tf_sess()\n",
    "gpt2.finetune(sess, 'data/interim/clean/1.txt', steps=10000)\n",
    "# gpt2.generate(sess)"
   ]
  },
  {
   "cell_type": "code",
   "execution_count": 15,
   "metadata": {},
   "outputs": [],
   "source": [
    "for i in range(1):    \n",
    "    gpt2.generate(sess, length=100, destination_path=f\"data/interim/generated/{fake-news-i}.txt\")"
   ]
  },
  {
   "cell_type": "code",
   "execution_count": null,
   "metadata": {},
   "outputs": [],
   "source": [
    "a = data.get_processed_data()\n",
    "clean = [\".\".join([re.sub(r\"-pron-\", \"\", t) for t in auth.clean]) for auth in list(a.values())]\n",
    "\n",
    "for i, k in enumerate(a.keys()):\n",
    "    f = open(f\"data/interim/clean/{a[k].truth}.txt\", \"a\")\n",
    "    for i, l in enumerate(clean[i].split(\".\")):\n",
    "        f.writelines(l + \". \")\n",
    "    f.writelines(\"\\n\")\n",
    "f.close()"
   ]
  }
 ],
 "metadata": {
  "language_info": {
   "codemirror_mode": {
    "name": "ipython",
    "version": 3
   },
   "file_extension": ".py",
   "mimetype": "text/x-python",
   "name": "python",
   "nbconvert_exporter": "python",
   "pygments_lexer": "ipython3",
   "version": "3.7.4-final"
  },
  "orig_nbformat": 2,
  "kernelspec": {
   "name": "python37464bitbaseconda4b7668ab7e68468d80b21b4a2524d1d7",
   "display_name": "Python 3.7.4 64-bit ('base': conda)"
  }
 },
 "nbformat": 4,
 "nbformat_minor": 2
}