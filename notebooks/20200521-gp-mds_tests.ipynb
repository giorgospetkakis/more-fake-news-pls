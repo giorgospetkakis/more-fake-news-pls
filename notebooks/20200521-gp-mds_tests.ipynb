{
 "cells": [
  {
   "cell_type": "code",
   "execution_count": 1,
   "metadata": {},
   "outputs": [],
   "source": [
    "from utils import go_to_project_root\n",
    "from sklearn.preprocessing import StandardScaler\n",
    "from sklearn.decomposition import PCA\n",
    "from matplotlib import pyplot as plt\n",
    "import numpy as np\n",
    "import pandas as pd\n",
    "import plotly.express as px"
   ]
  },
  {
   "cell_type": "code",
   "execution_count": 4,
   "metadata": {},
   "outputs": [
    {
     "output_type": "execute_result",
     "data": {
      "text/plain": "Text(0.5, 1.0, 'Principal Component Analysis')"
     },
     "metadata": {},
     "execution_count": 4
    },
    {
     "output_type": "display_data",
     "data": {
      "text/plain": "<Figure size 720x720 with 1 Axes>",
      "image/svg+xml": "<?xml version=\"1.0\" encoding=\"utf-8\" standalone=\"no\"?>\n<!DOCTYPE svg PUBLIC \"-//W3C//DTD SVG 1.1//EN\"\n  \"http://www.w3.org/Graphics/SVG/1.1/DTD/svg11.dtd\">\n<!-- Created with matplotlib (https://matplotlib.org/) -->\n<svg height=\"589.79625pt\" version=\"1.1\" viewBox=\"0 0 594.142187 589.79625\" width=\"594.142187pt\" xmlns=\"http://www.w3.org/2000/svg\" xmlns:xlink=\"http://www.w3.org/1999/xlink\">\n <defs>\n  <style type=\"text/css\">\n*{stroke-linecap:butt;stroke-linejoin:round;}\n  </style>\n </defs>\n <g id=\"figure_1\">\n  <g id=\"patch_1\">\n   <path d=\"M 0 589.79625 \nL 594.142187 589.79625 \nL 594.142187 0 \nL 0 0 \nz\n\" style=\"fill:none;\"/>\n  </g>\n  <g id=\"axes_1\">\n   <g id=\"patch_2\">\n    <path d=\"M 28.942188 565.918125 \nL 586.942188 565.918125 \nL 586.942188 22.318125 \nL 28.942188 22.318125 \nz\n\" style=\"fill:#ffffff;\"/>\n   </g>\n   <g id=\"PathCollection_1\">\n    <defs>\n     <path d=\"M -3 3 \nL 3 -3 \nM -3 -3 \nL 3 3 \n\" id=\"m7e45dd3de1\" style=\"stroke:#ff0000;stroke-width:1.5;\"/>\n    </defs>\n    <g clip-path=\"url(#p7334920b6e)\">\n     <use style=\"fill:#ff0000;stroke:#ff0000;stroke-width:1.5;\" x=\"225.339103\" xlink:href=\"#m7e45dd3de1\" y=\"419.280117\"/>\n     <use style=\"fill:#ff0000;stroke:#ff0000;stroke-width:1.5;\" x=\"121.457931\" xlink:href=\"#m7e45dd3de1\" y=\"270.012857\"/>\n     <use style=\"fill:#ff0000;stroke:#ff0000;stroke-width:1.5;\" x=\"169.223799\" xlink:href=\"#m7e45dd3de1\" y=\"422.591693\"/>\n     <use style=\"fill:#ff0000;stroke:#ff0000;stroke-width:1.5;\" x=\"311.847164\" xlink:href=\"#m7e45dd3de1\" y=\"511.252269\"/>\n     <use style=\"fill:#ff0000;stroke:#ff0000;stroke-width:1.5;\" x=\"182.244002\" xlink:href=\"#m7e45dd3de1\" y=\"383.233282\"/>\n     <use style=\"fill:#ff0000;stroke:#ff0000;stroke-width:1.5;\" x=\"395.729811\" xlink:href=\"#m7e45dd3de1\" y=\"288.556803\"/>\n     <use style=\"fill:#ff0000;stroke:#ff0000;stroke-width:1.5;\" x=\"243.28323\" xlink:href=\"#m7e45dd3de1\" y=\"429.02355\"/>\n     <use style=\"fill:#ff0000;stroke:#ff0000;stroke-width:1.5;\" x=\"184.321496\" xlink:href=\"#m7e45dd3de1\" y=\"413.6282\"/>\n     <use style=\"fill:#ff0000;stroke:#ff0000;stroke-width:1.5;\" x=\"219.413091\" xlink:href=\"#m7e45dd3de1\" y=\"365.273654\"/>\n     <use style=\"fill:#ff0000;stroke:#ff0000;stroke-width:1.5;\" x=\"200.998182\" xlink:href=\"#m7e45dd3de1\" y=\"416.433597\"/>\n     <use style=\"fill:#ff0000;stroke:#ff0000;stroke-width:1.5;\" x=\"206.902715\" xlink:href=\"#m7e45dd3de1\" y=\"389.059651\"/>\n     <use style=\"fill:#ff0000;stroke:#ff0000;stroke-width:1.5;\" x=\"459.407542\" xlink:href=\"#m7e45dd3de1\" y=\"486.135764\"/>\n     <use style=\"fill:#ff0000;stroke:#ff0000;stroke-width:1.5;\" x=\"311.847164\" xlink:href=\"#m7e45dd3de1\" y=\"511.252269\"/>\n     <use style=\"fill:#ff0000;stroke:#ff0000;stroke-width:1.5;\" x=\"362.026197\" xlink:href=\"#m7e45dd3de1\" y=\"338.564367\"/>\n     <use style=\"fill:#ff0000;stroke:#ff0000;stroke-width:1.5;\" x=\"136.983892\" xlink:href=\"#m7e45dd3de1\" y=\"353.051832\"/>\n     <use style=\"fill:#ff0000;stroke:#ff0000;stroke-width:1.5;\" x=\"183.768954\" xlink:href=\"#m7e45dd3de1\" y=\"354.801311\"/>\n     <use style=\"fill:#ff0000;stroke:#ff0000;stroke-width:1.5;\" x=\"195.323271\" xlink:href=\"#m7e45dd3de1\" y=\"352.046295\"/>\n     <use style=\"fill:#ff0000;stroke:#ff0000;stroke-width:1.5;\" x=\"127.545115\" xlink:href=\"#m7e45dd3de1\" y=\"387.847516\"/>\n     <use style=\"fill:#ff0000;stroke:#ff0000;stroke-width:1.5;\" x=\"170.541721\" xlink:href=\"#m7e45dd3de1\" y=\"409.293089\"/>\n     <use style=\"fill:#ff0000;stroke:#ff0000;stroke-width:1.5;\" x=\"200.743256\" xlink:href=\"#m7e45dd3de1\" y=\"406.32945\"/>\n     <use style=\"fill:#ff0000;stroke:#ff0000;stroke-width:1.5;\" x=\"173.948053\" xlink:href=\"#m7e45dd3de1\" y=\"382.7013\"/>\n     <use style=\"fill:#ff0000;stroke:#ff0000;stroke-width:1.5;\" x=\"362.864794\" xlink:href=\"#m7e45dd3de1\" y=\"271.025545\"/>\n     <use style=\"fill:#ff0000;stroke:#ff0000;stroke-width:1.5;\" x=\"263.37615\" xlink:href=\"#m7e45dd3de1\" y=\"374.232813\"/>\n     <use style=\"fill:#ff0000;stroke:#ff0000;stroke-width:1.5;\" x=\"219.971366\" xlink:href=\"#m7e45dd3de1\" y=\"390.018982\"/>\n     <use style=\"fill:#ff0000;stroke:#ff0000;stroke-width:1.5;\" x=\"167.951643\" xlink:href=\"#m7e45dd3de1\" y=\"391.181328\"/>\n     <use style=\"fill:#ff0000;stroke:#ff0000;stroke-width:1.5;\" x=\"196.877543\" xlink:href=\"#m7e45dd3de1\" y=\"409.142205\"/>\n     <use style=\"fill:#ff0000;stroke:#ff0000;stroke-width:1.5;\" x=\"176.491937\" xlink:href=\"#m7e45dd3de1\" y=\"399.956908\"/>\n     <use style=\"fill:#ff0000;stroke:#ff0000;stroke-width:1.5;\" x=\"199.443629\" xlink:href=\"#m7e45dd3de1\" y=\"434.642094\"/>\n     <use style=\"fill:#ff0000;stroke:#ff0000;stroke-width:1.5;\" x=\"157.727522\" xlink:href=\"#m7e45dd3de1\" y=\"372.550212\"/>\n     <use style=\"fill:#ff0000;stroke:#ff0000;stroke-width:1.5;\" x=\"201.679033\" xlink:href=\"#m7e45dd3de1\" y=\"418.998037\"/>\n     <use style=\"fill:#ff0000;stroke:#ff0000;stroke-width:1.5;\" x=\"237.81066\" xlink:href=\"#m7e45dd3de1\" y=\"401.238918\"/>\n     <use style=\"fill:#ff0000;stroke:#ff0000;stroke-width:1.5;\" x=\"142.397955\" xlink:href=\"#m7e45dd3de1\" y=\"371.075188\"/>\n     <use style=\"fill:#ff0000;stroke:#ff0000;stroke-width:1.5;\" x=\"193.000511\" xlink:href=\"#m7e45dd3de1\" y=\"431.175974\"/>\n     <use style=\"fill:#ff0000;stroke:#ff0000;stroke-width:1.5;\" x=\"242.253183\" xlink:href=\"#m7e45dd3de1\" y=\"374.780098\"/>\n     <use style=\"fill:#ff0000;stroke:#ff0000;stroke-width:1.5;\" x=\"251.794411\" xlink:href=\"#m7e45dd3de1\" y=\"371.69064\"/>\n     <use style=\"fill:#ff0000;stroke:#ff0000;stroke-width:1.5;\" x=\"219.250649\" xlink:href=\"#m7e45dd3de1\" y=\"431.169792\"/>\n     <use style=\"fill:#ff0000;stroke:#ff0000;stroke-width:1.5;\" x=\"146.305888\" xlink:href=\"#m7e45dd3de1\" y=\"435.045559\"/>\n     <use style=\"fill:#ff0000;stroke:#ff0000;stroke-width:1.5;\" x=\"187.304289\" xlink:href=\"#m7e45dd3de1\" y=\"385.407138\"/>\n     <use style=\"fill:#ff0000;stroke:#ff0000;stroke-width:1.5;\" x=\"288.180778\" xlink:href=\"#m7e45dd3de1\" y=\"429.182355\"/>\n     <use style=\"fill:#ff0000;stroke:#ff0000;stroke-width:1.5;\" x=\"278.419009\" xlink:href=\"#m7e45dd3de1\" y=\"372.007427\"/>\n     <use style=\"fill:#ff0000;stroke:#ff0000;stroke-width:1.5;\" x=\"205.819594\" xlink:href=\"#m7e45dd3de1\" y=\"423.434637\"/>\n     <use style=\"fill:#ff0000;stroke:#ff0000;stroke-width:1.5;\" x=\"148.130259\" xlink:href=\"#m7e45dd3de1\" y=\"362.042786\"/>\n     <use style=\"fill:#ff0000;stroke:#ff0000;stroke-width:1.5;\" x=\"197.792791\" xlink:href=\"#m7e45dd3de1\" y=\"405.170129\"/>\n     <use style=\"fill:#ff0000;stroke:#ff0000;stroke-width:1.5;\" x=\"211.907311\" xlink:href=\"#m7e45dd3de1\" y=\"317.511774\"/>\n     <use style=\"fill:#ff0000;stroke:#ff0000;stroke-width:1.5;\" x=\"146.181681\" xlink:href=\"#m7e45dd3de1\" y=\"373.937338\"/>\n     <use style=\"fill:#ff0000;stroke:#ff0000;stroke-width:1.5;\" x=\"248.621603\" xlink:href=\"#m7e45dd3de1\" y=\"436.881882\"/>\n     <use style=\"fill:#ff0000;stroke:#ff0000;stroke-width:1.5;\" x=\"364.31514\" xlink:href=\"#m7e45dd3de1\" y=\"375.809862\"/>\n     <use style=\"fill:#ff0000;stroke:#ff0000;stroke-width:1.5;\" x=\"183.640678\" xlink:href=\"#m7e45dd3de1\" y=\"359.34277\"/>\n     <use style=\"fill:#ff0000;stroke:#ff0000;stroke-width:1.5;\" x=\"335.830952\" xlink:href=\"#m7e45dd3de1\" y=\"504.347723\"/>\n     <use style=\"fill:#ff0000;stroke:#ff0000;stroke-width:1.5;\" x=\"263.89574\" xlink:href=\"#m7e45dd3de1\" y=\"333.277783\"/>\n     <use style=\"fill:#ff0000;stroke:#ff0000;stroke-width:1.5;\" x=\"143.880039\" xlink:href=\"#m7e45dd3de1\" y=\"395.798115\"/>\n     <use style=\"fill:#ff0000;stroke:#ff0000;stroke-width:1.5;\" x=\"222.348038\" xlink:href=\"#m7e45dd3de1\" y=\"426.380124\"/>\n     <use style=\"fill:#ff0000;stroke:#ff0000;stroke-width:1.5;\" x=\"175.900835\" xlink:href=\"#m7e45dd3de1\" y=\"393.927676\"/>\n     <use style=\"fill:#ff0000;stroke:#ff0000;stroke-width:1.5;\" x=\"174.239295\" xlink:href=\"#m7e45dd3de1\" y=\"317.744959\"/>\n     <use style=\"fill:#ff0000;stroke:#ff0000;stroke-width:1.5;\" x=\"205.918747\" xlink:href=\"#m7e45dd3de1\" y=\"442.365856\"/>\n     <use style=\"fill:#ff0000;stroke:#ff0000;stroke-width:1.5;\" x=\"176.44094\" xlink:href=\"#m7e45dd3de1\" y=\"399.055318\"/>\n     <use style=\"fill:#ff0000;stroke:#ff0000;stroke-width:1.5;\" x=\"218.037674\" xlink:href=\"#m7e45dd3de1\" y=\"407.276584\"/>\n     <use style=\"fill:#ff0000;stroke:#ff0000;stroke-width:1.5;\" x=\"379.440798\" xlink:href=\"#m7e45dd3de1\" y=\"407.416786\"/>\n     <use style=\"fill:#ff0000;stroke:#ff0000;stroke-width:1.5;\" x=\"216.984733\" xlink:href=\"#m7e45dd3de1\" y=\"314.429503\"/>\n     <use style=\"fill:#ff0000;stroke:#ff0000;stroke-width:1.5;\" x=\"257.746645\" xlink:href=\"#m7e45dd3de1\" y=\"447.197777\"/>\n     <use style=\"fill:#ff0000;stroke:#ff0000;stroke-width:1.5;\" x=\"122.405881\" xlink:href=\"#m7e45dd3de1\" y=\"267.769491\"/>\n     <use style=\"fill:#ff0000;stroke:#ff0000;stroke-width:1.5;\" x=\"131.45974\" xlink:href=\"#m7e45dd3de1\" y=\"388.209077\"/>\n     <use style=\"fill:#ff0000;stroke:#ff0000;stroke-width:1.5;\" x=\"194.404913\" xlink:href=\"#m7e45dd3de1\" y=\"409.622304\"/>\n     <use style=\"fill:#ff0000;stroke:#ff0000;stroke-width:1.5;\" x=\"157.884519\" xlink:href=\"#m7e45dd3de1\" y=\"411.292216\"/>\n     <use style=\"fill:#ff0000;stroke:#ff0000;stroke-width:1.5;\" x=\"183.065611\" xlink:href=\"#m7e45dd3de1\" y=\"416.957011\"/>\n     <use style=\"fill:#ff0000;stroke:#ff0000;stroke-width:1.5;\" x=\"248.714026\" xlink:href=\"#m7e45dd3de1\" y=\"59.353907\"/>\n     <use style=\"fill:#ff0000;stroke:#ff0000;stroke-width:1.5;\" x=\"167.682024\" xlink:href=\"#m7e45dd3de1\" y=\"357.202409\"/>\n     <use style=\"fill:#ff0000;stroke:#ff0000;stroke-width:1.5;\" x=\"132.424696\" xlink:href=\"#m7e45dd3de1\" y=\"211.354393\"/>\n     <use style=\"fill:#ff0000;stroke:#ff0000;stroke-width:1.5;\" x=\"180.077083\" xlink:href=\"#m7e45dd3de1\" y=\"387.102914\"/>\n     <use style=\"fill:#ff0000;stroke:#ff0000;stroke-width:1.5;\" x=\"372.789133\" xlink:href=\"#m7e45dd3de1\" y=\"444.157288\"/>\n     <use style=\"fill:#ff0000;stroke:#ff0000;stroke-width:1.5;\" x=\"322.595571\" xlink:href=\"#m7e45dd3de1\" y=\"509.066992\"/>\n     <use style=\"fill:#ff0000;stroke:#ff0000;stroke-width:1.5;\" x=\"232.365004\" xlink:href=\"#m7e45dd3de1\" y=\"413.750184\"/>\n     <use style=\"fill:#ff0000;stroke:#ff0000;stroke-width:1.5;\" x=\"311.847164\" xlink:href=\"#m7e45dd3de1\" y=\"511.252269\"/>\n     <use style=\"fill:#ff0000;stroke:#ff0000;stroke-width:1.5;\" x=\"220.415746\" xlink:href=\"#m7e45dd3de1\" y=\"356.531073\"/>\n     <use style=\"fill:#ff0000;stroke:#ff0000;stroke-width:1.5;\" x=\"183.030487\" xlink:href=\"#m7e45dd3de1\" y=\"408.921723\"/>\n     <use style=\"fill:#ff0000;stroke:#ff0000;stroke-width:1.5;\" x=\"242.687893\" xlink:href=\"#m7e45dd3de1\" y=\"326.679759\"/>\n     <use style=\"fill:#ff0000;stroke:#ff0000;stroke-width:1.5;\" x=\"192.910878\" xlink:href=\"#m7e45dd3de1\" y=\"361.297938\"/>\n     <use style=\"fill:#ff0000;stroke:#ff0000;stroke-width:1.5;\" x=\"240.300227\" xlink:href=\"#m7e45dd3de1\" y=\"428.198682\"/>\n     <use style=\"fill:#ff0000;stroke:#ff0000;stroke-width:1.5;\" x=\"143.880534\" xlink:href=\"#m7e45dd3de1\" y=\"370.618591\"/>\n     <use style=\"fill:#ff0000;stroke:#ff0000;stroke-width:1.5;\" x=\"143.247885\" xlink:href=\"#m7e45dd3de1\" y=\"374.90421\"/>\n     <use style=\"fill:#ff0000;stroke:#ff0000;stroke-width:1.5;\" x=\"242.44187\" xlink:href=\"#m7e45dd3de1\" y=\"330.570332\"/>\n     <use style=\"fill:#ff0000;stroke:#ff0000;stroke-width:1.5;\" x=\"266.559003\" xlink:href=\"#m7e45dd3de1\" y=\"361.47123\"/>\n     <use style=\"fill:#ff0000;stroke:#ff0000;stroke-width:1.5;\" x=\"222.879926\" xlink:href=\"#m7e45dd3de1\" y=\"318.397391\"/>\n     <use style=\"fill:#ff0000;stroke:#ff0000;stroke-width:1.5;\" x=\"200.123863\" xlink:href=\"#m7e45dd3de1\" y=\"404.440365\"/>\n     <use style=\"fill:#ff0000;stroke:#ff0000;stroke-width:1.5;\" x=\"172.461059\" xlink:href=\"#m7e45dd3de1\" y=\"309.450333\"/>\n     <use style=\"fill:#ff0000;stroke:#ff0000;stroke-width:1.5;\" x=\"304.192863\" xlink:href=\"#m7e45dd3de1\" y=\"305.762971\"/>\n     <use style=\"fill:#ff0000;stroke:#ff0000;stroke-width:1.5;\" x=\"221.440585\" xlink:href=\"#m7e45dd3de1\" y=\"382.393079\"/>\n     <use style=\"fill:#ff0000;stroke:#ff0000;stroke-width:1.5;\" x=\"265.654803\" xlink:href=\"#m7e45dd3de1\" y=\"315.578221\"/>\n     <use style=\"fill:#ff0000;stroke:#ff0000;stroke-width:1.5;\" x=\"127.377121\" xlink:href=\"#m7e45dd3de1\" y=\"231.521007\"/>\n     <use style=\"fill:#ff0000;stroke:#ff0000;stroke-width:1.5;\" x=\"177.589277\" xlink:href=\"#m7e45dd3de1\" y=\"391.987894\"/>\n     <use style=\"fill:#ff0000;stroke:#ff0000;stroke-width:1.5;\" x=\"98.969489\" xlink:href=\"#m7e45dd3de1\" y=\"318.721983\"/>\n     <use style=\"fill:#ff0000;stroke:#ff0000;stroke-width:1.5;\" x=\"339.317306\" xlink:href=\"#m7e45dd3de1\" y=\"490.870537\"/>\n     <use style=\"fill:#ff0000;stroke:#ff0000;stroke-width:1.5;\" x=\"202.26589\" xlink:href=\"#m7e45dd3de1\" y=\"276.814115\"/>\n     <use style=\"fill:#ff0000;stroke:#ff0000;stroke-width:1.5;\" x=\"54.745229\" xlink:href=\"#m7e45dd3de1\" y=\"321.808418\"/>\n     <use style=\"fill:#ff0000;stroke:#ff0000;stroke-width:1.5;\" x=\"165.017378\" xlink:href=\"#m7e45dd3de1\" y=\"357.575862\"/>\n     <use style=\"fill:#ff0000;stroke:#ff0000;stroke-width:1.5;\" x=\"167.074199\" xlink:href=\"#m7e45dd3de1\" y=\"413.001577\"/>\n     <use style=\"fill:#ff0000;stroke:#ff0000;stroke-width:1.5;\" x=\"72.17751\" xlink:href=\"#m7e45dd3de1\" y=\"308.495105\"/>\n     <use style=\"fill:#ff0000;stroke:#ff0000;stroke-width:1.5;\" x=\"169.640118\" xlink:href=\"#m7e45dd3de1\" y=\"418.859091\"/>\n     <use style=\"fill:#ff0000;stroke:#ff0000;stroke-width:1.5;\" x=\"410.35989\" xlink:href=\"#m7e45dd3de1\" y=\"408.102403\"/>\n     <use style=\"fill:#ff0000;stroke:#ff0000;stroke-width:1.5;\" x=\"333.928581\" xlink:href=\"#m7e45dd3de1\" y=\"324.522497\"/>\n     <use style=\"fill:#ff0000;stroke:#ff0000;stroke-width:1.5;\" x=\"189.262393\" xlink:href=\"#m7e45dd3de1\" y=\"431.373747\"/>\n     <use style=\"fill:#ff0000;stroke:#ff0000;stroke-width:1.5;\" x=\"161.322715\" xlink:href=\"#m7e45dd3de1\" y=\"394.595246\"/>\n     <use style=\"fill:#ff0000;stroke:#ff0000;stroke-width:1.5;\" x=\"274.197417\" xlink:href=\"#m7e45dd3de1\" y=\"395.651402\"/>\n     <use style=\"fill:#ff0000;stroke:#ff0000;stroke-width:1.5;\" x=\"156.164612\" xlink:href=\"#m7e45dd3de1\" y=\"393.316771\"/>\n     <use style=\"fill:#ff0000;stroke:#ff0000;stroke-width:1.5;\" x=\"208.648053\" xlink:href=\"#m7e45dd3de1\" y=\"411.005882\"/>\n     <use style=\"fill:#ff0000;stroke:#ff0000;stroke-width:1.5;\" x=\"146.488834\" xlink:href=\"#m7e45dd3de1\" y=\"363.654379\"/>\n     <use style=\"fill:#ff0000;stroke:#ff0000;stroke-width:1.5;\" x=\"103.98006\" xlink:href=\"#m7e45dd3de1\" y=\"344.170704\"/>\n     <use style=\"fill:#ff0000;stroke:#ff0000;stroke-width:1.5;\" x=\"146.844204\" xlink:href=\"#m7e45dd3de1\" y=\"368.001437\"/>\n     <use style=\"fill:#ff0000;stroke:#ff0000;stroke-width:1.5;\" x=\"315.465931\" xlink:href=\"#m7e45dd3de1\" y=\"541.006897\"/>\n     <use style=\"fill:#ff0000;stroke:#ff0000;stroke-width:1.5;\" x=\"267.885351\" xlink:href=\"#m7e45dd3de1\" y=\"382.836118\"/>\n     <use style=\"fill:#ff0000;stroke:#ff0000;stroke-width:1.5;\" x=\"194.78591\" xlink:href=\"#m7e45dd3de1\" y=\"406.977667\"/>\n     <use style=\"fill:#ff0000;stroke:#ff0000;stroke-width:1.5;\" x=\"322.282924\" xlink:href=\"#m7e45dd3de1\" y=\"311.75837\"/>\n     <use style=\"fill:#ff0000;stroke:#ff0000;stroke-width:1.5;\" x=\"221.235964\" xlink:href=\"#m7e45dd3de1\" y=\"431.054719\"/>\n     <use style=\"fill:#ff0000;stroke:#ff0000;stroke-width:1.5;\" x=\"200.443543\" xlink:href=\"#m7e45dd3de1\" y=\"402.856438\"/>\n     <use style=\"fill:#ff0000;stroke:#ff0000;stroke-width:1.5;\" x=\"198.082895\" xlink:href=\"#m7e45dd3de1\" y=\"397.282098\"/>\n     <use style=\"fill:#ff0000;stroke:#ff0000;stroke-width:1.5;\" x=\"223.812731\" xlink:href=\"#m7e45dd3de1\" y=\"418.111779\"/>\n     <use style=\"fill:#ff0000;stroke:#ff0000;stroke-width:1.5;\" x=\"265.107528\" xlink:href=\"#m7e45dd3de1\" y=\"320.768277\"/>\n     <use style=\"fill:#ff0000;stroke:#ff0000;stroke-width:1.5;\" x=\"182.611044\" xlink:href=\"#m7e45dd3de1\" y=\"410.15814\"/>\n     <use style=\"fill:#ff0000;stroke:#ff0000;stroke-width:1.5;\" x=\"182.130038\" xlink:href=\"#m7e45dd3de1\" y=\"347.974007\"/>\n     <use style=\"fill:#ff0000;stroke:#ff0000;stroke-width:1.5;\" x=\"210.199078\" xlink:href=\"#m7e45dd3de1\" y=\"423.516029\"/>\n     <use style=\"fill:#ff0000;stroke:#ff0000;stroke-width:1.5;\" x=\"311.847164\" xlink:href=\"#m7e45dd3de1\" y=\"511.252269\"/>\n     <use style=\"fill:#ff0000;stroke:#ff0000;stroke-width:1.5;\" x=\"151.704067\" xlink:href=\"#m7e45dd3de1\" y=\"377.333365\"/>\n     <use style=\"fill:#ff0000;stroke:#ff0000;stroke-width:1.5;\" x=\"206.27207\" xlink:href=\"#m7e45dd3de1\" y=\"416.856281\"/>\n     <use style=\"fill:#ff0000;stroke:#ff0000;stroke-width:1.5;\" x=\"114.273123\" xlink:href=\"#m7e45dd3de1\" y=\"340.710696\"/>\n     <use style=\"fill:#ff0000;stroke:#ff0000;stroke-width:1.5;\" x=\"73.291211\" xlink:href=\"#m7e45dd3de1\" y=\"160.02021\"/>\n     <use style=\"fill:#ff0000;stroke:#ff0000;stroke-width:1.5;\" x=\"322.595571\" xlink:href=\"#m7e45dd3de1\" y=\"509.066992\"/>\n     <use style=\"fill:#ff0000;stroke:#ff0000;stroke-width:1.5;\" x=\"128.471875\" xlink:href=\"#m7e45dd3de1\" y=\"360.678808\"/>\n     <use style=\"fill:#ff0000;stroke:#ff0000;stroke-width:1.5;\" x=\"133.875208\" xlink:href=\"#m7e45dd3de1\" y=\"382.748713\"/>\n     <use style=\"fill:#ff0000;stroke:#ff0000;stroke-width:1.5;\" x=\"223.074673\" xlink:href=\"#m7e45dd3de1\" y=\"384.646735\"/>\n     <use style=\"fill:#ff0000;stroke:#ff0000;stroke-width:1.5;\" x=\"212.617349\" xlink:href=\"#m7e45dd3de1\" y=\"411.370964\"/>\n     <use style=\"fill:#ff0000;stroke:#ff0000;stroke-width:1.5;\" x=\"162.974444\" xlink:href=\"#m7e45dd3de1\" y=\"364.442785\"/>\n     <use style=\"fill:#ff0000;stroke:#ff0000;stroke-width:1.5;\" x=\"316.552106\" xlink:href=\"#m7e45dd3de1\" y=\"426.968348\"/>\n     <use style=\"fill:#ff0000;stroke:#ff0000;stroke-width:1.5;\" x=\"322.286176\" xlink:href=\"#m7e45dd3de1\" y=\"426.395457\"/>\n     <use style=\"fill:#ff0000;stroke:#ff0000;stroke-width:1.5;\" x=\"278.052286\" xlink:href=\"#m7e45dd3de1\" y=\"379.196672\"/>\n     <use style=\"fill:#ff0000;stroke:#ff0000;stroke-width:1.5;\" x=\"462.449457\" xlink:href=\"#m7e45dd3de1\" y=\"348.475983\"/>\n     <use style=\"fill:#ff0000;stroke:#ff0000;stroke-width:1.5;\" x=\"234.899104\" xlink:href=\"#m7e45dd3de1\" y=\"366.450713\"/>\n     <use style=\"fill:#ff0000;stroke:#ff0000;stroke-width:1.5;\" x=\"196.44016\" xlink:href=\"#m7e45dd3de1\" y=\"331.217735\"/>\n     <use style=\"fill:#ff0000;stroke:#ff0000;stroke-width:1.5;\" x=\"216.335716\" xlink:href=\"#m7e45dd3de1\" y=\"426.524248\"/>\n     <use style=\"fill:#ff0000;stroke:#ff0000;stroke-width:1.5;\" x=\"172.498879\" xlink:href=\"#m7e45dd3de1\" y=\"357.171888\"/>\n     <use style=\"fill:#ff0000;stroke:#ff0000;stroke-width:1.5;\" x=\"185.663484\" xlink:href=\"#m7e45dd3de1\" y=\"329.264076\"/>\n     <use style=\"fill:#ff0000;stroke:#ff0000;stroke-width:1.5;\" x=\"117.261841\" xlink:href=\"#m7e45dd3de1\" y=\"347.5194\"/>\n     <use style=\"fill:#ff0000;stroke:#ff0000;stroke-width:1.5;\" x=\"218.312611\" xlink:href=\"#m7e45dd3de1\" y=\"413.349945\"/>\n     <use style=\"fill:#ff0000;stroke:#ff0000;stroke-width:1.5;\" x=\"195.658599\" xlink:href=\"#m7e45dd3de1\" y=\"269.337523\"/>\n     <use style=\"fill:#ff0000;stroke:#ff0000;stroke-width:1.5;\" x=\"279.975552\" xlink:href=\"#m7e45dd3de1\" y=\"349.183751\"/>\n     <use style=\"fill:#ff0000;stroke:#ff0000;stroke-width:1.5;\" x=\"139.506775\" xlink:href=\"#m7e45dd3de1\" y=\"204.364158\"/>\n     <use style=\"fill:#ff0000;stroke:#ff0000;stroke-width:1.5;\" x=\"194.714037\" xlink:href=\"#m7e45dd3de1\" y=\"348.810818\"/>\n     <use style=\"fill:#ff0000;stroke:#ff0000;stroke-width:1.5;\" x=\"256.667587\" xlink:href=\"#m7e45dd3de1\" y=\"295.51384\"/>\n     <use style=\"fill:#ff0000;stroke:#ff0000;stroke-width:1.5;\" x=\"192.587725\" xlink:href=\"#m7e45dd3de1\" y=\"397.328717\"/>\n     <use style=\"fill:#ff0000;stroke:#ff0000;stroke-width:1.5;\" x=\"450.223477\" xlink:href=\"#m7e45dd3de1\" y=\"257.695382\"/>\n     <use style=\"fill:#ff0000;stroke:#ff0000;stroke-width:1.5;\" x=\"130.182227\" xlink:href=\"#m7e45dd3de1\" y=\"311.915456\"/>\n    </g>\n   </g>\n   <g id=\"PathCollection_2\">\n    <defs>\n     <path d=\"M 0 3 \nC 0.795609 3 1.55874 2.683901 2.12132 2.12132 \nC 2.683901 1.55874 3 0.795609 3 0 \nC 3 -0.795609 2.683901 -1.55874 2.12132 -2.12132 \nC 1.55874 -2.683901 0.795609 -3 0 -3 \nC -0.795609 -3 -1.55874 -2.683901 -2.12132 -2.12132 \nC -2.683901 -1.55874 -3 -0.795609 -3 0 \nC -3 0.795609 -2.683901 1.55874 -2.12132 2.12132 \nC -1.55874 2.683901 -0.795609 3 0 3 \nz\n\" id=\"m98f5625d92\" style=\"stroke:#0000ff;stroke-opacity:0.8;\"/>\n    </defs>\n    <g clip-path=\"url(#p7334920b6e)\">\n     <use style=\"fill:#0000ff;fill-opacity:0.8;stroke:#0000ff;stroke-opacity:0.8;\" x=\"275.827365\" xlink:href=\"#m98f5625d92\" y=\"49.953612\"/>\n     <use style=\"fill:#0000ff;fill-opacity:0.8;stroke:#0000ff;stroke-opacity:0.8;\" x=\"221.021218\" xlink:href=\"#m98f5625d92\" y=\"352.109195\"/>\n     <use style=\"fill:#0000ff;fill-opacity:0.8;stroke:#0000ff;stroke-opacity:0.8;\" x=\"200.519002\" xlink:href=\"#m98f5625d92\" y=\"366.674995\"/>\n     <use style=\"fill:#0000ff;fill-opacity:0.8;stroke:#0000ff;stroke-opacity:0.8;\" x=\"324.973411\" xlink:href=\"#m98f5625d92\" y=\"411.452554\"/>\n     <use style=\"fill:#0000ff;fill-opacity:0.8;stroke:#0000ff;stroke-opacity:0.8;\" x=\"377.831476\" xlink:href=\"#m98f5625d92\" y=\"279.388801\"/>\n     <use style=\"fill:#0000ff;fill-opacity:0.8;stroke:#0000ff;stroke-opacity:0.8;\" x=\"428.097591\" xlink:href=\"#m98f5625d92\" y=\"349.927744\"/>\n     <use style=\"fill:#0000ff;fill-opacity:0.8;stroke:#0000ff;stroke-opacity:0.8;\" x=\"201.987378\" xlink:href=\"#m98f5625d92\" y=\"359.438505\"/>\n     <use style=\"fill:#0000ff;fill-opacity:0.8;stroke:#0000ff;stroke-opacity:0.8;\" x=\"365.866202\" xlink:href=\"#m98f5625d92\" y=\"140.003354\"/>\n     <use style=\"fill:#0000ff;fill-opacity:0.8;stroke:#0000ff;stroke-opacity:0.8;\" x=\"184.666719\" xlink:href=\"#m98f5625d92\" y=\"311.995817\"/>\n     <use style=\"fill:#0000ff;fill-opacity:0.8;stroke:#0000ff;stroke-opacity:0.8;\" x=\"212.679577\" xlink:href=\"#m98f5625d92\" y=\"327.994524\"/>\n     <use style=\"fill:#0000ff;fill-opacity:0.8;stroke:#0000ff;stroke-opacity:0.8;\" x=\"115.771116\" xlink:href=\"#m98f5625d92\" y=\"149.639628\"/>\n     <use style=\"fill:#0000ff;fill-opacity:0.8;stroke:#0000ff;stroke-opacity:0.8;\" x=\"206.080305\" xlink:href=\"#m98f5625d92\" y=\"361.781537\"/>\n     <use style=\"fill:#0000ff;fill-opacity:0.8;stroke:#0000ff;stroke-opacity:0.8;\" x=\"382.034167\" xlink:href=\"#m98f5625d92\" y=\"315.675093\"/>\n     <use style=\"fill:#0000ff;fill-opacity:0.8;stroke:#0000ff;stroke-opacity:0.8;\" x=\"240.577207\" xlink:href=\"#m98f5625d92\" y=\"343.059601\"/>\n     <use style=\"fill:#0000ff;fill-opacity:0.8;stroke:#0000ff;stroke-opacity:0.8;\" x=\"374.688314\" xlink:href=\"#m98f5625d92\" y=\"276.404199\"/>\n     <use style=\"fill:#0000ff;fill-opacity:0.8;stroke:#0000ff;stroke-opacity:0.8;\" x=\"212.8155\" xlink:href=\"#m98f5625d92\" y=\"369.556147\"/>\n     <use style=\"fill:#0000ff;fill-opacity:0.8;stroke:#0000ff;stroke-opacity:0.8;\" x=\"409.585112\" xlink:href=\"#m98f5625d92\" y=\"253.149057\"/>\n     <use style=\"fill:#0000ff;fill-opacity:0.8;stroke:#0000ff;stroke-opacity:0.8;\" x=\"162.186339\" xlink:href=\"#m98f5625d92\" y=\"361.568066\"/>\n     <use style=\"fill:#0000ff;fill-opacity:0.8;stroke:#0000ff;stroke-opacity:0.8;\" x=\"180.908902\" xlink:href=\"#m98f5625d92\" y=\"330.45767\"/>\n     <use style=\"fill:#0000ff;fill-opacity:0.8;stroke:#0000ff;stroke-opacity:0.8;\" x=\"398.006336\" xlink:href=\"#m98f5625d92\" y=\"211.090095\"/>\n     <use style=\"fill:#0000ff;fill-opacity:0.8;stroke:#0000ff;stroke-opacity:0.8;\" x=\"147.884836\" xlink:href=\"#m98f5625d92\" y=\"388.493291\"/>\n     <use style=\"fill:#0000ff;fill-opacity:0.8;stroke:#0000ff;stroke-opacity:0.8;\" x=\"177.940198\" xlink:href=\"#m98f5625d92\" y=\"294.136195\"/>\n     <use style=\"fill:#0000ff;fill-opacity:0.8;stroke:#0000ff;stroke-opacity:0.8;\" x=\"169.818123\" xlink:href=\"#m98f5625d92\" y=\"347.401335\"/>\n     <use style=\"fill:#0000ff;fill-opacity:0.8;stroke:#0000ff;stroke-opacity:0.8;\" x=\"118.815489\" xlink:href=\"#m98f5625d92\" y=\"308.428124\"/>\n     <use style=\"fill:#0000ff;fill-opacity:0.8;stroke:#0000ff;stroke-opacity:0.8;\" x=\"218.662525\" xlink:href=\"#m98f5625d92\" y=\"320.387096\"/>\n     <use style=\"fill:#0000ff;fill-opacity:0.8;stroke:#0000ff;stroke-opacity:0.8;\" x=\"157.769983\" xlink:href=\"#m98f5625d92\" y=\"333.259247\"/>\n     <use style=\"fill:#0000ff;fill-opacity:0.8;stroke:#0000ff;stroke-opacity:0.8;\" x=\"118.398149\" xlink:href=\"#m98f5625d92\" y=\"318.954615\"/>\n     <use style=\"fill:#0000ff;fill-opacity:0.8;stroke:#0000ff;stroke-opacity:0.8;\" x=\"427.343207\" xlink:href=\"#m98f5625d92\" y=\"310.345536\"/>\n     <use style=\"fill:#0000ff;fill-opacity:0.8;stroke:#0000ff;stroke-opacity:0.8;\" x=\"318.51529\" xlink:href=\"#m98f5625d92\" y=\"267.518989\"/>\n     <use style=\"fill:#0000ff;fill-opacity:0.8;stroke:#0000ff;stroke-opacity:0.8;\" x=\"109.544825\" xlink:href=\"#m98f5625d92\" y=\"179.525748\"/>\n     <use style=\"fill:#0000ff;fill-opacity:0.8;stroke:#0000ff;stroke-opacity:0.8;\" x=\"154.884918\" xlink:href=\"#m98f5625d92\" y=\"377.887414\"/>\n     <use style=\"fill:#0000ff;fill-opacity:0.8;stroke:#0000ff;stroke-opacity:0.8;\" x=\"157.504204\" xlink:href=\"#m98f5625d92\" y=\"374.186526\"/>\n     <use style=\"fill:#0000ff;fill-opacity:0.8;stroke:#0000ff;stroke-opacity:0.8;\" x=\"336.193018\" xlink:href=\"#m98f5625d92\" y=\"309.357598\"/>\n     <use style=\"fill:#0000ff;fill-opacity:0.8;stroke:#0000ff;stroke-opacity:0.8;\" x=\"91.324534\" xlink:href=\"#m98f5625d92\" y=\"195.68968\"/>\n     <use style=\"fill:#0000ff;fill-opacity:0.8;stroke:#0000ff;stroke-opacity:0.8;\" x=\"134.41865\" xlink:href=\"#m98f5625d92\" y=\"337.42396\"/>\n     <use style=\"fill:#0000ff;fill-opacity:0.8;stroke:#0000ff;stroke-opacity:0.8;\" x=\"167.971865\" xlink:href=\"#m98f5625d92\" y=\"395.719995\"/>\n     <use style=\"fill:#0000ff;fill-opacity:0.8;stroke:#0000ff;stroke-opacity:0.8;\" x=\"282.099528\" xlink:href=\"#m98f5625d92\" y=\"386.873791\"/>\n     <use style=\"fill:#0000ff;fill-opacity:0.8;stroke:#0000ff;stroke-opacity:0.8;\" x=\"350.496464\" xlink:href=\"#m98f5625d92\" y=\"376.385185\"/>\n     <use style=\"fill:#0000ff;fill-opacity:0.8;stroke:#0000ff;stroke-opacity:0.8;\" x=\"245.635373\" xlink:href=\"#m98f5625d92\" y=\"324.079133\"/>\n     <use style=\"fill:#0000ff;fill-opacity:0.8;stroke:#0000ff;stroke-opacity:0.8;\" x=\"136.852764\" xlink:href=\"#m98f5625d92\" y=\"368.674529\"/>\n     <use style=\"fill:#0000ff;fill-opacity:0.8;stroke:#0000ff;stroke-opacity:0.8;\" x=\"169.474791\" xlink:href=\"#m98f5625d92\" y=\"357.722345\"/>\n     <use style=\"fill:#0000ff;fill-opacity:0.8;stroke:#0000ff;stroke-opacity:0.8;\" x=\"286.621264\" xlink:href=\"#m98f5625d92\" y=\"382.139679\"/>\n     <use style=\"fill:#0000ff;fill-opacity:0.8;stroke:#0000ff;stroke-opacity:0.8;\" x=\"159.240595\" xlink:href=\"#m98f5625d92\" y=\"367.406226\"/>\n     <use style=\"fill:#0000ff;fill-opacity:0.8;stroke:#0000ff;stroke-opacity:0.8;\" x=\"154.94468\" xlink:href=\"#m98f5625d92\" y=\"279.673475\"/>\n     <use style=\"fill:#0000ff;fill-opacity:0.8;stroke:#0000ff;stroke-opacity:0.8;\" x=\"274.212552\" xlink:href=\"#m98f5625d92\" y=\"323.373032\"/>\n     <use style=\"fill:#0000ff;fill-opacity:0.8;stroke:#0000ff;stroke-opacity:0.8;\" x=\"170.281592\" xlink:href=\"#m98f5625d92\" y=\"224.735698\"/>\n     <use style=\"fill:#0000ff;fill-opacity:0.8;stroke:#0000ff;stroke-opacity:0.8;\" x=\"233.361395\" xlink:href=\"#m98f5625d92\" y=\"298.220695\"/>\n     <use style=\"fill:#0000ff;fill-opacity:0.8;stroke:#0000ff;stroke-opacity:0.8;\" x=\"196.274444\" xlink:href=\"#m98f5625d92\" y=\"362.967381\"/>\n     <use style=\"fill:#0000ff;fill-opacity:0.8;stroke:#0000ff;stroke-opacity:0.8;\" x=\"90.914047\" xlink:href=\"#m98f5625d92\" y=\"272.798575\"/>\n     <use style=\"fill:#0000ff;fill-opacity:0.8;stroke:#0000ff;stroke-opacity:0.8;\" x=\"268.162539\" xlink:href=\"#m98f5625d92\" y=\"341.787521\"/>\n     <use style=\"fill:#0000ff;fill-opacity:0.8;stroke:#0000ff;stroke-opacity:0.8;\" x=\"286.036742\" xlink:href=\"#m98f5625d92\" y=\"381.846187\"/>\n     <use style=\"fill:#0000ff;fill-opacity:0.8;stroke:#0000ff;stroke-opacity:0.8;\" x=\"424.150439\" xlink:href=\"#m98f5625d92\" y=\"452.557247\"/>\n     <use style=\"fill:#0000ff;fill-opacity:0.8;stroke:#0000ff;stroke-opacity:0.8;\" x=\"301.027225\" xlink:href=\"#m98f5625d92\" y=\"386.710771\"/>\n     <use style=\"fill:#0000ff;fill-opacity:0.8;stroke:#0000ff;stroke-opacity:0.8;\" x=\"124.270555\" xlink:href=\"#m98f5625d92\" y=\"292.731981\"/>\n     <use style=\"fill:#0000ff;fill-opacity:0.8;stroke:#0000ff;stroke-opacity:0.8;\" x=\"205.387214\" xlink:href=\"#m98f5625d92\" y=\"315.754762\"/>\n     <use style=\"fill:#0000ff;fill-opacity:0.8;stroke:#0000ff;stroke-opacity:0.8;\" x=\"379.557795\" xlink:href=\"#m98f5625d92\" y=\"465.10274\"/>\n     <use style=\"fill:#0000ff;fill-opacity:0.8;stroke:#0000ff;stroke-opacity:0.8;\" x=\"294.552672\" xlink:href=\"#m98f5625d92\" y=\"94.606428\"/>\n     <use style=\"fill:#0000ff;fill-opacity:0.8;stroke:#0000ff;stroke-opacity:0.8;\" x=\"84.22892\" xlink:href=\"#m98f5625d92\" y=\"232.442409\"/>\n     <use style=\"fill:#0000ff;fill-opacity:0.8;stroke:#0000ff;stroke-opacity:0.8;\" x=\"379.561945\" xlink:href=\"#m98f5625d92\" y=\"398.246618\"/>\n     <use style=\"fill:#0000ff;fill-opacity:0.8;stroke:#0000ff;stroke-opacity:0.8;\" x=\"385.891045\" xlink:href=\"#m98f5625d92\" y=\"347.977119\"/>\n     <use style=\"fill:#0000ff;fill-opacity:0.8;stroke:#0000ff;stroke-opacity:0.8;\" x=\"366.432255\" xlink:href=\"#m98f5625d92\" y=\"269.969003\"/>\n     <use style=\"fill:#0000ff;fill-opacity:0.8;stroke:#0000ff;stroke-opacity:0.8;\" x=\"362.413914\" xlink:href=\"#m98f5625d92\" y=\"161.454792\"/>\n     <use style=\"fill:#0000ff;fill-opacity:0.8;stroke:#0000ff;stroke-opacity:0.8;\" x=\"62.597503\" xlink:href=\"#m98f5625d92\" y=\"280.030499\"/>\n     <use style=\"fill:#0000ff;fill-opacity:0.8;stroke:#0000ff;stroke-opacity:0.8;\" x=\"275.26336\" xlink:href=\"#m98f5625d92\" y=\"409.069508\"/>\n     <use style=\"fill:#0000ff;fill-opacity:0.8;stroke:#0000ff;stroke-opacity:0.8;\" x=\"180.947425\" xlink:href=\"#m98f5625d92\" y=\"409.600709\"/>\n     <use style=\"fill:#0000ff;fill-opacity:0.8;stroke:#0000ff;stroke-opacity:0.8;\" x=\"230.539023\" xlink:href=\"#m98f5625d92\" y=\"370.000552\"/>\n     <use style=\"fill:#0000ff;fill-opacity:0.8;stroke:#0000ff;stroke-opacity:0.8;\" x=\"208.342929\" xlink:href=\"#m98f5625d92\" y=\"354.26569\"/>\n     <use style=\"fill:#0000ff;fill-opacity:0.8;stroke:#0000ff;stroke-opacity:0.8;\" x=\"193.857371\" xlink:href=\"#m98f5625d92\" y=\"343.852442\"/>\n     <use style=\"fill:#0000ff;fill-opacity:0.8;stroke:#0000ff;stroke-opacity:0.8;\" x=\"166.596099\" xlink:href=\"#m98f5625d92\" y=\"374.863007\"/>\n     <use style=\"fill:#0000ff;fill-opacity:0.8;stroke:#0000ff;stroke-opacity:0.8;\" x=\"161.91576\" xlink:href=\"#m98f5625d92\" y=\"367.108215\"/>\n     <use style=\"fill:#0000ff;fill-opacity:0.8;stroke:#0000ff;stroke-opacity:0.8;\" x=\"308.257875\" xlink:href=\"#m98f5625d92\" y=\"236.145934\"/>\n     <use style=\"fill:#0000ff;fill-opacity:0.8;stroke:#0000ff;stroke-opacity:0.8;\" x=\"253.144621\" xlink:href=\"#m98f5625d92\" y=\"343.251943\"/>\n     <use style=\"fill:#0000ff;fill-opacity:0.8;stroke:#0000ff;stroke-opacity:0.8;\" x=\"177.479516\" xlink:href=\"#m98f5625d92\" y=\"374.417553\"/>\n     <use style=\"fill:#0000ff;fill-opacity:0.8;stroke:#0000ff;stroke-opacity:0.8;\" x=\"172.317127\" xlink:href=\"#m98f5625d92\" y=\"303.453406\"/>\n     <use style=\"fill:#0000ff;fill-opacity:0.8;stroke:#0000ff;stroke-opacity:0.8;\" x=\"250.497666\" xlink:href=\"#m98f5625d92\" y=\"431.844898\"/>\n     <use style=\"fill:#0000ff;fill-opacity:0.8;stroke:#0000ff;stroke-opacity:0.8;\" x=\"97.362525\" xlink:href=\"#m98f5625d92\" y=\"362.501225\"/>\n     <use style=\"fill:#0000ff;fill-opacity:0.8;stroke:#0000ff;stroke-opacity:0.8;\" x=\"215.823878\" xlink:href=\"#m98f5625d92\" y=\"351.893158\"/>\n     <use style=\"fill:#0000ff;fill-opacity:0.8;stroke:#0000ff;stroke-opacity:0.8;\" x=\"269.003181\" xlink:href=\"#m98f5625d92\" y=\"276.593846\"/>\n     <use style=\"fill:#0000ff;fill-opacity:0.8;stroke:#0000ff;stroke-opacity:0.8;\" x=\"176.427688\" xlink:href=\"#m98f5625d92\" y=\"370.109038\"/>\n     <use style=\"fill:#0000ff;fill-opacity:0.8;stroke:#0000ff;stroke-opacity:0.8;\" x=\"279.854099\" xlink:href=\"#m98f5625d92\" y=\"304.925253\"/>\n     <use style=\"fill:#0000ff;fill-opacity:0.8;stroke:#0000ff;stroke-opacity:0.8;\" x=\"371.781493\" xlink:href=\"#m98f5625d92\" y=\"379.58305\"/>\n     <use style=\"fill:#0000ff;fill-opacity:0.8;stroke:#0000ff;stroke-opacity:0.8;\" x=\"188.730809\" xlink:href=\"#m98f5625d92\" y=\"404.228665\"/>\n     <use style=\"fill:#0000ff;fill-opacity:0.8;stroke:#0000ff;stroke-opacity:0.8;\" x=\"407.041899\" xlink:href=\"#m98f5625d92\" y=\"376.080046\"/>\n     <use style=\"fill:#0000ff;fill-opacity:0.8;stroke:#0000ff;stroke-opacity:0.8;\" x=\"161.643734\" xlink:href=\"#m98f5625d92\" y=\"303.623938\"/>\n     <use style=\"fill:#0000ff;fill-opacity:0.8;stroke:#0000ff;stroke-opacity:0.8;\" x=\"348.31552\" xlink:href=\"#m98f5625d92\" y=\"397.948841\"/>\n     <use style=\"fill:#0000ff;fill-opacity:0.8;stroke:#0000ff;stroke-opacity:0.8;\" x=\"239.514848\" xlink:href=\"#m98f5625d92\" y=\"381.560326\"/>\n     <use style=\"fill:#0000ff;fill-opacity:0.8;stroke:#0000ff;stroke-opacity:0.8;\" x=\"304.478037\" xlink:href=\"#m98f5625d92\" y=\"405.604185\"/>\n     <use style=\"fill:#0000ff;fill-opacity:0.8;stroke:#0000ff;stroke-opacity:0.8;\" x=\"137.71051\" xlink:href=\"#m98f5625d92\" y=\"364.215866\"/>\n     <use style=\"fill:#0000ff;fill-opacity:0.8;stroke:#0000ff;stroke-opacity:0.8;\" x=\"95.30378\" xlink:href=\"#m98f5625d92\" y=\"335.399398\"/>\n     <use style=\"fill:#0000ff;fill-opacity:0.8;stroke:#0000ff;stroke-opacity:0.8;\" x=\"187.757633\" xlink:href=\"#m98f5625d92\" y=\"328.060675\"/>\n     <use style=\"fill:#0000ff;fill-opacity:0.8;stroke:#0000ff;stroke-opacity:0.8;\" x=\"409.107018\" xlink:href=\"#m98f5625d92\" y=\"470.703381\"/>\n     <use style=\"fill:#0000ff;fill-opacity:0.8;stroke:#0000ff;stroke-opacity:0.8;\" x=\"284.33261\" xlink:href=\"#m98f5625d92\" y=\"306.132303\"/>\n     <use style=\"fill:#0000ff;fill-opacity:0.8;stroke:#0000ff;stroke-opacity:0.8;\" x=\"118.389789\" xlink:href=\"#m98f5625d92\" y=\"328.406287\"/>\n     <use style=\"fill:#0000ff;fill-opacity:0.8;stroke:#0000ff;stroke-opacity:0.8;\" x=\"214.846479\" xlink:href=\"#m98f5625d92\" y=\"159.35272\"/>\n     <use style=\"fill:#0000ff;fill-opacity:0.8;stroke:#0000ff;stroke-opacity:0.8;\" x=\"89.501129\" xlink:href=\"#m98f5625d92\" y=\"322.973486\"/>\n     <use style=\"fill:#0000ff;fill-opacity:0.8;stroke:#0000ff;stroke-opacity:0.8;\" x=\"199.482185\" xlink:href=\"#m98f5625d92\" y=\"353.538466\"/>\n     <use style=\"fill:#0000ff;fill-opacity:0.8;stroke:#0000ff;stroke-opacity:0.8;\" x=\"209.601263\" xlink:href=\"#m98f5625d92\" y=\"399.559611\"/>\n     <use style=\"fill:#0000ff;fill-opacity:0.8;stroke:#0000ff;stroke-opacity:0.8;\" x=\"489.113574\" xlink:href=\"#m98f5625d92\" y=\"92.419868\"/>\n     <use style=\"fill:#0000ff;fill-opacity:0.8;stroke:#0000ff;stroke-opacity:0.8;\" x=\"95.477084\" xlink:href=\"#m98f5625d92\" y=\"321.95579\"/>\n     <use style=\"fill:#0000ff;fill-opacity:0.8;stroke:#0000ff;stroke-opacity:0.8;\" x=\"294.503257\" xlink:href=\"#m98f5625d92\" y=\"485.009453\"/>\n     <use style=\"fill:#0000ff;fill-opacity:0.8;stroke:#0000ff;stroke-opacity:0.8;\" x=\"181.710023\" xlink:href=\"#m98f5625d92\" y=\"350.284\"/>\n     <use style=\"fill:#0000ff;fill-opacity:0.8;stroke:#0000ff;stroke-opacity:0.8;\" x=\"99.906035\" xlink:href=\"#m98f5625d92\" y=\"262.922216\"/>\n     <use style=\"fill:#0000ff;fill-opacity:0.8;stroke:#0000ff;stroke-opacity:0.8;\" x=\"347.563562\" xlink:href=\"#m98f5625d92\" y=\"298.381446\"/>\n     <use style=\"fill:#0000ff;fill-opacity:0.8;stroke:#0000ff;stroke-opacity:0.8;\" x=\"249.508273\" xlink:href=\"#m98f5625d92\" y=\"273.837132\"/>\n     <use style=\"fill:#0000ff;fill-opacity:0.8;stroke:#0000ff;stroke-opacity:0.8;\" x=\"215.211283\" xlink:href=\"#m98f5625d92\" y=\"349.618449\"/>\n     <use style=\"fill:#0000ff;fill-opacity:0.8;stroke:#0000ff;stroke-opacity:0.8;\" x=\"160.203376\" xlink:href=\"#m98f5625d92\" y=\"366.44157\"/>\n     <use style=\"fill:#0000ff;fill-opacity:0.8;stroke:#0000ff;stroke-opacity:0.8;\" x=\"559.165574\" xlink:href=\"#m98f5625d92\" y=\"129.371835\"/>\n     <use style=\"fill:#0000ff;fill-opacity:0.8;stroke:#0000ff;stroke-opacity:0.8;\" x=\"249.27368\" xlink:href=\"#m98f5625d92\" y=\"348.694069\"/>\n     <use style=\"fill:#0000ff;fill-opacity:0.8;stroke:#0000ff;stroke-opacity:0.8;\" x=\"195.916224\" xlink:href=\"#m98f5625d92\" y=\"399.043473\"/>\n     <use style=\"fill:#0000ff;fill-opacity:0.8;stroke:#0000ff;stroke-opacity:0.8;\" x=\"224.929647\" xlink:href=\"#m98f5625d92\" y=\"355.417803\"/>\n     <use style=\"fill:#0000ff;fill-opacity:0.8;stroke:#0000ff;stroke-opacity:0.8;\" x=\"79.053211\" xlink:href=\"#m98f5625d92\" y=\"246.849222\"/>\n     <use style=\"fill:#0000ff;fill-opacity:0.8;stroke:#0000ff;stroke-opacity:0.8;\" x=\"493.010491\" xlink:href=\"#m98f5625d92\" y=\"240.771771\"/>\n     <use style=\"fill:#0000ff;fill-opacity:0.8;stroke:#0000ff;stroke-opacity:0.8;\" x=\"56.718801\" xlink:href=\"#m98f5625d92\" y=\"324.842776\"/>\n     <use style=\"fill:#0000ff;fill-opacity:0.8;stroke:#0000ff;stroke-opacity:0.8;\" x=\"272.958233\" xlink:href=\"#m98f5625d92\" y=\"170.971084\"/>\n     <use style=\"fill:#0000ff;fill-opacity:0.8;stroke:#0000ff;stroke-opacity:0.8;\" x=\"474.111082\" xlink:href=\"#m98f5625d92\" y=\"257.886133\"/>\n     <use style=\"fill:#0000ff;fill-opacity:0.8;stroke:#0000ff;stroke-opacity:0.8;\" x=\"136.451954\" xlink:href=\"#m98f5625d92\" y=\"274.504542\"/>\n     <use style=\"fill:#0000ff;fill-opacity:0.8;stroke:#0000ff;stroke-opacity:0.8;\" x=\"175.697332\" xlink:href=\"#m98f5625d92\" y=\"399.634138\"/>\n     <use style=\"fill:#0000ff;fill-opacity:0.8;stroke:#0000ff;stroke-opacity:0.8;\" x=\"408.933715\" xlink:href=\"#m98f5625d92\" y=\"222.083763\"/>\n     <use style=\"fill:#0000ff;fill-opacity:0.8;stroke:#0000ff;stroke-opacity:0.8;\" x=\"253.519007\" xlink:href=\"#m98f5625d92\" y=\"334.995369\"/>\n     <use style=\"fill:#0000ff;fill-opacity:0.8;stroke:#0000ff;stroke-opacity:0.8;\" x=\"179.665137\" xlink:href=\"#m98f5625d92\" y=\"369.408058\"/>\n     <use style=\"fill:#0000ff;fill-opacity:0.8;stroke:#0000ff;stroke-opacity:0.8;\" x=\"437.254882\" xlink:href=\"#m98f5625d92\" y=\"397.775129\"/>\n     <use style=\"fill:#0000ff;fill-opacity:0.8;stroke:#0000ff;stroke-opacity:0.8;\" x=\"92.730021\" xlink:href=\"#m98f5625d92\" y=\"281.535377\"/>\n     <use style=\"fill:#0000ff;fill-opacity:0.8;stroke:#0000ff;stroke-opacity:0.8;\" x=\"436.372198\" xlink:href=\"#m98f5625d92\" y=\"225.120916\"/>\n     <use style=\"fill:#0000ff;fill-opacity:0.8;stroke:#0000ff;stroke-opacity:0.8;\" x=\"387.475896\" xlink:href=\"#m98f5625d92\" y=\"332.019112\"/>\n     <use style=\"fill:#0000ff;fill-opacity:0.8;stroke:#0000ff;stroke-opacity:0.8;\" x=\"288.610751\" xlink:href=\"#m98f5625d92\" y=\"224.444498\"/>\n     <use style=\"fill:#0000ff;fill-opacity:0.8;stroke:#0000ff;stroke-opacity:0.8;\" x=\"154.614032\" xlink:href=\"#m98f5625d92\" y=\"330.172381\"/>\n     <use style=\"fill:#0000ff;fill-opacity:0.8;stroke:#0000ff;stroke-opacity:0.8;\" x=\"145.497328\" xlink:href=\"#m98f5625d92\" y=\"362.049296\"/>\n     <use style=\"fill:#0000ff;fill-opacity:0.8;stroke:#0000ff;stroke-opacity:0.8;\" x=\"237.413582\" xlink:href=\"#m98f5625d92\" y=\"296.816508\"/>\n     <use style=\"fill:#0000ff;fill-opacity:0.8;stroke:#0000ff;stroke-opacity:0.8;\" x=\"142.978192\" xlink:href=\"#m98f5625d92\" y=\"208.466705\"/>\n     <use style=\"fill:#0000ff;fill-opacity:0.8;stroke:#0000ff;stroke-opacity:0.8;\" x=\"321.32476\" xlink:href=\"#m98f5625d92\" y=\"304.874175\"/>\n     <use style=\"fill:#0000ff;fill-opacity:0.8;stroke:#0000ff;stroke-opacity:0.8;\" x=\"133.089272\" xlink:href=\"#m98f5625d92\" y=\"320.598938\"/>\n     <use style=\"fill:#0000ff;fill-opacity:0.8;stroke:#0000ff;stroke-opacity:0.8;\" x=\"250.753765\" xlink:href=\"#m98f5625d92\" y=\"309.675971\"/>\n     <use style=\"fill:#0000ff;fill-opacity:0.8;stroke:#0000ff;stroke-opacity:0.8;\" x=\"317.804616\" xlink:href=\"#m98f5625d92\" y=\"491.419619\"/>\n     <use style=\"fill:#0000ff;fill-opacity:0.8;stroke:#0000ff;stroke-opacity:0.8;\" x=\"233.792994\" xlink:href=\"#m98f5625d92\" y=\"311.042031\"/>\n     <use style=\"fill:#0000ff;fill-opacity:0.8;stroke:#0000ff;stroke-opacity:0.8;\" x=\"373.991608\" xlink:href=\"#m98f5625d92\" y=\"91.236673\"/>\n     <use style=\"fill:#0000ff;fill-opacity:0.8;stroke:#0000ff;stroke-opacity:0.8;\" x=\"193.429881\" xlink:href=\"#m98f5625d92\" y=\"298.283363\"/>\n     <use style=\"fill:#0000ff;fill-opacity:0.8;stroke:#0000ff;stroke-opacity:0.8;\" x=\"331.186415\" xlink:href=\"#m98f5625d92\" y=\"330.460178\"/>\n     <use style=\"fill:#0000ff;fill-opacity:0.8;stroke:#0000ff;stroke-opacity:0.8;\" x=\"460.38564\" xlink:href=\"#m98f5625d92\" y=\"366.084167\"/>\n     <use style=\"fill:#0000ff;fill-opacity:0.8;stroke:#0000ff;stroke-opacity:0.8;\" x=\"186.473718\" xlink:href=\"#m98f5625d92\" y=\"316.893248\"/>\n     <use style=\"fill:#0000ff;fill-opacity:0.8;stroke:#0000ff;stroke-opacity:0.8;\" x=\"220.361439\" xlink:href=\"#m98f5625d92\" y=\"345.438879\"/>\n     <use style=\"fill:#0000ff;fill-opacity:0.8;stroke:#0000ff;stroke-opacity:0.8;\" x=\"447.678701\" xlink:href=\"#m98f5625d92\" y=\"253.277251\"/>\n     <use style=\"fill:#0000ff;fill-opacity:0.8;stroke:#0000ff;stroke-opacity:0.8;\" x=\"151.262186\" xlink:href=\"#m98f5625d92\" y=\"346.597928\"/>\n     <use style=\"fill:#0000ff;fill-opacity:0.8;stroke:#0000ff;stroke-opacity:0.8;\" x=\"353.370852\" xlink:href=\"#m98f5625d92\" y=\"316.58792\"/>\n     <use style=\"fill:#0000ff;fill-opacity:0.8;stroke:#0000ff;stroke-opacity:0.8;\" x=\"415.658662\" xlink:href=\"#m98f5625d92\" y=\"418.153487\"/>\n     <use style=\"fill:#0000ff;fill-opacity:0.8;stroke:#0000ff;stroke-opacity:0.8;\" x=\"165.663016\" xlink:href=\"#m98f5625d92\" y=\"340.045403\"/>\n     <use style=\"fill:#0000ff;fill-opacity:0.8;stroke:#0000ff;stroke-opacity:0.8;\" x=\"186.542372\" xlink:href=\"#m98f5625d92\" y=\"365.497025\"/>\n     <use style=\"fill:#0000ff;fill-opacity:0.8;stroke:#0000ff;stroke-opacity:0.8;\" x=\"251.736569\" xlink:href=\"#m98f5625d92\" y=\"301.853108\"/>\n     <use style=\"fill:#0000ff;fill-opacity:0.8;stroke:#0000ff;stroke-opacity:0.8;\" x=\"346.024979\" xlink:href=\"#m98f5625d92\" y=\"480.685822\"/>\n     <use style=\"fill:#0000ff;fill-opacity:0.8;stroke:#0000ff;stroke-opacity:0.8;\" x=\"168.259207\" xlink:href=\"#m98f5625d92\" y=\"267.438662\"/>\n     <use style=\"fill:#0000ff;fill-opacity:0.8;stroke:#0000ff;stroke-opacity:0.8;\" x=\"75.088722\" xlink:href=\"#m98f5625d92\" y=\"175.99385\"/>\n    </g>\n   </g>\n   <g id=\"matplotlib.axis_1\">\n    <g id=\"xtick_1\">\n     <g id=\"line2d_1\">\n      <defs>\n       <path d=\"M 0 0 \nL 0 3.5 \n\" id=\"m790a0de981\" style=\"stroke:#000000;stroke-width:0.8;\"/>\n      </defs>\n      <g>\n       <use style=\"stroke:#000000;stroke-width:0.8;\" x=\"86.824973\" xlink:href=\"#m790a0de981\" y=\"565.918125\"/>\n      </g>\n     </g>\n     <g id=\"text_1\">\n      <!-- −5.0 -->\n      <defs>\n       <path d=\"M 10.59375 35.5 \nL 73.1875 35.5 \nL 73.1875 27.203125 \nL 10.59375 27.203125 \nz\n\" id=\"DejaVuSans-8722\"/>\n       <path d=\"M 10.796875 72.90625 \nL 49.515625 72.90625 \nL 49.515625 64.59375 \nL 19.828125 64.59375 \nL 19.828125 46.734375 \nQ 21.96875 47.46875 24.109375 47.828125 \nQ 26.265625 48.1875 28.421875 48.1875 \nQ 40.625 48.1875 47.75 41.5 \nQ 54.890625 34.8125 54.890625 23.390625 \nQ 54.890625 11.625 47.5625 5.09375 \nQ 40.234375 -1.421875 26.90625 -1.421875 \nQ 22.3125 -1.421875 17.546875 -0.640625 \nQ 12.796875 0.140625 7.71875 1.703125 \nL 7.71875 11.625 \nQ 12.109375 9.234375 16.796875 8.0625 \nQ 21.484375 6.890625 26.703125 6.890625 \nQ 35.15625 6.890625 40.078125 11.328125 \nQ 45.015625 15.765625 45.015625 23.390625 \nQ 45.015625 31 40.078125 35.4375 \nQ 35.15625 39.890625 26.703125 39.890625 \nQ 22.75 39.890625 18.8125 39.015625 \nQ 14.890625 38.140625 10.796875 36.28125 \nz\n\" id=\"DejaVuSans-53\"/>\n       <path d=\"M 10.6875 12.40625 \nL 21 12.40625 \nL 21 0 \nL 10.6875 0 \nz\n\" id=\"DejaVuSans-46\"/>\n       <path d=\"M 31.78125 66.40625 \nQ 24.171875 66.40625 20.328125 58.90625 \nQ 16.5 51.421875 16.5 36.375 \nQ 16.5 21.390625 20.328125 13.890625 \nQ 24.171875 6.390625 31.78125 6.390625 \nQ 39.453125 6.390625 43.28125 13.890625 \nQ 47.125 21.390625 47.125 36.375 \nQ 47.125 51.421875 43.28125 58.90625 \nQ 39.453125 66.40625 31.78125 66.40625 \nz\nM 31.78125 74.21875 \nQ 44.046875 74.21875 50.515625 64.515625 \nQ 56.984375 54.828125 56.984375 36.375 \nQ 56.984375 17.96875 50.515625 8.265625 \nQ 44.046875 -1.421875 31.78125 -1.421875 \nQ 19.53125 -1.421875 13.0625 8.265625 \nQ 6.59375 17.96875 6.59375 36.375 \nQ 6.59375 54.828125 13.0625 64.515625 \nQ 19.53125 74.21875 31.78125 74.21875 \nz\n\" id=\"DejaVuSans-48\"/>\n      </defs>\n      <g transform=\"translate(74.683567 580.516562)scale(0.1 -0.1)\">\n       <use xlink:href=\"#DejaVuSans-8722\"/>\n       <use x=\"83.789062\" xlink:href=\"#DejaVuSans-53\"/>\n       <use x=\"147.412109\" xlink:href=\"#DejaVuSans-46\"/>\n       <use x=\"179.199219\" xlink:href=\"#DejaVuSans-48\"/>\n      </g>\n     </g>\n    </g>\n    <g id=\"xtick_2\">\n     <g id=\"line2d_2\">\n      <g>\n       <use style=\"stroke:#000000;stroke-width:0.8;\" x=\"158.489286\" xlink:href=\"#m790a0de981\" y=\"565.918125\"/>\n      </g>\n     </g>\n     <g id=\"text_2\">\n      <!-- −2.5 -->\n      <defs>\n       <path d=\"M 19.1875 8.296875 \nL 53.609375 8.296875 \nL 53.609375 0 \nL 7.328125 0 \nL 7.328125 8.296875 \nQ 12.9375 14.109375 22.625 23.890625 \nQ 32.328125 33.6875 34.8125 36.53125 \nQ 39.546875 41.84375 41.421875 45.53125 \nQ 43.3125 49.21875 43.3125 52.78125 \nQ 43.3125 58.59375 39.234375 62.25 \nQ 35.15625 65.921875 28.609375 65.921875 \nQ 23.96875 65.921875 18.8125 64.3125 \nQ 13.671875 62.703125 7.8125 59.421875 \nL 7.8125 69.390625 \nQ 13.765625 71.78125 18.9375 73 \nQ 24.125 74.21875 28.421875 74.21875 \nQ 39.75 74.21875 46.484375 68.546875 \nQ 53.21875 62.890625 53.21875 53.421875 \nQ 53.21875 48.921875 51.53125 44.890625 \nQ 49.859375 40.875 45.40625 35.40625 \nQ 44.1875 33.984375 37.640625 27.21875 \nQ 31.109375 20.453125 19.1875 8.296875 \nz\n\" id=\"DejaVuSans-50\"/>\n      </defs>\n      <g transform=\"translate(146.34788 580.516562)scale(0.1 -0.1)\">\n       <use xlink:href=\"#DejaVuSans-8722\"/>\n       <use x=\"83.789062\" xlink:href=\"#DejaVuSans-50\"/>\n       <use x=\"147.412109\" xlink:href=\"#DejaVuSans-46\"/>\n       <use x=\"179.199219\" xlink:href=\"#DejaVuSans-53\"/>\n      </g>\n     </g>\n    </g>\n    <g id=\"xtick_3\">\n     <g id=\"line2d_3\">\n      <g>\n       <use style=\"stroke:#000000;stroke-width:0.8;\" x=\"230.1536\" xlink:href=\"#m790a0de981\" y=\"565.918125\"/>\n      </g>\n     </g>\n     <g id=\"text_3\">\n      <!-- 0.0 -->\n      <g transform=\"translate(222.202037 580.516562)scale(0.1 -0.1)\">\n       <use xlink:href=\"#DejaVuSans-48\"/>\n       <use x=\"63.623047\" xlink:href=\"#DejaVuSans-46\"/>\n       <use x=\"95.410156\" xlink:href=\"#DejaVuSans-48\"/>\n      </g>\n     </g>\n    </g>\n    <g id=\"xtick_4\">\n     <g id=\"line2d_4\">\n      <g>\n       <use style=\"stroke:#000000;stroke-width:0.8;\" x=\"301.817913\" xlink:href=\"#m790a0de981\" y=\"565.918125\"/>\n      </g>\n     </g>\n     <g id=\"text_4\">\n      <!-- 2.5 -->\n      <g transform=\"translate(293.86635 580.516562)scale(0.1 -0.1)\">\n       <use xlink:href=\"#DejaVuSans-50\"/>\n       <use x=\"63.623047\" xlink:href=\"#DejaVuSans-46\"/>\n       <use x=\"95.410156\" xlink:href=\"#DejaVuSans-53\"/>\n      </g>\n     </g>\n    </g>\n    <g id=\"xtick_5\">\n     <g id=\"line2d_5\">\n      <g>\n       <use style=\"stroke:#000000;stroke-width:0.8;\" x=\"373.482226\" xlink:href=\"#m790a0de981\" y=\"565.918125\"/>\n      </g>\n     </g>\n     <g id=\"text_5\">\n      <!-- 5.0 -->\n      <g transform=\"translate(365.530664 580.516562)scale(0.1 -0.1)\">\n       <use xlink:href=\"#DejaVuSans-53\"/>\n       <use x=\"63.623047\" xlink:href=\"#DejaVuSans-46\"/>\n       <use x=\"95.410156\" xlink:href=\"#DejaVuSans-48\"/>\n      </g>\n     </g>\n    </g>\n    <g id=\"xtick_6\">\n     <g id=\"line2d_6\">\n      <g>\n       <use style=\"stroke:#000000;stroke-width:0.8;\" x=\"445.146539\" xlink:href=\"#m790a0de981\" y=\"565.918125\"/>\n      </g>\n     </g>\n     <g id=\"text_6\">\n      <!-- 7.5 -->\n      <defs>\n       <path d=\"M 8.203125 72.90625 \nL 55.078125 72.90625 \nL 55.078125 68.703125 \nL 28.609375 0 \nL 18.3125 0 \nL 43.21875 64.59375 \nL 8.203125 64.59375 \nz\n\" id=\"DejaVuSans-55\"/>\n      </defs>\n      <g transform=\"translate(437.194977 580.516562)scale(0.1 -0.1)\">\n       <use xlink:href=\"#DejaVuSans-55\"/>\n       <use x=\"63.623047\" xlink:href=\"#DejaVuSans-46\"/>\n       <use x=\"95.410156\" xlink:href=\"#DejaVuSans-53\"/>\n      </g>\n     </g>\n    </g>\n    <g id=\"xtick_7\">\n     <g id=\"line2d_7\">\n      <g>\n       <use style=\"stroke:#000000;stroke-width:0.8;\" x=\"516.810853\" xlink:href=\"#m790a0de981\" y=\"565.918125\"/>\n      </g>\n     </g>\n     <g id=\"text_7\">\n      <!-- 10.0 -->\n      <defs>\n       <path d=\"M 12.40625 8.296875 \nL 28.515625 8.296875 \nL 28.515625 63.921875 \nL 10.984375 60.40625 \nL 10.984375 69.390625 \nL 28.421875 72.90625 \nL 38.28125 72.90625 \nL 38.28125 8.296875 \nL 54.390625 8.296875 \nL 54.390625 0 \nL 12.40625 0 \nz\n\" id=\"DejaVuSans-49\"/>\n      </defs>\n      <g transform=\"translate(505.67804 580.516562)scale(0.1 -0.1)\">\n       <use xlink:href=\"#DejaVuSans-49\"/>\n       <use x=\"63.623047\" xlink:href=\"#DejaVuSans-48\"/>\n       <use x=\"127.246094\" xlink:href=\"#DejaVuSans-46\"/>\n       <use x=\"159.033203\" xlink:href=\"#DejaVuSans-48\"/>\n      </g>\n     </g>\n    </g>\n   </g>\n   <g id=\"matplotlib.axis_2\">\n    <g id=\"ytick_1\">\n     <g id=\"line2d_8\">\n      <defs>\n       <path d=\"M 0 0 \nL -3.5 0 \n\" id=\"mac73ebff6b\" style=\"stroke:#000000;stroke-width:0.8;\"/>\n      </defs>\n      <g>\n       <use style=\"stroke:#000000;stroke-width:0.8;\" x=\"28.942188\" xlink:href=\"#mac73ebff6b\" y=\"495.567872\"/>\n      </g>\n     </g>\n     <g id=\"text_8\">\n      <!-- −4 -->\n      <defs>\n       <path d=\"M 37.796875 64.3125 \nL 12.890625 25.390625 \nL 37.796875 25.390625 \nz\nM 35.203125 72.90625 \nL 47.609375 72.90625 \nL 47.609375 25.390625 \nL 58.015625 25.390625 \nL 58.015625 17.1875 \nL 47.609375 17.1875 \nL 47.609375 0 \nL 37.796875 0 \nL 37.796875 17.1875 \nL 4.890625 17.1875 \nL 4.890625 26.703125 \nz\n\" id=\"DejaVuSans-52\"/>\n      </defs>\n      <g transform=\"translate(7.2 499.367091)scale(0.1 -0.1)\">\n       <use xlink:href=\"#DejaVuSans-8722\"/>\n       <use x=\"83.789062\" xlink:href=\"#DejaVuSans-52\"/>\n      </g>\n     </g>\n    </g>\n    <g id=\"ytick_2\">\n     <g id=\"line2d_9\">\n      <g>\n       <use style=\"stroke:#000000;stroke-width:0.8;\" x=\"28.942188\" xlink:href=\"#mac73ebff6b\" y=\"422.313538\"/>\n      </g>\n     </g>\n     <g id=\"text_9\">\n      <!-- −2 -->\n      <g transform=\"translate(7.2 426.112756)scale(0.1 -0.1)\">\n       <use xlink:href=\"#DejaVuSans-8722\"/>\n       <use x=\"83.789062\" xlink:href=\"#DejaVuSans-50\"/>\n      </g>\n     </g>\n    </g>\n    <g id=\"ytick_3\">\n     <g id=\"line2d_10\">\n      <g>\n       <use style=\"stroke:#000000;stroke-width:0.8;\" x=\"28.942188\" xlink:href=\"#mac73ebff6b\" y=\"349.059203\"/>\n      </g>\n     </g>\n     <g id=\"text_10\">\n      <!-- 0 -->\n      <g transform=\"translate(15.579688 352.858422)scale(0.1 -0.1)\">\n       <use xlink:href=\"#DejaVuSans-48\"/>\n      </g>\n     </g>\n    </g>\n    <g id=\"ytick_4\">\n     <g id=\"line2d_11\">\n      <g>\n       <use style=\"stroke:#000000;stroke-width:0.8;\" x=\"28.942188\" xlink:href=\"#mac73ebff6b\" y=\"275.804868\"/>\n      </g>\n     </g>\n     <g id=\"text_11\">\n      <!-- 2 -->\n      <g transform=\"translate(15.579688 279.604087)scale(0.1 -0.1)\">\n       <use xlink:href=\"#DejaVuSans-50\"/>\n      </g>\n     </g>\n    </g>\n    <g id=\"ytick_5\">\n     <g id=\"line2d_12\">\n      <g>\n       <use style=\"stroke:#000000;stroke-width:0.8;\" x=\"28.942188\" xlink:href=\"#mac73ebff6b\" y=\"202.550534\"/>\n      </g>\n     </g>\n     <g id=\"text_12\">\n      <!-- 4 -->\n      <g transform=\"translate(15.579688 206.349752)scale(0.1 -0.1)\">\n       <use xlink:href=\"#DejaVuSans-52\"/>\n      </g>\n     </g>\n    </g>\n    <g id=\"ytick_6\">\n     <g id=\"line2d_13\">\n      <g>\n       <use style=\"stroke:#000000;stroke-width:0.8;\" x=\"28.942188\" xlink:href=\"#mac73ebff6b\" y=\"129.296199\"/>\n      </g>\n     </g>\n     <g id=\"text_13\">\n      <!-- 6 -->\n      <defs>\n       <path d=\"M 33.015625 40.375 \nQ 26.375 40.375 22.484375 35.828125 \nQ 18.609375 31.296875 18.609375 23.390625 \nQ 18.609375 15.53125 22.484375 10.953125 \nQ 26.375 6.390625 33.015625 6.390625 \nQ 39.65625 6.390625 43.53125 10.953125 \nQ 47.40625 15.53125 47.40625 23.390625 \nQ 47.40625 31.296875 43.53125 35.828125 \nQ 39.65625 40.375 33.015625 40.375 \nz\nM 52.59375 71.296875 \nL 52.59375 62.3125 \nQ 48.875 64.0625 45.09375 64.984375 \nQ 41.3125 65.921875 37.59375 65.921875 \nQ 27.828125 65.921875 22.671875 59.328125 \nQ 17.53125 52.734375 16.796875 39.40625 \nQ 19.671875 43.65625 24.015625 45.921875 \nQ 28.375 48.1875 33.59375 48.1875 \nQ 44.578125 48.1875 50.953125 41.515625 \nQ 57.328125 34.859375 57.328125 23.390625 \nQ 57.328125 12.15625 50.6875 5.359375 \nQ 44.046875 -1.421875 33.015625 -1.421875 \nQ 20.359375 -1.421875 13.671875 8.265625 \nQ 6.984375 17.96875 6.984375 36.375 \nQ 6.984375 53.65625 15.1875 63.9375 \nQ 23.390625 74.21875 37.203125 74.21875 \nQ 40.921875 74.21875 44.703125 73.484375 \nQ 48.484375 72.75 52.59375 71.296875 \nz\n\" id=\"DejaVuSans-54\"/>\n      </defs>\n      <g transform=\"translate(15.579688 133.095418)scale(0.1 -0.1)\">\n       <use xlink:href=\"#DejaVuSans-54\"/>\n      </g>\n     </g>\n    </g>\n    <g id=\"ytick_7\">\n     <g id=\"line2d_14\">\n      <g>\n       <use style=\"stroke:#000000;stroke-width:0.8;\" x=\"28.942188\" xlink:href=\"#mac73ebff6b\" y=\"56.041864\"/>\n      </g>\n     </g>\n     <g id=\"text_14\">\n      <!-- 8 -->\n      <defs>\n       <path d=\"M 31.78125 34.625 \nQ 24.75 34.625 20.71875 30.859375 \nQ 16.703125 27.09375 16.703125 20.515625 \nQ 16.703125 13.921875 20.71875 10.15625 \nQ 24.75 6.390625 31.78125 6.390625 \nQ 38.8125 6.390625 42.859375 10.171875 \nQ 46.921875 13.96875 46.921875 20.515625 \nQ 46.921875 27.09375 42.890625 30.859375 \nQ 38.875 34.625 31.78125 34.625 \nz\nM 21.921875 38.8125 \nQ 15.578125 40.375 12.03125 44.71875 \nQ 8.5 49.078125 8.5 55.328125 \nQ 8.5 64.0625 14.71875 69.140625 \nQ 20.953125 74.21875 31.78125 74.21875 \nQ 42.671875 74.21875 48.875 69.140625 \nQ 55.078125 64.0625 55.078125 55.328125 \nQ 55.078125 49.078125 51.53125 44.71875 \nQ 48 40.375 41.703125 38.8125 \nQ 48.828125 37.15625 52.796875 32.3125 \nQ 56.78125 27.484375 56.78125 20.515625 \nQ 56.78125 9.90625 50.3125 4.234375 \nQ 43.84375 -1.421875 31.78125 -1.421875 \nQ 19.734375 -1.421875 13.25 4.234375 \nQ 6.78125 9.90625 6.78125 20.515625 \nQ 6.78125 27.484375 10.78125 32.3125 \nQ 14.796875 37.15625 21.921875 38.8125 \nz\nM 18.3125 54.390625 \nQ 18.3125 48.734375 21.84375 45.5625 \nQ 25.390625 42.390625 31.78125 42.390625 \nQ 38.140625 42.390625 41.71875 45.5625 \nQ 45.3125 48.734375 45.3125 54.390625 \nQ 45.3125 60.0625 41.71875 63.234375 \nQ 38.140625 66.40625 31.78125 66.40625 \nQ 25.390625 66.40625 21.84375 63.234375 \nQ 18.3125 60.0625 18.3125 54.390625 \nz\n\" id=\"DejaVuSans-56\"/>\n      </defs>\n      <g transform=\"translate(15.579688 59.841083)scale(0.1 -0.1)\">\n       <use xlink:href=\"#DejaVuSans-56\"/>\n      </g>\n     </g>\n    </g>\n   </g>\n   <g id=\"patch_3\">\n    <path d=\"M 28.942188 565.918125 \nL 28.942188 22.318125 \n\" style=\"fill:none;stroke:#000000;stroke-linecap:square;stroke-linejoin:miter;stroke-width:0.8;\"/>\n   </g>\n   <g id=\"patch_4\">\n    <path d=\"M 586.942188 565.918125 \nL 586.942188 22.318125 \n\" style=\"fill:none;stroke:#000000;stroke-linecap:square;stroke-linejoin:miter;stroke-width:0.8;\"/>\n   </g>\n   <g id=\"patch_5\">\n    <path d=\"M 28.942188 565.918125 \nL 586.942188 565.918125 \n\" style=\"fill:none;stroke:#000000;stroke-linecap:square;stroke-linejoin:miter;stroke-width:0.8;\"/>\n   </g>\n   <g id=\"patch_6\">\n    <path d=\"M 28.942188 22.318125 \nL 586.942188 22.318125 \n\" style=\"fill:none;stroke:#000000;stroke-linecap:square;stroke-linejoin:miter;stroke-width:0.8;\"/>\n   </g>\n   <g id=\"text_15\">\n    <!-- Principal Component Analysis -->\n    <defs>\n     <path d=\"M 19.671875 64.796875 \nL 19.671875 37.40625 \nL 32.078125 37.40625 \nQ 38.96875 37.40625 42.71875 40.96875 \nQ 46.484375 44.53125 46.484375 51.125 \nQ 46.484375 57.671875 42.71875 61.234375 \nQ 38.96875 64.796875 32.078125 64.796875 \nz\nM 9.8125 72.90625 \nL 32.078125 72.90625 \nQ 44.34375 72.90625 50.609375 67.359375 \nQ 56.890625 61.8125 56.890625 51.125 \nQ 56.890625 40.328125 50.609375 34.8125 \nQ 44.34375 29.296875 32.078125 29.296875 \nL 19.671875 29.296875 \nL 19.671875 0 \nL 9.8125 0 \nz\n\" id=\"DejaVuSans-80\"/>\n     <path d=\"M 41.109375 46.296875 \nQ 39.59375 47.171875 37.8125 47.578125 \nQ 36.03125 48 33.890625 48 \nQ 26.265625 48 22.1875 43.046875 \nQ 18.109375 38.09375 18.109375 28.8125 \nL 18.109375 0 \nL 9.078125 0 \nL 9.078125 54.6875 \nL 18.109375 54.6875 \nL 18.109375 46.1875 \nQ 20.953125 51.171875 25.484375 53.578125 \nQ 30.03125 56 36.53125 56 \nQ 37.453125 56 38.578125 55.875 \nQ 39.703125 55.765625 41.0625 55.515625 \nz\n\" id=\"DejaVuSans-114\"/>\n     <path d=\"M 9.421875 54.6875 \nL 18.40625 54.6875 \nL 18.40625 0 \nL 9.421875 0 \nz\nM 9.421875 75.984375 \nL 18.40625 75.984375 \nL 18.40625 64.59375 \nL 9.421875 64.59375 \nz\n\" id=\"DejaVuSans-105\"/>\n     <path d=\"M 54.890625 33.015625 \nL 54.890625 0 \nL 45.90625 0 \nL 45.90625 32.71875 \nQ 45.90625 40.484375 42.875 44.328125 \nQ 39.84375 48.1875 33.796875 48.1875 \nQ 26.515625 48.1875 22.3125 43.546875 \nQ 18.109375 38.921875 18.109375 30.90625 \nL 18.109375 0 \nL 9.078125 0 \nL 9.078125 54.6875 \nL 18.109375 54.6875 \nL 18.109375 46.1875 \nQ 21.34375 51.125 25.703125 53.5625 \nQ 30.078125 56 35.796875 56 \nQ 45.21875 56 50.046875 50.171875 \nQ 54.890625 44.34375 54.890625 33.015625 \nz\n\" id=\"DejaVuSans-110\"/>\n     <path d=\"M 48.78125 52.59375 \nL 48.78125 44.1875 \nQ 44.96875 46.296875 41.140625 47.34375 \nQ 37.3125 48.390625 33.40625 48.390625 \nQ 24.65625 48.390625 19.8125 42.84375 \nQ 14.984375 37.3125 14.984375 27.296875 \nQ 14.984375 17.28125 19.8125 11.734375 \nQ 24.65625 6.203125 33.40625 6.203125 \nQ 37.3125 6.203125 41.140625 7.25 \nQ 44.96875 8.296875 48.78125 10.40625 \nL 48.78125 2.09375 \nQ 45.015625 0.34375 40.984375 -0.53125 \nQ 36.96875 -1.421875 32.421875 -1.421875 \nQ 20.0625 -1.421875 12.78125 6.34375 \nQ 5.515625 14.109375 5.515625 27.296875 \nQ 5.515625 40.671875 12.859375 48.328125 \nQ 20.21875 56 33.015625 56 \nQ 37.15625 56 41.109375 55.140625 \nQ 45.0625 54.296875 48.78125 52.59375 \nz\n\" id=\"DejaVuSans-99\"/>\n     <path d=\"M 18.109375 8.203125 \nL 18.109375 -20.796875 \nL 9.078125 -20.796875 \nL 9.078125 54.6875 \nL 18.109375 54.6875 \nL 18.109375 46.390625 \nQ 20.953125 51.265625 25.265625 53.625 \nQ 29.59375 56 35.59375 56 \nQ 45.5625 56 51.78125 48.09375 \nQ 58.015625 40.1875 58.015625 27.296875 \nQ 58.015625 14.40625 51.78125 6.484375 \nQ 45.5625 -1.421875 35.59375 -1.421875 \nQ 29.59375 -1.421875 25.265625 0.953125 \nQ 20.953125 3.328125 18.109375 8.203125 \nz\nM 48.6875 27.296875 \nQ 48.6875 37.203125 44.609375 42.84375 \nQ 40.53125 48.484375 33.40625 48.484375 \nQ 26.265625 48.484375 22.1875 42.84375 \nQ 18.109375 37.203125 18.109375 27.296875 \nQ 18.109375 17.390625 22.1875 11.75 \nQ 26.265625 6.109375 33.40625 6.109375 \nQ 40.53125 6.109375 44.609375 11.75 \nQ 48.6875 17.390625 48.6875 27.296875 \nz\n\" id=\"DejaVuSans-112\"/>\n     <path d=\"M 34.28125 27.484375 \nQ 23.390625 27.484375 19.1875 25 \nQ 14.984375 22.515625 14.984375 16.5 \nQ 14.984375 11.71875 18.140625 8.90625 \nQ 21.296875 6.109375 26.703125 6.109375 \nQ 34.1875 6.109375 38.703125 11.40625 \nQ 43.21875 16.703125 43.21875 25.484375 \nL 43.21875 27.484375 \nz\nM 52.203125 31.203125 \nL 52.203125 0 \nL 43.21875 0 \nL 43.21875 8.296875 \nQ 40.140625 3.328125 35.546875 0.953125 \nQ 30.953125 -1.421875 24.3125 -1.421875 \nQ 15.921875 -1.421875 10.953125 3.296875 \nQ 6 8.015625 6 15.921875 \nQ 6 25.140625 12.171875 29.828125 \nQ 18.359375 34.515625 30.609375 34.515625 \nL 43.21875 34.515625 \nL 43.21875 35.40625 \nQ 43.21875 41.609375 39.140625 45 \nQ 35.0625 48.390625 27.6875 48.390625 \nQ 23 48.390625 18.546875 47.265625 \nQ 14.109375 46.140625 10.015625 43.890625 \nL 10.015625 52.203125 \nQ 14.9375 54.109375 19.578125 55.046875 \nQ 24.21875 56 28.609375 56 \nQ 40.484375 56 46.34375 49.84375 \nQ 52.203125 43.703125 52.203125 31.203125 \nz\n\" id=\"DejaVuSans-97\"/>\n     <path d=\"M 9.421875 75.984375 \nL 18.40625 75.984375 \nL 18.40625 0 \nL 9.421875 0 \nz\n\" id=\"DejaVuSans-108\"/>\n     <path id=\"DejaVuSans-32\"/>\n     <path d=\"M 64.40625 67.28125 \nL 64.40625 56.890625 \nQ 59.421875 61.53125 53.78125 63.8125 \nQ 48.140625 66.109375 41.796875 66.109375 \nQ 29.296875 66.109375 22.65625 58.46875 \nQ 16.015625 50.828125 16.015625 36.375 \nQ 16.015625 21.96875 22.65625 14.328125 \nQ 29.296875 6.6875 41.796875 6.6875 \nQ 48.140625 6.6875 53.78125 8.984375 \nQ 59.421875 11.28125 64.40625 15.921875 \nL 64.40625 5.609375 \nQ 59.234375 2.09375 53.4375 0.328125 \nQ 47.65625 -1.421875 41.21875 -1.421875 \nQ 24.65625 -1.421875 15.125 8.703125 \nQ 5.609375 18.84375 5.609375 36.375 \nQ 5.609375 53.953125 15.125 64.078125 \nQ 24.65625 74.21875 41.21875 74.21875 \nQ 47.75 74.21875 53.53125 72.484375 \nQ 59.328125 70.75 64.40625 67.28125 \nz\n\" id=\"DejaVuSans-67\"/>\n     <path d=\"M 30.609375 48.390625 \nQ 23.390625 48.390625 19.1875 42.75 \nQ 14.984375 37.109375 14.984375 27.296875 \nQ 14.984375 17.484375 19.15625 11.84375 \nQ 23.34375 6.203125 30.609375 6.203125 \nQ 37.796875 6.203125 41.984375 11.859375 \nQ 46.1875 17.53125 46.1875 27.296875 \nQ 46.1875 37.015625 41.984375 42.703125 \nQ 37.796875 48.390625 30.609375 48.390625 \nz\nM 30.609375 56 \nQ 42.328125 56 49.015625 48.375 \nQ 55.71875 40.765625 55.71875 27.296875 \nQ 55.71875 13.875 49.015625 6.21875 \nQ 42.328125 -1.421875 30.609375 -1.421875 \nQ 18.84375 -1.421875 12.171875 6.21875 \nQ 5.515625 13.875 5.515625 27.296875 \nQ 5.515625 40.765625 12.171875 48.375 \nQ 18.84375 56 30.609375 56 \nz\n\" id=\"DejaVuSans-111\"/>\n     <path d=\"M 52 44.1875 \nQ 55.375 50.25 60.0625 53.125 \nQ 64.75 56 71.09375 56 \nQ 79.640625 56 84.28125 50.015625 \nQ 88.921875 44.046875 88.921875 33.015625 \nL 88.921875 0 \nL 79.890625 0 \nL 79.890625 32.71875 \nQ 79.890625 40.578125 77.09375 44.375 \nQ 74.3125 48.1875 68.609375 48.1875 \nQ 61.625 48.1875 57.5625 43.546875 \nQ 53.515625 38.921875 53.515625 30.90625 \nL 53.515625 0 \nL 44.484375 0 \nL 44.484375 32.71875 \nQ 44.484375 40.625 41.703125 44.40625 \nQ 38.921875 48.1875 33.109375 48.1875 \nQ 26.21875 48.1875 22.15625 43.53125 \nQ 18.109375 38.875 18.109375 30.90625 \nL 18.109375 0 \nL 9.078125 0 \nL 9.078125 54.6875 \nL 18.109375 54.6875 \nL 18.109375 46.1875 \nQ 21.1875 51.21875 25.484375 53.609375 \nQ 29.78125 56 35.6875 56 \nQ 41.65625 56 45.828125 52.96875 \nQ 50 49.953125 52 44.1875 \nz\n\" id=\"DejaVuSans-109\"/>\n     <path d=\"M 56.203125 29.59375 \nL 56.203125 25.203125 \nL 14.890625 25.203125 \nQ 15.484375 15.921875 20.484375 11.0625 \nQ 25.484375 6.203125 34.421875 6.203125 \nQ 39.59375 6.203125 44.453125 7.46875 \nQ 49.3125 8.734375 54.109375 11.28125 \nL 54.109375 2.78125 \nQ 49.265625 0.734375 44.1875 -0.34375 \nQ 39.109375 -1.421875 33.890625 -1.421875 \nQ 20.796875 -1.421875 13.15625 6.1875 \nQ 5.515625 13.8125 5.515625 26.8125 \nQ 5.515625 40.234375 12.765625 48.109375 \nQ 20.015625 56 32.328125 56 \nQ 43.359375 56 49.78125 48.890625 \nQ 56.203125 41.796875 56.203125 29.59375 \nz\nM 47.21875 32.234375 \nQ 47.125 39.59375 43.09375 43.984375 \nQ 39.0625 48.390625 32.421875 48.390625 \nQ 24.90625 48.390625 20.390625 44.140625 \nQ 15.875 39.890625 15.1875 32.171875 \nz\n\" id=\"DejaVuSans-101\"/>\n     <path d=\"M 18.3125 70.21875 \nL 18.3125 54.6875 \nL 36.8125 54.6875 \nL 36.8125 47.703125 \nL 18.3125 47.703125 \nL 18.3125 18.015625 \nQ 18.3125 11.328125 20.140625 9.421875 \nQ 21.96875 7.515625 27.59375 7.515625 \nL 36.8125 7.515625 \nL 36.8125 0 \nL 27.59375 0 \nQ 17.1875 0 13.234375 3.875 \nQ 9.28125 7.765625 9.28125 18.015625 \nL 9.28125 47.703125 \nL 2.6875 47.703125 \nL 2.6875 54.6875 \nL 9.28125 54.6875 \nL 9.28125 70.21875 \nz\n\" id=\"DejaVuSans-116\"/>\n     <path d=\"M 34.1875 63.1875 \nL 20.796875 26.90625 \nL 47.609375 26.90625 \nz\nM 28.609375 72.90625 \nL 39.796875 72.90625 \nL 67.578125 0 \nL 57.328125 0 \nL 50.6875 18.703125 \nL 17.828125 18.703125 \nL 11.1875 0 \nL 0.78125 0 \nz\n\" id=\"DejaVuSans-65\"/>\n     <path d=\"M 32.171875 -5.078125 \nQ 28.375 -14.84375 24.75 -17.8125 \nQ 21.140625 -20.796875 15.09375 -20.796875 \nL 7.90625 -20.796875 \nL 7.90625 -13.28125 \nL 13.1875 -13.28125 \nQ 16.890625 -13.28125 18.9375 -11.515625 \nQ 21 -9.765625 23.484375 -3.21875 \nL 25.09375 0.875 \nL 2.984375 54.6875 \nL 12.5 54.6875 \nL 29.59375 11.921875 \nL 46.6875 54.6875 \nL 56.203125 54.6875 \nz\n\" id=\"DejaVuSans-121\"/>\n     <path d=\"M 44.28125 53.078125 \nL 44.28125 44.578125 \nQ 40.484375 46.53125 36.375 47.5 \nQ 32.28125 48.484375 27.875 48.484375 \nQ 21.1875 48.484375 17.84375 46.4375 \nQ 14.5 44.390625 14.5 40.28125 \nQ 14.5 37.15625 16.890625 35.375 \nQ 19.28125 33.59375 26.515625 31.984375 \nL 29.59375 31.296875 \nQ 39.15625 29.25 43.1875 25.515625 \nQ 47.21875 21.78125 47.21875 15.09375 \nQ 47.21875 7.46875 41.1875 3.015625 \nQ 35.15625 -1.421875 24.609375 -1.421875 \nQ 20.21875 -1.421875 15.453125 -0.5625 \nQ 10.6875 0.296875 5.421875 2 \nL 5.421875 11.28125 \nQ 10.40625 8.6875 15.234375 7.390625 \nQ 20.0625 6.109375 24.8125 6.109375 \nQ 31.15625 6.109375 34.5625 8.28125 \nQ 37.984375 10.453125 37.984375 14.40625 \nQ 37.984375 18.0625 35.515625 20.015625 \nQ 33.0625 21.96875 24.703125 23.78125 \nL 21.578125 24.515625 \nQ 13.234375 26.265625 9.515625 29.90625 \nQ 5.8125 33.546875 5.8125 39.890625 \nQ 5.8125 47.609375 11.28125 51.796875 \nQ 16.75 56 26.8125 56 \nQ 31.78125 56 36.171875 55.265625 \nQ 40.578125 54.546875 44.28125 53.078125 \nz\n\" id=\"DejaVuSans-115\"/>\n    </defs>\n    <g transform=\"translate(218.902187 16.318125)scale(0.12 -0.12)\">\n     <use xlink:href=\"#DejaVuSans-80\"/>\n     <use x=\"60.287109\" xlink:href=\"#DejaVuSans-114\"/>\n     <use x=\"101.400391\" xlink:href=\"#DejaVuSans-105\"/>\n     <use x=\"129.183594\" xlink:href=\"#DejaVuSans-110\"/>\n     <use x=\"192.5625\" xlink:href=\"#DejaVuSans-99\"/>\n     <use x=\"247.542969\" xlink:href=\"#DejaVuSans-105\"/>\n     <use x=\"275.326172\" xlink:href=\"#DejaVuSans-112\"/>\n     <use x=\"338.802734\" xlink:href=\"#DejaVuSans-97\"/>\n     <use x=\"400.082031\" xlink:href=\"#DejaVuSans-108\"/>\n     <use x=\"427.865234\" xlink:href=\"#DejaVuSans-32\"/>\n     <use x=\"459.652344\" xlink:href=\"#DejaVuSans-67\"/>\n     <use x=\"529.476562\" xlink:href=\"#DejaVuSans-111\"/>\n     <use x=\"590.658203\" xlink:href=\"#DejaVuSans-109\"/>\n     <use x=\"688.070312\" xlink:href=\"#DejaVuSans-112\"/>\n     <use x=\"751.546875\" xlink:href=\"#DejaVuSans-111\"/>\n     <use x=\"812.728516\" xlink:href=\"#DejaVuSans-110\"/>\n     <use x=\"876.107422\" xlink:href=\"#DejaVuSans-101\"/>\n     <use x=\"937.630859\" xlink:href=\"#DejaVuSans-110\"/>\n     <use x=\"1001.009766\" xlink:href=\"#DejaVuSans-116\"/>\n     <use x=\"1040.21875\" xlink:href=\"#DejaVuSans-32\"/>\n     <use x=\"1072.005859\" xlink:href=\"#DejaVuSans-65\"/>\n     <use x=\"1140.414062\" xlink:href=\"#DejaVuSans-110\"/>\n     <use x=\"1203.792969\" xlink:href=\"#DejaVuSans-97\"/>\n     <use x=\"1265.072266\" xlink:href=\"#DejaVuSans-108\"/>\n     <use x=\"1292.855469\" xlink:href=\"#DejaVuSans-121\"/>\n     <use x=\"1352.035156\" xlink:href=\"#DejaVuSans-115\"/>\n     <use x=\"1404.134766\" xlink:href=\"#DejaVuSans-105\"/>\n     <use x=\"1431.917969\" xlink:href=\"#DejaVuSans-115\"/>\n    </g>\n   </g>\n  </g>\n </g>\n <defs>\n  <clipPath id=\"p7334920b6e\">\n   <rect height=\"543.6\" width=\"558\" x=\"28.942188\" y=\"22.318125\"/>\n  </clipPath>\n </defs>\n</svg>\n",
      "image/png": "[encoded data removed]"
     },
     "metadata": {
      "needs_background": "light"
     }
    }
   ],
   "source": [
    "go_to_project_root()\n",
    "X = pd.read_csv(\"data/processed/processed.csv\", index_col=0).to_numpy()\n",
    "scaler = StandardScaler()\n",
    "y = X[:,-1]\n",
    "X = scaler.fit_transform(X)\n",
    "\n",
    "# 2D\n",
    "pca = PCA(n_components=2)\n",
    "\n",
    "tr = pca.fit_transform(X)\n",
    "red = tr[np.where(y==1)]\n",
    "blu = tr[np.where(y==0)]\n",
    "\n",
    "plt.figure(figsize=(10,10))\n",
    "plt.scatter(red[:, 0], red[:, 1], c=\"red\", marker=\"x\", label=\"Truth: 0\")\n",
    "plt.scatter(blu[:, 0], blu[:, 1], c=\"blue\", alpha=0.8, label=\"Truth: 1\")\n",
    "plt.title(\"Principal Component Analysis\")"
   ]
  },
  {
   "cell_type": "code",
   "execution_count": 5,
   "metadata": {},
   "outputs": [
    {
     "output_type": "display_data",
     "data": {
      "application/vnd.plotly.v1+json": {
       "config": {
        "plotlyServerURL": "https://plot.ly"
       },
       "data": [
        {
         "hovertemplate": "x=%{x}<br>y=%{y}<br>z=%{z}<br>color=%{marker.color}<extra></extra>",
         "legendgroup": "",
         "marker": {
          "color": [
           1,
           -1,
           1,
           1,
           -1,
           1,
           -1,
           1,
           -1,
           1,
           -1,
           1,
           -1,
           1,
           1,
           1,
           1,
           -1,
           -1,
           -1,
           1,
           -1,
           -1,
           -1,
           -1,
           -1,
           1,
           1,
           -1,
           1,
           -1,
           1,
           -1,
           1,
           -1,
           1,
           -1,
           -1,
           1,
           1,
           -1,
           -1,
           -1,
           -1,
           1,
           1,
           -1,
           1,
           1,
           -1,
           1,
           1,
           -1,
           -1,
           -1,
           -1,
           1,
           -1,
           1,
           1,
           -1,
           -1,
           -1,
           1,
           -1,
           1,
           1,
           1,
           1,
           -1,
           -1,
           1,
           1,
           1,
           -1,
           1,
           -1,
           1,
           1,
           1,
           1,
           -1,
           -1,
           -1,
           -1,
           -1,
           -1,
           -1,
           1,
           -1,
           -1,
           -1,
           -1,
           -1,
           -1,
           1,
           -1,
           -1,
           1,
           -1,
           -1,
           1,
           -1,
           1,
           1,
           -1,
           -1,
           1,
           1,
           -1,
           1,
           -1,
           -1,
           1,
           -1,
           -1,
           -1,
           1,
           1,
           -1,
           -1,
           1,
           1,
           1,
           -1,
           1,
           1,
           1,
           1,
           1,
           1,
           1,
           -1,
           1,
           -1,
           1,
           -1,
           -1,
           -1,
           1,
           1,
           -1,
           1,
           -1,
           -1,
           -1,
           1,
           1,
           -1,
           -1,
           1,
           -1,
           1,
           -1,
           -1,
           1,
           -1,
           -1,
           1,
           1,
           -1,
           1,
           1,
           -1,
           -1,
           1,
           1,
           -1,
           1,
           -1,
           1,
           -1,
           -1,
           -1,
           1,
           -1,
           1,
           -1,
           -1,
           1,
           -1,
           -1,
           -1,
           1,
           1,
           -1,
           -1,
           -1,
           1,
           -1,
           1,
           -1,
           1,
           -1,
           -1,
           -1,
           1,
           -1,
           1,
           1,
           1,
           -1,
           1,
           1,
           1,
           1,
           -1,
           1,
           1,
           1,
           1,
           -1,
           1,
           -1,
           1,
           1,
           1,
           1,
           -1,
           -1,
           1,
           -1,
           1,
           1,
           1,
           -1,
           1,
           1,
           1,
           -1,
           1,
           1,
           -1,
           1,
           1,
           -1,
           1,
           -1,
           1,
           -1,
           1,
           1,
           -1,
           -1,
           -1,
           -1,
           -1,
           1,
           1,
           1,
           1,
           -1,
           1,
           1,
           1,
           1,
           -1,
           -1,
           -1,
           -1,
           -1,
           1,
           -1,
           1,
           1,
           -1,
           1,
           -1,
           -1,
           -1,
           -1,
           1,
           1,
           1,
           -1,
           1,
           1,
           -1,
           -1,
           1,
           1,
           1,
           -1,
           -1,
           -1,
           -1,
           1,
           1,
           -1,
           1,
           1,
           -1,
           -1,
           -1,
           1,
           -1,
           1,
           1,
           -1,
           1
          ],
          "coloraxis": "coloraxis",
          "symbol": "circle"
         },
         "mode": "markers",
         "name": "",
         "scene": "scene",
         "showlegend": false,
         "type": "scatter3d",
         "x": [
          -0.11415337877247089,
          1.5157573956342576,
          -3.7630263061522338,
          -2.0728875400873297,
          -0.36096138214397105,
          2.913945055183488,
          -1.0719293666424103,
          -1.6256963073175748,
          3.2684045135482207,
          5.827990632304834,
          5.104976399541121,
          0.5171986256115777,
          6.86731526337515,
          -1.5467810749965258,
          -0.3247552663235014,
          -0.9684473755037081,
          -0.759349617099033,
          -1.0246270823433468,
          4.673764054776839,
          -1.6353571320215348,
          8.066700771452016,
          -0.6555125922995179,
          -4.054262762690903,
          -0.8857690332588534,
          5.253919378142572,
          0.3180844411757896,
          2.9139450551834862,
          4.645468676092652,
          4.99736362928503,
          -3.2170504390682537,
          -0.6443433454160136,
          -1.5739316359662274,
          6.2131031919158675,
          -1.1747671141529732,
          -2.414352945366817,
          -3.529503781775242,
          -1.7655570177676434,
          5.802205010499442,
          -2.027878797638863,
          -0.9775972479665744,
          -2.9084378144459215,
          -1.8738214845175445,
          -2.149606389736244,
          -3.9368660132313194,
          -1.9156192529112182,
          4.666667500589965,
          -0.44755810517655537,
          1.2052967076015555,
          -0.30454954897428294,
          -2.5771650173969944,
          -2.1271506854063817,
          -1.11195250677664,
          -3.9473913208785034,
          6.83687561768633,
          3.033845159619489,
          -4.276156282208773,
          -1.82534299282618,
          -2.666395181067287,
          -1.0193726485100219,
          -2.4815248172903526,
          -2.576195000981956,
          3.656036781425058,
          -4.909586219521691,
          -0.9384750103361922,
          -3.386318364464631,
          0.31872414239386176,
          -3.017953657746168,
          -1.238632432468105,
          0.4740440567962301,
          -2.2086340092016736,
          1.7699812729211493,
          0.8024634812829883,
          -0.3305176705915159,
          -2.8713167884230484,
          4.158828980252452,
          -1.4468229058747655,
          0.49363332224858836,
          2.07366607175612,
          1.7317650065253374,
          -0.7963972755365079,
          -2.8181674149809752,
          -3.296891730433415,
          -2.159955450650955,
          1.9300180592167988,
          -2.5165516408008424,
          -2.679497668973391,
          1.4919675213215957,
          -2.1474426437185974,
          -1.0796949744830489,
          0.0649997475358222,
          -1.2271704889022246,
          -4.925715118802128,
          1.2829979977253696,
          1.9096503134908134,
          6.735787238547721,
          -0.5996086433966397,
          2.4359806257693895,
          -3.7454926994174946,
          -2.8824300309456397,
          -0.9089367771610514,
          5.185438137810504,
          0.6961868540381009,
          2.175995023061383,
          4.7309687313514335,
          -1.5793098494170177,
          -5.151100372881649,
          5.174544410662141,
          3.748290539511233,
          1.2230511848001036,
          5.39265493257138,
          -2.9615928632948814,
          4.709166308498538,
          4.557432255137364,
          -0.21607988057353317,
          -5.904175893054195,
          1.5396257584678599,
          -1.7466923157168972,
          -1.8451354815760481,
          -1.909963378519782,
          -0.031389965345102,
          -0.8037428100413699,
          -0.7880736800385931,
          -1.8266394198835103,
          -0.3709958783930416,
          -1.3162152557239748,
          5.263086598309481,
          -0.4218527442023891,
          1.0232450917245282,
          -3.7346595203930315,
          -3.3956084890395544,
          -1.1932451912882047,
          -2.47333756304699,
          -2.258779988294695,
          -1.5897391666543375,
          -2.4221956084378573,
          0.659352616862345,
          2.6655167250918295,
          0.7488868614443496,
          -1.8815086070329134,
          -2.13522340980383,
          -3.3859544231936303,
          -2.0667037397848307,
          -1.6971534937000579,
          0.6717665636796749,
          -4.679446726903834,
          -0.5432419954749481,
          5.029960565346379,
          3.289711472529553,
          1.303939464080688,
          -1.9156192529112195,
          0.12709668644662434,
          1.6884828381597046,
          2.9139450551834862,
          4.900112049315659,
          -1.480293223663479,
          -0.2952789879806729,
          6.137002267488863,
          -2.4395916523583585,
          -1.592806715533294,
          0.47597347749704916,
          4.083358154592715,
          -1.2535133144087096,
          0.4036702662966517,
          0.2824962441723301,
          2.5509769324705545,
          -2.968570294743879,
          -2.989862938952981,
          -3.2708775636116645,
          0.4714158613946032,
          -4.756323160569177,
          1.3198341607057194,
          -1.5256393882057808,
          6.21262121678974,
          1.8435557322178813,
          -0.21320416143249646,
          -3.94752245466684,
          -0.9978282783017589,
          -0.5955841777810534,
          -4.957934333270492,
          -1.9798662129824804,
          -1.1211814278393566,
          -0.7507113643035671,
          8.9725835445364,
          2.6211506636721285,
          -0.2535018220494888,
          -4.748607809548116,
          2.2181922066176263,
          -1.734394772967119,
          1.2808956836072343,
          -4.601029185878261,
          -3.561696661854063,
          4.048802368801646,
          -1.7848050839832617,
          0.6233467895665534,
          -0.5660257645646636,
          -2.483015495397737,
          -4.5446123421507085,
          11.42919758831997,
          3.868027303857008,
          -0.9370998106492232,
          -6.086813195875163,
          0.6239067779529207,
          -2.2316907383566855,
          -2.1494593962180097,
          -5.482750087014664,
          -2.0627877500587544,
          -1.2288453793186331,
          6.344369315503791,
          3.6653843496984893,
          -1.3715246672453005,
          -2.352758463420174,
          -0.22784811577153166,
          1.5841995064433299,
          -5.332657474982289,
          -2.541146331454997,
          -0.7033991881141821,
          -2.8803487409949398,
          -4.3640421344054285,
          9.120126788814572,
          -6.104750869658511,
          -2.864707272414358,
          1.431345608660006,
          3.048139636170532,
          1.3664410636775426,
          -1.1838881172505016,
          8.464528816173178,
          3.257143878492556,
          -0.2528250955263754,
          -0.987100570309887,
          -3.33270459410924,
          -1.0686014305870815,
          -0.1690020118965672,
          -1.9426714709948982,
          1.257851776951529,
          -1.609706091905454,
          6.1829425236153615,
          -1.631688342029825,
          0.7681033897777382,
          -0.6389740403495588,
          -1.8043255152047846,
          2.913945055183488,
          -2.689464941465578,
          7.192118069478518,
          -4.845161382066819,
          7.139280118704839,
          5.450131312152037,
          1.9824907175437734,
          -0.7840455558677418,
          -4.000776451223165,
          -5.458599931825711,
          3.289711472529555,
          -2.6809282352095787,
          -3.5034849672703396,
          -3.3136791896487297,
          -0.19770516213883046,
          -0.558407809215033,
          -2.9962738732309266,
          0.20471624941536798,
          -3.1041856360033293,
          3.132214677594409,
          -3.434291759700186,
          -2.2986429521274654,
          0.6731987285160447,
          3.064036222947242,
          3.2712183526214336,
          3.030120342205778,
          1.722271774063947,
          0.07780252588017636,
          4.95111950560839,
          -1.329503950693577,
          3.4819754789214947,
          8.154470597685433,
          0.20455632742755198,
          -1.1331245866346564,
          7.992722132034262,
          -0.43555319920228275,
          -1.9695005585130876,
          -1.5731834077093334,
          -0.3856400562541203,
          -1.5142269402458213,
          -3.898959784492656,
          -0.361429701451085,
          7.5405309604723145,
          -2.799666298868153,
          4.262119566402102,
          6.444127000952839,
          -1.1716371129987069,
          1.7842096429179128,
          -2.2973773366122647,
          -3.13983507845077,
          -1.1940469933004882,
          -1.562193020086421,
          0.7055971574527512,
          4.015810353238303,
          0.9629212350949946,
          -2.217785521937061,
          -1.2630543438366513,
          7.720194631070122,
          -5.478031279932259,
          -3.4530398352749514
         ],
         "y": [
          -1.7161629201281214,
          8.113610897613377,
          2.298980593562055,
          -1.8293624753477176,
          -0.2575866986420858,
          -4.292216330445265,
          -0.61889468851315,
          -0.7813905022958264,
          -1.976463715649932,
          2.095217562846409,
          1.8099370286442833,
          -1.9336957898530738,
          -0.14587578158421877,
          -1.5726183039980512,
          -0.18751747738750982,
          -1.7227138426116686,
          -0.8502548976045603,
          -0.4700166719643504,
          5.709900751093085,
          0.831714455292654,
          -3.4945503092984973,
          0.40011189271912045,
          5.405817341751811,
          -0.6037489161336049,
          0.7721929756262278,
          -0.03933292492004585,
          -4.292216330445267,
          0.5136941120752528,
          1.9377759487259065,
          -0.07751828205832134,
          -0.7261315930365919,
          0.016284146574394205,
          2.583317414998875,
          0.0370556719689717,
          -0.5435159891815707,
          -0.8515436123421593,
          0.2989737012249004,
          3.737150566764542,
          -1.4482637396488163,
          -1.4281930877871594,
          -1.2621934445543124,
          1.3008030189758573,
          -0.1578427284484487,
          0.8811708462107264,
          -0.7751680375056232,
          2.377158312689744,
          0.6146444125953756,
          -0.5259941195698725,
          -0.9045918217399596,
          0.16227165306125627,
          -1.0598396845346056,
          -1.5002550027144927,
          0.6317127582059003,
          0.9560585699911917,
          2.1351583365808406,
          4.406422377636705,
          -1.260351139249704,
          -0.9815090759032884,
          -2.2034721230959726,
          -0.46538192873202877,
          -0.8954845583564955,
          0.9815394785870056,
          3.9786524374841457,
          -1.6927565826883129,
          0.12227776978973363,
          -1.2264400269340106,
          -0.4503978950155785,
          -2.0152064445602362,
          -0.4313858247400047,
          -1.4926124442324429,
          -1.274039203909213,
          -0.41304924439739055,
          -2.1409653363008165,
          -2.178026359670815,
          -0.9411008735515286,
          -0.8108306886629895,
          0.5028605646575149,
          -2.0957288617272,
          -0.42475114415203336,
          -1.8682996633071398,
          -0.19035646552729285,
          -0.729534600861061,
          -0.43639758846369986,
          -1.1150668520808602,
          -0.7108008262478291,
          1.6543051334970698,
          0.5454602752727922,
          3.2345096368823394,
          -1.3748099709232195,
          1.2590459790554847,
          -0.6316650439822453,
          1.6722185655286599,
          0.03253552122904443,
          -1.1059421997059493,
          -3.074330515227293,
          1.022402033598607,
          -1.188475940260676,
          1.341746478327909,
          -0.47965958412851695,
          0.7794449402698941,
          -3.3722649087052847,
          -2.2764864769345534,
          6.902990539324974,
          -0.4973033316710761,
          -0.11417601008159634,
          3.000510104602841,
          -1.5602094450110495,
          -4.126125992311255,
          0.6982630858539056,
          -0.11393106715808071,
          -1.1056696981072707,
          2.11655710417791,
          5.1545890669652366,
          -1.8906746663844727,
          1.620093578759222,
          -1.8133047942294198,
          -1.7662271715951467,
          -1.0615251685155416,
          1.0730872720530173,
          -0.8276289656256977,
          -0.33433775303843233,
          -2.3556798497904587,
          -1.2225314115187202,
          -1.4026294613491535,
          -0.14851797024636626,
          -1.3690940931122968,
          1.1194609629478338,
          -2.447729795208273,
          2.2955485801389743,
          -0.892405183931787,
          -1.4302711610787155,
          -1.5690896533566263,
          -0.9112461517780293,
          -1.6789660520290395,
          -0.6830652472391102,
          8.249699445119607,
          2.8977773863445204,
          -0.186500279907261,
          -0.9427610399563288,
          -0.029890839705317526,
          3.9404534286873423,
          1.0878124305120416,
          -0.8199239472132868,
          -2.5470579676056766,
          -0.6277042446235052,
          -0.26350706699410614,
          -2.4624576147324784,
          -4.216986032501058,
          1.7982756911490052,
          -0.7751680375056231,
          -1.6183136728823102,
          1.088277843467706,
          -4.292216330445267,
          -1.0526795174434822,
          -1.6818767154621825,
          -0.012400232977349686,
          -0.8516951147548382,
          1.0683101365262297,
          -1.4567316229644873,
          0.7892114627130548,
          -1.5722161402900114,
          -0.13063450756389308,
          -2.0579591359733405,
          -1.1621060421963225,
          -1.825657789752507,
          -0.48072964172250804,
          -0.5974810869299987,
          -0.6729717673063903,
          0.7106937031203203,
          0.08665539328284355,
          -0.09144902042498756,
          0.37485018049260077,
          -3.597204015932987,
          1.0290467046437337,
          1.055104733083132,
          0.3490219908959564,
          -1.3485759199912712,
          5.152021572647741,
          0.47382049219631456,
          1.1874196393497198,
          -0.4434529456557707,
          -1.5260488734636948,
          7.120167984503704,
          1.3747072445087594,
          -0.6743232378504581,
          0.5083986158358724,
          -3.946786449081416,
          -0.24381723495535168,
          1.1581043346023934,
          2.1501534313097093,
          3.342672041200099,
          1.2472608474087856,
          -0.9835470439506323,
          1.9041702218804093,
          -0.22619988469749125,
          -0.6774107164279167,
          0.9059571447767839,
          6.193321942810142,
          -3.7596979631821887,
          2.202337490492443,
          0.8390385046235387,
          -0.1708469047134159,
          -0.10111971295013768,
          -1.5773203484244327,
          1.1505449416042104,
          -1.7888573135160226,
          -1.5194025347698024,
          -1.3434527038367572,
          0.9320276569534812,
          -2.05587586428609,
          -1.0660249718851422,
          -0.40661134062255494,
          -1.1377195037012753,
          2.5532356685991373,
          -1.1667903655240424,
          -1.5955663963796682,
          -0.3247054231545466,
          0.24446936521985915,
          2.890999962268195,
          0.36977680525905327,
          -0.39122023701669234,
          4.785699917296249,
          -5.062951627143409,
          -0.7180278787475903,
          -1.4137078837710986,
          2.460731480235074,
          1.2798971320555093,
          -2.0032687718729942,
          -1.3074733982055786,
          1.681999987286807,
          -1.1187541682358133,
          -1.7148150308941896,
          -1.6745618554810175,
          0.9234706347610286,
          -1.5245033060685935,
          3.390254284403186,
          0.22783281155462418,
          0.1574346503891234,
          -1.7974574022999592,
          -0.7881029539892586,
          -4.292216330445267,
          -0.5906422203101864,
          -1.4756838631822362,
          1.709703714653977,
          3.294576245977767,
          0.38896902401198413,
          3.273709941164422,
          -1.730340984348066,
          0.4283911011433503,
          5.30043647595633,
          -4.21698603250106,
          0.33915911864851556,
          -0.1332255604215925,
          -0.7720646805312356,
          -0.7709691577824613,
          -1.486673298837388,
          -0.5515581986823531,
          1.2672664774296745,
          3.6595944064811206,
          1.0369237844634882,
          0.5897130743197795,
          -0.23237102927175113,
          0.9405606473087507,
          -2.011837051869835,
          -1.9102626172245811,
          -4.156031335818991,
          -0.5775174388776205,
          0.84667885508505,
          7.062442252053102,
          1.2439282210809082,
          0.3681867633299598,
          0.29463837539045984,
          -0.40334825920899475,
          0.7189615131037975,
          -0.640663647525829,
          -2.0532307028145134,
          -0.0805303722531129,
          0.6806417722651572,
          -0.08075113578850462,
          0.689811964266766,
          0.17783311575138488,
          -1.5740889003352656,
          2.5569275822144877,
          -0.16808661612773226,
          0.8858499110639992,
          -1.996536395971921,
          2.3720321609192156,
          0.22198506585421768,
          0.010537982237226328,
          4.130598638820593,
          0.17240996788475008,
          -0.6278206369284385,
          1.1324415069795348,
          -3.829684555283065,
          1.6911900185476958,
          1.9702824041234301,
          -1.1647127878908334,
          2.8666987960803594,
          4.518062235663748,
          1.1592067025161756
         ],
         "z": [
          0.3743572282445664,
          -0.8624959031752624,
          -0.17568523702514047,
          0.3122303121451435,
          -0.7415747266302724,
          -0.7353656875001408,
          0.6822444108431163,
          0.6140017672128121,
          -0.1736520652325827,
          5.76787251730311,
          1.0040759430586532,
          0.7937292654212083,
          -0.42880622496648774,
          1.1191582835670395,
          4.347311436206884,
          -0.9928888464572607,
          1.745821648836676,
          0.13306253096860557,
          0.9112411595655202,
          1.4250875254322222,
          -4.432243840926831,
          -1.6147727621048362,
          7.456527082364943,
          -0.7606366312943923,
          -0.24453817795899144,
          0.04850703252095159,
          -0.7353656875001412,
          -0.40375444347060535,
          2.6284272524647703,
          2.331981346864111,
          1.6431934435629834,
          1.566022686184131,
          1.4465058925612766,
          -1.704318273086254,
          0.858053780714922,
          0.634627454840759,
          -0.3898676757517719,
          1.8684558928244857,
          1.1464284304974097,
          0.3235294421531707,
          1.5998099949659237,
          -0.7972045057187936,
          -0.873347011882784,
          1.3541482852587399,
          -0.10263114699753516,
          -2.239053000941114,
          -1.4410433209815616,
          -1.8290035601752406,
          1.4030327505954538,
          0.07357619582725643,
          -0.9343465360592176,
          -0.5151250681994469,
          -0.4853895811597626,
          -0.48726324030107154,
          -0.8377993286858716,
          -4.4107044719511,
          -0.5953011949319054,
          2.3579212617637246,
          0.024283555220391623,
          1.1408192157960892,
          0.807759289984999,
          -1.6033995449019525,
          -1.2401153323360385,
          1.0389779397937273,
          0.547031273901387,
          0.17917220895378197,
          -0.05247076249563553,
          1.8515268000053164,
          2.735972399600818,
          -0.5730807110845431,
          0.2304663818902044,
          -0.41239128902713856,
          -1.294213127034567,
          1.224086792033944,
          -0.2888351691430968,
          1.483527103538465,
          0.14724968288300658,
          -2.7043165757015757,
          0.41057502989775646,
          -0.3817605029075107,
          0.8794091155498739,
          0.8529292596956641,
          -0.9000888215082464,
          2.629713820625433,
          0.03170255708653887,
          -5.478045571844734,
          -1.6368449881711307,
          -1.8773179656181318,
          0.8543488839826576,
          2.0179806309381956,
          -0.33603589436155107,
          -2.6768106473738906,
          -2.345252471965293,
          2.619757856714075,
          -1.5003522298438157,
          0.24327256897916735,
          -1.68768824490858,
          1.545732400319457,
          2.7390483965700745,
          0.9386163781818156,
          -1.7874516803531977,
          0.10913881706953481,
          0.16191179865229174,
          0.7294718812225788,
          -0.9020221153557836,
          -1.7586624597049765,
          -2.185628562247041,
          -0.7881027482306594,
          0.7209353519743614,
          1.4154793058841821,
          2.458346148383477,
          -0.4580116699876968,
          1.1666346617195409,
          0.9900897083205612,
          -1.5842022031554075,
          -2.0573279383445175,
          0.5302982925608888,
          0.018441952924439287,
          -0.9123173825265921,
          -0.3640857576112182,
          -0.7452891960588428,
          2.529013374689346,
          0.8388767339748808,
          0.5790423246350234,
          -2.878247182659528,
          0.35826822559628985,
          -1.9852660175844292,
          0.9102318702443047,
          2.5752486930280356,
          1.4410995832686289,
          1.3437329244097425,
          -0.15085671447107454,
          -0.6275999648326445,
          0.4507301185778355,
          0.8058471677609478,
          1.7814464708343292,
          -1.050445882849086,
          -1.329997470303321,
          -1.1169427523470605,
          0.7872220279368937,
          -2.4504114734894156,
          0.19391785850723536,
          2.888733057896479,
          1.6890285623971364,
          -0.2600111327662833,
          1.6713118082484124,
          -1.9136906526846162,
          -0.8905201820107999,
          -2.7843240015744715,
          -0.10263114699753526,
          0.4461854158451974,
          1.340546942450473,
          -0.7353656875001396,
          -0.38228252531435725,
          -0.23733096292799719,
          -1.0402297571973966,
          0.717355577455083,
          0.4270320413949379,
          1.225331515683132,
          1.7760692895696968,
          -0.5814607598318344,
          -0.9933897981332969,
          -0.12995996824391773,
          -0.3285365413192408,
          0.803852709423198,
          -0.24220723941926797,
          -1.0720209812024302,
          -0.443824948345429,
          0.15531950650693707,
          1.6287174109999627,
          1.0839829961593215,
          -2.536793538514388,
          -2.3883390650471905,
          0.7164747851212219,
          2.1847157402485493,
          -1.431205441541183,
          0.49455538028958923,
          4.109487064470338,
          -0.50880956485109,
          -3.3128628669633318,
          0.9911429421531638,
          1.801024234375557,
          2.8362289440616832,
          0.41085432614160106,
          1.9279764900398229,
          -2.00069974808548,
          1.0988812439477318,
          -3.18651296315272,
          -1.5177930683087673,
          0.26429881484983103,
          -4.1868669988613965,
          -0.9398649950611245,
          1.0608569740488607,
          -0.642549319418103,
          1.5275103455443428,
          0.2591849195881812,
          -2.404717746950893,
          0.30493761264324754,
          -1.6752752567757818,
          1.19092912903383,
          1.654720936384358,
          0.27067097737761786,
          -0.9955551187140999,
          0.8353688735947009,
          -1.3247866859724078,
          0.38896980063506,
          2.432278169129304,
          -0.2684804746323626,
          0.3684343150339436,
          0.7152592806800414,
          1.150753653072241,
          -0.08747311788756025,
          -1.9433515120262324,
          -3.6389093164819193,
          -0.8178122553609696,
          -1.761287948785906,
          4.754389102415829,
          -1.2609122397612793,
          -1.4511958411042454,
          0.20881835396973453,
          1.2773978016602496,
          -0.4550841810438399,
          0.8324112044903824,
          0.24449551024215108,
          0.6887035377563674,
          0.7149181197066137,
          -1.3452906820787973,
          2.6414823715228226,
          1.0041589951546883,
          -0.4334699416590815,
          0.929563918225357,
          -0.6593261598586673,
          -0.10484368674370258,
          -3.1723762976690932,
          0.9423160495950229,
          0.5095887879886067,
          0.4235199774142312,
          -2.521948626740618,
          1.48641582050188,
          -1.1611074739827951,
          -0.7353656875001409,
          -0.47710427569199665,
          -0.33559050427417086,
          3.734169750598266,
          -1.4891020509139228,
          -0.5287450194776548,
          -1.6358012107926954,
          -0.7909199424771882,
          1.9824027635101296,
          -3.352510701287344,
          -0.8905201820107983,
          -0.897097014156647,
          0.34418293017160406,
          0.3273248754675944,
          0.4537640368832739,
          1.1561344923314072,
          0.001996569487663945,
          -0.6496899785556464,
          0.4445685300542139,
          0.1770184082672553,
          0.2594766309482887,
          0.2736869552972639,
          1.3282156227012054,
          0.37904906745557415,
          0.8373613456106888,
          -0.9268300357644211,
          1.9201782919378594,
          -1.8635013647105463,
          1.1885729242836132,
          -1.3320736797349708,
          0.6342082743484218,
          0.12326864622032156,
          -1.7680181591073703,
          2.287211088628364,
          -0.9260542077066819,
          -0.7381221691830334,
          -1.8632592555701295,
          0.888962302302038,
          -0.6629472116968431,
          0.24737221666632242,
          -1.226910859822558,
          0.8796582783616522,
          0.4220044024480695,
          0.004302085698020484,
          1.7333263189849188,
          -0.11967998156257349,
          1.2829973685315592,
          -0.4346922955265512,
          -2.468289445284595,
          -1.926228264221855,
          -1.3462583801186472,
          1.4883701257265747,
          -1.7203694961025668,
          -1.9762462834435688,
          2.4176554496207854,
          -3.987820487381097,
          -0.8007743322065702,
          0.6746911049724574,
          -3.7428785453912794,
          -1.4868626691584874
         ]
        }
       ],
       "layout": {
        "coloraxis": {
         "colorbar": {
          "title": {
           "text": "color"
          }
         },
         "colorscale": [
          [
           0,
           "#0d0887"
          ],
          [
           0.1111111111111111,
           "#46039f"
          ],
          [
           0.2222222222222222,
           "#7201a8"
          ],
          [
           0.3333333333333333,
           "#9c179e"
          ],
          [
           0.4444444444444444,
           "#bd3786"
          ],
          [
           0.5555555555555556,
           "#d8576b"
          ],
          [
           0.6666666666666666,
           "#ed7953"
          ],
          [
           0.7777777777777778,
           "#fb9f3a"
          ],
          [
           0.8888888888888888,
           "#fdca26"
          ],
          [
           1,
           "#f0f921"
          ]
         ]
        },
        "legend": {
         "tracegroupgap": 0
        },
        "margin": {
         "t": 60
        },
        "scene": {
         "domain": {
          "x": [
           0,
           1
          ],
          "y": [
           0,
           1
          ]
         },
         "xaxis": {
          "title": {
           "text": "x"
          }
         },
         "yaxis": {
          "title": {
           "text": "y"
          }
         },
         "zaxis": {
          "title": {
           "text": "z"
          }
         }
        },
        "template": {
         "data": {
          "bar": [
           {
            "error_x": {
             "color": "#2a3f5f"
            },
            "error_y": {
             "color": "#2a3f5f"
            },
            "marker": {
             "line": {
              "color": "#E5ECF6",
              "width": 0.5
             }
            },
            "type": "bar"
           }
          ],
          "barpolar": [
           {
            "marker": {
             "line": {
              "color": "#E5ECF6",
              "width": 0.5
             }
            },
            "type": "barpolar"
           }
          ],
          "carpet": [
           {
            "aaxis": {
             "endlinecolor": "#2a3f5f",
             "gridcolor": "white",
             "linecolor": "white",
             "minorgridcolor": "white",
             "startlinecolor": "#2a3f5f"
            },
            "baxis": {
             "endlinecolor": "#2a3f5f",
             "gridcolor": "white",
             "linecolor": "white",
             "minorgridcolor": "white",
             "startlinecolor": "#2a3f5f"
            },
            "type": "carpet"
           }
          ],
          "choropleth": [
           {
            "colorbar": {
             "outlinewidth": 0,
             "ticks": ""
            },
            "type": "choropleth"
           }
          ],
          "contour": [
           {
            "colorbar": {
             "outlinewidth": 0,
             "ticks": ""
            },
            "colorscale": [
             [
              0,
              "#0d0887"
             ],
             [
              0.1111111111111111,
              "#46039f"
             ],
             [
              0.2222222222222222,
              "#7201a8"
             ],
             [
              0.3333333333333333,
              "#9c179e"
             ],
             [
              0.4444444444444444,
              "#bd3786"
             ],
             [
              0.5555555555555556,
              "#d8576b"
             ],
             [
              0.6666666666666666,
              "#ed7953"
             ],
             [
              0.7777777777777778,
              "#fb9f3a"
             ],
             [
              0.8888888888888888,
              "#fdca26"
             ],
             [
              1,
              "#f0f921"
             ]
            ],
            "type": "contour"
           }
          ],
          "contourcarpet": [
           {
            "colorbar": {
             "outlinewidth": 0,
             "ticks": ""
            },
            "type": "contourcarpet"
           }
          ],
          "heatmap": [
           {
            "colorbar": {
             "outlinewidth": 0,
             "ticks": ""
            },
            "colorscale": [
             [
              0,
              "#0d0887"
             ],
             [
              0.1111111111111111,
              "#46039f"
             ],
             [
              0.2222222222222222,
              "#7201a8"
             ],
             [
              0.3333333333333333,
              "#9c179e"
             ],
             [
              0.4444444444444444,
              "#bd3786"
             ],
             [
              0.5555555555555556,
              "#d8576b"
             ],
             [
              0.6666666666666666,
              "#ed7953"
             ],
             [
              0.7777777777777778,
              "#fb9f3a"
             ],
             [
              0.8888888888888888,
              "#fdca26"
             ],
             [
              1,
              "#f0f921"
             ]
            ],
            "type": "heatmap"
           }
          ],
          "heatmapgl": [
           {
            "colorbar": {
             "outlinewidth": 0,
             "ticks": ""
            },
            "colorscale": [
             [
              0,
              "#0d0887"
             ],
             [
              0.1111111111111111,
              "#46039f"
             ],
             [
              0.2222222222222222,
              "#7201a8"
             ],
             [
              0.3333333333333333,
              "#9c179e"
             ],
             [
              0.4444444444444444,
              "#bd3786"
             ],
             [
              0.5555555555555556,
              "#d8576b"
             ],
             [
              0.6666666666666666,
              "#ed7953"
             ],
             [
              0.7777777777777778,
              "#fb9f3a"
             ],
             [
              0.8888888888888888,
              "#fdca26"
             ],
             [
              1,
              "#f0f921"
             ]
            ],
            "type": "heatmapgl"
           }
          ],
          "histogram": [
           {
            "marker": {
             "colorbar": {
              "outlinewidth": 0,
              "ticks": ""
             }
            },
            "type": "histogram"
           }
          ],
          "histogram2d": [
           {
            "colorbar": {
             "outlinewidth": 0,
             "ticks": ""
            },
            "colorscale": [
             [
              0,
              "#0d0887"
             ],
             [
              0.1111111111111111,
              "#46039f"
             ],
             [
              0.2222222222222222,
              "#7201a8"
             ],
             [
              0.3333333333333333,
              "#9c179e"
             ],
             [
              0.4444444444444444,
              "#bd3786"
             ],
             [
              0.5555555555555556,
              "#d8576b"
             ],
             [
              0.6666666666666666,
              "#ed7953"
             ],
             [
              0.7777777777777778,
              "#fb9f3a"
             ],
             [
              0.8888888888888888,
              "#fdca26"
             ],
             [
              1,
              "#f0f921"
             ]
            ],
            "type": "histogram2d"
           }
          ],
          "histogram2dcontour": [
           {
            "colorbar": {
             "outlinewidth": 0,
             "ticks": ""
            },
            "colorscale": [
             [
              0,
              "#0d0887"
             ],
             [
              0.1111111111111111,
              "#46039f"
             ],
             [
              0.2222222222222222,
              "#7201a8"
             ],
             [
              0.3333333333333333,
              "#9c179e"
             ],
             [
              0.4444444444444444,
              "#bd3786"
             ],
             [
              0.5555555555555556,
              "#d8576b"
             ],
             [
              0.6666666666666666,
              "#ed7953"
             ],
             [
              0.7777777777777778,
              "#fb9f3a"
             ],
             [
              0.8888888888888888,
              "#fdca26"
             ],
             [
              1,
              "#f0f921"
             ]
            ],
            "type": "histogram2dcontour"
           }
          ],
          "mesh3d": [
           {
            "colorbar": {
             "outlinewidth": 0,
             "ticks": ""
            },
            "type": "mesh3d"
           }
          ],
          "parcoords": [
           {
            "line": {
             "colorbar": {
              "outlinewidth": 0,
              "ticks": ""
             }
            },
            "type": "parcoords"
           }
          ],
          "pie": [
           {
            "automargin": true,
            "type": "pie"
           }
          ],
          "scatter": [
           {
            "marker": {
             "colorbar": {
              "outlinewidth": 0,
              "ticks": ""
             }
            },
            "type": "scatter"
           }
          ],
          "scatter3d": [
           {
            "line": {
             "colorbar": {
              "outlinewidth": 0,
              "ticks": ""
             }
            },
            "marker": {
             "colorbar": {
              "outlinewidth": 0,
              "ticks": ""
             }
            },
            "type": "scatter3d"
           }
          ],
          "scattercarpet": [
           {
            "marker": {
             "colorbar": {
              "outlinewidth": 0,
              "ticks": ""
             }
            },
            "type": "scattercarpet"
           }
          ],
          "scattergeo": [
           {
            "marker": {
             "colorbar": {
              "outlinewidth": 0,
              "ticks": ""
             }
            },
            "type": "scattergeo"
           }
          ],
          "scattergl": [
           {
            "marker": {
             "colorbar": {
              "outlinewidth": 0,
              "ticks": ""
             }
            },
            "type": "scattergl"
           }
          ],
          "scattermapbox": [
           {
            "marker": {
             "colorbar": {
              "outlinewidth": 0,
              "ticks": ""
             }
            },
            "type": "scattermapbox"
           }
          ],
          "scatterpolar": [
           {
            "marker": {
             "colorbar": {
              "outlinewidth": 0,
              "ticks": ""
             }
            },
            "type": "scatterpolar"
           }
          ],
          "scatterpolargl": [
           {
            "marker": {
             "colorbar": {
              "outlinewidth": 0,
              "ticks": ""
             }
            },
            "type": "scatterpolargl"
           }
          ],
          "scatterternary": [
           {
            "marker": {
             "colorbar": {
              "outlinewidth": 0,
              "ticks": ""
             }
            },
            "type": "scatterternary"
           }
          ],
          "surface": [
           {
            "colorbar": {
             "outlinewidth": 0,
             "ticks": ""
            },
            "colorscale": [
             [
              0,
              "#0d0887"
             ],
             [
              0.1111111111111111,
              "#46039f"
             ],
             [
              0.2222222222222222,
              "#7201a8"
             ],
             [
              0.3333333333333333,
              "#9c179e"
             ],
             [
              0.4444444444444444,
              "#bd3786"
             ],
             [
              0.5555555555555556,
              "#d8576b"
             ],
             [
              0.6666666666666666,
              "#ed7953"
             ],
             [
              0.7777777777777778,
              "#fb9f3a"
             ],
             [
              0.8888888888888888,
              "#fdca26"
             ],
             [
              1,
              "#f0f921"
             ]
            ],
            "type": "surface"
           }
          ],
          "table": [
           {
            "cells": {
             "fill": {
              "color": "#EBF0F8"
             },
             "line": {
              "color": "white"
             }
            },
            "header": {
             "fill": {
              "color": "#C8D4E3"
             },
             "line": {
              "color": "white"
             }
            },
            "type": "table"
           }
          ]
         },
         "layout": {
          "annotationdefaults": {
           "arrowcolor": "#2a3f5f",
           "arrowhead": 0,
           "arrowwidth": 1
          },
          "coloraxis": {
           "colorbar": {
            "outlinewidth": 0,
            "ticks": ""
           }
          },
          "colorscale": {
           "diverging": [
            [
             0,
             "#8e0152"
            ],
            [
             0.1,
             "#c51b7d"
            ],
            [
             0.2,
             "#de77ae"
            ],
            [
             0.3,
             "#f1b6da"
            ],
            [
             0.4,
             "#fde0ef"
            ],
            [
             0.5,
             "#f7f7f7"
            ],
            [
             0.6,
             "#e6f5d0"
            ],
            [
             0.7,
             "#b8e186"
            ],
            [
             0.8,
             "#7fbc41"
            ],
            [
             0.9,
             "#4d9221"
            ],
            [
             1,
             "#276419"
            ]
           ],
           "sequential": [
            [
             0,
             "#0d0887"
            ],
            [
             0.1111111111111111,
             "#46039f"
            ],
            [
             0.2222222222222222,
             "#7201a8"
            ],
            [
             0.3333333333333333,
             "#9c179e"
            ],
            [
             0.4444444444444444,
             "#bd3786"
            ],
            [
             0.5555555555555556,
             "#d8576b"
            ],
            [
             0.6666666666666666,
             "#ed7953"
            ],
            [
             0.7777777777777778,
             "#fb9f3a"
            ],
            [
             0.8888888888888888,
             "#fdca26"
            ],
            [
             1,
             "#f0f921"
            ]
           ],
           "sequentialminus": [
            [
             0,
             "#0d0887"
            ],
            [
             0.1111111111111111,
             "#46039f"
            ],
            [
             0.2222222222222222,
             "#7201a8"
            ],
            [
             0.3333333333333333,
             "#9c179e"
            ],
            [
             0.4444444444444444,
             "#bd3786"
            ],
            [
             0.5555555555555556,
             "#d8576b"
            ],
            [
             0.6666666666666666,
             "#ed7953"
            ],
            [
             0.7777777777777778,
             "#fb9f3a"
            ],
            [
             0.8888888888888888,
             "#fdca26"
            ],
            [
             1,
             "#f0f921"
            ]
           ]
          },
          "colorway": [
           "#636efa",
           "#EF553B",
           "#00cc96",
           "#ab63fa",
           "#FFA15A",
           "#19d3f3",
           "#FF6692",
           "#B6E880",
           "#FF97FF",
           "#FECB52"
          ],
          "font": {
           "color": "#2a3f5f"
          },
          "geo": {
           "bgcolor": "white",
           "lakecolor": "white",
           "landcolor": "#E5ECF6",
           "showlakes": true,
           "showland": true,
           "subunitcolor": "white"
          },
          "hoverlabel": {
           "align": "left"
          },
          "hovermode": "closest",
          "mapbox": {
           "style": "light"
          },
          "paper_bgcolor": "white",
          "plot_bgcolor": "#E5ECF6",
          "polar": {
           "angularaxis": {
            "gridcolor": "white",
            "linecolor": "white",
            "ticks": ""
           },
           "bgcolor": "#E5ECF6",
           "radialaxis": {
            "gridcolor": "white",
            "linecolor": "white",
            "ticks": ""
           }
          },
          "scene": {
           "xaxis": {
            "backgroundcolor": "#E5ECF6",
            "gridcolor": "white",
            "gridwidth": 2,
            "linecolor": "white",
            "showbackground": true,
            "ticks": "",
            "zerolinecolor": "white"
           },
           "yaxis": {
            "backgroundcolor": "#E5ECF6",
            "gridcolor": "white",
            "gridwidth": 2,
            "linecolor": "white",
            "showbackground": true,
            "ticks": "",
            "zerolinecolor": "white"
           },
           "zaxis": {
            "backgroundcolor": "#E5ECF6",
            "gridcolor": "white",
            "gridwidth": 2,
            "linecolor": "white",
            "showbackground": true,
            "ticks": "",
            "zerolinecolor": "white"
           }
          },
          "shapedefaults": {
           "line": {
            "color": "#2a3f5f"
           }
          },
          "ternary": {
           "aaxis": {
            "gridcolor": "white",
            "linecolor": "white",
            "ticks": ""
           },
           "baxis": {
            "gridcolor": "white",
            "linecolor": "white",
            "ticks": ""
           },
           "bgcolor": "#E5ECF6",
           "caxis": {
            "gridcolor": "white",
            "linecolor": "white",
            "ticks": ""
           }
          },
          "title": {
           "x": 0.05
          },
          "xaxis": {
           "automargin": true,
           "gridcolor": "white",
           "linecolor": "white",
           "ticks": "",
           "title": {
            "standoff": 15
           },
           "zerolinecolor": "white",
           "zerolinewidth": 2
          },
          "yaxis": {
           "automargin": true,
           "gridcolor": "white",
           "linecolor": "white",
           "ticks": "",
           "title": {
            "standoff": 15
           },
           "zerolinecolor": "white",
           "zerolinewidth": 2
          }
         }
        }
       }
      }
     },
     "metadata": {}
    }
   ],
   "source": [
    "# 3D\n",
    "pca3 = PCA(n_components=3)\n",
    "tr3 = pca3.fit_transform(X[:,:-1])\n",
    "\n",
    "fig = px.scatter_3d(tr3, x=tr3[:,0], y=tr3[:,1], z=tr3[:,2], color=X[:,-1])\n",
    "fig.show()"
   ]
  },
  {
   "cell_type": "code",
   "execution_count": null,
   "metadata": {},
   "outputs": [],
   "source": []
  }
 ],
 "metadata": {
  "language_info": {
   "codemirror_mode": {
    "name": "ipython",
    "version": 3
   },
   "file_extension": ".py",
   "mimetype": "text/x-python",
   "name": "python",
   "nbconvert_exporter": "python",
   "pygments_lexer": "ipython3",
   "version": "3.7.4-final"
  },
  "orig_nbformat": 2,
  "kernelspec": {
   "name": "python37464bitbaseconda4b7668ab7e68468d80b21b4a2524d1d7",
   "display_name": "Python 3.7.4 64-bit ('base': conda)"
  }
 },
 "nbformat": 4,
 "nbformat_minor": 2
}