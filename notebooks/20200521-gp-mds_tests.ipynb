{
 "cells": [
  {
   "cell_type": "code",
   "execution_count": 1,
   "metadata": {},
   "outputs": [],
   "source": [
    "from utils import go_to_project_root\n",
    "from sklearn.preprocessing import StandardScaler\n",
    "from sklearn.decomposition import PCA\n",
    "from matplotlib import pyplot as plt\n",
    "import numpy as np\n",
    "import pandas as pd\n",
    "import plotly.express as px"
   ]
  },
  {
   "cell_type": "code",
   "execution_count": 2,
   "metadata": {},
   "outputs": [
    {
     "output_type": "execute_result",
     "data": {
      "text/plain": "Text(0.5, 1.0, 'Principal Component Analysis')"
     },
     "metadata": {},
     "execution_count": 2
    },
    {
     "output_type": "display_data",
     "data": {
      "text/plain": "<Figure size 720x720 with 1 Axes>",
      "image/svg+xml": "<?xml version=\"1.0\" encoding=\"utf-8\" standalone=\"no\"?>\n<!DOCTYPE svg PUBLIC \"-//W3C//DTD SVG 1.1//EN\"\n  \"http://www.w3.org/Graphics/SVG/1.1/DTD/svg11.dtd\">\n<!-- Created with matplotlib (https://matplotlib.org/) -->\n<svg height=\"589.79625pt\" version=\"1.1\" viewBox=\"0 0 594.142187 589.79625\" width=\"594.142187pt\" xmlns=\"http://www.w3.org/2000/svg\" xmlns:xlink=\"http://www.w3.org/1999/xlink\">\n <defs>\n  <style type=\"text/css\">\n*{stroke-linecap:butt;stroke-linejoin:round;}\n  </style>\n </defs>\n <g id=\"figure_1\">\n  <g id=\"patch_1\">\n   <path d=\"M 0 589.79625 \nL 594.142187 589.79625 \nL 594.142187 0 \nL 0 0 \nz\n\" style=\"fill:none;\"/>\n  </g>\n  <g id=\"axes_1\">\n   <g id=\"patch_2\">\n    <path d=\"M 28.942188 565.918125 \nL 586.942188 565.918125 \nL 586.942188 22.318125 \nL 28.942188 22.318125 \nz\n\" style=\"fill:#ffffff;\"/>\n   </g>\n   <g id=\"PathCollection_1\">\n    <defs>\n     <path d=\"M -3 3 \nL 3 -3 \nM -3 -3 \nL 3 3 \n\" id=\"m0c900c31ba\" style=\"stroke:#ff0000;stroke-width:1.5;\"/>\n    </defs>\n    <g clip-path=\"url(#p0be1742107)\">\n     <use style=\"fill:#ff0000;stroke:#ff0000;stroke-width:1.5;\" x=\"226.094239\" xlink:href=\"#m0c900c31ba\" y=\"399.552551\"/>\n     <use style=\"fill:#ff0000;stroke:#ff0000;stroke-width:1.5;\" x=\"122.649386\" xlink:href=\"#m0c900c31ba\" y=\"274.016867\"/>\n     <use style=\"fill:#ff0000;stroke:#ff0000;stroke-width:1.5;\" x=\"169.588401\" xlink:href=\"#m0c900c31ba\" y=\"396.729723\"/>\n     <use style=\"fill:#ff0000;stroke:#ff0000;stroke-width:1.5;\" x=\"312.722673\" xlink:href=\"#m0c900c31ba\" y=\"480.490694\"/>\n     <use style=\"fill:#ff0000;stroke:#ff0000;stroke-width:1.5;\" x=\"183.101531\" xlink:href=\"#m0c900c31ba\" y=\"370.158151\"/>\n     <use style=\"fill:#ff0000;stroke:#ff0000;stroke-width:1.5;\" x=\"396.702244\" xlink:href=\"#m0c900c31ba\" y=\"286.605782\"/>\n     <use style=\"fill:#ff0000;stroke:#ff0000;stroke-width:1.5;\" x=\"245.058207\" xlink:href=\"#m0c900c31ba\" y=\"423.196775\"/>\n     <use style=\"fill:#ff0000;stroke:#ff0000;stroke-width:1.5;\" x=\"184.732329\" xlink:href=\"#m0c900c31ba\" y=\"390.52311\"/>\n     <use style=\"fill:#ff0000;stroke:#ff0000;stroke-width:1.5;\" x=\"219.882115\" xlink:href=\"#m0c900c31ba\" y=\"350.00985\"/>\n     <use style=\"fill:#ff0000;stroke:#ff0000;stroke-width:1.5;\" x=\"201.274371\" xlink:href=\"#m0c900c31ba\" y=\"389.744281\"/>\n     <use style=\"fill:#ff0000;stroke:#ff0000;stroke-width:1.5;\" x=\"207.247194\" xlink:href=\"#m0c900c31ba\" y=\"367.498827\"/>\n     <use style=\"fill:#ff0000;stroke:#ff0000;stroke-width:1.5;\" x=\"459.853786\" xlink:href=\"#m0c900c31ba\" y=\"448.088201\"/>\n     <use style=\"fill:#ff0000;stroke:#ff0000;stroke-width:1.5;\" x=\"312.722673\" xlink:href=\"#m0c900c31ba\" y=\"480.490694\"/>\n     <use style=\"fill:#ff0000;stroke:#ff0000;stroke-width:1.5;\" x=\"362.482636\" xlink:href=\"#m0c900c31ba\" y=\"321.507535\"/>\n     <use style=\"fill:#ff0000;stroke:#ff0000;stroke-width:1.5;\" x=\"137.254342\" xlink:href=\"#m0c900c31ba\" y=\"337.249873\"/>\n     <use style=\"fill:#ff0000;stroke:#ff0000;stroke-width:1.5;\" x=\"187.377404\" xlink:href=\"#m0c900c31ba\" y=\"382.61954\"/>\n     <use style=\"fill:#ff0000;stroke:#ff0000;stroke-width:1.5;\" x=\"195.955048\" xlink:href=\"#m0c900c31ba\" y=\"337.928272\"/>\n     <use style=\"fill:#ff0000;stroke:#ff0000;stroke-width:1.5;\" x=\"128.490591\" xlink:href=\"#m0c900c31ba\" y=\"377.427327\"/>\n     <use style=\"fill:#ff0000;stroke:#ff0000;stroke-width:1.5;\" x=\"170.805644\" xlink:href=\"#m0c900c31ba\" y=\"384.660185\"/>\n     <use style=\"fill:#ff0000;stroke:#ff0000;stroke-width:1.5;\" x=\"201.289184\" xlink:href=\"#m0c900c31ba\" y=\"386.065608\"/>\n     <use style=\"fill:#ff0000;stroke:#ff0000;stroke-width:1.5;\" x=\"174.94222\" xlink:href=\"#m0c900c31ba\" y=\"370.471245\"/>\n     <use style=\"fill:#ff0000;stroke:#ff0000;stroke-width:1.5;\" x=\"363.027354\" xlink:href=\"#m0c900c31ba\" y=\"255.485631\"/>\n     <use style=\"fill:#ff0000;stroke:#ff0000;stroke-width:1.5;\" x=\"263.685945\" xlink:href=\"#m0c900c31ba\" y=\"351.968935\"/>\n     <use style=\"fill:#ff0000;stroke:#ff0000;stroke-width:1.5;\" x=\"221.038351\" xlink:href=\"#m0c900c31ba\" y=\"378.757697\"/>\n     <use style=\"fill:#ff0000;stroke:#ff0000;stroke-width:1.5;\" x=\"170.719177\" xlink:href=\"#m0c900c31ba\" y=\"400.261377\"/>\n     <use style=\"fill:#ff0000;stroke:#ff0000;stroke-width:1.5;\" x=\"198.757041\" xlink:href=\"#m0c900c31ba\" y=\"405.926969\"/>\n     <use style=\"fill:#ff0000;stroke:#ff0000;stroke-width:1.5;\" x=\"177.098844\" xlink:href=\"#m0c900c31ba\" y=\"380.653072\"/>\n     <use style=\"fill:#ff0000;stroke:#ff0000;stroke-width:1.5;\" x=\"199.788183\" xlink:href=\"#m0c900c31ba\" y=\"408.146608\"/>\n     <use style=\"fill:#ff0000;stroke:#ff0000;stroke-width:1.5;\" x=\"158.029723\" xlink:href=\"#m0c900c31ba\" y=\"352.660308\"/>\n     <use style=\"fill:#ff0000;stroke:#ff0000;stroke-width:1.5;\" x=\"202.679661\" xlink:href=\"#m0c900c31ba\" y=\"403.305835\"/>\n     <use style=\"fill:#ff0000;stroke:#ff0000;stroke-width:1.5;\" x=\"238.738572\" xlink:href=\"#m0c900c31ba\" y=\"386.142955\"/>\n     <use style=\"fill:#ff0000;stroke:#ff0000;stroke-width:1.5;\" x=\"142.750641\" xlink:href=\"#m0c900c31ba\" y=\"351.324337\"/>\n     <use style=\"fill:#ff0000;stroke:#ff0000;stroke-width:1.5;\" x=\"194.135109\" xlink:href=\"#m0c900c31ba\" y=\"417.088002\"/>\n     <use style=\"fill:#ff0000;stroke:#ff0000;stroke-width:1.5;\" x=\"242.919994\" xlink:href=\"#m0c900c31ba\" y=\"360.104207\"/>\n     <use style=\"fill:#ff0000;stroke:#ff0000;stroke-width:1.5;\" x=\"252.147747\" xlink:href=\"#m0c900c31ba\" y=\"350.237101\"/>\n     <use style=\"fill:#ff0000;stroke:#ff0000;stroke-width:1.5;\" x=\"219.502496\" xlink:href=\"#m0c900c31ba\" y=\"403.683249\"/>\n     <use style=\"fill:#ff0000;stroke:#ff0000;stroke-width:1.5;\" x=\"146.57405\" xlink:href=\"#m0c900c31ba\" y=\"408.304473\"/>\n     <use style=\"fill:#ff0000;stroke:#ff0000;stroke-width:1.5;\" x=\"188.306675\" xlink:href=\"#m0c900c31ba\" y=\"374.714106\"/>\n     <use style=\"fill:#ff0000;stroke:#ff0000;stroke-width:1.5;\" x=\"288.486672\" xlink:href=\"#m0c900c31ba\" y=\"400.841748\"/>\n     <use style=\"fill:#ff0000;stroke:#ff0000;stroke-width:1.5;\" x=\"279.189225\" xlink:href=\"#m0c900c31ba\" y=\"358.32636\"/>\n     <use style=\"fill:#ff0000;stroke:#ff0000;stroke-width:1.5;\" x=\"206.369636\" xlink:href=\"#m0c900c31ba\" y=\"399.798594\"/>\n     <use style=\"fill:#ff0000;stroke:#ff0000;stroke-width:1.5;\" x=\"148.373147\" xlink:href=\"#m0c900c31ba\" y=\"344.020108\"/>\n     <use style=\"fill:#ff0000;stroke:#ff0000;stroke-width:1.5;\" x=\"198.386341\" xlink:href=\"#m0c900c31ba\" y=\"385.983315\"/>\n     <use style=\"fill:#ff0000;stroke:#ff0000;stroke-width:1.5;\" x=\"212.149332\" xlink:href=\"#m0c900c31ba\" y=\"301.198655\"/>\n     <use style=\"fill:#ff0000;stroke:#ff0000;stroke-width:1.5;\" x=\"147.645263\" xlink:href=\"#m0c900c31ba\" y=\"370.471651\"/>\n     <use style=\"fill:#ff0000;stroke:#ff0000;stroke-width:1.5;\" x=\"248.82648\" xlink:href=\"#m0c900c31ba\" y=\"407.422109\"/>\n     <use style=\"fill:#ff0000;stroke:#ff0000;stroke-width:1.5;\" x=\"365.031409\" xlink:href=\"#m0c900c31ba\" y=\"359.202638\"/>\n     <use style=\"fill:#ff0000;stroke:#ff0000;stroke-width:1.5;\" x=\"183.795798\" xlink:href=\"#m0c900c31ba\" y=\"338.407769\"/>\n     <use style=\"fill:#ff0000;stroke:#ff0000;stroke-width:1.5;\" x=\"336.466686\" xlink:href=\"#m0c900c31ba\" y=\"471.595781\"/>\n     <use style=\"fill:#ff0000;stroke:#ff0000;stroke-width:1.5;\" x=\"264.33773\" xlink:href=\"#m0c900c31ba\" y=\"317.582269\"/>\n     <use style=\"fill:#ff0000;stroke:#ff0000;stroke-width:1.5;\" x=\"144.124868\" xlink:href=\"#m0c900c31ba\" y=\"373.642891\"/>\n     <use style=\"fill:#ff0000;stroke:#ff0000;stroke-width:1.5;\" x=\"223.203274\" xlink:href=\"#m0c900c31ba\" y=\"406.947469\"/>\n     <use style=\"fill:#ff0000;stroke:#ff0000;stroke-width:1.5;\" x=\"176.186444\" xlink:href=\"#m0c900c31ba\" y=\"369.998469\"/>\n     <use style=\"fill:#ff0000;stroke:#ff0000;stroke-width:1.5;\" x=\"174.133184\" xlink:href=\"#m0c900c31ba\" y=\"295.193479\"/>\n     <use style=\"fill:#ff0000;stroke:#ff0000;stroke-width:1.5;\" x=\"207.357931\" xlink:href=\"#m0c900c31ba\" y=\"432.410634\"/>\n     <use style=\"fill:#ff0000;stroke:#ff0000;stroke-width:1.5;\" x=\"176.648543\" xlink:href=\"#m0c900c31ba\" y=\"375.206342\"/>\n     <use style=\"fill:#ff0000;stroke:#ff0000;stroke-width:1.5;\" x=\"218.119236\" xlink:href=\"#m0c900c31ba\" y=\"379.932229\"/>\n     <use style=\"fill:#ff0000;stroke:#ff0000;stroke-width:1.5;\" x=\"380.206192\" xlink:href=\"#m0c900c31ba\" y=\"387.603297\"/>\n     <use style=\"fill:#ff0000;stroke:#ff0000;stroke-width:1.5;\" x=\"217.081786\" xlink:href=\"#m0c900c31ba\" y=\"295.600851\"/>\n     <use style=\"fill:#ff0000;stroke:#ff0000;stroke-width:1.5;\" x=\"258.971153\" xlink:href=\"#m0c900c31ba\" y=\"431.261449\"/>\n     <use style=\"fill:#ff0000;stroke:#ff0000;stroke-width:1.5;\" x=\"122.668053\" xlink:href=\"#m0c900c31ba\" y=\"261.753843\"/>\n     <use style=\"fill:#ff0000;stroke:#ff0000;stroke-width:1.5;\" x=\"131.603382\" xlink:href=\"#m0c900c31ba\" y=\"365.006037\"/>\n     <use style=\"fill:#ff0000;stroke:#ff0000;stroke-width:1.5;\" x=\"195.034651\" xlink:href=\"#m0c900c31ba\" y=\"390.007885\"/>\n     <use style=\"fill:#ff0000;stroke:#ff0000;stroke-width:1.5;\" x=\"158.220179\" xlink:href=\"#m0c900c31ba\" y=\"386.868827\"/>\n     <use style=\"fill:#ff0000;stroke:#ff0000;stroke-width:1.5;\" x=\"186.374593\" xlink:href=\"#m0c900c31ba\" y=\"434.52907\"/>\n     <use style=\"fill:#ff0000;stroke:#ff0000;stroke-width:1.5;\" x=\"248.308296\" xlink:href=\"#m0c900c31ba\" y=\"63.625142\"/>\n     <use style=\"fill:#ff0000;stroke:#ff0000;stroke-width:1.5;\" x=\"167.846039\" xlink:href=\"#m0c900c31ba\" y=\"336.718818\"/>\n     <use style=\"fill:#ff0000;stroke:#ff0000;stroke-width:1.5;\" x=\"132.093398\" xlink:href=\"#m0c900c31ba\" y=\"198.209676\"/>\n     <use style=\"fill:#ff0000;stroke:#ff0000;stroke-width:1.5;\" x=\"180.884923\" xlink:href=\"#m0c900c31ba\" y=\"372.838026\"/>\n     <use style=\"fill:#ff0000;stroke:#ff0000;stroke-width:1.5;\" x=\"373.25943\" xlink:href=\"#m0c900c31ba\" y=\"413.900728\"/>\n     <use style=\"fill:#ff0000;stroke:#ff0000;stroke-width:1.5;\" x=\"323.571242\" xlink:href=\"#m0c900c31ba\" y=\"479.71271\"/>\n     <use style=\"fill:#ff0000;stroke:#ff0000;stroke-width:1.5;\" x=\"233.149022\" xlink:href=\"#m0c900c31ba\" y=\"394.802343\"/>\n     <use style=\"fill:#ff0000;stroke:#ff0000;stroke-width:1.5;\" x=\"312.722673\" xlink:href=\"#m0c900c31ba\" y=\"480.490694\"/>\n     <use style=\"fill:#ff0000;stroke:#ff0000;stroke-width:1.5;\" x=\"220.73909\" xlink:href=\"#m0c900c31ba\" y=\"335.891275\"/>\n     <use style=\"fill:#ff0000;stroke:#ff0000;stroke-width:1.5;\" x=\"184.031901\" xlink:href=\"#m0c900c31ba\" y=\"395.561583\"/>\n     <use style=\"fill:#ff0000;stroke:#ff0000;stroke-width:1.5;\" x=\"242.67067\" xlink:href=\"#m0c900c31ba\" y=\"306.332511\"/>\n     <use style=\"fill:#ff0000;stroke:#ff0000;stroke-width:1.5;\" x=\"193.184168\" xlink:href=\"#m0c900c31ba\" y=\"340.666438\"/>\n     <use style=\"fill:#ff0000;stroke:#ff0000;stroke-width:1.5;\" x=\"240.842728\" xlink:href=\"#m0c900c31ba\" y=\"405.156578\"/>\n     <use style=\"fill:#ff0000;stroke:#ff0000;stroke-width:1.5;\" x=\"144.389801\" xlink:href=\"#m0c900c31ba\" y=\"354.119861\"/>\n     <use style=\"fill:#ff0000;stroke:#ff0000;stroke-width:1.5;\" x=\"143.58721\" xlink:href=\"#m0c900c31ba\" y=\"355.022597\"/>\n     <use style=\"fill:#ff0000;stroke:#ff0000;stroke-width:1.5;\" x=\"243.684482\" xlink:href=\"#m0c900c31ba\" y=\"328.975844\"/>\n     <use style=\"fill:#ff0000;stroke:#ff0000;stroke-width:1.5;\" x=\"268.138951\" xlink:href=\"#m0c900c31ba\" y=\"360.127771\"/>\n     <use style=\"fill:#ff0000;stroke:#ff0000;stroke-width:1.5;\" x=\"223.496615\" xlink:href=\"#m0c900c31ba\" y=\"307.630949\"/>\n     <use style=\"fill:#ff0000;stroke:#ff0000;stroke-width:1.5;\" x=\"200.84669\" xlink:href=\"#m0c900c31ba\" y=\"387.135447\"/>\n     <use style=\"fill:#ff0000;stroke:#ff0000;stroke-width:1.5;\" x=\"172.301309\" xlink:href=\"#m0c900c31ba\" y=\"288.044397\"/>\n     <use style=\"fill:#ff0000;stroke:#ff0000;stroke-width:1.5;\" x=\"305.072554\" xlink:href=\"#m0c900c31ba\" y=\"300.464887\"/>\n     <use style=\"fill:#ff0000;stroke:#ff0000;stroke-width:1.5;\" x=\"221.949376\" xlink:href=\"#m0c900c31ba\" y=\"363.534555\"/>\n     <use style=\"fill:#ff0000;stroke:#ff0000;stroke-width:1.5;\" x=\"265.972602\" xlink:href=\"#m0c900c31ba\" y=\"298.863573\"/>\n     <use style=\"fill:#ff0000;stroke:#ff0000;stroke-width:1.5;\" x=\"127.215777\" xlink:href=\"#m0c900c31ba\" y=\"219.071915\"/>\n     <use style=\"fill:#ff0000;stroke:#ff0000;stroke-width:1.5;\" x=\"177.671545\" xlink:href=\"#m0c900c31ba\" y=\"367.195239\"/>\n     <use style=\"fill:#ff0000;stroke:#ff0000;stroke-width:1.5;\" x=\"98.929634\" xlink:href=\"#m0c900c31ba\" y=\"299.904329\"/>\n     <use style=\"fill:#ff0000;stroke:#ff0000;stroke-width:1.5;\" x=\"340.415282\" xlink:href=\"#m0c900c31ba\" y=\"465.378997\"/>\n     <use style=\"fill:#ff0000;stroke:#ff0000;stroke-width:1.5;\" x=\"202.608647\" xlink:href=\"#m0c900c31ba\" y=\"268.446677\"/>\n     <use style=\"fill:#ff0000;stroke:#ff0000;stroke-width:1.5;\" x=\"54.522568\" xlink:href=\"#m0c900c31ba\" y=\"303.223779\"/>\n     <use style=\"fill:#ff0000;stroke:#ff0000;stroke-width:1.5;\" x=\"165.222703\" xlink:href=\"#m0c900c31ba\" y=\"337.744009\"/>\n     <use style=\"fill:#ff0000;stroke:#ff0000;stroke-width:1.5;\" x=\"167.784841\" xlink:href=\"#m0c900c31ba\" y=\"396.074701\"/>\n     <use style=\"fill:#ff0000;stroke:#ff0000;stroke-width:1.5;\" x=\"71.863816\" xlink:href=\"#m0c900c31ba\" y=\"288.804337\"/>\n     <use style=\"fill:#ff0000;stroke:#ff0000;stroke-width:1.5;\" x=\"169.868076\" xlink:href=\"#m0c900c31ba\" y=\"392.574219\"/>\n     <use style=\"fill:#ff0000;stroke:#ff0000;stroke-width:1.5;\" x=\"410.855579\" xlink:href=\"#m0c900c31ba\" y=\"382.842815\"/>\n     <use style=\"fill:#ff0000;stroke:#ff0000;stroke-width:1.5;\" x=\"334.162221\" xlink:href=\"#m0c900c31ba\" y=\"306.730196\"/>\n     <use style=\"fill:#ff0000;stroke:#ff0000;stroke-width:1.5;\" x=\"189.808261\" xlink:href=\"#m0c900c31ba\" y=\"407.835779\"/>\n     <use style=\"fill:#ff0000;stroke:#ff0000;stroke-width:1.5;\" x=\"161.712788\" xlink:href=\"#m0c900c31ba\" y=\"373.251305\"/>\n     <use style=\"fill:#ff0000;stroke:#ff0000;stroke-width:1.5;\" x=\"274.555557\" xlink:href=\"#m0c900c31ba\" y=\"372.45762\"/>\n     <use style=\"fill:#ff0000;stroke:#ff0000;stroke-width:1.5;\" x=\"157.375069\" xlink:href=\"#m0c900c31ba\" y=\"382.179939\"/>\n     <use style=\"fill:#ff0000;stroke:#ff0000;stroke-width:1.5;\" x=\"211.034844\" xlink:href=\"#m0c900c31ba\" y=\"413.212669\"/>\n     <use style=\"fill:#ff0000;stroke:#ff0000;stroke-width:1.5;\" x=\"146.996659\" xlink:href=\"#m0c900c31ba\" y=\"352.142852\"/>\n     <use style=\"fill:#ff0000;stroke:#ff0000;stroke-width:1.5;\" x=\"104.033365\" xlink:href=\"#m0c900c31ba\" y=\"324.122953\"/>\n     <use style=\"fill:#ff0000;stroke:#ff0000;stroke-width:1.5;\" x=\"147.484006\" xlink:href=\"#m0c900c31ba\" y=\"354.21679\"/>\n     <use style=\"fill:#ff0000;stroke:#ff0000;stroke-width:1.5;\" x=\"318.526706\" xlink:href=\"#m0c900c31ba\" y=\"541.019925\"/>\n     <use style=\"fill:#ff0000;stroke:#ff0000;stroke-width:1.5;\" x=\"269.40582\" xlink:href=\"#m0c900c31ba\" y=\"378.339204\"/>\n     <use style=\"fill:#ff0000;stroke:#ff0000;stroke-width:1.5;\" x=\"195.196232\" xlink:href=\"#m0c900c31ba\" y=\"383.972358\"/>\n     <use style=\"fill:#ff0000;stroke:#ff0000;stroke-width:1.5;\" x=\"322.625932\" xlink:href=\"#m0c900c31ba\" y=\"295.131055\"/>\n     <use style=\"fill:#ff0000;stroke:#ff0000;stroke-width:1.5;\" x=\"222.37128\" xlink:href=\"#m0c900c31ba\" y=\"417.460801\"/>\n     <use style=\"fill:#ff0000;stroke:#ff0000;stroke-width:1.5;\" x=\"201.224473\" xlink:href=\"#m0c900c31ba\" y=\"387.09227\"/>\n     <use style=\"fill:#ff0000;stroke:#ff0000;stroke-width:1.5;\" x=\"198.770143\" xlink:href=\"#m0c900c31ba\" y=\"378.696035\"/>\n     <use style=\"fill:#ff0000;stroke:#ff0000;stroke-width:1.5;\" x=\"223.672779\" xlink:href=\"#m0c900c31ba\" y=\"385.961197\"/>\n     <use style=\"fill:#ff0000;stroke:#ff0000;stroke-width:1.5;\" x=\"265.154816\" xlink:href=\"#m0c900c31ba\" y=\"300.32088\"/>\n     <use style=\"fill:#ff0000;stroke:#ff0000;stroke-width:1.5;\" x=\"182.985753\" xlink:href=\"#m0c900c31ba\" y=\"387.538032\"/>\n     <use style=\"fill:#ff0000;stroke:#ff0000;stroke-width:1.5;\" x=\"182.301194\" xlink:href=\"#m0c900c31ba\" y=\"327.983727\"/>\n     <use style=\"fill:#ff0000;stroke:#ff0000;stroke-width:1.5;\" x=\"211.268241\" xlink:href=\"#m0c900c31ba\" y=\"409.039256\"/>\n     <use style=\"fill:#ff0000;stroke:#ff0000;stroke-width:1.5;\" x=\"312.722673\" xlink:href=\"#m0c900c31ba\" y=\"480.490694\"/>\n     <use style=\"fill:#ff0000;stroke:#ff0000;stroke-width:1.5;\" x=\"153.30213\" xlink:href=\"#m0c900c31ba\" y=\"376.621266\"/>\n     <use style=\"fill:#ff0000;stroke:#ff0000;stroke-width:1.5;\" x=\"206.625426\" xlink:href=\"#m0c900c31ba\" y=\"391.232631\"/>\n     <use style=\"fill:#ff0000;stroke:#ff0000;stroke-width:1.5;\" x=\"114.341493\" xlink:href=\"#m0c900c31ba\" y=\"322.0895\"/>\n     <use style=\"fill:#ff0000;stroke:#ff0000;stroke-width:1.5;\" x=\"72.70544\" xlink:href=\"#m0c900c31ba\" y=\"150.939587\"/>\n     <use style=\"fill:#ff0000;stroke:#ff0000;stroke-width:1.5;\" x=\"323.571242\" xlink:href=\"#m0c900c31ba\" y=\"479.71271\"/>\n     <use style=\"fill:#ff0000;stroke:#ff0000;stroke-width:1.5;\" x=\"128.27525\" xlink:href=\"#m0c900c31ba\" y=\"335.004833\"/>\n     <use style=\"fill:#ff0000;stroke:#ff0000;stroke-width:1.5;\" x=\"134.132148\" xlink:href=\"#m0c900c31ba\" y=\"361.582413\"/>\n     <use style=\"fill:#ff0000;stroke:#ff0000;stroke-width:1.5;\" x=\"223.651932\" xlink:href=\"#m0c900c31ba\" y=\"366.536185\"/>\n     <use style=\"fill:#ff0000;stroke:#ff0000;stroke-width:1.5;\" x=\"213.056451\" xlink:href=\"#m0c900c31ba\" y=\"388.13326\"/>\n     <use style=\"fill:#ff0000;stroke:#ff0000;stroke-width:1.5;\" x=\"163.271402\" xlink:href=\"#m0c900c31ba\" y=\"345.666063\"/>\n     <use style=\"fill:#ff0000;stroke:#ff0000;stroke-width:1.5;\" x=\"317.313314\" xlink:href=\"#m0c900c31ba\" y=\"405.278201\"/>\n     <use style=\"fill:#ff0000;stroke:#ff0000;stroke-width:1.5;\" x=\"325.66901\" xlink:href=\"#m0c900c31ba\" y=\"443.864657\"/>\n     <use style=\"fill:#ff0000;stroke:#ff0000;stroke-width:1.5;\" x=\"279.043487\" xlink:href=\"#m0c900c31ba\" y=\"366.982325\"/>\n     <use style=\"fill:#ff0000;stroke:#ff0000;stroke-width:1.5;\" x=\"463.404625\" xlink:href=\"#m0c900c31ba\" y=\"336.185875\"/>\n     <use style=\"fill:#ff0000;stroke:#ff0000;stroke-width:1.5;\" x=\"234.957407\" xlink:href=\"#m0c900c31ba\" y=\"343.014722\"/>\n     <use style=\"fill:#ff0000;stroke:#ff0000;stroke-width:1.5;\" x=\"196.739491\" xlink:href=\"#m0c900c31ba\" y=\"315.978543\"/>\n     <use style=\"fill:#ff0000;stroke:#ff0000;stroke-width:1.5;\" x=\"217.098831\" xlink:href=\"#m0c900c31ba\" y=\"405.794868\"/>\n     <use style=\"fill:#ff0000;stroke:#ff0000;stroke-width:1.5;\" x=\"172.5687\" xlink:href=\"#m0c900c31ba\" y=\"333.973499\"/>\n     <use style=\"fill:#ff0000;stroke:#ff0000;stroke-width:1.5;\" x=\"186.1122\" xlink:href=\"#m0c900c31ba\" y=\"316.739567\"/>\n     <use style=\"fill:#ff0000;stroke:#ff0000;stroke-width:1.5;\" x=\"117.196129\" xlink:href=\"#m0c900c31ba\" y=\"325.971203\"/>\n     <use style=\"fill:#ff0000;stroke:#ff0000;stroke-width:1.5;\" x=\"218.522944\" xlink:href=\"#m0c900c31ba\" y=\"387.389366\"/>\n     <use style=\"fill:#ff0000;stroke:#ff0000;stroke-width:1.5;\" x=\"195.673592\" xlink:href=\"#m0c900c31ba\" y=\"256.508961\"/>\n     <use style=\"fill:#ff0000;stroke:#ff0000;stroke-width:1.5;\" x=\"280.123571\" xlink:href=\"#m0c900c31ba\" y=\"327.312816\"/>\n     <use style=\"fill:#ff0000;stroke:#ff0000;stroke-width:1.5;\" x=\"139.391083\" xlink:href=\"#m0c900c31ba\" y=\"195.847615\"/>\n     <use style=\"fill:#ff0000;stroke:#ff0000;stroke-width:1.5;\" x=\"194.886677\" xlink:href=\"#m0c900c31ba\" y=\"328.489333\"/>\n     <use style=\"fill:#ff0000;stroke:#ff0000;stroke-width:1.5;\" x=\"257.877951\" xlink:href=\"#m0c900c31ba\" y=\"295.361622\"/>\n     <use style=\"fill:#ff0000;stroke:#ff0000;stroke-width:1.5;\" x=\"192.694294\" xlink:href=\"#m0c900c31ba\" y=\"370.096894\"/>\n     <use style=\"fill:#ff0000;stroke:#ff0000;stroke-width:1.5;\" x=\"450.659517\" xlink:href=\"#m0c900c31ba\" y=\"247.771083\"/>\n     <use style=\"fill:#ff0000;stroke:#ff0000;stroke-width:1.5;\" x=\"129.929441\" xlink:href=\"#m0c900c31ba\" y=\"290.014782\"/>\n    </g>\n   </g>\n   <g id=\"PathCollection_2\">\n    <defs>\n     <path d=\"M 0 3 \nC 0.795609 3 1.55874 2.683901 2.12132 2.12132 \nC 2.683901 1.55874 3 0.795609 3 0 \nC 3 -0.795609 2.683901 -1.55874 2.12132 -2.12132 \nC 1.55874 -2.683901 0.795609 -3 0 -3 \nC -0.795609 -3 -1.55874 -2.683901 -2.12132 -2.12132 \nC -2.683901 -1.55874 -3 -0.795609 -3 0 \nC -3 0.795609 -2.683901 1.55874 -2.12132 2.12132 \nC -1.55874 2.683901 -0.795609 3 0 3 \nz\n\" id=\"m77df1db7d2\" style=\"stroke:#0000ff;stroke-opacity:0.8;\"/>\n    </defs>\n    <g clip-path=\"url(#p0be1742107)\">\n     <use style=\"fill:#0000ff;fill-opacity:0.8;stroke:#0000ff;stroke-opacity:0.8;\" x=\"275.192866\" xlink:href=\"#m77df1db7d2\" y=\"49.927604\"/>\n     <use style=\"fill:#0000ff;fill-opacity:0.8;stroke:#0000ff;stroke-opacity:0.8;\" x=\"222.272313\" xlink:href=\"#m77df1db7d2\" y=\"344.754931\"/>\n     <use style=\"fill:#0000ff;fill-opacity:0.8;stroke:#0000ff;stroke-opacity:0.8;\" x=\"200.558999\" xlink:href=\"#m77df1db7d2\" y=\"342.986853\"/>\n     <use style=\"fill:#0000ff;fill-opacity:0.8;stroke:#0000ff;stroke-opacity:0.8;\" x=\"325.528915\" xlink:href=\"#m77df1db7d2\" y=\"388.328178\"/>\n     <use style=\"fill:#0000ff;fill-opacity:0.8;stroke:#0000ff;stroke-opacity:0.8;\" x=\"377.902879\" xlink:href=\"#m77df1db7d2\" y=\"263.393099\"/>\n     <use style=\"fill:#0000ff;fill-opacity:0.8;stroke:#0000ff;stroke-opacity:0.8;\" x=\"428.734132\" xlink:href=\"#m77df1db7d2\" y=\"332.658479\"/>\n     <use style=\"fill:#0000ff;fill-opacity:0.8;stroke:#0000ff;stroke-opacity:0.8;\" x=\"202.250181\" xlink:href=\"#m77df1db7d2\" y=\"338.735235\"/>\n     <use style=\"fill:#0000ff;fill-opacity:0.8;stroke:#0000ff;stroke-opacity:0.8;\" x=\"365.756438\" xlink:href=\"#m77df1db7d2\" y=\"136.374833\"/>\n     <use style=\"fill:#0000ff;fill-opacity:0.8;stroke:#0000ff;stroke-opacity:0.8;\" x=\"184.953499\" xlink:href=\"#m77df1db7d2\" y=\"298.247224\"/>\n     <use style=\"fill:#0000ff;fill-opacity:0.8;stroke:#0000ff;stroke-opacity:0.8;\" x=\"212.726858\" xlink:href=\"#m77df1db7d2\" y=\"306.706267\"/>\n     <use style=\"fill:#0000ff;fill-opacity:0.8;stroke:#0000ff;stroke-opacity:0.8;\" x=\"115.437465\" xlink:href=\"#m77df1db7d2\" y=\"150.579227\"/>\n     <use style=\"fill:#0000ff;fill-opacity:0.8;stroke:#0000ff;stroke-opacity:0.8;\" x=\"207.168059\" xlink:href=\"#m77df1db7d2\" y=\"351.44711\"/>\n     <use style=\"fill:#0000ff;fill-opacity:0.8;stroke:#0000ff;stroke-opacity:0.8;\" x=\"382.269659\" xlink:href=\"#m77df1db7d2\" y=\"296.941914\"/>\n     <use style=\"fill:#0000ff;fill-opacity:0.8;stroke:#0000ff;stroke-opacity:0.8;\" x=\"240.60927\" xlink:href=\"#m77df1db7d2\" y=\"320.894386\"/>\n     <use style=\"fill:#0000ff;fill-opacity:0.8;stroke:#0000ff;stroke-opacity:0.8;\" x=\"375.107169\" xlink:href=\"#m77df1db7d2\" y=\"265.664471\"/>\n     <use style=\"fill:#0000ff;fill-opacity:0.8;stroke:#0000ff;stroke-opacity:0.8;\" x=\"213.03797\" xlink:href=\"#m77df1db7d2\" y=\"348.240863\"/>\n     <use style=\"fill:#0000ff;fill-opacity:0.8;stroke:#0000ff;stroke-opacity:0.8;\" x=\"409.983778\" xlink:href=\"#m77df1db7d2\" y=\"243.771718\"/>\n     <use style=\"fill:#0000ff;fill-opacity:0.8;stroke:#0000ff;stroke-opacity:0.8;\" x=\"162.196147\" xlink:href=\"#m77df1db7d2\" y=\"338.292258\"/>\n     <use style=\"fill:#0000ff;fill-opacity:0.8;stroke:#0000ff;stroke-opacity:0.8;\" x=\"181.077072\" xlink:href=\"#m77df1db7d2\" y=\"312.681067\"/>\n     <use style=\"fill:#0000ff;fill-opacity:0.8;stroke:#0000ff;stroke-opacity:0.8;\" x=\"397.89926\" xlink:href=\"#m77df1db7d2\" y=\"198.74038\"/>\n     <use style=\"fill:#0000ff;fill-opacity:0.8;stroke:#0000ff;stroke-opacity:0.8;\" x=\"147.940684\" xlink:href=\"#m77df1db7d2\" y=\"363.772559\"/>\n     <use style=\"fill:#0000ff;fill-opacity:0.8;stroke:#0000ff;stroke-opacity:0.8;\" x=\"178.15559\" xlink:href=\"#m77df1db7d2\" y=\"279.724849\"/>\n     <use style=\"fill:#0000ff;fill-opacity:0.8;stroke:#0000ff;stroke-opacity:0.8;\" x=\"170.293018\" xlink:href=\"#m77df1db7d2\" y=\"330.592494\"/>\n     <use style=\"fill:#0000ff;fill-opacity:0.8;stroke:#0000ff;stroke-opacity:0.8;\" x=\"118.81095\" xlink:href=\"#m77df1db7d2\" y=\"292.525094\"/>\n     <use style=\"fill:#0000ff;fill-opacity:0.8;stroke:#0000ff;stroke-opacity:0.8;\" x=\"218.774553\" xlink:href=\"#m77df1db7d2\" y=\"300.763843\"/>\n     <use style=\"fill:#0000ff;fill-opacity:0.8;stroke:#0000ff;stroke-opacity:0.8;\" x=\"157.755731\" xlink:href=\"#m77df1db7d2\" y=\"312.315404\"/>\n     <use style=\"fill:#0000ff;fill-opacity:0.8;stroke:#0000ff;stroke-opacity:0.8;\" x=\"118.516856\" xlink:href=\"#m77df1db7d2\" y=\"301.660859\"/>\n     <use style=\"fill:#0000ff;fill-opacity:0.8;stroke:#0000ff;stroke-opacity:0.8;\" x=\"427.954321\" xlink:href=\"#m77df1db7d2\" y=\"296.052695\"/>\n     <use style=\"fill:#0000ff;fill-opacity:0.8;stroke:#0000ff;stroke-opacity:0.8;\" x=\"318.611862\" xlink:href=\"#m77df1db7d2\" y=\"252.090098\"/>\n     <use style=\"fill:#0000ff;fill-opacity:0.8;stroke:#0000ff;stroke-opacity:0.8;\" x=\"109.219285\" xlink:href=\"#m77df1db7d2\" y=\"170.429413\"/>\n     <use style=\"fill:#0000ff;fill-opacity:0.8;stroke:#0000ff;stroke-opacity:0.8;\" x=\"155.251699\" xlink:href=\"#m77df1db7d2\" y=\"359.036671\"/>\n     <use style=\"fill:#0000ff;fill-opacity:0.8;stroke:#0000ff;stroke-opacity:0.8;\" x=\"157.65475\" xlink:href=\"#m77df1db7d2\" y=\"352.3026\"/>\n     <use style=\"fill:#0000ff;fill-opacity:0.8;stroke:#0000ff;stroke-opacity:0.8;\" x=\"336.867447\" xlink:href=\"#m77df1db7d2\" y=\"296.157046\"/>\n     <use style=\"fill:#0000ff;fill-opacity:0.8;stroke:#0000ff;stroke-opacity:0.8;\" x=\"91.164117\" xlink:href=\"#m77df1db7d2\" y=\"189.162167\"/>\n     <use style=\"fill:#0000ff;fill-opacity:0.8;stroke:#0000ff;stroke-opacity:0.8;\" x=\"134.472075\" xlink:href=\"#m77df1db7d2\" y=\"317.66712\"/>\n     <use style=\"fill:#0000ff;fill-opacity:0.8;stroke:#0000ff;stroke-opacity:0.8;\" x=\"168.351384\" xlink:href=\"#m77df1db7d2\" y=\"371.928137\"/>\n     <use style=\"fill:#0000ff;fill-opacity:0.8;stroke:#0000ff;stroke-opacity:0.8;\" x=\"282.289213\" xlink:href=\"#m77df1db7d2\" y=\"360.855439\"/>\n     <use style=\"fill:#0000ff;fill-opacity:0.8;stroke:#0000ff;stroke-opacity:0.8;\" x=\"350.925144\" xlink:href=\"#m77df1db7d2\" y=\"354.747875\"/>\n     <use style=\"fill:#0000ff;fill-opacity:0.8;stroke:#0000ff;stroke-opacity:0.8;\" x=\"245.78648\" xlink:href=\"#m77df1db7d2\" y=\"306.226335\"/>\n     <use style=\"fill:#0000ff;fill-opacity:0.8;stroke:#0000ff;stroke-opacity:0.8;\" x=\"136.877973\" xlink:href=\"#m77df1db7d2\" y=\"345.17071\"/>\n     <use style=\"fill:#0000ff;fill-opacity:0.8;stroke:#0000ff;stroke-opacity:0.8;\" x=\"169.620699\" xlink:href=\"#m77df1db7d2\" y=\"337.076332\"/>\n     <use style=\"fill:#0000ff;fill-opacity:0.8;stroke:#0000ff;stroke-opacity:0.8;\" x=\"286.938311\" xlink:href=\"#m77df1db7d2\" y=\"362.743728\"/>\n     <use style=\"fill:#0000ff;fill-opacity:0.8;stroke:#0000ff;stroke-opacity:0.8;\" x=\"159.422627\" xlink:href=\"#m77df1db7d2\" y=\"346.254169\"/>\n     <use style=\"fill:#0000ff;fill-opacity:0.8;stroke:#0000ff;stroke-opacity:0.8;\" x=\"154.51281\" xlink:href=\"#m77df1db7d2\" y=\"256.802712\"/>\n     <use style=\"fill:#0000ff;fill-opacity:0.8;stroke:#0000ff;stroke-opacity:0.8;\" x=\"274.321819\" xlink:href=\"#m77df1db7d2\" y=\"302.426216\"/>\n     <use style=\"fill:#0000ff;fill-opacity:0.8;stroke:#0000ff;stroke-opacity:0.8;\" x=\"170.182804\" xlink:href=\"#m77df1db7d2\" y=\"213.264009\"/>\n     <use style=\"fill:#0000ff;fill-opacity:0.8;stroke:#0000ff;stroke-opacity:0.8;\" x=\"233.613466\" xlink:href=\"#m77df1db7d2\" y=\"286.445746\"/>\n     <use style=\"fill:#0000ff;fill-opacity:0.8;stroke:#0000ff;stroke-opacity:0.8;\" x=\"196.699881\" xlink:href=\"#m77df1db7d2\" y=\"344.395912\"/>\n     <use style=\"fill:#0000ff;fill-opacity:0.8;stroke:#0000ff;stroke-opacity:0.8;\" x=\"90.429715\" xlink:href=\"#m77df1db7d2\" y=\"253.096178\"/>\n     <use style=\"fill:#0000ff;fill-opacity:0.8;stroke:#0000ff;stroke-opacity:0.8;\" x=\"268.002731\" xlink:href=\"#m77df1db7d2\" y=\"314.846323\"/>\n     <use style=\"fill:#0000ff;fill-opacity:0.8;stroke:#0000ff;stroke-opacity:0.8;\" x=\"286.353006\" xlink:href=\"#m77df1db7d2\" y=\"362.467244\"/>\n     <use style=\"fill:#0000ff;fill-opacity:0.8;stroke:#0000ff;stroke-opacity:0.8;\" x=\"425.116754\" xlink:href=\"#m77df1db7d2\" y=\"427.64396\"/>\n     <use style=\"fill:#0000ff;fill-opacity:0.8;stroke:#0000ff;stroke-opacity:0.8;\" x=\"301.321039\" xlink:href=\"#m77df1db7d2\" y=\"360.114029\"/>\n     <use style=\"fill:#0000ff;fill-opacity:0.8;stroke:#0000ff;stroke-opacity:0.8;\" x=\"124.270924\" xlink:href=\"#m77df1db7d2\" y=\"282.44142\"/>\n     <use style=\"fill:#0000ff;fill-opacity:0.8;stroke:#0000ff;stroke-opacity:0.8;\" x=\"205.666531\" xlink:href=\"#m77df1db7d2\" y=\"300.772986\"/>\n     <use style=\"fill:#0000ff;fill-opacity:0.8;stroke:#0000ff;stroke-opacity:0.8;\" x=\"380.259551\" xlink:href=\"#m77df1db7d2\" y=\"435.841527\"/>\n     <use style=\"fill:#0000ff;fill-opacity:0.8;stroke:#0000ff;stroke-opacity:0.8;\" x=\"294.27782\" xlink:href=\"#m77df1db7d2\" y=\"93.966532\"/>\n     <use style=\"fill:#0000ff;fill-opacity:0.8;stroke:#0000ff;stroke-opacity:0.8;\" x=\"84.048658\" xlink:href=\"#m77df1db7d2\" y=\"220.328955\"/>\n     <use style=\"fill:#0000ff;fill-opacity:0.8;stroke:#0000ff;stroke-opacity:0.8;\" x=\"379.829474\" xlink:href=\"#m77df1db7d2\" y=\"370.415614\"/>\n     <use style=\"fill:#0000ff;fill-opacity:0.8;stroke:#0000ff;stroke-opacity:0.8;\" x=\"386.246799\" xlink:href=\"#m77df1db7d2\" y=\"329.113543\"/>\n     <use style=\"fill:#0000ff;fill-opacity:0.8;stroke:#0000ff;stroke-opacity:0.8;\" x=\"366.425088\" xlink:href=\"#m77df1db7d2\" y=\"252.188731\"/>\n     <use style=\"fill:#0000ff;fill-opacity:0.8;stroke:#0000ff;stroke-opacity:0.8;\" x=\"362.24058\" xlink:href=\"#m77df1db7d2\" y=\"153.304248\"/>\n     <use style=\"fill:#0000ff;fill-opacity:0.8;stroke:#0000ff;stroke-opacity:0.8;\" x=\"62.288612\" xlink:href=\"#m77df1db7d2\" y=\"262.889577\"/>\n     <use style=\"fill:#0000ff;fill-opacity:0.8;stroke:#0000ff;stroke-opacity:0.8;\" x=\"275.792544\" xlink:href=\"#m77df1db7d2\" y=\"383.988835\"/>\n     <use style=\"fill:#0000ff;fill-opacity:0.8;stroke:#0000ff;stroke-opacity:0.8;\" x=\"181.770276\" xlink:href=\"#m77df1db7d2\" y=\"392.927561\"/>\n     <use style=\"fill:#0000ff;fill-opacity:0.8;stroke:#0000ff;stroke-opacity:0.8;\" x=\"230.817663\" xlink:href=\"#m77df1db7d2\" y=\"349.249255\"/>\n     <use style=\"fill:#0000ff;fill-opacity:0.8;stroke:#0000ff;stroke-opacity:0.8;\" x=\"208.562899\" xlink:href=\"#m77df1db7d2\" y=\"334.737531\"/>\n     <use style=\"fill:#0000ff;fill-opacity:0.8;stroke:#0000ff;stroke-opacity:0.8;\" x=\"196.013376\" xlink:href=\"#m77df1db7d2\" y=\"349.578719\"/>\n     <use style=\"fill:#0000ff;fill-opacity:0.8;stroke:#0000ff;stroke-opacity:0.8;\" x=\"166.610699\" xlink:href=\"#m77df1db7d2\" y=\"348.718548\"/>\n     <use style=\"fill:#0000ff;fill-opacity:0.8;stroke:#0000ff;stroke-opacity:0.8;\" x=\"161.972201\" xlink:href=\"#m77df1db7d2\" y=\"344.239952\"/>\n     <use style=\"fill:#0000ff;fill-opacity:0.8;stroke:#0000ff;stroke-opacity:0.8;\" x=\"308.715911\" xlink:href=\"#m77df1db7d2\" y=\"229.213585\"/>\n     <use style=\"fill:#0000ff;fill-opacity:0.8;stroke:#0000ff;stroke-opacity:0.8;\" x=\"253.214964\" xlink:href=\"#m77df1db7d2\" y=\"320.899206\"/>\n     <use style=\"fill:#0000ff;fill-opacity:0.8;stroke:#0000ff;stroke-opacity:0.8;\" x=\"178.036846\" xlink:href=\"#m77df1db7d2\" y=\"356.620986\"/>\n     <use style=\"fill:#0000ff;fill-opacity:0.8;stroke:#0000ff;stroke-opacity:0.8;\" x=\"172.262958\" xlink:href=\"#m77df1db7d2\" y=\"284.767798\"/>\n     <use style=\"fill:#0000ff;fill-opacity:0.8;stroke:#0000ff;stroke-opacity:0.8;\" x=\"251.052612\" xlink:href=\"#m77df1db7d2\" y=\"409.394863\"/>\n     <use style=\"fill:#0000ff;fill-opacity:0.8;stroke:#0000ff;stroke-opacity:0.8;\" x=\"97.777742\" xlink:href=\"#m77df1db7d2\" y=\"346.028175\"/>\n     <use style=\"fill:#0000ff;fill-opacity:0.8;stroke:#0000ff;stroke-opacity:0.8;\" x=\"216.107234\" xlink:href=\"#m77df1db7d2\" y=\"333.682741\"/>\n     <use style=\"fill:#0000ff;fill-opacity:0.8;stroke:#0000ff;stroke-opacity:0.8;\" x=\"269.166535\" xlink:href=\"#m77df1db7d2\" y=\"262.956815\"/>\n     <use style=\"fill:#0000ff;fill-opacity:0.8;stroke:#0000ff;stroke-opacity:0.8;\" x=\"177.38992\" xlink:href=\"#m77df1db7d2\" y=\"358.34412\"/>\n     <use style=\"fill:#0000ff;fill-opacity:0.8;stroke:#0000ff;stroke-opacity:0.8;\" x=\"280.193064\" xlink:href=\"#m77df1db7d2\" y=\"290.220762\"/>\n     <use style=\"fill:#0000ff;fill-opacity:0.8;stroke:#0000ff;stroke-opacity:0.8;\" x=\"372.184379\" xlink:href=\"#m77df1db7d2\" y=\"357.007066\"/>\n     <use style=\"fill:#0000ff;fill-opacity:0.8;stroke:#0000ff;stroke-opacity:0.8;\" x=\"188.950906\" xlink:href=\"#m77df1db7d2\" y=\"377.572445\"/>\n     <use style=\"fill:#0000ff;fill-opacity:0.8;stroke:#0000ff;stroke-opacity:0.8;\" x=\"408.088417\" xlink:href=\"#m77df1db7d2\" y=\"363.601466\"/>\n     <use style=\"fill:#0000ff;fill-opacity:0.8;stroke:#0000ff;stroke-opacity:0.8;\" x=\"161.79009\" xlink:href=\"#m77df1db7d2\" y=\"288.316503\"/>\n     <use style=\"fill:#0000ff;fill-opacity:0.8;stroke:#0000ff;stroke-opacity:0.8;\" x=\"348.811947\" xlink:href=\"#m77df1db7d2\" y=\"374.919173\"/>\n     <use style=\"fill:#0000ff;fill-opacity:0.8;stroke:#0000ff;stroke-opacity:0.8;\" x=\"240.056053\" xlink:href=\"#m77df1db7d2\" y=\"362.055152\"/>\n     <use style=\"fill:#0000ff;fill-opacity:0.8;stroke:#0000ff;stroke-opacity:0.8;\" x=\"305.070167\" xlink:href=\"#m77df1db7d2\" y=\"383.936948\"/>\n     <use style=\"fill:#0000ff;fill-opacity:0.8;stroke:#0000ff;stroke-opacity:0.8;\" x=\"137.910534\" xlink:href=\"#m77df1db7d2\" y=\"343.808008\"/>\n     <use style=\"fill:#0000ff;fill-opacity:0.8;stroke:#0000ff;stroke-opacity:0.8;\" x=\"97.468544\" xlink:href=\"#m77df1db7d2\" y=\"346.413213\"/>\n     <use style=\"fill:#0000ff;fill-opacity:0.8;stroke:#0000ff;stroke-opacity:0.8;\" x=\"187.700647\" xlink:href=\"#m77df1db7d2\" y=\"304.682116\"/>\n     <use style=\"fill:#0000ff;fill-opacity:0.8;stroke:#0000ff;stroke-opacity:0.8;\" x=\"409.920022\" xlink:href=\"#m77df1db7d2\" y=\"442.281138\"/>\n     <use style=\"fill:#0000ff;fill-opacity:0.8;stroke:#0000ff;stroke-opacity:0.8;\" x=\"285.992032\" xlink:href=\"#m77df1db7d2\" y=\"309.609396\"/>\n     <use style=\"fill:#0000ff;fill-opacity:0.8;stroke:#0000ff;stroke-opacity:0.8;\" x=\"118.364218\" xlink:href=\"#m77df1db7d2\" y=\"308.260849\"/>\n     <use style=\"fill:#0000ff;fill-opacity:0.8;stroke:#0000ff;stroke-opacity:0.8;\" x=\"214.925963\" xlink:href=\"#m77df1db7d2\" y=\"159.776773\"/>\n     <use style=\"fill:#0000ff;fill-opacity:0.8;stroke:#0000ff;stroke-opacity:0.8;\" x=\"89.452635\" xlink:href=\"#m77df1db7d2\" y=\"303.291771\"/>\n     <use style=\"fill:#0000ff;fill-opacity:0.8;stroke:#0000ff;stroke-opacity:0.8;\" x=\"199.484366\" xlink:href=\"#m77df1db7d2\" y=\"332.77669\"/>\n     <use style=\"fill:#0000ff;fill-opacity:0.8;stroke:#0000ff;stroke-opacity:0.8;\" x=\"210.820579\" xlink:href=\"#m77df1db7d2\" y=\"389.302619\"/>\n     <use style=\"fill:#0000ff;fill-opacity:0.8;stroke:#0000ff;stroke-opacity:0.8;\" x=\"489.217385\" xlink:href=\"#m77df1db7d2\" y=\"93.76189\"/>\n     <use style=\"fill:#0000ff;fill-opacity:0.8;stroke:#0000ff;stroke-opacity:0.8;\" x=\"95.211171\" xlink:href=\"#m77df1db7d2\" y=\"299.99304\"/>\n     <use style=\"fill:#0000ff;fill-opacity:0.8;stroke:#0000ff;stroke-opacity:0.8;\" x=\"295.059513\" xlink:href=\"#m77df1db7d2\" y=\"455.108607\"/>\n     <use style=\"fill:#0000ff;fill-opacity:0.8;stroke:#0000ff;stroke-opacity:0.8;\" x=\"181.744166\" xlink:href=\"#m77df1db7d2\" y=\"326.668091\"/>\n     <use style=\"fill:#0000ff;fill-opacity:0.8;stroke:#0000ff;stroke-opacity:0.8;\" x=\"99.575256\" xlink:href=\"#m77df1db7d2\" y=\"247.044731\"/>\n     <use style=\"fill:#0000ff;fill-opacity:0.8;stroke:#0000ff;stroke-opacity:0.8;\" x=\"348.292088\" xlink:href=\"#m77df1db7d2\" y=\"287.453154\"/>\n     <use style=\"fill:#0000ff;fill-opacity:0.8;stroke:#0000ff;stroke-opacity:0.8;\" x=\"249.383673\" xlink:href=\"#m77df1db7d2\" y=\"256.058516\"/>\n     <use style=\"fill:#0000ff;fill-opacity:0.8;stroke:#0000ff;stroke-opacity:0.8;\" x=\"215.45952\" xlink:href=\"#m77df1db7d2\" y=\"332.171936\"/>\n     <use style=\"fill:#0000ff;fill-opacity:0.8;stroke:#0000ff;stroke-opacity:0.8;\" x=\"160.340488\" xlink:href=\"#m77df1db7d2\" y=\"343.759325\"/>\n     <use style=\"fill:#0000ff;fill-opacity:0.8;stroke:#0000ff;stroke-opacity:0.8;\" x=\"559.158607\" xlink:href=\"#m77df1db7d2\" y=\"123.079785\"/>\n     <use style=\"fill:#0000ff;fill-opacity:0.8;stroke:#0000ff;stroke-opacity:0.8;\" x=\"249.451659\" xlink:href=\"#m77df1db7d2\" y=\"328.29845\"/>\n     <use style=\"fill:#0000ff;fill-opacity:0.8;stroke:#0000ff;stroke-opacity:0.8;\" x=\"196.952483\" xlink:href=\"#m77df1db7d2\" y=\"387.158089\"/>\n     <use style=\"fill:#0000ff;fill-opacity:0.8;stroke:#0000ff;stroke-opacity:0.8;\" x=\"225.366655\" xlink:href=\"#m77df1db7d2\" y=\"338.372652\"/>\n     <use style=\"fill:#0000ff;fill-opacity:0.8;stroke:#0000ff;stroke-opacity:0.8;\" x=\"78.635703\" xlink:href=\"#m77df1db7d2\" y=\"230.225494\"/>\n     <use style=\"fill:#0000ff;fill-opacity:0.8;stroke:#0000ff;stroke-opacity:0.8;\" x=\"493.339323\" xlink:href=\"#m77df1db7d2\" y=\"228.672491\"/>\n     <use style=\"fill:#0000ff;fill-opacity:0.8;stroke:#0000ff;stroke-opacity:0.8;\" x=\"56.725768\" xlink:href=\"#m77df1db7d2\" y=\"306.573452\"/>\n     <use style=\"fill:#0000ff;fill-opacity:0.8;stroke:#0000ff;stroke-opacity:0.8;\" x=\"272.813085\" xlink:href=\"#m77df1db7d2\" y=\"162.495818\"/>\n     <use style=\"fill:#0000ff;fill-opacity:0.8;stroke:#0000ff;stroke-opacity:0.8;\" x=\"474.909091\" xlink:href=\"#m77df1db7d2\" y=\"251.319884\"/>\n     <use style=\"fill:#0000ff;fill-opacity:0.8;stroke:#0000ff;stroke-opacity:0.8;\" x=\"136.862828\" xlink:href=\"#m77df1db7d2\" y=\"267.92664\"/>\n     <use style=\"fill:#0000ff;fill-opacity:0.8;stroke:#0000ff;stroke-opacity:0.8;\" x=\"175.753949\" xlink:href=\"#m77df1db7d2\" y=\"373.626868\"/>\n     <use style=\"fill:#0000ff;fill-opacity:0.8;stroke:#0000ff;stroke-opacity:0.8;\" x=\"409.105048\" xlink:href=\"#m77df1db7d2\" y=\"212.740598\"/>\n     <use style=\"fill:#0000ff;fill-opacity:0.8;stroke:#0000ff;stroke-opacity:0.8;\" x=\"253.598191\" xlink:href=\"#m77df1db7d2\" y=\"313.74797\"/>\n     <use style=\"fill:#0000ff;fill-opacity:0.8;stroke:#0000ff;stroke-opacity:0.8;\" x=\"179.948707\" xlink:href=\"#m77df1db7d2\" y=\"348.681432\"/>\n     <use style=\"fill:#0000ff;fill-opacity:0.8;stroke:#0000ff;stroke-opacity:0.8;\" x=\"437.763851\" xlink:href=\"#m77df1db7d2\" y=\"374.330604\"/>\n     <use style=\"fill:#0000ff;fill-opacity:0.8;stroke:#0000ff;stroke-opacity:0.8;\" x=\"92.442081\" xlink:href=\"#m77df1db7d2\" y=\"265.692045\"/>\n     <use style=\"fill:#0000ff;fill-opacity:0.8;stroke:#0000ff;stroke-opacity:0.8;\" x=\"436.405775\" xlink:href=\"#m77df1db7d2\" y=\"209.939192\"/>\n     <use style=\"fill:#0000ff;fill-opacity:0.8;stroke:#0000ff;stroke-opacity:0.8;\" x=\"387.580539\" xlink:href=\"#m77df1db7d2\" y=\"308.926554\"/>\n     <use style=\"fill:#0000ff;fill-opacity:0.8;stroke:#0000ff;stroke-opacity:0.8;\" x=\"288.479412\" xlink:href=\"#m77df1db7d2\" y=\"210.932159\"/>\n     <use style=\"fill:#0000ff;fill-opacity:0.8;stroke:#0000ff;stroke-opacity:0.8;\" x=\"155.206272\" xlink:href=\"#m77df1db7d2\" y=\"318.38602\"/>\n     <use style=\"fill:#0000ff;fill-opacity:0.8;stroke:#0000ff;stroke-opacity:0.8;\" x=\"145.742109\" xlink:href=\"#m77df1db7d2\" y=\"341.581506\"/>\n     <use style=\"fill:#0000ff;fill-opacity:0.8;stroke:#0000ff;stroke-opacity:0.8;\" x=\"237.386359\" xlink:href=\"#m77df1db7d2\" y=\"278.541634\"/>\n     <use style=\"fill:#0000ff;fill-opacity:0.8;stroke:#0000ff;stroke-opacity:0.8;\" x=\"143.272626\" xlink:href=\"#m77df1db7d2\" y=\"206.516205\"/>\n     <use style=\"fill:#0000ff;fill-opacity:0.8;stroke:#0000ff;stroke-opacity:0.8;\" x=\"321.550458\" xlink:href=\"#m77df1db7d2\" y=\"288.275189\"/>\n     <use style=\"fill:#0000ff;fill-opacity:0.8;stroke:#0000ff;stroke-opacity:0.8;\" x=\"133.169168\" xlink:href=\"#m77df1db7d2\" y=\"303.723888\"/>\n     <use style=\"fill:#0000ff;fill-opacity:0.8;stroke:#0000ff;stroke-opacity:0.8;\" x=\"251.08577\" xlink:href=\"#m77df1db7d2\" y=\"296.209916\"/>\n     <use style=\"fill:#0000ff;fill-opacity:0.8;stroke:#0000ff;stroke-opacity:0.8;\" x=\"318.444591\" xlink:href=\"#m77df1db7d2\" y=\"460.115664\"/>\n     <use style=\"fill:#0000ff;fill-opacity:0.8;stroke:#0000ff;stroke-opacity:0.8;\" x=\"233.884095\" xlink:href=\"#m77df1db7d2\" y=\"292.066923\"/>\n     <use style=\"fill:#0000ff;fill-opacity:0.8;stroke:#0000ff;stroke-opacity:0.8;\" x=\"373.849797\" xlink:href=\"#m77df1db7d2\" y=\"91.000511\"/>\n     <use style=\"fill:#0000ff;fill-opacity:0.8;stroke:#0000ff;stroke-opacity:0.8;\" x=\"193.2547\" xlink:href=\"#m77df1db7d2\" y=\"277.450387\"/>\n     <use style=\"fill:#0000ff;fill-opacity:0.8;stroke:#0000ff;stroke-opacity:0.8;\" x=\"331.562972\" xlink:href=\"#m77df1db7d2\" y=\"312.962182\"/>\n     <use style=\"fill:#0000ff;fill-opacity:0.8;stroke:#0000ff;stroke-opacity:0.8;\" x=\"460.83791\" xlink:href=\"#m77df1db7d2\" y=\"344.070593\"/>\n     <use style=\"fill:#0000ff;fill-opacity:0.8;stroke:#0000ff;stroke-opacity:0.8;\" x=\"187.038097\" xlink:href=\"#m77df1db7d2\" y=\"305.885925\"/>\n     <use style=\"fill:#0000ff;fill-opacity:0.8;stroke:#0000ff;stroke-opacity:0.8;\" x=\"220.392255\" xlink:href=\"#m77df1db7d2\" y=\"322.155189\"/>\n     <use style=\"fill:#0000ff;fill-opacity:0.8;stroke:#0000ff;stroke-opacity:0.8;\" x=\"447.769291\" xlink:href=\"#m77df1db7d2\" y=\"238.551443\"/>\n     <use style=\"fill:#0000ff;fill-opacity:0.8;stroke:#0000ff;stroke-opacity:0.8;\" x=\"152.185902\" xlink:href=\"#m77df1db7d2\" y=\"337.044075\"/>\n     <use style=\"fill:#0000ff;fill-opacity:0.8;stroke:#0000ff;stroke-opacity:0.8;\" x=\"353.528182\" xlink:href=\"#m77df1db7d2\" y=\"296.804235\"/>\n     <use style=\"fill:#0000ff;fill-opacity:0.8;stroke:#0000ff;stroke-opacity:0.8;\" x=\"417.122572\" xlink:href=\"#m77df1db7d2\" y=\"405.44019\"/>\n     <use style=\"fill:#0000ff;fill-opacity:0.8;stroke:#0000ff;stroke-opacity:0.8;\" x=\"165.922421\" xlink:href=\"#m77df1db7d2\" y=\"319.833151\"/>\n     <use style=\"fill:#0000ff;fill-opacity:0.8;stroke:#0000ff;stroke-opacity:0.8;\" x=\"187.500246\" xlink:href=\"#m77df1db7d2\" y=\"355.466597\"/>\n     <use style=\"fill:#0000ff;fill-opacity:0.8;stroke:#0000ff;stroke-opacity:0.8;\" x=\"251.576895\" xlink:href=\"#m77df1db7d2\" y=\"280.793245\"/>\n     <use style=\"fill:#0000ff;fill-opacity:0.8;stroke:#0000ff;stroke-opacity:0.8;\" x=\"346.96029\" xlink:href=\"#m77df1db7d2\" y=\"453.570752\"/>\n     <use style=\"fill:#0000ff;fill-opacity:0.8;stroke:#0000ff;stroke-opacity:0.8;\" x=\"168.571319\" xlink:href=\"#m77df1db7d2\" y=\"257.474409\"/>\n     <use style=\"fill:#0000ff;fill-opacity:0.8;stroke:#0000ff;stroke-opacity:0.8;\" x=\"74.561297\" xlink:href=\"#m77df1db7d2\" y=\"166.717106\"/>\n    </g>\n   </g>\n   <g id=\"matplotlib.axis_1\">\n    <g id=\"xtick_1\">\n     <g id=\"line2d_1\">\n      <defs>\n       <path d=\"M 0 0 \nL 0 3.5 \n\" id=\"me204dc05fb\" style=\"stroke:#000000;stroke-width:0.8;\"/>\n      </defs>\n      <g>\n       <use style=\"stroke:#000000;stroke-width:0.8;\" x=\"87.136448\" xlink:href=\"#me204dc05fb\" y=\"565.918125\"/>\n      </g>\n     </g>\n     <g id=\"text_1\">\n      <!-- −5.0 -->\n      <defs>\n       <path d=\"M 10.59375 35.5 \nL 73.1875 35.5 \nL 73.1875 27.203125 \nL 10.59375 27.203125 \nz\n\" id=\"DejaVuSans-8722\"/>\n       <path d=\"M 10.796875 72.90625 \nL 49.515625 72.90625 \nL 49.515625 64.59375 \nL 19.828125 64.59375 \nL 19.828125 46.734375 \nQ 21.96875 47.46875 24.109375 47.828125 \nQ 26.265625 48.1875 28.421875 48.1875 \nQ 40.625 48.1875 47.75 41.5 \nQ 54.890625 34.8125 54.890625 23.390625 \nQ 54.890625 11.625 47.5625 5.09375 \nQ 40.234375 -1.421875 26.90625 -1.421875 \nQ 22.3125 -1.421875 17.546875 -0.640625 \nQ 12.796875 0.140625 7.71875 1.703125 \nL 7.71875 11.625 \nQ 12.109375 9.234375 16.796875 8.0625 \nQ 21.484375 6.890625 26.703125 6.890625 \nQ 35.15625 6.890625 40.078125 11.328125 \nQ 45.015625 15.765625 45.015625 23.390625 \nQ 45.015625 31 40.078125 35.4375 \nQ 35.15625 39.890625 26.703125 39.890625 \nQ 22.75 39.890625 18.8125 39.015625 \nQ 14.890625 38.140625 10.796875 36.28125 \nz\n\" id=\"DejaVuSans-53\"/>\n       <path d=\"M 10.6875 12.40625 \nL 21 12.40625 \nL 21 0 \nL 10.6875 0 \nz\n\" id=\"DejaVuSans-46\"/>\n       <path d=\"M 31.78125 66.40625 \nQ 24.171875 66.40625 20.328125 58.90625 \nQ 16.5 51.421875 16.5 36.375 \nQ 16.5 21.390625 20.328125 13.890625 \nQ 24.171875 6.390625 31.78125 6.390625 \nQ 39.453125 6.390625 43.28125 13.890625 \nQ 47.125 21.390625 47.125 36.375 \nQ 47.125 51.421875 43.28125 58.90625 \nQ 39.453125 66.40625 31.78125 66.40625 \nz\nM 31.78125 74.21875 \nQ 44.046875 74.21875 50.515625 64.515625 \nQ 56.984375 54.828125 56.984375 36.375 \nQ 56.984375 17.96875 50.515625 8.265625 \nQ 44.046875 -1.421875 31.78125 -1.421875 \nQ 19.53125 -1.421875 13.0625 8.265625 \nQ 6.59375 17.96875 6.59375 36.375 \nQ 6.59375 54.828125 13.0625 64.515625 \nQ 19.53125 74.21875 31.78125 74.21875 \nz\n\" id=\"DejaVuSans-48\"/>\n      </defs>\n      <g transform=\"translate(74.995042 580.516562)scale(0.1 -0.1)\">\n       <use xlink:href=\"#DejaVuSans-8722\"/>\n       <use x=\"83.789062\" xlink:href=\"#DejaVuSans-53\"/>\n       <use x=\"147.412109\" xlink:href=\"#DejaVuSans-46\"/>\n       <use x=\"179.199219\" xlink:href=\"#DejaVuSans-48\"/>\n      </g>\n     </g>\n    </g>\n    <g id=\"xtick_2\">\n     <g id=\"line2d_2\">\n      <g>\n       <use style=\"stroke:#000000;stroke-width:0.8;\" x=\"158.864606\" xlink:href=\"#me204dc05fb\" y=\"565.918125\"/>\n      </g>\n     </g>\n     <g id=\"text_2\">\n      <!-- −2.5 -->\n      <defs>\n       <path d=\"M 19.1875 8.296875 \nL 53.609375 8.296875 \nL 53.609375 0 \nL 7.328125 0 \nL 7.328125 8.296875 \nQ 12.9375 14.109375 22.625 23.890625 \nQ 32.328125 33.6875 34.8125 36.53125 \nQ 39.546875 41.84375 41.421875 45.53125 \nQ 43.3125 49.21875 43.3125 52.78125 \nQ 43.3125 58.59375 39.234375 62.25 \nQ 35.15625 65.921875 28.609375 65.921875 \nQ 23.96875 65.921875 18.8125 64.3125 \nQ 13.671875 62.703125 7.8125 59.421875 \nL 7.8125 69.390625 \nQ 13.765625 71.78125 18.9375 73 \nQ 24.125 74.21875 28.421875 74.21875 \nQ 39.75 74.21875 46.484375 68.546875 \nQ 53.21875 62.890625 53.21875 53.421875 \nQ 53.21875 48.921875 51.53125 44.890625 \nQ 49.859375 40.875 45.40625 35.40625 \nQ 44.1875 33.984375 37.640625 27.21875 \nQ 31.109375 20.453125 19.1875 8.296875 \nz\n\" id=\"DejaVuSans-50\"/>\n      </defs>\n      <g transform=\"translate(146.723199 580.516562)scale(0.1 -0.1)\">\n       <use xlink:href=\"#DejaVuSans-8722\"/>\n       <use x=\"83.789062\" xlink:href=\"#DejaVuSans-50\"/>\n       <use x=\"147.412109\" xlink:href=\"#DejaVuSans-46\"/>\n       <use x=\"179.199219\" xlink:href=\"#DejaVuSans-53\"/>\n      </g>\n     </g>\n    </g>\n    <g id=\"xtick_3\">\n     <g id=\"line2d_3\">\n      <g>\n       <use style=\"stroke:#000000;stroke-width:0.8;\" x=\"230.592763\" xlink:href=\"#me204dc05fb\" y=\"565.918125\"/>\n      </g>\n     </g>\n     <g id=\"text_3\">\n      <!-- 0.0 -->\n      <g transform=\"translate(222.641201 580.516562)scale(0.1 -0.1)\">\n       <use xlink:href=\"#DejaVuSans-48\"/>\n       <use x=\"63.623047\" xlink:href=\"#DejaVuSans-46\"/>\n       <use x=\"95.410156\" xlink:href=\"#DejaVuSans-48\"/>\n      </g>\n     </g>\n    </g>\n    <g id=\"xtick_4\">\n     <g id=\"line2d_4\">\n      <g>\n       <use style=\"stroke:#000000;stroke-width:0.8;\" x=\"302.32092\" xlink:href=\"#me204dc05fb\" y=\"565.918125\"/>\n      </g>\n     </g>\n     <g id=\"text_4\">\n      <!-- 2.5 -->\n      <g transform=\"translate(294.369358 580.516562)scale(0.1 -0.1)\">\n       <use xlink:href=\"#DejaVuSans-50\"/>\n       <use x=\"63.623047\" xlink:href=\"#DejaVuSans-46\"/>\n       <use x=\"95.410156\" xlink:href=\"#DejaVuSans-53\"/>\n      </g>\n     </g>\n    </g>\n    <g id=\"xtick_5\">\n     <g id=\"line2d_5\">\n      <g>\n       <use style=\"stroke:#000000;stroke-width:0.8;\" x=\"374.049078\" xlink:href=\"#me204dc05fb\" y=\"565.918125\"/>\n      </g>\n     </g>\n     <g id=\"text_5\">\n      <!-- 5.0 -->\n      <g transform=\"translate(366.097515 580.516562)scale(0.1 -0.1)\">\n       <use xlink:href=\"#DejaVuSans-53\"/>\n       <use x=\"63.623047\" xlink:href=\"#DejaVuSans-46\"/>\n       <use x=\"95.410156\" xlink:href=\"#DejaVuSans-48\"/>\n      </g>\n     </g>\n    </g>\n    <g id=\"xtick_6\">\n     <g id=\"line2d_6\">\n      <g>\n       <use style=\"stroke:#000000;stroke-width:0.8;\" x=\"445.777235\" xlink:href=\"#me204dc05fb\" y=\"565.918125\"/>\n      </g>\n     </g>\n     <g id=\"text_6\">\n      <!-- 7.5 -->\n      <defs>\n       <path d=\"M 8.203125 72.90625 \nL 55.078125 72.90625 \nL 55.078125 68.703125 \nL 28.609375 0 \nL 18.3125 0 \nL 43.21875 64.59375 \nL 8.203125 64.59375 \nz\n\" id=\"DejaVuSans-55\"/>\n      </defs>\n      <g transform=\"translate(437.825672 580.516562)scale(0.1 -0.1)\">\n       <use xlink:href=\"#DejaVuSans-55\"/>\n       <use x=\"63.623047\" xlink:href=\"#DejaVuSans-46\"/>\n       <use x=\"95.410156\" xlink:href=\"#DejaVuSans-53\"/>\n      </g>\n     </g>\n    </g>\n    <g id=\"xtick_7\">\n     <g id=\"line2d_7\">\n      <g>\n       <use style=\"stroke:#000000;stroke-width:0.8;\" x=\"517.505392\" xlink:href=\"#me204dc05fb\" y=\"565.918125\"/>\n      </g>\n     </g>\n     <g id=\"text_7\">\n      <!-- 10.0 -->\n      <defs>\n       <path d=\"M 12.40625 8.296875 \nL 28.515625 8.296875 \nL 28.515625 63.921875 \nL 10.984375 60.40625 \nL 10.984375 69.390625 \nL 28.421875 72.90625 \nL 38.28125 72.90625 \nL 38.28125 8.296875 \nL 54.390625 8.296875 \nL 54.390625 0 \nL 12.40625 0 \nz\n\" id=\"DejaVuSans-49\"/>\n      </defs>\n      <g transform=\"translate(506.37258 580.516562)scale(0.1 -0.1)\">\n       <use xlink:href=\"#DejaVuSans-49\"/>\n       <use x=\"63.623047\" xlink:href=\"#DejaVuSans-48\"/>\n       <use x=\"127.246094\" xlink:href=\"#DejaVuSans-46\"/>\n       <use x=\"159.033203\" xlink:href=\"#DejaVuSans-48\"/>\n      </g>\n     </g>\n    </g>\n   </g>\n   <g id=\"matplotlib.axis_2\">\n    <g id=\"ytick_1\">\n     <g id=\"line2d_8\">\n      <defs>\n       <path d=\"M 0 0 \nL -3.5 0 \n\" id=\"m1fa211c8dc\" style=\"stroke:#000000;stroke-width:0.8;\"/>\n      </defs>\n      <g>\n       <use style=\"stroke:#000000;stroke-width:0.8;\" x=\"28.942188\" xlink:href=\"#m1fa211c8dc\" y=\"537.843041\"/>\n      </g>\n     </g>\n     <g id=\"text_8\">\n      <!-- −6 -->\n      <defs>\n       <path d=\"M 33.015625 40.375 \nQ 26.375 40.375 22.484375 35.828125 \nQ 18.609375 31.296875 18.609375 23.390625 \nQ 18.609375 15.53125 22.484375 10.953125 \nQ 26.375 6.390625 33.015625 6.390625 \nQ 39.65625 6.390625 43.53125 10.953125 \nQ 47.40625 15.53125 47.40625 23.390625 \nQ 47.40625 31.296875 43.53125 35.828125 \nQ 39.65625 40.375 33.015625 40.375 \nz\nM 52.59375 71.296875 \nL 52.59375 62.3125 \nQ 48.875 64.0625 45.09375 64.984375 \nQ 41.3125 65.921875 37.59375 65.921875 \nQ 27.828125 65.921875 22.671875 59.328125 \nQ 17.53125 52.734375 16.796875 39.40625 \nQ 19.671875 43.65625 24.015625 45.921875 \nQ 28.375 48.1875 33.59375 48.1875 \nQ 44.578125 48.1875 50.953125 41.515625 \nQ 57.328125 34.859375 57.328125 23.390625 \nQ 57.328125 12.15625 50.6875 5.359375 \nQ 44.046875 -1.421875 33.015625 -1.421875 \nQ 20.359375 -1.421875 13.671875 8.265625 \nQ 6.984375 17.96875 6.984375 36.375 \nQ 6.984375 53.65625 15.1875 63.9375 \nQ 23.390625 74.21875 37.203125 74.21875 \nQ 40.921875 74.21875 44.703125 73.484375 \nQ 48.484375 72.75 52.59375 71.296875 \nz\n\" id=\"DejaVuSans-54\"/>\n      </defs>\n      <g transform=\"translate(7.2 541.64226)scale(0.1 -0.1)\">\n       <use xlink:href=\"#DejaVuSans-8722\"/>\n       <use x=\"83.789062\" xlink:href=\"#DejaVuSans-54\"/>\n      </g>\n     </g>\n    </g>\n    <g id=\"ytick_2\">\n     <g id=\"line2d_9\">\n      <g>\n       <use style=\"stroke:#000000;stroke-width:0.8;\" x=\"28.942188\" xlink:href=\"#m1fa211c8dc\" y=\"469.309756\"/>\n      </g>\n     </g>\n     <g id=\"text_9\">\n      <!-- −4 -->\n      <defs>\n       <path d=\"M 37.796875 64.3125 \nL 12.890625 25.390625 \nL 37.796875 25.390625 \nz\nM 35.203125 72.90625 \nL 47.609375 72.90625 \nL 47.609375 25.390625 \nL 58.015625 25.390625 \nL 58.015625 17.1875 \nL 47.609375 17.1875 \nL 47.609375 0 \nL 37.796875 0 \nL 37.796875 17.1875 \nL 4.890625 17.1875 \nL 4.890625 26.703125 \nz\n\" id=\"DejaVuSans-52\"/>\n      </defs>\n      <g transform=\"translate(7.2 473.108974)scale(0.1 -0.1)\">\n       <use xlink:href=\"#DejaVuSans-8722\"/>\n       <use x=\"83.789062\" xlink:href=\"#DejaVuSans-52\"/>\n      </g>\n     </g>\n    </g>\n    <g id=\"ytick_3\">\n     <g id=\"line2d_10\">\n      <g>\n       <use style=\"stroke:#000000;stroke-width:0.8;\" x=\"28.942188\" xlink:href=\"#m1fa211c8dc\" y=\"400.77647\"/>\n      </g>\n     </g>\n     <g id=\"text_10\">\n      <!-- −2 -->\n      <g transform=\"translate(7.2 404.575689)scale(0.1 -0.1)\">\n       <use xlink:href=\"#DejaVuSans-8722\"/>\n       <use x=\"83.789062\" xlink:href=\"#DejaVuSans-50\"/>\n      </g>\n     </g>\n    </g>\n    <g id=\"ytick_4\">\n     <g id=\"line2d_11\">\n      <g>\n       <use style=\"stroke:#000000;stroke-width:0.8;\" x=\"28.942188\" xlink:href=\"#m1fa211c8dc\" y=\"332.243185\"/>\n      </g>\n     </g>\n     <g id=\"text_11\">\n      <!-- 0 -->\n      <g transform=\"translate(15.579688 336.042404)scale(0.1 -0.1)\">\n       <use xlink:href=\"#DejaVuSans-48\"/>\n      </g>\n     </g>\n    </g>\n    <g id=\"ytick_5\">\n     <g id=\"line2d_12\">\n      <g>\n       <use style=\"stroke:#000000;stroke-width:0.8;\" x=\"28.942188\" xlink:href=\"#m1fa211c8dc\" y=\"263.709899\"/>\n      </g>\n     </g>\n     <g id=\"text_12\">\n      <!-- 2 -->\n      <g transform=\"translate(15.579688 267.509118)scale(0.1 -0.1)\">\n       <use xlink:href=\"#DejaVuSans-50\"/>\n      </g>\n     </g>\n    </g>\n    <g id=\"ytick_6\">\n     <g id=\"line2d_13\">\n      <g>\n       <use style=\"stroke:#000000;stroke-width:0.8;\" x=\"28.942188\" xlink:href=\"#m1fa211c8dc\" y=\"195.176614\"/>\n      </g>\n     </g>\n     <g id=\"text_13\">\n      <!-- 4 -->\n      <g transform=\"translate(15.579688 198.975833)scale(0.1 -0.1)\">\n       <use xlink:href=\"#DejaVuSans-52\"/>\n      </g>\n     </g>\n    </g>\n    <g id=\"ytick_7\">\n     <g id=\"line2d_14\">\n      <g>\n       <use style=\"stroke:#000000;stroke-width:0.8;\" x=\"28.942188\" xlink:href=\"#m1fa211c8dc\" y=\"126.643328\"/>\n      </g>\n     </g>\n     <g id=\"text_14\">\n      <!-- 6 -->\n      <g transform=\"translate(15.579688 130.442547)scale(0.1 -0.1)\">\n       <use xlink:href=\"#DejaVuSans-54\"/>\n      </g>\n     </g>\n    </g>\n    <g id=\"ytick_8\">\n     <g id=\"line2d_15\">\n      <g>\n       <use style=\"stroke:#000000;stroke-width:0.8;\" x=\"28.942188\" xlink:href=\"#m1fa211c8dc\" y=\"58.110043\"/>\n      </g>\n     </g>\n     <g id=\"text_15\">\n      <!-- 8 -->\n      <defs>\n       <path d=\"M 31.78125 34.625 \nQ 24.75 34.625 20.71875 30.859375 \nQ 16.703125 27.09375 16.703125 20.515625 \nQ 16.703125 13.921875 20.71875 10.15625 \nQ 24.75 6.390625 31.78125 6.390625 \nQ 38.8125 6.390625 42.859375 10.171875 \nQ 46.921875 13.96875 46.921875 20.515625 \nQ 46.921875 27.09375 42.890625 30.859375 \nQ 38.875 34.625 31.78125 34.625 \nz\nM 21.921875 38.8125 \nQ 15.578125 40.375 12.03125 44.71875 \nQ 8.5 49.078125 8.5 55.328125 \nQ 8.5 64.0625 14.71875 69.140625 \nQ 20.953125 74.21875 31.78125 74.21875 \nQ 42.671875 74.21875 48.875 69.140625 \nQ 55.078125 64.0625 55.078125 55.328125 \nQ 55.078125 49.078125 51.53125 44.71875 \nQ 48 40.375 41.703125 38.8125 \nQ 48.828125 37.15625 52.796875 32.3125 \nQ 56.78125 27.484375 56.78125 20.515625 \nQ 56.78125 9.90625 50.3125 4.234375 \nQ 43.84375 -1.421875 31.78125 -1.421875 \nQ 19.734375 -1.421875 13.25 4.234375 \nQ 6.78125 9.90625 6.78125 20.515625 \nQ 6.78125 27.484375 10.78125 32.3125 \nQ 14.796875 37.15625 21.921875 38.8125 \nz\nM 18.3125 54.390625 \nQ 18.3125 48.734375 21.84375 45.5625 \nQ 25.390625 42.390625 31.78125 42.390625 \nQ 38.140625 42.390625 41.71875 45.5625 \nQ 45.3125 48.734375 45.3125 54.390625 \nQ 45.3125 60.0625 41.71875 63.234375 \nQ 38.140625 66.40625 31.78125 66.40625 \nQ 25.390625 66.40625 21.84375 63.234375 \nQ 18.3125 60.0625 18.3125 54.390625 \nz\n\" id=\"DejaVuSans-56\"/>\n      </defs>\n      <g transform=\"translate(15.579688 61.909262)scale(0.1 -0.1)\">\n       <use xlink:href=\"#DejaVuSans-56\"/>\n      </g>\n     </g>\n    </g>\n   </g>\n   <g id=\"patch_3\">\n    <path d=\"M 28.942188 565.918125 \nL 28.942188 22.318125 \n\" style=\"fill:none;stroke:#000000;stroke-linecap:square;stroke-linejoin:miter;stroke-width:0.8;\"/>\n   </g>\n   <g id=\"patch_4\">\n    <path d=\"M 586.942188 565.918125 \nL 586.942188 22.318125 \n\" style=\"fill:none;stroke:#000000;stroke-linecap:square;stroke-linejoin:miter;stroke-width:0.8;\"/>\n   </g>\n   <g id=\"patch_5\">\n    <path d=\"M 28.942188 565.918125 \nL 586.942188 565.918125 \n\" style=\"fill:none;stroke:#000000;stroke-linecap:square;stroke-linejoin:miter;stroke-width:0.8;\"/>\n   </g>\n   <g id=\"patch_6\">\n    <path d=\"M 28.942188 22.318125 \nL 586.942188 22.318125 \n\" style=\"fill:none;stroke:#000000;stroke-linecap:square;stroke-linejoin:miter;stroke-width:0.8;\"/>\n   </g>\n   <g id=\"text_16\">\n    <!-- Principal Component Analysis -->\n    <defs>\n     <path d=\"M 19.671875 64.796875 \nL 19.671875 37.40625 \nL 32.078125 37.40625 \nQ 38.96875 37.40625 42.71875 40.96875 \nQ 46.484375 44.53125 46.484375 51.125 \nQ 46.484375 57.671875 42.71875 61.234375 \nQ 38.96875 64.796875 32.078125 64.796875 \nz\nM 9.8125 72.90625 \nL 32.078125 72.90625 \nQ 44.34375 72.90625 50.609375 67.359375 \nQ 56.890625 61.8125 56.890625 51.125 \nQ 56.890625 40.328125 50.609375 34.8125 \nQ 44.34375 29.296875 32.078125 29.296875 \nL 19.671875 29.296875 \nL 19.671875 0 \nL 9.8125 0 \nz\n\" id=\"DejaVuSans-80\"/>\n     <path d=\"M 41.109375 46.296875 \nQ 39.59375 47.171875 37.8125 47.578125 \nQ 36.03125 48 33.890625 48 \nQ 26.265625 48 22.1875 43.046875 \nQ 18.109375 38.09375 18.109375 28.8125 \nL 18.109375 0 \nL 9.078125 0 \nL 9.078125 54.6875 \nL 18.109375 54.6875 \nL 18.109375 46.1875 \nQ 20.953125 51.171875 25.484375 53.578125 \nQ 30.03125 56 36.53125 56 \nQ 37.453125 56 38.578125 55.875 \nQ 39.703125 55.765625 41.0625 55.515625 \nz\n\" id=\"DejaVuSans-114\"/>\n     <path d=\"M 9.421875 54.6875 \nL 18.40625 54.6875 \nL 18.40625 0 \nL 9.421875 0 \nz\nM 9.421875 75.984375 \nL 18.40625 75.984375 \nL 18.40625 64.59375 \nL 9.421875 64.59375 \nz\n\" id=\"DejaVuSans-105\"/>\n     <path d=\"M 54.890625 33.015625 \nL 54.890625 0 \nL 45.90625 0 \nL 45.90625 32.71875 \nQ 45.90625 40.484375 42.875 44.328125 \nQ 39.84375 48.1875 33.796875 48.1875 \nQ 26.515625 48.1875 22.3125 43.546875 \nQ 18.109375 38.921875 18.109375 30.90625 \nL 18.109375 0 \nL 9.078125 0 \nL 9.078125 54.6875 \nL 18.109375 54.6875 \nL 18.109375 46.1875 \nQ 21.34375 51.125 25.703125 53.5625 \nQ 30.078125 56 35.796875 56 \nQ 45.21875 56 50.046875 50.171875 \nQ 54.890625 44.34375 54.890625 33.015625 \nz\n\" id=\"DejaVuSans-110\"/>\n     <path d=\"M 48.78125 52.59375 \nL 48.78125 44.1875 \nQ 44.96875 46.296875 41.140625 47.34375 \nQ 37.3125 48.390625 33.40625 48.390625 \nQ 24.65625 48.390625 19.8125 42.84375 \nQ 14.984375 37.3125 14.984375 27.296875 \nQ 14.984375 17.28125 19.8125 11.734375 \nQ 24.65625 6.203125 33.40625 6.203125 \nQ 37.3125 6.203125 41.140625 7.25 \nQ 44.96875 8.296875 48.78125 10.40625 \nL 48.78125 2.09375 \nQ 45.015625 0.34375 40.984375 -0.53125 \nQ 36.96875 -1.421875 32.421875 -1.421875 \nQ 20.0625 -1.421875 12.78125 6.34375 \nQ 5.515625 14.109375 5.515625 27.296875 \nQ 5.515625 40.671875 12.859375 48.328125 \nQ 20.21875 56 33.015625 56 \nQ 37.15625 56 41.109375 55.140625 \nQ 45.0625 54.296875 48.78125 52.59375 \nz\n\" id=\"DejaVuSans-99\"/>\n     <path d=\"M 18.109375 8.203125 \nL 18.109375 -20.796875 \nL 9.078125 -20.796875 \nL 9.078125 54.6875 \nL 18.109375 54.6875 \nL 18.109375 46.390625 \nQ 20.953125 51.265625 25.265625 53.625 \nQ 29.59375 56 35.59375 56 \nQ 45.5625 56 51.78125 48.09375 \nQ 58.015625 40.1875 58.015625 27.296875 \nQ 58.015625 14.40625 51.78125 6.484375 \nQ 45.5625 -1.421875 35.59375 -1.421875 \nQ 29.59375 -1.421875 25.265625 0.953125 \nQ 20.953125 3.328125 18.109375 8.203125 \nz\nM 48.6875 27.296875 \nQ 48.6875 37.203125 44.609375 42.84375 \nQ 40.53125 48.484375 33.40625 48.484375 \nQ 26.265625 48.484375 22.1875 42.84375 \nQ 18.109375 37.203125 18.109375 27.296875 \nQ 18.109375 17.390625 22.1875 11.75 \nQ 26.265625 6.109375 33.40625 6.109375 \nQ 40.53125 6.109375 44.609375 11.75 \nQ 48.6875 17.390625 48.6875 27.296875 \nz\n\" id=\"DejaVuSans-112\"/>\n     <path d=\"M 34.28125 27.484375 \nQ 23.390625 27.484375 19.1875 25 \nQ 14.984375 22.515625 14.984375 16.5 \nQ 14.984375 11.71875 18.140625 8.90625 \nQ 21.296875 6.109375 26.703125 6.109375 \nQ 34.1875 6.109375 38.703125 11.40625 \nQ 43.21875 16.703125 43.21875 25.484375 \nL 43.21875 27.484375 \nz\nM 52.203125 31.203125 \nL 52.203125 0 \nL 43.21875 0 \nL 43.21875 8.296875 \nQ 40.140625 3.328125 35.546875 0.953125 \nQ 30.953125 -1.421875 24.3125 -1.421875 \nQ 15.921875 -1.421875 10.953125 3.296875 \nQ 6 8.015625 6 15.921875 \nQ 6 25.140625 12.171875 29.828125 \nQ 18.359375 34.515625 30.609375 34.515625 \nL 43.21875 34.515625 \nL 43.21875 35.40625 \nQ 43.21875 41.609375 39.140625 45 \nQ 35.0625 48.390625 27.6875 48.390625 \nQ 23 48.390625 18.546875 47.265625 \nQ 14.109375 46.140625 10.015625 43.890625 \nL 10.015625 52.203125 \nQ 14.9375 54.109375 19.578125 55.046875 \nQ 24.21875 56 28.609375 56 \nQ 40.484375 56 46.34375 49.84375 \nQ 52.203125 43.703125 52.203125 31.203125 \nz\n\" id=\"DejaVuSans-97\"/>\n     <path d=\"M 9.421875 75.984375 \nL 18.40625 75.984375 \nL 18.40625 0 \nL 9.421875 0 \nz\n\" id=\"DejaVuSans-108\"/>\n     <path id=\"DejaVuSans-32\"/>\n     <path d=\"M 64.40625 67.28125 \nL 64.40625 56.890625 \nQ 59.421875 61.53125 53.78125 63.8125 \nQ 48.140625 66.109375 41.796875 66.109375 \nQ 29.296875 66.109375 22.65625 58.46875 \nQ 16.015625 50.828125 16.015625 36.375 \nQ 16.015625 21.96875 22.65625 14.328125 \nQ 29.296875 6.6875 41.796875 6.6875 \nQ 48.140625 6.6875 53.78125 8.984375 \nQ 59.421875 11.28125 64.40625 15.921875 \nL 64.40625 5.609375 \nQ 59.234375 2.09375 53.4375 0.328125 \nQ 47.65625 -1.421875 41.21875 -1.421875 \nQ 24.65625 -1.421875 15.125 8.703125 \nQ 5.609375 18.84375 5.609375 36.375 \nQ 5.609375 53.953125 15.125 64.078125 \nQ 24.65625 74.21875 41.21875 74.21875 \nQ 47.75 74.21875 53.53125 72.484375 \nQ 59.328125 70.75 64.40625 67.28125 \nz\n\" id=\"DejaVuSans-67\"/>\n     <path d=\"M 30.609375 48.390625 \nQ 23.390625 48.390625 19.1875 42.75 \nQ 14.984375 37.109375 14.984375 27.296875 \nQ 14.984375 17.484375 19.15625 11.84375 \nQ 23.34375 6.203125 30.609375 6.203125 \nQ 37.796875 6.203125 41.984375 11.859375 \nQ 46.1875 17.53125 46.1875 27.296875 \nQ 46.1875 37.015625 41.984375 42.703125 \nQ 37.796875 48.390625 30.609375 48.390625 \nz\nM 30.609375 56 \nQ 42.328125 56 49.015625 48.375 \nQ 55.71875 40.765625 55.71875 27.296875 \nQ 55.71875 13.875 49.015625 6.21875 \nQ 42.328125 -1.421875 30.609375 -1.421875 \nQ 18.84375 -1.421875 12.171875 6.21875 \nQ 5.515625 13.875 5.515625 27.296875 \nQ 5.515625 40.765625 12.171875 48.375 \nQ 18.84375 56 30.609375 56 \nz\n\" id=\"DejaVuSans-111\"/>\n     <path d=\"M 52 44.1875 \nQ 55.375 50.25 60.0625 53.125 \nQ 64.75 56 71.09375 56 \nQ 79.640625 56 84.28125 50.015625 \nQ 88.921875 44.046875 88.921875 33.015625 \nL 88.921875 0 \nL 79.890625 0 \nL 79.890625 32.71875 \nQ 79.890625 40.578125 77.09375 44.375 \nQ 74.3125 48.1875 68.609375 48.1875 \nQ 61.625 48.1875 57.5625 43.546875 \nQ 53.515625 38.921875 53.515625 30.90625 \nL 53.515625 0 \nL 44.484375 0 \nL 44.484375 32.71875 \nQ 44.484375 40.625 41.703125 44.40625 \nQ 38.921875 48.1875 33.109375 48.1875 \nQ 26.21875 48.1875 22.15625 43.53125 \nQ 18.109375 38.875 18.109375 30.90625 \nL 18.109375 0 \nL 9.078125 0 \nL 9.078125 54.6875 \nL 18.109375 54.6875 \nL 18.109375 46.1875 \nQ 21.1875 51.21875 25.484375 53.609375 \nQ 29.78125 56 35.6875 56 \nQ 41.65625 56 45.828125 52.96875 \nQ 50 49.953125 52 44.1875 \nz\n\" id=\"DejaVuSans-109\"/>\n     <path d=\"M 56.203125 29.59375 \nL 56.203125 25.203125 \nL 14.890625 25.203125 \nQ 15.484375 15.921875 20.484375 11.0625 \nQ 25.484375 6.203125 34.421875 6.203125 \nQ 39.59375 6.203125 44.453125 7.46875 \nQ 49.3125 8.734375 54.109375 11.28125 \nL 54.109375 2.78125 \nQ 49.265625 0.734375 44.1875 -0.34375 \nQ 39.109375 -1.421875 33.890625 -1.421875 \nQ 20.796875 -1.421875 13.15625 6.1875 \nQ 5.515625 13.8125 5.515625 26.8125 \nQ 5.515625 40.234375 12.765625 48.109375 \nQ 20.015625 56 32.328125 56 \nQ 43.359375 56 49.78125 48.890625 \nQ 56.203125 41.796875 56.203125 29.59375 \nz\nM 47.21875 32.234375 \nQ 47.125 39.59375 43.09375 43.984375 \nQ 39.0625 48.390625 32.421875 48.390625 \nQ 24.90625 48.390625 20.390625 44.140625 \nQ 15.875 39.890625 15.1875 32.171875 \nz\n\" id=\"DejaVuSans-101\"/>\n     <path d=\"M 18.3125 70.21875 \nL 18.3125 54.6875 \nL 36.8125 54.6875 \nL 36.8125 47.703125 \nL 18.3125 47.703125 \nL 18.3125 18.015625 \nQ 18.3125 11.328125 20.140625 9.421875 \nQ 21.96875 7.515625 27.59375 7.515625 \nL 36.8125 7.515625 \nL 36.8125 0 \nL 27.59375 0 \nQ 17.1875 0 13.234375 3.875 \nQ 9.28125 7.765625 9.28125 18.015625 \nL 9.28125 47.703125 \nL 2.6875 47.703125 \nL 2.6875 54.6875 \nL 9.28125 54.6875 \nL 9.28125 70.21875 \nz\n\" id=\"DejaVuSans-116\"/>\n     <path d=\"M 34.1875 63.1875 \nL 20.796875 26.90625 \nL 47.609375 26.90625 \nz\nM 28.609375 72.90625 \nL 39.796875 72.90625 \nL 67.578125 0 \nL 57.328125 0 \nL 50.6875 18.703125 \nL 17.828125 18.703125 \nL 11.1875 0 \nL 0.78125 0 \nz\n\" id=\"DejaVuSans-65\"/>\n     <path d=\"M 32.171875 -5.078125 \nQ 28.375 -14.84375 24.75 -17.8125 \nQ 21.140625 -20.796875 15.09375 -20.796875 \nL 7.90625 -20.796875 \nL 7.90625 -13.28125 \nL 13.1875 -13.28125 \nQ 16.890625 -13.28125 18.9375 -11.515625 \nQ 21 -9.765625 23.484375 -3.21875 \nL 25.09375 0.875 \nL 2.984375 54.6875 \nL 12.5 54.6875 \nL 29.59375 11.921875 \nL 46.6875 54.6875 \nL 56.203125 54.6875 \nz\n\" id=\"DejaVuSans-121\"/>\n     <path d=\"M 44.28125 53.078125 \nL 44.28125 44.578125 \nQ 40.484375 46.53125 36.375 47.5 \nQ 32.28125 48.484375 27.875 48.484375 \nQ 21.1875 48.484375 17.84375 46.4375 \nQ 14.5 44.390625 14.5 40.28125 \nQ 14.5 37.15625 16.890625 35.375 \nQ 19.28125 33.59375 26.515625 31.984375 \nL 29.59375 31.296875 \nQ 39.15625 29.25 43.1875 25.515625 \nQ 47.21875 21.78125 47.21875 15.09375 \nQ 47.21875 7.46875 41.1875 3.015625 \nQ 35.15625 -1.421875 24.609375 -1.421875 \nQ 20.21875 -1.421875 15.453125 -0.5625 \nQ 10.6875 0.296875 5.421875 2 \nL 5.421875 11.28125 \nQ 10.40625 8.6875 15.234375 7.390625 \nQ 20.0625 6.109375 24.8125 6.109375 \nQ 31.15625 6.109375 34.5625 8.28125 \nQ 37.984375 10.453125 37.984375 14.40625 \nQ 37.984375 18.0625 35.515625 20.015625 \nQ 33.0625 21.96875 24.703125 23.78125 \nL 21.578125 24.515625 \nQ 13.234375 26.265625 9.515625 29.90625 \nQ 5.8125 33.546875 5.8125 39.890625 \nQ 5.8125 47.609375 11.28125 51.796875 \nQ 16.75 56 26.8125 56 \nQ 31.78125 56 36.171875 55.265625 \nQ 40.578125 54.546875 44.28125 53.078125 \nz\n\" id=\"DejaVuSans-115\"/>\n    </defs>\n    <g transform=\"translate(218.902187 16.318125)scale(0.12 -0.12)\">\n     <use xlink:href=\"#DejaVuSans-80\"/>\n     <use x=\"60.287109\" xlink:href=\"#DejaVuSans-114\"/>\n     <use x=\"101.400391\" xlink:href=\"#DejaVuSans-105\"/>\n     <use x=\"129.183594\" xlink:href=\"#DejaVuSans-110\"/>\n     <use x=\"192.5625\" xlink:href=\"#DejaVuSans-99\"/>\n     <use x=\"247.542969\" xlink:href=\"#DejaVuSans-105\"/>\n     <use x=\"275.326172\" xlink:href=\"#DejaVuSans-112\"/>\n     <use x=\"338.802734\" xlink:href=\"#DejaVuSans-97\"/>\n     <use x=\"400.082031\" xlink:href=\"#DejaVuSans-108\"/>\n     <use x=\"427.865234\" xlink:href=\"#DejaVuSans-32\"/>\n     <use x=\"459.652344\" xlink:href=\"#DejaVuSans-67\"/>\n     <use x=\"529.476562\" xlink:href=\"#DejaVuSans-111\"/>\n     <use x=\"590.658203\" xlink:href=\"#DejaVuSans-109\"/>\n     <use x=\"688.070312\" xlink:href=\"#DejaVuSans-112\"/>\n     <use x=\"751.546875\" xlink:href=\"#DejaVuSans-111\"/>\n     <use x=\"812.728516\" xlink:href=\"#DejaVuSans-110\"/>\n     <use x=\"876.107422\" xlink:href=\"#DejaVuSans-101\"/>\n     <use x=\"937.630859\" xlink:href=\"#DejaVuSans-110\"/>\n     <use x=\"1001.009766\" xlink:href=\"#DejaVuSans-116\"/>\n     <use x=\"1040.21875\" xlink:href=\"#DejaVuSans-32\"/>\n     <use x=\"1072.005859\" xlink:href=\"#DejaVuSans-65\"/>\n     <use x=\"1140.414062\" xlink:href=\"#DejaVuSans-110\"/>\n     <use x=\"1203.792969\" xlink:href=\"#DejaVuSans-97\"/>\n     <use x=\"1265.072266\" xlink:href=\"#DejaVuSans-108\"/>\n     <use x=\"1292.855469\" xlink:href=\"#DejaVuSans-121\"/>\n     <use x=\"1352.035156\" xlink:href=\"#DejaVuSans-115\"/>\n     <use x=\"1404.134766\" xlink:href=\"#DejaVuSans-105\"/>\n     <use x=\"1431.917969\" xlink:href=\"#DejaVuSans-115\"/>\n    </g>\n   </g>\n  </g>\n </g>\n <defs>\n  <clipPath id=\"p0be1742107\">\n   <rect height=\"543.6\" width=\"558\" x=\"28.942188\" y=\"22.318125\"/>\n  </clipPath>\n </defs>\n</svg>\n",
      "image/png": "[encoded data removed]"
     },
     "metadata": {
      "needs_background": "light"
     }
    }
   ],
   "source": [
    "go_to_project_root()\n",
    "X = pd.read_csv(\"data/processed/processed.csv\", index_col=0).to_numpy()\n",
    "scaler = StandardScaler()\n",
    "y = X[:,-1]\n",
    "X = scaler.fit_transform(X)\n",
    "\n",
    "# 2D\n",
    "pca = PCA(n_components=2)\n",
    "\n",
    "tr = pca.fit_transform(X)\n",
    "red = tr[np.where(y==1)]\n",
    "blu = tr[np.where(y==0)]\n",
    "\n",
    "plt.figure(figsize=(10,10))\n",
    "plt.scatter(red[:, 0], red[:, 1], c=\"red\", marker=\"x\", label=\"Truth: 0\")\n",
    "plt.scatter(blu[:, 0], blu[:, 1], c=\"blue\", alpha=0.8, label=\"Truth: 1\")\n",
    "plt.title(\"Principal Component Analysis\")"
   ]
  },
  {
   "cell_type": "code",
   "execution_count": 3,
   "metadata": {},
   "outputs": [
    {
     "output_type": "display_data",
     "data": {
      "application/vnd.plotly.v1+json": {
       "config": {
        "plotlyServerURL": "https://plot.ly"
       },
       "data": [
        {
         "hovertemplate": "x=%{x}<br>y=%{y}<br>z=%{z}<br>color=%{marker.color}<extra></extra>",
         "legendgroup": "",
         "marker": {
          "color": [
           1,
           -1,
           1,
           1,
           -1,
           1,
           -1,
           1,
           -1,
           1,
           -1,
           1,
           -1,
           1,
           1,
           1,
           1,
           -1,
           -1,
           -1,
           1,
           -1,
           -1,
           -1,
           -1,
           -1,
           1,
           1,
           -1,
           1,
           -1,
           1,
           -1,
           1,
           -1,
           1,
           -1,
           -1,
           1,
           1,
           -1,
           -1,
           -1,
           -1,
           1,
           1,
           -1,
           1,
           1,
           -1,
           1,
           1,
           -1,
           -1,
           -1,
           -1,
           1,
           -1,
           1,
           1,
           -1,
           -1,
           -1,
           1,
           -1,
           1,
           1,
           1,
           1,
           -1,
           -1,
           1,
           1,
           1,
           -1,
           1,
           -1,
           1,
           1,
           1,
           1,
           -1,
           -1,
           -1,
           -1,
           -1,
           -1,
           -1,
           1,
           -1,
           -1,
           -1,
           -1,
           -1,
           -1,
           1,
           -1,
           -1,
           1,
           -1,
           -1,
           1,
           -1,
           1,
           1,
           -1,
           -1,
           1,
           1,
           -1,
           1,
           -1,
           -1,
           1,
           -1,
           -1,
           -1,
           1,
           1,
           -1,
           -1,
           1,
           1,
           1,
           -1,
           1,
           1,
           1,
           1,
           1,
           1,
           1,
           -1,
           1,
           -1,
           1,
           -1,
           -1,
           -1,
           1,
           1,
           -1,
           1,
           -1,
           -1,
           -1,
           1,
           1,
           -1,
           -1,
           1,
           -1,
           1,
           -1,
           -1,
           1,
           -1,
           -1,
           1,
           1,
           -1,
           1,
           1,
           -1,
           -1,
           1,
           1,
           -1,
           1,
           -1,
           1,
           -1,
           -1,
           -1,
           1,
           -1,
           1,
           -1,
           -1,
           1,
           -1,
           -1,
           -1,
           1,
           1,
           -1,
           -1,
           -1,
           1,
           -1,
           1,
           -1,
           1,
           -1,
           -1,
           -1,
           1,
           -1,
           1,
           1,
           1,
           -1,
           1,
           1,
           1,
           1,
           -1,
           1,
           1,
           1,
           1,
           -1,
           1,
           -1,
           1,
           1,
           1,
           1,
           -1,
           -1,
           1,
           -1,
           1,
           1,
           1,
           -1,
           1,
           1,
           1,
           -1,
           1,
           1,
           -1,
           1,
           1,
           -1,
           1,
           -1,
           1,
           -1,
           1,
           1,
           -1,
           -1,
           -1,
           -1,
           -1,
           1,
           1,
           1,
           1,
           -1,
           1,
           1,
           1,
           1,
           -1,
           -1,
           -1,
           -1,
           -1,
           1,
           -1,
           1,
           1,
           -1,
           1,
           -1,
           -1,
           -1,
           -1,
           1,
           1,
           1,
           -1,
           1,
           1,
           -1,
           -1,
           1,
           1,
           1,
           -1,
           -1,
           -1,
           -1,
           1,
           1,
           -1,
           1,
           1,
           -1,
           -1,
           -1,
           1,
           -1,
           1,
           1,
           -1,
           1
          ],
          "coloraxis": "coloraxis",
          "symbol": "circle"
         },
         "mode": "markers",
         "name": "",
         "scene": "scene",
         "showlegend": false,
         "type": "scatter3d",
         "x": [
          -0.102886822683286,
          1.4748759584538587,
          -3.7313506838891652,
          -2.0743559399611793,
          -0.32944460089428146,
          2.9265821134667203,
          -1.085356884907865,
          -1.6089514781754006,
          3.270077629911018,
          5.841523914851404,
          5.08667859669841,
          0.5661608234350645,
          6.868417676541799,
          -1.547023511826636,
          -0.3239976937192881,
          -0.974289517458982,
          -0.7628751194946718,
          -1.0296597224871773,
          4.649254945889411,
          -1.6387877119291745,
          8.057951857278615,
          -0.6689782514891799,
          -4.0784275888882044,
          -0.8598254006529105,
          5.241620010205019,
          0.3030731689228714,
          2.9265821134667234,
          4.640852653312766,
          4.992225610491448,
          -3.2206437838898347,
          -0.6513068739820076,
          -1.4536470960589325,
          6.206010948802175,
          -1.1669017713809764,
          -2.4275043838859487,
          -3.5076054252902833,
          -1.77333410418046,
          5.7765741539084,
          -2.033167964298142,
          -0.9732682251813858,
          -2.9194267559186575,
          -1.8796529984602304,
          -2.145494574071663,
          -3.948904922103433,
          -1.8934362156811826,
          4.651067941188506,
          -0.45878361275108387,
          1.1985788789927403,
          -0.28130809294692405,
          -2.5909388299834055,
          -2.037959179638276,
          -1.0572883889983784,
          -3.954840198429525,
          6.837102271921189,
          3.018583861995015,
          -4.299736639810693,
          -1.8178498863158077,
          -2.6658881597280373,
          -1.0226318783369375,
          -2.4848294835051443,
          -2.583903469979704,
          3.6618352889594115,
          -4.926343209274903,
          -0.917157233594524,
          -3.396813183809917,
          0.33609446809588844,
          -3.018800633156253,
          -1.2120042086679879,
          0.4814226524126468,
          -2.208126530440625,
          1.7594101740465964,
          0.7977685464305265,
          -0.33792423901088475,
          -2.8756293470716603,
          4.154832477579957,
          -1.4248343766052876,
          0.48294127426902717,
          2.0658988100960567,
          1.7418376497219525,
          -0.792154552574847,
          -2.823340098823615,
          -3.308598870320559,
          -2.168236544699392,
          1.9240593254328826,
          -2.523122399451591,
          -2.708848851441614,
          1.4786781766085333,
          -2.1647468564312393,
          -1.0734826689930417,
          0.05854413414106188,
          -1.2258304132380335,
          -4.954616444682783,
          1.259758118861142,
          1.9036820360039257,
          6.749358991765703,
          -0.6069500241279451,
          2.4285795540028374,
          -3.7575438476091345,
          -2.841633959061265,
          -0.9134250547488175,
          5.19052348593447,
          0.6859557267928532,
          2.1478993294202864,
          4.735975719144878,
          -1.5890284615259775,
          -5.168448299483622,
          5.163441715173412,
          3.7511018113865022,
          1.2212928945885557,
          5.384693025899702,
          -2.9666169667390068,
          4.688273331104403,
          4.530586355165129,
          -0.2009779246859339,
          -5.925626776379737,
          1.5419506038439026,
          -1.730077901113844,
          -1.8497347706566487,
          -1.9291616432277687,
          -0.036773000985034124,
          -0.8105936019586515,
          -0.7504211565715615,
          -1.8341843569480702,
          -0.3848039807578481,
          -1.2495672478166095,
          5.269351691234129,
          -0.434839958322672,
          1.0509560291505189,
          -3.7379284710222285,
          -3.404000583443931,
          -1.1856240904475932,
          -2.475426104553236,
          -2.2719326778045423,
          -1.4808288348226297,
          -2.4336045233448624,
          0.626697241589513,
          2.6643785205193047,
          0.7349937311768509,
          -1.8745663715948486,
          -2.14406531102032,
          -3.4119220276405158,
          -2.0825373236839626,
          -1.6822686247300236,
          0.6759967683901618,
          -4.675017699819039,
          -0.547960275365239,
          5.025361835402342,
          3.3057327094417084,
          1.292962631024808,
          -1.8934362156811826,
          0.13926349548909825,
          1.6836490988325692,
          2.9265821134667225,
          4.894422725560629,
          -1.4865721967053278,
          -0.29996713214030735,
          6.154217106779364,
          -2.447493716287268,
          -1.5707510024722469,
          0.4577752051346939,
          4.081981489992233,
          -1.259144659647211,
          0.4064757629506693,
          0.28667337679845456,
          2.5547789204970632,
          -2.9635348202613554,
          -2.991216247033537,
          -3.27597216631243,
          0.5006047231606287,
          -4.685876883665388,
          1.3607773405961543,
          -1.5421542428303197,
          6.220923489739812,
          1.8883006498995816,
          -0.20687544806109892,
          -3.960403895129798,
          -0.986837643616034,
          -0.6076884945444264,
          -4.9706342158017875,
          -2.0008990208176325,
          -1.1357923417573121,
          -0.7201138181795724,
          8.951823683608067,
          2.634588056305175,
          -0.25132813970161033,
          -4.769712489820042,
          2.2207704084682245,
          -1.7472963234717411,
          1.2744495722577533,
          -4.624630802579022,
          -3.5810902797495197,
          4.056301035529608,
          -1.7971370331547507,
          0.60221188792741,
          -0.5720207604262014,
          -2.491313540760361,
          -4.5585533908714115,
          11.401633154459581,
          3.888147015992709,
          -0.9402950754898749,
          -6.106100433694918,
          0.6140509085324863,
          -2.2388295176431936,
          -2.1377923584671596,
          -5.506012725753009,
          -2.0693455375666674,
          -1.2046510242642432,
          6.339359301317235,
          3.653355519963461,
          -1.3668977390857922,
          -2.352929274904878,
          -0.22706351174859762,
          1.5789087243751552,
          -5.358738749793939,
          -2.5101230213143957,
          -0.6300161994758509,
          -2.875407214510151,
          -4.37473476646838,
          9.107544656289312,
          -6.114170877884441,
          -2.8548667065951405,
          1.4087583274669935,
          3.142820345803819,
          1.4050963985919667,
          -1.1844834221713967,
          8.470216134730329,
          3.2496629868591422,
          -0.22716359120146476,
          -0.9739260116629974,
          -3.3295508384972425,
          -1.0588917104091486,
          -0.19135888081743996,
          -1.954528990830076,
          1.241303066981711,
          -1.6111982042230828,
          6.167423647271148,
          -1.6407592699659534,
          0.7544368301686301,
          -0.6154045353592281,
          -1.807780716622299,
          2.926582113466723,
          -2.6437959789578227,
          7.188024969836685,
          -4.866990794185344,
          7.117625179353482,
          5.432618724197527,
          1.9598087981807881,
          -0.7871721795328991,
          -4.011323867027026,
          -5.491942615919753,
          3.3057327094417106,
          -2.671852818465371,
          -3.524533646900076,
          -3.317854460322377,
          -0.19299066975219215,
          -0.5585920565635061,
          -3.000002404679548,
          0.18762216811226393,
          -3.1056671507815143,
          3.121718868970969,
          -3.4437193165779987,
          -2.302324756041899,
          0.6691228184456481,
          3.07241366107564,
          3.378002135219864,
          3.0350513145423994,
          1.7406247429340693,
          0.06529914308300805,
          4.925204805324675,
          -1.3506412796574632,
          3.476731099238221,
          8.165049110011612,
          0.18947523958551796,
          -1.1378569608520066,
          7.985779154398419,
          -0.4235607379816309,
          -1.9820235453031205,
          -1.5662123215504964,
          -0.40001972397572333,
          -1.5128793505287175,
          -3.9146204381883365,
          -0.3703975628202754,
          7.520534352240833,
          -2.7779665193264753,
          4.247750160795055,
          6.47665898362966,
          -1.1868842431705289,
          1.7708218918520229,
          -2.3011947594788977,
          -3.1579156682242426,
          -1.2034787038679837,
          -1.5405325525154103,
          0.682999823348227,
          4.030856844568315,
          0.9904628742391164,
          -2.219544497847762,
          -1.274975261682682,
          7.71175968694373,
          -5.50801069112451,
          -3.476128780108711
         ],
         "y": [
          -1.7623483764505907,
          8.195576144501276,
          1.8574255272745295,
          -1.7050182594337155,
          -0.5372540905851015,
          -4.190906613915165,
          -0.46372152778905407,
          -0.950300780247375,
          -1.9166514701601753,
          1.780898069840559,
          1.9134610736980235,
          -2.3977595295583995,
          -0.13630401247863022,
          -1.5127419638728241,
          -0.2658857618643299,
          -1.5603428998677762,
          -0.7891368910613443,
          -0.38348752885284587,
          5.723753932366133,
          0.8062100622687401,
          -3.130410760328787,
          0.5653352067256427,
          5.253379714539426,
          -0.8151440126176093,
          0.8883384290833041,
          0.12027408737852187,
          -4.190906613915167,
          0.5479181202419772,
          1.8946046518498356,
          -0.11321239311289309,
          -0.6444356238612876,
          -1.2676325564639068,
          2.547514978647544,
          -0.037943250360995814,
          -0.3897841491889808,
          -1.108893519914617,
          0.355858838316776,
          3.8663683090748027,
          -1.3368084585760702,
          -1.4341241268004543,
          -1.120299698214504,
          1.3324739997580368,
          -0.15834882022537308,
          0.9225393204279657,
          -0.9649181684600922,
          2.4999013422731062,
          0.746425210244956,
          -0.40908508365014046,
          -1.1393954585990018,
          0.30543465690580024,
          -1.8702768896891675,
          -1.9971773131746817,
          0.6964021281916913,
          0.9569485757445824,
          2.2478934334877323,
          4.507130597373238,
          -1.280345926264525,
          -0.9882968060625792,
          -2.084234737223651,
          -0.41959594581861354,
          -0.8064553816901103,
          0.9535405279065184,
          3.969324724667076,
          -1.8552524527529723,
          0.22097078387511776,
          -1.3706781067979867,
          -0.40335953191940194,
          -2.24885547165694,
          -0.542180583098004,
          -1.3848097212453512,
          -1.0853370507415034,
          -0.31672216461336933,
          -1.9852805486874439,
          -2.0555367521669003,
          -0.8578023203679145,
          -1.053983615833637,
          0.5739190401945795,
          -1.9080476197010623,
          -0.5545947677618427,
          -1.8078605761376065,
          -0.1798235094361125,
          -0.5834713681771222,
          -0.34971078675354506,
          -1.1153275907445563,
          -0.6286688738791617,
          1.9613230488883096,
          0.7109580716636766,
          3.3151836107604264,
          -1.4108853528155665,
          1.2005282786641949,
          -0.611648454643861,
          1.8982314717541844,
          0.3355715912814805,
          -1.106132944010897,
          -3.0371132881698246,
          1.073932048966327,
          -0.9799312854709981,
          1.2468167270707555,
          -0.908406372807999,
          0.7823807135619847,
          -3.235312467929757,
          -2.0755239272601322,
          6.918311194217562,
          -0.5491546889709041,
          -0.011060949322588514,
          3.0825143686817693,
          -1.337410806122397,
          -3.9553500937471515,
          0.7004301153948967,
          -0.05932150117990897,
          -1.0416121053682639,
          2.291758085284022,
          5.258031462045367,
          -1.9589149073511471,
          1.7538789387826392,
          -1.691168685587058,
          -1.8945508609859212,
          -0.9375370822725964,
          1.3046826187535085,
          -0.7598012689863561,
          -0.27293617700167155,
          -2.730011802857742,
          -1.1132952164176644,
          -1.2080942061364368,
          -0.7820561554395727,
          -1.3879123995864742,
          1.2514035851838903,
          -2.656285095925646,
          2.1400605399754977,
          -0.782561174492679,
          -1.463335389848884,
          -1.4643691724098775,
          -0.6973232386039128,
          -2.7886535963189054,
          -0.552255379758232,
          8.19705573178701,
          2.828767564736886,
          -0.016896097004497988,
          -0.9667095243938475,
          0.06247349299994371,
          4.105617044546456,
          1.2214097555242058,
          -0.9652309311932371,
          -2.5507973598944247,
          -0.6701644134786814,
          -0.23741149802964304,
          -2.2462047631389277,
          -4.151593674730313,
          1.8437131641974978,
          -0.9649181684600922,
          -1.6749268463351066,
          1.1060594224839944,
          -4.190906613915165,
          -0.9480622773032409,
          -1.5096342916209085,
          0.09078494333906766,
          -1.032570029078401,
          1.1045821075838331,
          -1.6679752027253287,
          0.9363152401193108,
          -1.489135352976027,
          -0.03890954052451972,
          -2.024728837387499,
          -1.1495324773823212,
          -1.7980988159015843,
          -0.5263387589847774,
          -0.5529212058992452,
          -0.6047555430360644,
          0.3126107409281385,
          -0.6915252357930075,
          -0.554993244340774,
          0.6022962843931997,
          -3.4932460211902083,
          0.5251355624881023,
          0.9434187741040359,
          0.4781263554358838,
          -1.4367029139492296,
          5.005710803262188,
          0.5995886135024769,
          1.4041520475958418,
          -0.3461923968754716,
          -1.8189173453139922,
          7.083266859615163,
          1.1316053847214382,
          -0.6773255193905557,
          0.7014168715903116,
          -3.8364915914631883,
          -0.05280972185300721,
          1.227064348698794,
          2.2785003683464224,
          3.4508741213922915,
          1.1748222473895031,
          -0.835063607669263,
          2.0709749102392845,
          -0.21828824532446955,
          -0.5485632257497184,
          1.0279989764505362,
          6.308878816666852,
          -3.7694565228763004,
          2.098968188102072,
          0.9405933646152211,
          -0.07368854631018858,
          -0.025886716958174877,
          -1.6949728109631044,
          1.3144310391289433,
          -1.6460583376285032,
          -1.7663960122298406,
          -1.2059852182545445,
          1.0115331501287839,
          -2.0164698857028536,
          -1.0202268505126992,
          -0.41758348339296997,
          -1.0354918281548067,
          2.738686875368317,
          -1.4045626321133486,
          -2.2471408680973504,
          -0.5081201641836354,
          0.3517167504540048,
          2.9636118288527387,
          0.45102137240300877,
          -0.5118212665783259,
          4.883168430355098,
          -5.905395015846539,
          -1.130838329326531,
          -1.3424474613722466,
          2.338678650246228,
          1.3542460531249436,
          -2.252192495282533,
          -1.437957421350377,
          1.525644097667113,
          -1.1556688458714997,
          -1.4015117734573561,
          -1.5137368356619127,
          1.0920240756037582,
          -1.471889719166034,
          3.413992786462345,
          0.3249032790691906,
          0.30962596494320405,
          -2.004794875460208,
          -0.7191314505363064,
          -4.190906613915168,
          -1.1034967724261169,
          -1.3814053043086916,
          1.7955828536456928,
          3.48648798601447,
          0.5990638573023493,
          3.4142398025376903,
          -1.599482889054112,
          0.49578062633176373,
          5.4455289106518565,
          -4.151593674730316,
          0.22481221411562038,
          0.10118936151840148,
          -0.7086966702604535,
          -0.7976852891307772,
          -1.418126058077849,
          -0.477920990332408,
          1.403954511420987,
          3.493546586646308,
          1.1111969862467075,
          0.6369510994888212,
          -0.20312212714556788,
          0.9117614163427439,
          -2.0130920687227993,
          -3.0353599990412965,
          -4.012719084295299,
          -0.7638105354489181,
          0.978611349464184,
          7.073677993995655,
          1.4512152878883724,
          0.4190992926681071,
          0.17425211186735365,
          -0.23893725718337647,
          0.7083086509451119,
          -0.5242051039452533,
          -2.0803344951241263,
          0.0950404548123461,
          0.5687207538701518,
          0.10749752936411856,
          0.6074215518601151,
          0.3200168154872709,
          -1.4317793570937212,
          2.676417372606728,
          -0.3763844743061995,
          1.0262691817466794,
          -2.247960654574611,
          2.411817262892861,
          0.3729384808116275,
          0.12504177048394366,
          4.175049267140115,
          0.279783673106299,
          -0.8619231408534357,
          1.3408759894981344,
          -3.7838837867505024,
          1.3189192096038311,
          1.928924421533857,
          -0.9515902517881145,
          2.8493977644506754,
          4.6264568467907345,
          1.3814644551247293
         ],
         "z": [
          0.12246691674802032,
          -0.4200293001602113,
          0.5483449192697675,
          -0.2545830199499549,
          -0.5640974013028085,
          -1.1214815910058034,
          0.27765038896486977,
          0.7504098522339434,
          0.016407337553204723,
          5.869145303984828,
          1.0362243813016108,
          1.016598562677698,
          -0.2793077663526973,
          0.7043006823965704,
          4.217205702875096,
          -1.238978688783174,
          1.2619657069359012,
          -0.07822855474188506,
          1.1168699092328418,
          1.466175605086079,
          -5.021093432693617,
          -1.852928277777356,
          7.675059559801077,
          -0.44495213496156055,
          -0.22754062709492112,
          -0.09538344019780154,
          -1.1214815910058038,
          -0.3496473575266359,
          2.5385790822003598,
          2.6533310636530536,
          1.397119080555707,
          3.014724773440084,
          1.5885647552511866,
          -1.3308512072409449,
          0.5396150462705391,
          0.7622869230268489,
          -0.35219836617094197,
          1.6220794699372274,
          0.6481432812105847,
          0.33485842236222135,
          1.1864164776781363,
          -0.7898550775478095,
          -0.9319979129338389,
          1.3501679487086067,
          0.00872371668737685,
          -2.1256599378200547,
          -1.6600477605872124,
          -1.8083789150405218,
          1.461223524227481,
          -0.08389370443709877,
          -0.1761726187815202,
          -0.07824828979691843,
          -0.6988705687564962,
          -0.3269697568779831,
          -0.9582218109744682,
          -3.867426860455127,
          -0.6406985982413713,
          2.1558905454334405,
          -0.2669573342423056,
          0.827678169397837,
          0.6134112335550894,
          -1.6332635581375792,
          -0.7478523977429269,
          0.8522787527962117,
          0.28772402590225993,
          0.19432711040192788,
          -0.30417532017095156,
          1.7554857837282687,
          2.5213840953833855,
          -0.9656945080160734,
          -0.04638861281570549,
          -0.7142721423036693,
          -1.3906972444808934,
          0.7053453382392793,
          -0.1995176846099991,
          1.6496701103601703,
          0.1980866214004196,
          -2.6965721522614814,
          0.6094580613514082,
          -0.6717595775768445,
          0.8236584206421346,
          0.4475886799752301,
          -0.9803779832880513,
          2.9614843254062047,
          -0.13763771034077882,
          -5.3951680928492625,
          -1.8442868242011905,
          -1.7267283155276358,
          0.791530625484612,
          2.2025412644207765,
          -0.2013100015004028,
          -2.1437828950385382,
          -2.7285189065322593,
          2.94628831971883,
          -1.4300773014629276,
          0.19227225077203466,
          -2.144793061243564,
          2.1354783165220783,
          2.8883167544920836,
          0.7896651905787815,
          -1.9170622924518192,
          -0.1453531954800162,
          0.45951518648726336,
          0.8312369092260071,
          -1.040335117951233,
          -1.7591079431355232,
          -2.2608440662058333,
          -1.0519511382461448,
          0.4493126124616146,
          1.506724836597642,
          2.093408767881727,
          -0.6961287457317836,
          0.8675000135035176,
          0.683063916505994,
          -1.455394078494361,
          -2.4027810634341265,
          0.3329657566531039,
          -0.42929599256164763,
          -1.4421005768773927,
          -0.2382096141528659,
          -0.6891262833107474,
          2.7823003182164276,
          0.5845630790903764,
          0.1887454748692828,
          -1.785492571996031,
          0.42368606352499066,
          -2.0728963003083543,
          0.8467521962559766,
          3.261159500373958,
          0.9963430663214621,
          0.9999921179703104,
          -0.5162848212544491,
          -1.078234677450654,
          1.6356960292548923,
          0.505493874552866,
          2.2489287149299177,
          -0.6509221799595879,
          -0.8065240521222861,
          -1.041808002821208,
          0.4597167788551849,
          -2.420955056739803,
          -0.11453536616529396,
          2.6432593050966458,
          1.8661518155689742,
          -0.2211699230150787,
          1.6073407627735046,
          -2.171969663108052,
          -1.245257979110931,
          -2.2034141124237694,
          0.008723716687376837,
          0.3987616197706286,
          1.1958413885756773,
          -1.121481591005803,
          -0.2653109546202601,
          -0.775264916870561,
          -1.3399409560745104,
          1.050958136901597,
          0.2973321592835979,
          1.3121539533495683,
          1.4987378824708553,
          -0.38836858138821007,
          -1.3124642875109387,
          -0.03365991906050546,
          -0.16770910466310096,
          0.8826542504376031,
          -0.1271644974811245,
          -1.0790774389699205,
          -0.4257212552190539,
          0.8677100512098196,
          2.6822503313189094,
          1.592293203650023,
          -2.762707685179599,
          -2.1984082606472035,
          1.3479822714923473,
          2.1236332373917097,
          -1.5549166217429486,
          0.5147559928933911,
          4.151292528055064,
          -0.6933220740612285,
          -3.269635534626337,
          1.3062236516906196,
          1.9031621799594287,
          2.670963350096989,
          1.038487419307976,
          1.5291426686888763,
          -2.035861131564989,
          0.8949502484793667,
          -3.3307027350634004,
          -1.6634317705110562,
          0.24900266292275056,
          -3.8402999569641496,
          -0.8118265938343532,
          0.6482430873444013,
          -0.7722901651495623,
          1.6937241147590272,
          -0.07490209349344072,
          -2.2771511889929825,
          0.12296747433258357,
          -1.6503865978947103,
          1.4287723055169281,
          1.6293563689907549,
          0.19730996446329416,
          -1.0408651861222165,
          0.8297068636700977,
          -1.0830859705856302,
          0.06203924112948385,
          2.502904765000636,
          -0.5729543894997687,
          0.3039490427001562,
          0.2975979199683765,
          0.8028204607776616,
          0.05518156161837395,
          -1.7688765864272706,
          -3.5409175116602234,
          -0.483258039467659,
          -0.9867168382311099,
          5.252201179325242,
          -1.3186634192286897,
          -1.2154920542906158,
          0.1385805568307487,
          1.394322432128878,
          -0.5780888893969712,
          1.7016723360984498,
          0.7869529243040505,
          0.37144015547999326,
          0.8299654054910012,
          -1.4675962145472359,
          2.6220277134674626,
          1.1160603863885639,
          0.5672238046620335,
          0.61697305965088,
          -1.1475423090537764,
          -0.03696667499995497,
          -2.9095493995482355,
          0.7455076950246735,
          0.7373423705299157,
          0.15082475624553024,
          -2.342533888065565,
          1.4015619458571906,
          -1.1201630100551985,
          -1.1214815910058038,
          0.11165859038796055,
          -0.26804888316507586,
          3.3945357622974526,
          -1.718150982300498,
          -0.8597161840530612,
          -1.50766684285023,
          -0.9916820084719334,
          1.5911106914293858,
          -2.92515832751045,
          -1.2452579791109297,
          -0.7950446436544161,
          -0.24190944280087665,
          0.10768113793373994,
          0.3171282682056846,
          0.6708261019620656,
          -0.2860453619240613,
          -0.6262314062928874,
          0.9980610986915813,
          0.25280018733992743,
          0.1760458929714697,
          0.07159129727339546,
          1.4217746747206919,
          0.4136554705923701,
          2.3580011634608433,
          -1.0888616690169046,
          1.8743066256033403,
          -1.8888711886455636,
          1.2104248997127887,
          -1.6610362942427308,
          0.6195193437472787,
          0.4273020173963382,
          -1.5579146032978006,
          2.059644161781156,
          -0.7418863936846256,
          -0.6154292147187764,
          -2.0477739622279523,
          0.9863334635558996,
          -1.0200689802490326,
          0.5080664026478026,
          -1.3656589364994423,
          0.5051592445574762,
          0.46776272345981457,
          0.194181623056464,
          1.1125355381264714,
          0.14189511898226026,
          1.2718886170197394,
          -0.6874450035526003,
          -2.5663538295192723,
          -1.6329826762514181,
          -1.406464655083164,
          1.6581410586576917,
          -1.7683892192048958,
          -1.9626875990365154,
          2.754241134896855,
          -3.3556089416589727,
          -1.2620686866031836,
          0.6651875369546675,
          -3.174420803654714,
          -1.77197851889178
         ]
        }
       ],
       "layout": {
        "coloraxis": {
         "colorbar": {
          "title": {
           "text": "color"
          }
         },
         "colorscale": [
          [
           0,
           "#0d0887"
          ],
          [
           0.1111111111111111,
           "#46039f"
          ],
          [
           0.2222222222222222,
           "#7201a8"
          ],
          [
           0.3333333333333333,
           "#9c179e"
          ],
          [
           0.4444444444444444,
           "#bd3786"
          ],
          [
           0.5555555555555556,
           "#d8576b"
          ],
          [
           0.6666666666666666,
           "#ed7953"
          ],
          [
           0.7777777777777778,
           "#fb9f3a"
          ],
          [
           0.8888888888888888,
           "#fdca26"
          ],
          [
           1,
           "#f0f921"
          ]
         ]
        },
        "legend": {
         "tracegroupgap": 0
        },
        "margin": {
         "t": 60
        },
        "scene": {
         "domain": {
          "x": [
           0,
           1
          ],
          "y": [
           0,
           1
          ]
         },
         "xaxis": {
          "title": {
           "text": "x"
          }
         },
         "yaxis": {
          "title": {
           "text": "y"
          }
         },
         "zaxis": {
          "title": {
           "text": "z"
          }
         }
        },
        "template": {
         "data": {
          "bar": [
           {
            "error_x": {
             "color": "#2a3f5f"
            },
            "error_y": {
             "color": "#2a3f5f"
            },
            "marker": {
             "line": {
              "color": "#E5ECF6",
              "width": 0.5
             }
            },
            "type": "bar"
           }
          ],
          "barpolar": [
           {
            "marker": {
             "line": {
              "color": "#E5ECF6",
              "width": 0.5
             }
            },
            "type": "barpolar"
           }
          ],
          "carpet": [
           {
            "aaxis": {
             "endlinecolor": "#2a3f5f",
             "gridcolor": "white",
             "linecolor": "white",
             "minorgridcolor": "white",
             "startlinecolor": "#2a3f5f"
            },
            "baxis": {
             "endlinecolor": "#2a3f5f",
             "gridcolor": "white",
             "linecolor": "white",
             "minorgridcolor": "white",
             "startlinecolor": "#2a3f5f"
            },
            "type": "carpet"
           }
          ],
          "choropleth": [
           {
            "colorbar": {
             "outlinewidth": 0,
             "ticks": ""
            },
            "type": "choropleth"
           }
          ],
          "contour": [
           {
            "colorbar": {
             "outlinewidth": 0,
             "ticks": ""
            },
            "colorscale": [
             [
              0,
              "#0d0887"
             ],
             [
              0.1111111111111111,
              "#46039f"
             ],
             [
              0.2222222222222222,
              "#7201a8"
             ],
             [
              0.3333333333333333,
              "#9c179e"
             ],
             [
              0.4444444444444444,
              "#bd3786"
             ],
             [
              0.5555555555555556,
              "#d8576b"
             ],
             [
              0.6666666666666666,
              "#ed7953"
             ],
             [
              0.7777777777777778,
              "#fb9f3a"
             ],
             [
              0.8888888888888888,
              "#fdca26"
             ],
             [
              1,
              "#f0f921"
             ]
            ],
            "type": "contour"
           }
          ],
          "contourcarpet": [
           {
            "colorbar": {
             "outlinewidth": 0,
             "ticks": ""
            },
            "type": "contourcarpet"
           }
          ],
          "heatmap": [
           {
            "colorbar": {
             "outlinewidth": 0,
             "ticks": ""
            },
            "colorscale": [
             [
              0,
              "#0d0887"
             ],
             [
              0.1111111111111111,
              "#46039f"
             ],
             [
              0.2222222222222222,
              "#7201a8"
             ],
             [
              0.3333333333333333,
              "#9c179e"
             ],
             [
              0.4444444444444444,
              "#bd3786"
             ],
             [
              0.5555555555555556,
              "#d8576b"
             ],
             [
              0.6666666666666666,
              "#ed7953"
             ],
             [
              0.7777777777777778,
              "#fb9f3a"
             ],
             [
              0.8888888888888888,
              "#fdca26"
             ],
             [
              1,
              "#f0f921"
             ]
            ],
            "type": "heatmap"
           }
          ],
          "heatmapgl": [
           {
            "colorbar": {
             "outlinewidth": 0,
             "ticks": ""
            },
            "colorscale": [
             [
              0,
              "#0d0887"
             ],
             [
              0.1111111111111111,
              "#46039f"
             ],
             [
              0.2222222222222222,
              "#7201a8"
             ],
             [
              0.3333333333333333,
              "#9c179e"
             ],
             [
              0.4444444444444444,
              "#bd3786"
             ],
             [
              0.5555555555555556,
              "#d8576b"
             ],
             [
              0.6666666666666666,
              "#ed7953"
             ],
             [
              0.7777777777777778,
              "#fb9f3a"
             ],
             [
              0.8888888888888888,
              "#fdca26"
             ],
             [
              1,
              "#f0f921"
             ]
            ],
            "type": "heatmapgl"
           }
          ],
          "histogram": [
           {
            "marker": {
             "colorbar": {
              "outlinewidth": 0,
              "ticks": ""
             }
            },
            "type": "histogram"
           }
          ],
          "histogram2d": [
           {
            "colorbar": {
             "outlinewidth": 0,
             "ticks": ""
            },
            "colorscale": [
             [
              0,
              "#0d0887"
             ],
             [
              0.1111111111111111,
              "#46039f"
             ],
             [
              0.2222222222222222,
              "#7201a8"
             ],
             [
              0.3333333333333333,
              "#9c179e"
             ],
             [
              0.4444444444444444,
              "#bd3786"
             ],
             [
              0.5555555555555556,
              "#d8576b"
             ],
             [
              0.6666666666666666,
              "#ed7953"
             ],
             [
              0.7777777777777778,
              "#fb9f3a"
             ],
             [
              0.8888888888888888,
              "#fdca26"
             ],
             [
              1,
              "#f0f921"
             ]
            ],
            "type": "histogram2d"
           }
          ],
          "histogram2dcontour": [
           {
            "colorbar": {
             "outlinewidth": 0,
             "ticks": ""
            },
            "colorscale": [
             [
              0,
              "#0d0887"
             ],
             [
              0.1111111111111111,
              "#46039f"
             ],
             [
              0.2222222222222222,
              "#7201a8"
             ],
             [
              0.3333333333333333,
              "#9c179e"
             ],
             [
              0.4444444444444444,
              "#bd3786"
             ],
             [
              0.5555555555555556,
              "#d8576b"
             ],
             [
              0.6666666666666666,
              "#ed7953"
             ],
             [
              0.7777777777777778,
              "#fb9f3a"
             ],
             [
              0.8888888888888888,
              "#fdca26"
             ],
             [
              1,
              "#f0f921"
             ]
            ],
            "type": "histogram2dcontour"
           }
          ],
          "mesh3d": [
           {
            "colorbar": {
             "outlinewidth": 0,
             "ticks": ""
            },
            "type": "mesh3d"
           }
          ],
          "parcoords": [
           {
            "line": {
             "colorbar": {
              "outlinewidth": 0,
              "ticks": ""
             }
            },
            "type": "parcoords"
           }
          ],
          "pie": [
           {
            "automargin": true,
            "type": "pie"
           }
          ],
          "scatter": [
           {
            "marker": {
             "colorbar": {
              "outlinewidth": 0,
              "ticks": ""
             }
            },
            "type": "scatter"
           }
          ],
          "scatter3d": [
           {
            "line": {
             "colorbar": {
              "outlinewidth": 0,
              "ticks": ""
             }
            },
            "marker": {
             "colorbar": {
              "outlinewidth": 0,
              "ticks": ""
             }
            },
            "type": "scatter3d"
           }
          ],
          "scattercarpet": [
           {
            "marker": {
             "colorbar": {
              "outlinewidth": 0,
              "ticks": ""
             }
            },
            "type": "scattercarpet"
           }
          ],
          "scattergeo": [
           {
            "marker": {
             "colorbar": {
              "outlinewidth": 0,
              "ticks": ""
             }
            },
            "type": "scattergeo"
           }
          ],
          "scattergl": [
           {
            "marker": {
             "colorbar": {
              "outlinewidth": 0,
              "ticks": ""
             }
            },
            "type": "scattergl"
           }
          ],
          "scattermapbox": [
           {
            "marker": {
             "colorbar": {
              "outlinewidth": 0,
              "ticks": ""
             }
            },
            "type": "scattermapbox"
           }
          ],
          "scatterpolar": [
           {
            "marker": {
             "colorbar": {
              "outlinewidth": 0,
              "ticks": ""
             }
            },
            "type": "scatterpolar"
           }
          ],
          "scatterpolargl": [
           {
            "marker": {
             "colorbar": {
              "outlinewidth": 0,
              "ticks": ""
             }
            },
            "type": "scatterpolargl"
           }
          ],
          "scatterternary": [
           {
            "marker": {
             "colorbar": {
              "outlinewidth": 0,
              "ticks": ""
             }
            },
            "type": "scatterternary"
           }
          ],
          "surface": [
           {
            "colorbar": {
             "outlinewidth": 0,
             "ticks": ""
            },
            "colorscale": [
             [
              0,
              "#0d0887"
             ],
             [
              0.1111111111111111,
              "#46039f"
             ],
             [
              0.2222222222222222,
              "#7201a8"
             ],
             [
              0.3333333333333333,
              "#9c179e"
             ],
             [
              0.4444444444444444,
              "#bd3786"
             ],
             [
              0.5555555555555556,
              "#d8576b"
             ],
             [
              0.6666666666666666,
              "#ed7953"
             ],
             [
              0.7777777777777778,
              "#fb9f3a"
             ],
             [
              0.8888888888888888,
              "#fdca26"
             ],
             [
              1,
              "#f0f921"
             ]
            ],
            "type": "surface"
           }
          ],
          "table": [
           {
            "cells": {
             "fill": {
              "color": "#EBF0F8"
             },
             "line": {
              "color": "white"
             }
            },
            "header": {
             "fill": {
              "color": "#C8D4E3"
             },
             "line": {
              "color": "white"
             }
            },
            "type": "table"
           }
          ]
         },
         "layout": {
          "annotationdefaults": {
           "arrowcolor": "#2a3f5f",
           "arrowhead": 0,
           "arrowwidth": 1
          },
          "coloraxis": {
           "colorbar": {
            "outlinewidth": 0,
            "ticks": ""
           }
          },
          "colorscale": {
           "diverging": [
            [
             0,
             "#8e0152"
            ],
            [
             0.1,
             "#c51b7d"
            ],
            [
             0.2,
             "#de77ae"
            ],
            [
             0.3,
             "#f1b6da"
            ],
            [
             0.4,
             "#fde0ef"
            ],
            [
             0.5,
             "#f7f7f7"
            ],
            [
             0.6,
             "#e6f5d0"
            ],
            [
             0.7,
             "#b8e186"
            ],
            [
             0.8,
             "#7fbc41"
            ],
            [
             0.9,
             "#4d9221"
            ],
            [
             1,
             "#276419"
            ]
           ],
           "sequential": [
            [
             0,
             "#0d0887"
            ],
            [
             0.1111111111111111,
             "#46039f"
            ],
            [
             0.2222222222222222,
             "#7201a8"
            ],
            [
             0.3333333333333333,
             "#9c179e"
            ],
            [
             0.4444444444444444,
             "#bd3786"
            ],
            [
             0.5555555555555556,
             "#d8576b"
            ],
            [
             0.6666666666666666,
             "#ed7953"
            ],
            [
             0.7777777777777778,
             "#fb9f3a"
            ],
            [
             0.8888888888888888,
             "#fdca26"
            ],
            [
             1,
             "#f0f921"
            ]
           ],
           "sequentialminus": [
            [
             0,
             "#0d0887"
            ],
            [
             0.1111111111111111,
             "#46039f"
            ],
            [
             0.2222222222222222,
             "#7201a8"
            ],
            [
             0.3333333333333333,
             "#9c179e"
            ],
            [
             0.4444444444444444,
             "#bd3786"
            ],
            [
             0.5555555555555556,
             "#d8576b"
            ],
            [
             0.6666666666666666,
             "#ed7953"
            ],
            [
             0.7777777777777778,
             "#fb9f3a"
            ],
            [
             0.8888888888888888,
             "#fdca26"
            ],
            [
             1,
             "#f0f921"
            ]
           ]
          },
          "colorway": [
           "#636efa",
           "#EF553B",
           "#00cc96",
           "#ab63fa",
           "#FFA15A",
           "#19d3f3",
           "#FF6692",
           "#B6E880",
           "#FF97FF",
           "#FECB52"
          ],
          "font": {
           "color": "#2a3f5f"
          },
          "geo": {
           "bgcolor": "white",
           "lakecolor": "white",
           "landcolor": "#E5ECF6",
           "showlakes": true,
           "showland": true,
           "subunitcolor": "white"
          },
          "hoverlabel": {
           "align": "left"
          },
          "hovermode": "closest",
          "mapbox": {
           "style": "light"
          },
          "paper_bgcolor": "white",
          "plot_bgcolor": "#E5ECF6",
          "polar": {
           "angularaxis": {
            "gridcolor": "white",
            "linecolor": "white",
            "ticks": ""
           },
           "bgcolor": "#E5ECF6",
           "radialaxis": {
            "gridcolor": "white",
            "linecolor": "white",
            "ticks": ""
           }
          },
          "scene": {
           "xaxis": {
            "backgroundcolor": "#E5ECF6",
            "gridcolor": "white",
            "gridwidth": 2,
            "linecolor": "white",
            "showbackground": true,
            "ticks": "",
            "zerolinecolor": "white"
           },
           "yaxis": {
            "backgroundcolor": "#E5ECF6",
            "gridcolor": "white",
            "gridwidth": 2,
            "linecolor": "white",
            "showbackground": true,
            "ticks": "",
            "zerolinecolor": "white"
           },
           "zaxis": {
            "backgroundcolor": "#E5ECF6",
            "gridcolor": "white",
            "gridwidth": 2,
            "linecolor": "white",
            "showbackground": true,
            "ticks": "",
            "zerolinecolor": "white"
           }
          },
          "shapedefaults": {
           "line": {
            "color": "#2a3f5f"
           }
          },
          "ternary": {
           "aaxis": {
            "gridcolor": "white",
            "linecolor": "white",
            "ticks": ""
           },
           "baxis": {
            "gridcolor": "white",
            "linecolor": "white",
            "ticks": ""
           },
           "bgcolor": "#E5ECF6",
           "caxis": {
            "gridcolor": "white",
            "linecolor": "white",
            "ticks": ""
           }
          },
          "title": {
           "x": 0.05
          },
          "xaxis": {
           "automargin": true,
           "gridcolor": "white",
           "linecolor": "white",
           "ticks": "",
           "title": {
            "standoff": 15
           },
           "zerolinecolor": "white",
           "zerolinewidth": 2
          },
          "yaxis": {
           "automargin": true,
           "gridcolor": "white",
           "linecolor": "white",
           "ticks": "",
           "title": {
            "standoff": 15
           },
           "zerolinecolor": "white",
           "zerolinewidth": 2
          }
         }
        }
       }
      }
     },
     "metadata": {}
    }
   ],
   "source": [
    "# 3D\n",
    "pca3 = PCA(n_components=3)\n",
    "tr3 = pca3.fit_transform(X[:,:-1])\n",
    "\n",
    "fig = px.scatter_3d(tr3, x=tr3[:,0], y=tr3[:,1], z=tr3[:,2], color=X[:,-1])\n",
    "fig.show()"
   ]
  },
  {
   "cell_type": "code",
   "execution_count": null,
   "metadata": {},
   "outputs": [],
   "source": []
  }
 ],
 "metadata": {
  "language_info": {
   "codemirror_mode": {
    "name": "ipython",
    "version": 3
   },
   "file_extension": ".py",
   "mimetype": "text/x-python",
   "name": "python",
   "nbconvert_exporter": "python",
   "pygments_lexer": "ipython3",
   "version": "3.7.4-final"
  },
  "orig_nbformat": 2,
  "kernelspec": {
   "name": "python37464bitbaseconda4b7668ab7e68468d80b21b4a2524d1d7",
   "display_name": "Python 3.7.4 64-bit ('base': conda)"
  }
 },
 "nbformat": 4,
 "nbformat_minor": 2
}