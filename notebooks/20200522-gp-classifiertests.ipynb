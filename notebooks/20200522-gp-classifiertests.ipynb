{
 "cells": [
  {
   "cell_type": "code",
   "execution_count": 1,
   "metadata": {},
   "outputs": [
    {
     "output_type": "stream",
     "name": "stdout",
     "text": "0.7675194660734149\n0.7485714285714286\n0.6329254727474972\n0.7142857142857143\n0.6666666666666666\n"
    }
   ],
   "source": [
    "import data\n",
    "from sklearn.decomposition import PCA\n",
    "from sklearn import svm\n",
    "from sklearn.metrics import balanced_accuracy_score\n",
    "from sklearn.model_selection import KFold\n",
    "\n",
    "from sklearn.neural_network import MLPClassifier, BernoulliRBM\n",
    "from sklearn.tree import DecisionTreeClassifier\n",
    "from sklearn.ensemble import RandomForestClassifier, AdaBoostClassifier, AdaBoostRegressor, GradientBoostingClassifier\n",
    "\n",
    "def classify(classifier, xtrain, ytrain, xtest, ytest):\n",
    "    classifier.fit(xtrain, ytrain)\n",
    "    pred = classifier.predict(xtest).astype(int)\n",
    "    return balanced_accuracy_score(ytest, pred)\n",
    "\n",
    "table = data.get_csv().to_numpy()\n",
    "names = [\"AdaBoostClassifier RNF\"]\n",
    "\n",
    "classifiers = [\n",
    "    AdaBoostClassifier(RandomForestClassifier(max_depth=1), n_estimators=200, learning_rate=0.26, random_state=0),\n",
    "    ]\n",
    "\n",
    "X = table[:,:-1]\n",
    "y = table[:,-1]\n",
    "kf = KFold(n_splits=5)\n",
    "for c in classifiers:\n",
    "    for train_index, test_index in kf.split(X):\n",
    "        xtrain, xtest = X[train_index], X[test_index]\n",
    "        ytrain, ytest = y[train_index], y[test_index]\n",
    "\n",
    "        print(classify(c, xtrain, ytrain, xtest, ytest))"
   ]
  },
  {
   "cell_type": "code",
   "execution_count": null,
   "metadata": {},
   "outputs": [],
   "source": []
  },
  {
   "cell_type": "code",
   "execution_count": null,
   "metadata": {},
   "outputs": [],
   "source": []
  }
 ],
 "metadata": {
  "language_info": {
   "codemirror_mode": {
    "name": "ipython",
    "version": 3
   },
   "file_extension": ".py",
   "mimetype": "text/x-python",
   "name": "python",
   "nbconvert_exporter": "python",
   "pygments_lexer": "ipython3",
   "version": "3.7.4-final"
  },
  "orig_nbformat": 2,
  "kernelspec": {
   "name": "python37464bitbaseconda4b7668ab7e68468d80b21b4a2524d1d7",
   "display_name": "Python 3.7.4 64-bit ('base': conda)"
  }
 },
 "nbformat": 4,
 "nbformat_minor": 2
}