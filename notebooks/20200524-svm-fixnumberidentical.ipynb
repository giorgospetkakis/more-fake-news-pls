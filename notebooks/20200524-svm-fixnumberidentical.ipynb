{
 "cells": [
  {
   "cell_type": "code",
   "execution_count": null,
   "metadata": {},
   "outputs": [],
   "source": [
    "for author in Authors.keys():\n",
    "    identicals = []\n",
    "    for i in range(len(Authors[author].tweets)):\n",
    "        if np.where(Authors[author].similarities[i] == 1.0)[0].shape[0] > 0:\n",
    "            identicals.append(i)\n",
    "            identicals.extend(list(np.where(Authors[author].similarities[i] == 1.0)[0]))\n",
    "    if len(set(identicals)) != Authors[author].number_identical:\n",
    "        print(Authors[author].number_identical)\n",
    "        print(len(set(identicals)))\n",
    "        print()\n",
    "    Authors[author].number_identical = len(set(identicals))\n",
    "    data.exportJSON(Authors[author])"
   ]
  }
 ],
 "metadata": {
  "kernelspec": {
   "display_name": "Python 3",
   "language": "python",
   "name": "python3"
  },
  "language_info": {
   "codemirror_mode": {
    "name": "ipython",
    "version": 3
   },
   "file_extension": ".py",
   "mimetype": "text/x-python",
   "name": "python",
   "nbconvert_exporter": "python",
   "pygments_lexer": "ipython3",
   "version": "3.7.4"
  }
 },
 "nbformat": 4,
 "nbformat_minor": 2
}
